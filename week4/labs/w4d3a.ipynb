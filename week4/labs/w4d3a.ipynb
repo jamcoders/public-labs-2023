{
 "cells": [
  {
   "attachments": {},
   "cell_type": "markdown",
   "metadata": {},
   "source": [
    "![Reminder to Save](https://github.com/jamcoders/jamcoders-public-2023/blob/main/images/warning.png?raw=true)"
   ]
  },
  {
   "cell_type": "code",
   "execution_count": null,
   "metadata": {},
   "outputs": [],
   "source": [
    "# Always run this code.\n",
    "%config InteractiveShell.ast_node_interactivity=\"none\"\n",
    "import sys\n",
    "if 'google.colab' in sys.modules:\n",
    "    !pip install --force-reinstall git+https://github.com/jamcoders/jamcoders-public-2023.git --quiet\n",
    "from jamcoders.base_utils import *\n",
    "from time import *\n",
    "import random"
   ]
  },
  {
   "attachments": {},
   "cell_type": "markdown",
   "metadata": {},
   "source": [
    "# Week 4 Day 3, Lab A: More Memoization"
   ]
  },
  {
   "attachments": {},
   "cell_type": "markdown",
   "metadata": {},
   "source": [
    "## ⚠️ MAKE SURE YOU FINISH W4D2B BEFORE STARTING THIS NOTEBOOK ⚠️"
   ]
  },
  {
   "attachments": {},
   "cell_type": "markdown",
   "metadata": {},
   "source": [
    "## 1. Climbing Stairs"
   ]
  },
  {
   "attachments": {},
   "cell_type": "markdown",
   "metadata": {},
   "source": [
    "### 1.1 Recursive Climbing\n",
    "\n",
    "You are climbing a staircase. It takes n steps to reach the top. Each time you can either climb 1 or 2 steps. In how many distinct ways can you climb to the top?\n",
    "\n",
    "Write a *recursive* function `climbing_r(n)` which takes in the number of steps to climb (`n`) as argument and returns the number of ways to climb those steps.\n",
    "\n",
    "For example, \n",
    "\n",
    "`climbing_r(3)` should return `3` since there are 3 distinct ways to climb the stairs:\n",
    "- 0->1->2->3\n",
    "\n",
    "- 0->1->3\n",
    "\n",
    "- 0->2->3\n",
    "\n",
    "Hint: There is 1 way to climb a stair with 0 steps."
   ]
  },
  {
   "cell_type": "code",
   "execution_count": null,
   "metadata": {},
   "outputs": [],
   "source": [
    "def climbing_r(n):\n",
    "    # YOUR CODE HERE\n",
    "    # base case(s)\n",
    "\n",
    "    # recursive case(s)\n"
   ]
  },
  {
   "cell_type": "code",
   "execution_count": null,
   "metadata": {},
   "outputs": [],
   "source": [
    "assert_equal(want=5, got=climbing_r(4))\n",
    "assert_equal(want=1, got=climbing_r(0))\n",
    "assert_equal(want=89, got=climbing_r(10))\n",
    "assert_equal(want=10946, got=climbing_r(20))"
   ]
  },
  {
   "attachments": {},
   "cell_type": "markdown",
   "metadata": {},
   "source": [
    "### 1.2 Climb faster!\n",
    "\n",
    "We want to perform the same task as above, but more efficiently with memoization. Write the function `climbing_m(n)` to accomplish this.\n",
    "\n",
    "Hint: Create a list to memoize the number of ways to climb up $i$ steps where $i \\le n$"
   ]
  },
  {
   "cell_type": "code",
   "execution_count": null,
   "metadata": {},
   "outputs": [],
   "source": [
    "def climbing_m(n):\n",
    "    #YOUR CODE HERE\n"
   ]
  },
  {
   "cell_type": "code",
   "execution_count": null,
   "metadata": {},
   "outputs": [],
   "source": [
    "assert_equal(want=5, got=climbing_m(4))\n",
    "assert_equal(want=1, got=climbing_m(0))\n",
    "assert_equal(want=89, got=climbing_m(10))\n",
    "assert_equal(want=10946, got=climbing_m(20))"
   ]
  },
  {
   "cell_type": "code",
   "execution_count": null,
   "metadata": {},
   "outputs": [
    {
     "name": "stdout",
     "output_type": "stream",
     "text": [
      "Your dynamic programming solution is 12008.29347826087 times faster than your recursive solution.\n"
     ]
    }
   ],
   "source": [
    "# Run this code to see how much faster your memoized solution is compared to your recursive solution. Feel free to play around with the input size and see the difference.\n",
    "\n",
    "input_size = 30\n",
    "\n",
    "before_rec = time()\n",
    "climbing_r(input_size)\n",
    "after_rec = time()\n",
    "before_mem = time()\n",
    "climbing_m(input_size)\n",
    "after_mem = time()\n",
    "\n",
    "print(\"Your memoized solution is\" ,(after_rec - before_rec)/(after_mem - before_mem),\"times faster than your recursive solution.\")"
   ]
  },
  {
   "attachments": {},
   "cell_type": "markdown",
   "metadata": {},
   "source": [
    "## 2. Minimum Path Sum\n",
    "\n",
    "Given a m x n grid filled with non-negative numbers, write a function `min_path_sum(grid)` to find a path from the top-left to the bottom-right corner, which minimizes the sum of all numbers along its path. You can only move either down or right at any point in time.\n",
    "\n",
    "The argument `grid` is represented as a list of lists of integers with m rows and n columns.\n",
    "\n",
    "For example,\n",
    "\n",
    "```python3\n",
    "grid = [\n",
    "    [1, 3, 1],\n",
    "    [1, 5, 1],\n",
    "    [4, 2, 1]\n",
    "]\n",
    "min_sum_path(grid)\n",
    "```\n",
    "The code above should return `7` since the best way to traverse the grid is 1 -> 3 -> 1 -> 1 -> 1.\n",
    "\n",
    "Be careful! This question may be similar to \"Q2 Paths on a Grid\" from yesterday's lab, but it has some **very important** distinctions. Yesterday, we used a memoization table to help remember things as we make recursive calls. Today, we'll use a memoization table to help remember things as we iterate through the rows and columns of the table. This method is called bottom-up dynamic programming.\n",
    "\n",
    "There are 2 key observations from yesterday's lab that is carried on to today:\n",
    "1. There is only one way to walk to any grid on the first row or first column.\n",
    "2. To walk to any other grids, you can only walk from the grid to the left or the grid above.\n",
    "\n",
    "Hint 1: Create a memoization table to store the minimum path sum from the top-left corner to each cell in the grid.\n",
    "\n",
    "Hint 2: The function `min(item1, item2)` might come in handy. It returns the lesser of the two items."
   ]
  },
  {
   "cell_type": "code",
   "execution_count": null,
   "metadata": {},
   "outputs": [],
   "source": [
    "def min_path_sum(grid):\n",
    "    if not grid:\n",
    "        return 0\n",
    "    rows, cols = len(grid), len(grid[0])\n",
    "    # YOUR CODE HERE\n",
    "    # Initialize the first row and column. Key observation #1 might be useful here.\n",
    "\n",
    "    # Populate the rest of the grid with minimum sum till that cell. Key observation #2 might be useful here.\n",
    " \n",
    "    # Return the value at the bottom-right corner\n"
   ]
  },
  {
   "cell_type": "code",
   "execution_count": null,
   "metadata": {},
   "outputs": [],
   "source": [
    "grid1 = [\n",
    "    [1, 3, 1],\n",
    "    [1, 5, 1],\n",
    "    [4, 2, 1]\n",
    "]\n",
    "grid2 = [\n",
    "    [1, 2, 5, 16],\n",
    "    [1, 1, 81, 32],\n",
    "    [100, 2, 8, 10],\n",
    "]\n",
    "grid3 = [\n",
    "    [1, 2589, 5904, 1623],\n",
    "    [1302, 1434, 8112, 3244],\n",
    "    [1234, 2234, 8543, 1205],\n",
    "    [1064, 9784, 2345, 1]\n",
    "]\n",
    "grid4 = [\n",
    "    [5]\n",
    "]\n",
    "grid5 = [\n",
    "    [5],\n",
    "    [3],\n",
    "    [4],\n",
    "    [2]\n",
    "]\n",
    "assert_equal(want=7, got=min_path_sum(grid1))\n",
    "assert_equal(want=23, got=min_path_sum(grid2))\n",
    "assert_equal(want=14520, got=min_path_sum(grid3))\n",
    "assert_equal(want=5, got=min_path_sum(grid4))\n",
    "assert_equal(want=14, got=min_path_sum(grid5))"
   ]
  },
  {
   "cell_type": "code",
   "execution_count": null,
   "metadata": {},
   "outputs": [],
   "source": [
    "# Staff code for the non-memoized version of lis(nums) for runtime comparison\n",
    "# RUN BUT DO NOT EDIT\n",
    "def min_path_sum_r(grid):\n",
    "    def dfs(i, j):\n",
    "        if i == len(grid) - 1 and j == len(grid[0]) - 1:\n",
    "            return grid[i][j]\n",
    "\n",
    "        if i == len(grid) - 1:\n",
    "            return grid[i][j] + dfs(i, j + 1)\n",
    "\n",
    "        if j == len(grid[0]) - 1:\n",
    "            return grid[i][j] + dfs(i + 1, j)\n",
    "\n",
    "        return grid[i][j] + min(dfs(i + 1, j), dfs(i, j + 1))\n",
    "\n",
    "    return dfs(0, 0)"
   ]
  },
  {
   "cell_type": "code",
   "execution_count": null,
   "metadata": {},
   "outputs": [
    {
     "name": "stdout",
     "output_type": "stream",
     "text": [
      "Your dynamic programming solution is 868.3584905660377 times faster than your recursive solution.\n"
     ]
    }
   ],
   "source": [
    "# Run this code to see how much faster your dp solution is compared to our recursive solution. Feel free to play around with the input size and see the difference.\n",
    "input_size = 10\n",
    "\n",
    "test = []\n",
    "for i in range(input_size):\n",
    "    row = []\n",
    "    for j in range(input_size):\n",
    "        row.append(random.randint(0,100))\n",
    "    test.append(row)\n",
    "\n",
    "before_rec = time()\n",
    "min_path_sum_r(test)\n",
    "after_rec = time()\n",
    "before_mem = time()\n",
    "min_path_sum(test)\n",
    "after_mem = time()\n",
    "\n",
    "print(\"Your dynamic programming solution is\" ,(after_rec - before_rec)/(after_mem - before_mem),\"times faster than our recursive solution.\")"
   ]
  },
  {
   "attachments": {},
   "cell_type": "markdown",
   "metadata": {},
   "source": [
    "## 3. Longest Increasing Subsequence\n",
    "\n",
    "Given an integer array `nums`, the function `lis(nums)` finds the length of the longest increasing subsequence (LIS) and returns it as an integer. \n",
    "\n",
    "A subsequence is a sequence that can be derived from the given array by deleting some elements without changing the order of the remaining elements.\n",
    "\n",
    "For example, \n",
    "\n",
    "`lis([10, 9, 2, 5, 3, 7, 101, 18])` should return `4` since the longest increasing subsequence is `[2,3,7,101]`\n",
    "\n",
    "`lis([10, 9, 8, 7, 6, 5, 4, 3])` should return `1` since the list is strictly decreasing and the longest subsequence is just each number individually\n",
    "\n",
    "Write the function `lis(num)` such that it follows the specifications above **using memoization**.\n",
    "\n",
    "If you're stuck, here's the peudocode to help guide you:\n",
    "- if `nums` is an empty list\n",
    "    - return `0`\n",
    "- create a list `memo` for memoization. The list stores integers such that memo[i] represents the longest increasing subsequence when only considering the list up until `i`\n",
    "- initialize all elements of `memo` to `1` since the minimum LIS length is always 1\n",
    "- loop through all the indices from 1 to the length of `nums` with `i`\n",
    "    - loop through all the indices from 0 to `i` with `j`\n",
    "        - if the element at index `i` is greater than the element at index `j`\n",
    "            - if `memo[i]` is strictly smaller than `memo[j] + 1`\n",
    "                - update `memo[i]` to be `memo[j] + 1`\n",
    "- return the longest increasing subsequence memoized.\n",
    "\n",
    "Think about why the pseudocode works!"
   ]
  },
  {
   "cell_type": "code",
   "execution_count": null,
   "metadata": {},
   "outputs": [],
   "source": [
    "def lis(nums):\n",
    "    # YOUR CODE HERE"
   ]
  },
  {
   "cell_type": "code",
   "execution_count": null,
   "metadata": {},
   "outputs": [],
   "source": [
    "assert_equal(want=4, got=lis([10, 9, 2, 5, 3, 7, 101, 18]))\n",
    "assert_equal(want=1, got=lis([10, 9, 8, 7, 6, 5]))\n",
    "assert_equal(want=0, got=lis([]))\n",
    "assert_equal(want=5, got=lis([67, 39, 24, 1, 15, 28, 23, 67, 99, 82, 3, 65]))\n",
    "assert_equal(want=9, got=lis([2,3,66,18,20,35,66,54,55,36,73,2,88]))\n"
   ]
  },
  {
   "cell_type": "code",
   "execution_count": null,
   "metadata": {},
   "outputs": [],
   "source": [
    "# Staff code for the non-memoized version of lis(nums) for runtime comparison\n",
    "# RUN BUT DO NOT EDIT\n",
    "\n",
    "def lis_r(nums):\n",
    "    def lis_recursive(i, prev_val):\n",
    "        if i == len(nums):\n",
    "            return 0\n",
    "\n",
    "        # If the current element is greater than the previous element,\n",
    "        # we can either include it in the LIS or exclude it.\n",
    "        include_current = 1 + lis_recursive(i + 1, nums[i]) if nums[i] > prev_val else 0\n",
    "        exclude_current = lis_recursive(i + 1, prev_val)\n",
    "\n",
    "        # Return the maximum of including or excluding the current element.\n",
    "        return max(include_current, exclude_current)\n",
    "\n",
    "    # Start the recursive process from index 0 with a previous value of negative infinity.\n",
    "    return lis_recursive(0, float('-inf'))"
   ]
  },
  {
   "cell_type": "code",
   "execution_count": null,
   "metadata": {},
   "outputs": [
    {
     "name": "stdout",
     "output_type": "stream",
     "text": [
      "Your dynamic programming solution is 244.57197696737043 times faster than your recursive solution.\n"
     ]
    }
   ],
   "source": [
    "# Run this code to see how much faster your dp solution is compared to our recursive solution. Feel free to play around with the input size and see the difference.\n",
    "input_size = 50\n",
    "\n",
    "test = []\n",
    "for i in range(input_size):\n",
    "    test += [random.randint(0, 100)]\n",
    "\n",
    "before_rec = time()\n",
    "lis_r(test)\n",
    "after_rec = time()\n",
    "before_mem = time()\n",
    "lis(test)\n",
    "after_mem = time()\n",
    "\n",
    "print(\"Your dynamic programming solution is\" ,(after_rec - before_rec)/(after_mem - before_mem),\"times faster than our recursive solution.\")"
   ]
  },
  {
   "attachments": {},
   "cell_type": "markdown",
   "metadata": {},
   "source": [
    "### Challenge (Optional)\n",
    "\n",
    "Write the function `print_lis(nums)` which prints out a list of the longest increasing subsequence given the list of integers `nums`."
   ]
  },
  {
   "cell_type": "code",
   "execution_count": null,
   "metadata": {},
   "outputs": [],
   "source": [
    "def print_lis(nums):\n",
    "    # YOUR CODE HERE"
   ]
  },
  {
   "attachments": {},
   "cell_type": "markdown",
   "metadata": {},
   "source": [
    "## 🎉 CONGRATS! You've completed the final material notebook for JamCoders 2023 🎉"
   ]
  },
  {
   "attachments": {},
   "cell_type": "markdown",
   "metadata": {},
   "source": [
    "### To review for the exam, check out the review notebook 📚 Good luck!\n"
   ]
  }
 ],
 "metadata": {
  "kernelspec": {
   "display_name": "Python 3",
   "language": "python",
   "name": "python3"
  },
  "language_info": {
   "name": "python",
   "version": "3.10.0"
  },
  "orig_nbformat": 4,
  "vscode": {
   "interpreter": {
    "hash": "7e1998ff7f8aa20ada591c520b972326324e5ea05489af9e422744c7c09f6dad"
   }
  }
 },
 "nbformat": 4,
 "nbformat_minor": 2
}
