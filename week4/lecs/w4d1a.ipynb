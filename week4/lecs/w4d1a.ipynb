{
 "cells": [
  {
   "cell_type": "markdown",
   "id": "standing-background",
   "metadata": {},
   "source": [
    "# Dictionaries \n",
    "\n",
    " "
   ]
  },
  {
   "cell_type": "code",
   "execution_count": 8,
   "id": "discrete-choir",
   "metadata": {},
   "outputs": [],
   "source": [
    "%config InteractiveShell.ast_node_interactivity=\"none\""
   ]
  },
  {
   "cell_type": "code",
   "execution_count": 9,
   "id": "uniform-hammer",
   "metadata": {},
   "outputs": [],
   "source": [
    "!wget https://raw.githubusercontent.com/jamcoders/syllabus-resources-2023/main/week3/lecs/boaz_utils.ipynb\n",
    "%run \"boaz_utils.ipynb\""
   ]
  },
  {
   "cell_type": "markdown",
   "id": "young-trigger",
   "metadata": {},
   "source": [
    "## Introduction and Motivation"
   ]
  },
  {
   "cell_type": "markdown",
   "id": "wrapped-ladder",
   "metadata": {},
   "source": [
    "You have already seen that lists are used to store collections of items, and that we access those items by providing their indexes."
   ]
  },
  {
   "cell_type": "code",
   "execution_count": 10,
   "id": "instant-nashville",
   "metadata": {},
   "outputs": [],
   "source": [
    "lst = [15, 30, 40, 45]\n"
   ]
  },
  {
   "cell_type": "code",
   "execution_count": 27,
   "id": "crucial-regression",
   "metadata": {},
   "outputs": [
    {
     "name": "stdout",
     "output_type": "stream",
     "text": [
      "30\n"
     ]
    }
   ],
   "source": [
    "print(lst[1])"
   ]
  },
  {
   "cell_type": "code",
   "execution_count": 28,
   "id": "seventh-motivation",
   "metadata": {},
   "outputs": [
    {
     "name": "stdout",
     "output_type": "stream",
     "text": [
      "45\n"
     ]
    }
   ],
   "source": [
    "print(lst[3])"
   ]
  },
  {
   "cell_type": "markdown",
   "id": "attempted-anatomy",
   "metadata": {},
   "source": [
    "Sometimes it is more convenient to be able to reference an item by something more meaningful than the index.\n",
    "\n",
    "Say we wanted to know how popular certain fruit were, so we construct a simple survey with a list of fruit and a checkbox beside each. \n",
    "\n",
    "    - banana    :\n",
    "    - apple     :\n",
    "    - papaya    :\n",
    "    - mango     :\n",
    "    - naseberry :\n",
    "    - jack fruit :\n",
    "    - pineapple  :\n",
    "  \n",
    "\n",
    "We ask our friends to tick a box if they like the corresponding fruit."
   ]
  },
  {
   "cell_type": "markdown",
   "id": "virtual-group",
   "metadata": {},
   "source": [
    "How can we represent the information from the survey?  Using the data structures we have covered so far, we would perhaps put the results in a list of lists:"
   ]
  },
  {
   "cell_type": "code",
   "execution_count": 31,
   "id": "weighted-rugby",
   "metadata": {},
   "outputs": [],
   "source": [
    "fruit_counts_lst = [['banana', 17],\n",
    "                    ['apple', 25],\n",
    "                    ['papaya', 16],\n",
    "                    ['mango', 25],\n",
    "                    ['naseberry', 14],\n",
    "                    ['jack fruit', 22], \n",
    "                    ['pineapple', 28]]"
   ]
  },
  {
   "cell_type": "markdown",
   "id": "complicated-border",
   "metadata": {},
   "source": [
    "How would you query this to find information like?\n",
    "- How many students liked mango?\n",
    "- What was the most popular fruit?\n",
    "- What was the least popular fruit?\n",
    "- What was the highest number of votes (frequency) for any fruit?\n",
    "- What was the lowest number of votes (frequency) for any fruit?"
   ]
  },
  {
   "cell_type": "code",
   "execution_count": 32,
   "id": "settled-vaccine",
   "metadata": {},
   "outputs": [
    {
     "name": "stdout",
     "output_type": "stream",
     "text": [
      "25\n"
     ]
    }
   ],
   "source": [
    "def freq_query(freq_list, query_fruit):\n",
    "    # TODO: Decide what to do if an invalid fruit name is passed?\n",
    "    for fruit, count in freq_list:\n",
    "        if fruit == query_fruit:\n",
    "            return count\n",
    "\n",
    "print(freq_query(fruit_counts_lst, 'mango'))"
   ]
  },
  {
   "cell_type": "markdown",
   "id": "manufactured-modification",
   "metadata": {},
   "source": [
    "### Warm Up: Finger Exercises"
   ]
  },
  {
   "cell_type": "code",
   "execution_count": 34,
   "id": "parental-basin",
   "metadata": {},
   "outputs": [
    {
     "name": "stdout",
     "output_type": "stream",
     "text": [
      "pineapple\n"
     ]
    }
   ],
   "source": [
    "def most_pop(freq_list):\n",
    "    result = None\n",
    "    highest_count = 0\n",
    "    for fruit, count in freq_list:\n",
    "        if count > highest_count:\n",
    "            highest_count = count\n",
    "            result = fruit\n",
    "    return result\n",
    "\n",
    "print(most_pop(fruit_counts_lst))\n",
    "\n",
    "def highest(freq_list):\n",
    "    pass"
   ]
  },
  {
   "cell_type": "code",
   "execution_count": null,
   "id": "simplified-hammer",
   "metadata": {},
   "outputs": [],
   "source": [
    "def least_pop(freq_list):\n",
    "    pass\n",
    "\n",
    "def lowest(freq_list):\n",
    "    pass"
   ]
  },
  {
   "cell_type": "markdown",
   "id": "above-brand",
   "metadata": {},
   "source": [
    "What is the time complexity of these operations?"
   ]
  },
  {
   "cell_type": "markdown",
   "id": "allied-tension",
   "metadata": {},
   "source": [
    "## Dictionary Overview"
   ]
  },
  {
   "cell_type": "markdown",
   "id": "emerging-chancellor",
   "metadata": {},
   "source": [
    "Python provides us with a builtin datastructure called a __Dictionary__. \n",
    "- It allows us to index our items with types other than integers.  \n",
    "- The \"index\" in this case is called a **key**. \n",
    "- Its associated data is usually referred to as its **value**.\n",
    "- We can think of a dictionary as being a collection of **key-value pairs**\n",
    "\n",
    "**NB:** In some languages, a dictionary that reuses the syntax of arrays, but allows the index to be generalised to keys is sometimes called an **associative array**."
   ]
  },
  {
   "cell_type": "code",
   "execution_count": 40,
   "id": "driven-clothing",
   "metadata": {},
   "outputs": [],
   "source": [
    "fruit_counts_dict = {'banana': 17, \n",
    "                     'apple': 25, \n",
    "                     'papaya':16,\n",
    "                     'mango': 25,\n",
    "                     'naseberry': 14,\n",
    "                     'jack fruit': 22,\n",
    "                     'pineapple':28}"
   ]
  },
  {
   "cell_type": "markdown",
   "id": "bulgarian-advancement",
   "metadata": {},
   "source": [
    "Dictionaries make querying very straightforward. The syntax looks like indexing a list, but we are allowed to use the key name instead of the numerical index."
   ]
  },
  {
   "cell_type": "code",
   "execution_count": 39,
   "id": "moral-astrology",
   "metadata": {},
   "outputs": [
    {
     "name": "stdout",
     "output_type": "stream",
     "text": [
      "12\n"
     ]
    }
   ],
   "source": [
    "print(fruit_counts_dict['mango'])"
   ]
  },
  {
   "cell_type": "markdown",
   "id": "bored-steering",
   "metadata": {},
   "source": [
    "We can also set the value in a similar way"
   ]
  },
  {
   "cell_type": "code",
   "execution_count": 37,
   "id": "supposed-colonial",
   "metadata": {},
   "outputs": [
    {
     "name": "stdout",
     "output_type": "stream",
     "text": [
      "10\n",
      "25\n"
     ]
    }
   ],
   "source": [
    "old_val = fruit_counts_dict['mango']\n",
    "fruit_counts_dict['mango'] = 10  # Change the count for mango to 10\n",
    "print(fruit_counts_dict['mango'])\n",
    "\n",
    "fruit_counts_dict['mango'] = old_val  # Change it back\n",
    "print(fruit_counts_dict['mango'])\n"
   ]
  },
  {
   "cell_type": "markdown",
   "id": "charged-siemens",
   "metadata": {},
   "source": [
    "Both querying and setting the value of a key in a dictionary are implemented to be very quick.  They are _nearly_ as fast as indexing into a list (they both run in $O(1)$ time).\n",
    "\n",
    "(How do you think this is achieved?)"
   ]
  },
  {
   "cell_type": "markdown",
   "id": "rental-lender",
   "metadata": {},
   "source": [
    "There are several other useful operations \"out of the box\":\n",
    "- `len`: get the size\n",
    "- `keys`: return an iterator over all the keys in the dictionary\n",
    "- `values`: return an iterator over all the values in the dictionary\n",
    "- `items`: return an iterator over all key-value pairs\n",
    "- `in`: return True if query key is in the dictionary\n",
    "\n",
    "**NB: Never rely on the order of these iterations**\n",
    "\n",
    "Let us try to use these to write `freq_query`, `most_pop` and `least_pop`."
   ]
  },
  {
   "cell_type": "markdown",
   "id": "political-subdivision",
   "metadata": {},
   "source": [
    "## Implementation with Dictionaries"
   ]
  },
  {
   "cell_type": "code",
   "execution_count": 42,
   "id": "banned-snake",
   "metadata": {
    "scrolled": true
   },
   "outputs": [
    {
     "name": "stdout",
     "output_type": "stream",
     "text": [
      "25\n",
      "dict_items([('banana', 17), ('apple', 25), ('papaya', 16), ('mango', 25), ('naseberry', 14), ('jack fruit', 22), ('pineapple', 28)])\n"
     ]
    }
   ],
   "source": [
    "def freq_query(freq_dict, query_fruit):\n",
    "    # TODO: Decide what to do if an invalid fruit name is passed?\n",
    "    return freq_dict[query_fruit]  \n",
    "\n",
    "print(freq_query(fruit_counts_dict, 'mango'))\n",
    "print(fruit_counts_dict.items())\n"
   ]
  },
  {
   "cell_type": "code",
   "execution_count": 46,
   "id": "stable-avenue",
   "metadata": {},
   "outputs": [
    {
     "name": "stdout",
     "output_type": "stream",
     "text": [
      "pineapple\n"
     ]
    }
   ],
   "source": [
    "def most_pop(freq_dict):\n",
    "    result = None\n",
    "    highest_count = 0\n",
    "    for fruit, count in freq_dict.items():\n",
    "        if count > highest_count:\n",
    "            highest_count = count\n",
    "            result = fruit\n",
    "    return result\n",
    "\n",
    "print(most_pop(fruit_counts_dict))"
   ]
  },
  {
   "cell_type": "code",
   "execution_count": null,
   "id": "latter-stone",
   "metadata": {},
   "outputs": [],
   "source": [
    "def highest(freq_dict):\n",
    "    pass   # Implement this\n",
    "\n",
    "print(highest(fruit_counts_dict))"
   ]
  },
  {
   "cell_type": "code",
   "execution_count": 25,
   "id": "happy-probability",
   "metadata": {},
   "outputs": [
    {
     "name": "stdout",
     "output_type": "stream",
     "text": [
      "None\n"
     ]
    }
   ],
   "source": [
    "def least_pop(freq_dict):\n",
    "    pass  # Implement this\n",
    "\n",
    "print(least_pop(fruit_counts_dict))"
   ]
  },
  {
   "cell_type": "code",
   "execution_count": null,
   "id": "cellular-madness",
   "metadata": {},
   "outputs": [],
   "source": [
    "def lowest(freq_dict):\n",
    "    pass  # Implement this\n",
    "\n",
    "print(lowest(fruit_counts_dict))"
   ]
  },
  {
   "cell_type": "markdown",
   "id": "grand-sailing",
   "metadata": {},
   "source": [
    "## More Dictionary Operations"
   ]
  },
  {
   "cell_type": "markdown",
   "id": "spread-pleasure",
   "metadata": {},
   "source": [
    "Python dictionaries can also be constructed directly from lists of key-value pairs:"
   ]
  },
  {
   "cell_type": "code",
   "execution_count": 47,
   "id": "radical-certificate",
   "metadata": {},
   "outputs": [
    {
     "name": "stdout",
     "output_type": "stream",
     "text": [
      "25\n",
      "pineapple\n",
      "None\n"
     ]
    }
   ],
   "source": [
    "fruit_counts_dict2 = dict(fruit_counts_lst)\n",
    "\n",
    "print(freq_query(fruit_counts_dict2, 'mango'))\n",
    "print(most_pop(fruit_counts_dict2))\n",
    "print(least_pop(fruit_counts_dict2))"
   ]
  },
  {
   "cell_type": "markdown",
   "id": "graduate-pearl",
   "metadata": {},
   "source": [
    "Python dictionaries also support a form that looks like list comprehension"
   ]
  },
  {
   "cell_type": "code",
   "execution_count": 48,
   "id": "statewide-regard",
   "metadata": {
    "scrolled": false
   },
   "outputs": [
    {
     "name": "stdout",
     "output_type": "stream",
     "text": [
      "25\n",
      "pineapple\n",
      "None\n"
     ]
    }
   ],
   "source": [
    "fruit_counts_dict3 = {fruit: count for (fruit, count) in fruit_counts_lst}\n",
    "\n",
    "print(freq_query(fruit_counts_dict3, 'mango'))\n",
    "print(most_pop(fruit_counts_dict3))\n",
    "print(least_pop(fruit_counts_dict3))"
   ]
  },
  {
   "cell_type": "code",
   "execution_count": 50,
   "id": "aggregate-reynolds",
   "metadata": {},
   "outputs": [
    {
     "name": "stdout",
     "output_type": "stream",
     "text": [
      "28\n",
      "28\n"
     ]
    }
   ],
   "source": [
    "def highest(freq_dict):\n",
    "    return max(freq_dict[fruit] for fruit in freq_dict)\n",
    "\n",
    "# OR\n",
    "def highest2(freq_dict):\n",
    "    return max(v for v in freq_dict.values())\n",
    "\n",
    "print(highest(fruit_counts_dict))\n",
    "print(highest2(fruit_counts_dict))"
   ]
  },
  {
   "cell_type": "markdown",
   "id": "miniature-february",
   "metadata": {},
   "source": [
    "## Applications of Dictionaries"
   ]
  },
  {
   "cell_type": "markdown",
   "id": "adapted-cornell",
   "metadata": {},
   "source": [
    "We can use a dictionary to represent a row of a database or of any table that has meaningful column names.  The column names become the keys of the dictionary, and the whole table is represented as a list of dictionaries."
   ]
  },
  {
   "cell_type": "markdown",
   "id": "developed-adobe",
   "metadata": {},
   "source": [
    "We can use dictionaries to implement the adjacency list representation of a graph"
   ]
  },
  {
   "cell_type": "code",
   "execution_count": 45,
   "id": "absolute-xerox",
   "metadata": {},
   "outputs": [
    {
     "data": {
      "image/png": "[encoded data removed]",
      "text/plain": [
       "<Figure size 432x288 with 1 Axes>"
      ]
     },
     "metadata": {},
     "output_type": "display_data"
    }
   ],
   "source": [
    "g = {'a': ['b', 'd', 'e'],\n",
    "     'b': ['c', 'd', 'e'],\n",
    "     'c': ['a' ,'e'],\n",
    "     'd': ['b', 'c'],\n",
    "     'e': ['a', 'b', 'd']}\n",
    "draw_graph(nx.DiGraph(g))\n"
   ]
  }
 ],
 "metadata": {
  "kernelspec": {
   "display_name": "jamcoders",
   "language": "python",
   "name": "jamcoders"
  },
  "language_info": {
   "codemirror_mode": {
    "name": "ipython",
    "version": 3
   },
   "file_extension": ".py",
   "mimetype": "text/x-python",
   "name": "python",
   "nbconvert_exporter": "python",
   "pygments_lexer": "ipython3",
   "version": "3.9.2"
  }
 },
 "nbformat": 4,
 "nbformat_minor": 5
}
