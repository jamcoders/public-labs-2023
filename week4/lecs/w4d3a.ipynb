{
 "cells": [
  {
   "cell_type": "markdown",
   "metadata": {
    "id": "ULy-EOqCK8B-"
   },
   "source": [
    "# Recursion and Memoization: More Examples\n",
    "Today, we will look at a few problems where recursion and memoization combine to give us a solution that we can derive using a \"wishful thinking\" approach (and therefore simple to write recursively), which is also efficient."
   ]
  },
  {
   "cell_type": "code",
   "execution_count": 2,
   "metadata": {},
   "outputs": [],
   "source": [
    "%config InteractiveShell.ast_node_interactivity=\"none\""
   ]
  },
  {
   "cell_type": "code",
   "execution_count": 16,
   "metadata": {},
   "outputs": [],
   "source": [
    "!wget https://raw.githubusercontent.com/jamcoders/syllabus-resources-2023/main/week3/lecs/boaz_utils.ipynb\n",
    "%run \"boaz_utils.ipynb\""
   ]
  },
  {
   "cell_type": "markdown",
   "metadata": {},
   "source": [
    "# The Coin Change Problem\n",
    "Given a set $S$ of coin denominations, what is the minimum number of coins needed to make change for a given $n$?\n",
    "\n",
    "For example, in Jamaica, we have coin denominations of \\\\$1, \\\\$5, \\\\$10, \\\\$20. (We are ignoring the \"red\" money coins that are denominated less than 1 dollar.)  \n",
    "\n",
    "The best way to make change for \\\\$15 is (\\\\$10, \\\\$5).  We could also make \\\\$15 with 15 \\\\$1 coins, or 3 \\\\$5 coins, and others, but they all use more than the two coins that the \\\\$10 and \\\\$5 combination used.\n",
    "\n",
    "In our discussions today, we are asking for the coin combinations that sum up to the given amount, but there are also variations of this problem that ask for the number of ways to make change for the given amount."
   ]
  },
  {
   "cell_type": "markdown",
   "metadata": {},
   "source": [
    "## The Greedy Approach\n",
    "Let us write a program to make (coin) change for a given amount of Jamaican currency.  We shall generalize eventually, but it is useful to think about this step by step. (Often a good approach when trying to solve hard problems).\n",
    "\n",
    "When you make change in your daily activities, how do you do it?"
   ]
  },
  {
   "cell_type": "code",
   "execution_count": 29,
   "metadata": {},
   "outputs": [],
   "source": [
    "def make_change_jam(amt):\n",
    "    rem = amt\n",
    "    result = []\n",
    "    while rem >= 20:\n",
    "        rem -= 20\n",
    "        result.append(20)\n",
    "    while rem >= 10:\n",
    "        rem -= 10\n",
    "        result.append(10)\n",
    "    while rem >= 5:\n",
    "        rem -= 5\n",
    "        result.append(5) \n",
    "    while rem >= 1:\n",
    "        rem -= 1\n",
    "        result.append(1) \n",
    "    return result"
   ]
  },
  {
   "cell_type": "code",
   "execution_count": 30,
   "metadata": {},
   "outputs": [
    {
     "name": "stdout",
     "output_type": "stream",
     "text": [
      "[5, 1, 1, 1]\n",
      "[20, 20, 20, 20, 10, 5, 1, 1, 1, 1]\n"
     ]
    }
   ],
   "source": [
    "print(make_change_jam(8))\n",
    "print(make_change_jam(99))"
   ]
  },
  {
   "cell_type": "markdown",
   "metadata": {},
   "source": [
    "**DRY = Don't Repeat Yourself**\n",
    "It's a good idea to \"keep your code DRY\"\n",
    "\n",
    "Let us rewrite it to capture the repeating pattern with a loop instead"
   ]
  },
  {
   "cell_type": "code",
   "execution_count": 31,
   "metadata": {},
   "outputs": [],
   "source": [
    "def make_change_jam(amt):\n",
    "    rem = amt\n",
    "    result = []\n",
    "    for coin in [20, 10, 5, 1]:\n",
    "        while rem >= coin:\n",
    "            rem -= coin\n",
    "            result.append(coin)\n",
    "    return result"
   ]
  },
  {
   "cell_type": "code",
   "execution_count": 32,
   "metadata": {},
   "outputs": [
    {
     "name": "stdout",
     "output_type": "stream",
     "text": [
      "[5, 1, 1, 1]\n",
      "[20, 20, 20, 20, 10, 5, 1, 1, 1, 1]\n"
     ]
    }
   ],
   "source": [
    "print(make_change_jam(8))\n",
    "print(make_change_jam(99))"
   ]
  },
  {
   "cell_type": "markdown",
   "metadata": {},
   "source": [
    "Now, what if we wanted to have our code work for any country?  For example, in the US, they have a 25c coin (called a \"quarter\").  Can we generalize our code?"
   ]
  },
  {
   "cell_type": "code",
   "execution_count": 34,
   "metadata": {},
   "outputs": [],
   "source": [
    "def make_change(amt, coins):\n",
    "    coins = sorted(coins, reverse=True)\n",
    "    rem = amt\n",
    "    result = []\n",
    "    for coin in coins:\n",
    "        while rem >= coin:\n",
    "            rem -= coin\n",
    "            result.append(coin)\n",
    "    return result"
   ]
  },
  {
   "cell_type": "code",
   "execution_count": 35,
   "metadata": {},
   "outputs": [
    {
     "name": "stdout",
     "output_type": "stream",
     "text": [
      "[25, 5]\n"
     ]
    }
   ],
   "source": [
    "print(make_change(30, [1, 5, 10, 25]))"
   ]
  },
  {
   "cell_type": "code",
   "execution_count": 36,
   "metadata": {},
   "outputs": [
    {
     "name": "stdout",
     "output_type": "stream",
     "text": [
      "[5, 2, 1]\n"
     ]
    }
   ],
   "source": [
    "print(make_change(8, [1, 2, 4, 5]))"
   ]
  },
  {
   "cell_type": "markdown",
   "metadata": {},
   "source": [
    "We see that our implementation strategy doesn't work in general.\n",
    "\n",
    "(Where did we go wrong?)\n",
    "\n",
    "To fix this, we will have to check all the possibilities in search of the one with the fewest coins."
   ]
  },
  {
   "cell_type": "markdown",
   "metadata": {},
   "source": [
    "## Enter Recursion\n",
    "Consider how you would set up a loop to go through all possible combinations. (It's not that easy, is it?)\n",
    "\n",
    "Instead, try to think of a way to describe the best coin combination in a recursive way.\n",
    "- What is the sub-problem that you wish you had a solution to?\n",
    "- What would the corresponding base cases be?\n",
    "- How would the solutions to the sub-problems be composed to produce the final answer?"
   ]
  },
  {
   "cell_type": "markdown",
   "metadata": {},
   "source": [
    "Method 1: We could consider whether our solution contains the first coin or not.\n",
    "- If it does, then we use \"wishful thinking\" to make change for the amount reduced by the first coin, using the same set of coins.\n",
    "- If it does not, then we use \"wishful thinking\" to make change for the same amount, but with a smaller set of coins.\n",
    "- When we get the answers back, we have to add the first coin to the wishful thinking solution in the case when we used it, and then compare that to the other solution to choose the shorter one.\n",
    "\n",
    "Base cases:\n",
    "- if `amt` = 0 then the solution is `[]`, the empty list\n",
    "- if `coins` is empty then there is no solution\n",
    "- if `amt` is negative then there is no solution\n",
    "\n",
    "**Issue:** It is tempting to use empty list (`[]`) as the base case for when the list of coins is empty and when the amount is 0, but this would be a mistake. We need to have base cases that distinguish between these scenarios because the sum of an empty list is 0, and therefore technically correctly represents giving back 0 change.   "
   ]
  },
  {
   "cell_type": "code",
   "execution_count": 46,
   "metadata": {},
   "outputs": [],
   "source": [
    "\n",
    "def make_change(amt, coins):\n",
    "    if amt == 0:\n",
    "        return []\n",
    "    elif amt < 0 or coins == []:\n",
    "        return None\n",
    "    else:\n",
    "        first, *others = coins\n",
    "        w_first = make_change(amt - first, coins)\n",
    "        wo_first = make_change(amt, others)\n",
    "        if w_first is not None:\n",
    "            w_first_result = [first] + w_first\n",
    "            if wo_first is not None:\n",
    "                if len(w_first_result) <= len(wo_first):\n",
    "                    return w_first_result\n",
    "                else:\n",
    "                    return wo_first\n",
    "            else:\n",
    "                return w_first_result\n",
    "        elif wo_first is not None:\n",
    "            return wo_first\n",
    "        else:\n",
    "            return None"
   ]
  },
  {
   "cell_type": "code",
   "execution_count": 56,
   "metadata": {},
   "outputs": [
    {
     "name": "stdout",
     "output_type": "stream",
     "text": [
      "[4, 4]\n"
     ]
    }
   ],
   "source": [
    "print(make_change(8, [1, 2, 4, 5]))"
   ]
  },
  {
   "cell_type": "markdown",
   "metadata": {},
   "source": [
    "If all of the checks for `None` make the code too confusing, try to rewrite it so that you never make a recursive call if no solution would exist.  (This will move the `if` checks to before the recursive calls, and might produce code that is easier to follow).  When developing solutions, these sorts of iterative improvements are natural.\n",
    "\n",
    "(This implementation follows)"
   ]
  },
  {
   "cell_type": "code",
   "execution_count": 57,
   "metadata": {},
   "outputs": [],
   "source": [
    "def alt_make_change(amt, coins):\n",
    "    if amt == 0:\n",
    "        return []\n",
    "    else:\n",
    "        first, *others = coins\n",
    "        result = None\n",
    "        if amt >= first:\n",
    "            w_first = make_change(amt - first, coins)\n",
    "            result = [first] + w_first\n",
    "        if len(others) > 0:\n",
    "            wo_first = make_change(amt, others)\n",
    "            if result == None:\n",
    "                result = wo_first\n",
    "            elif len(wo_first) < len(result):\n",
    "                result = wo_first\n",
    "            else:\n",
    "                pass  # result is fine as is\n",
    "        return result\n",
    "                    "
   ]
  },
  {
   "cell_type": "code",
   "execution_count": 58,
   "metadata": {
    "scrolled": true
   },
   "outputs": [
    {
     "name": "stdout",
     "output_type": "stream",
     "text": [
      "[4, 4]\n"
     ]
    }
   ],
   "source": [
    "print(alt_make_change(8, [1, 2, 4, 5]))"
   ]
  },
  {
   "cell_type": "markdown",
   "metadata": {},
   "source": [
    "An alternative (but still recursive) approach. This one proceeds a lot slower."
   ]
  },
  {
   "cell_type": "code",
   "execution_count": 48,
   "metadata": {},
   "outputs": [],
   "source": [
    "# A simpler recursive approach (but much slower)\n",
    "def make_change2(n, coins):  \n",
    "  if n == 0:\n",
    "    return []\n",
    "  ans = -1\n",
    "  for coin in coins:\n",
    "    if n >= coin:\n",
    "      possibility = [coin] + make_change2(n - coin, coins)\n",
    "      if ans == -1 or len(possibility) < len(ans):\n",
    "        ans = possibility\n",
    "  ans.sort(reverse=True)\n",
    "  return ans"
   ]
  },
  {
   "cell_type": "code",
   "execution_count": 51,
   "metadata": {},
   "outputs": [
    {
     "name": "stdout",
     "output_type": "stream",
     "text": [
      "[4, 4]\n"
     ]
    }
   ],
   "source": [
    "# We test with small n, it takes too long with larger n\n",
    "print(make_change2(8, [1, 2, 4, 5]))"
   ]
  },
  {
   "cell_type": "code",
   "execution_count": 53,
   "metadata": {
    "scrolled": false
   },
   "outputs": [
    {
     "data": {
      "image/png": "[encoded data removed]",
      "text/plain": [
       "<Figure size 432x288 with 3 Axes>"
      ]
     },
     "metadata": {
      "needs_background": "light"
     },
     "output_type": "display_data"
    }
   ],
   "source": [
    "# Don run this cell--it's magic we use to estimate how long it would take to run\n",
    "%run boaz_utils.ipynb\n",
    "inputs = [[i, [20, 10, 5, 1]] for i in range(1, 20)]\n",
    "(curve,lengths,times,steps,outputs) = timer(make_change2,inputs,inlen=lambda pair: pair[0], doplot_logscale=False)"
   ]
  },
  {
   "cell_type": "code",
   "execution_count": 61,
   "metadata": {},
   "outputs": [
    {
     "name": "stdout",
     "output_type": "stream",
     "text": [
      "On n=99, it would take make_change2 about 19283026.98 years to compute change for $99!\n"
     ]
    }
   ],
   "source": [
    "microseconds = 27.3 * np.exp(0.45 * 99) \n",
    "seconds = microseconds / 1_000_000\n",
    "years = seconds / 365 / 24 / 60 / 60\n",
    "print(f\"On n=99, it would take make_change2 about {years:.2f} years to compute change for $99!\")"
   ]
  },
  {
   "cell_type": "markdown",
   "metadata": {},
   "source": [
    "## Post-Lecture Sidebar Discussion\n",
    "During lecture I was surprised at how quickly `make_change` returned, and I tried giving it larger values of `n` to motivate the need for memoization.  Interestingly, it was still fast even with `n` well above 100.  I investigated a bit further and found the following:"
   ]
  },
  {
   "cell_type": "code",
   "execution_count": 55,
   "metadata": {},
   "outputs": [
    {
     "data": {
      "image/png": "[encoded data removed]",
      "text/plain": [
       "<Figure size 432x288 with 3 Axes>"
      ]
     },
     "metadata": {
      "needs_background": "light"
     },
     "output_type": "display_data"
    }
   ],
   "source": [
    "%run boaz_utils.ipynb\n",
    "inputs = [[i, [20, 10, 5, 1]] for i in range(1, 20)]\n",
    "(curve,lengths,times,steps,outputs) = timer(make_change,inputs,inlen=lambda pair: pair[0], doplot_logscale=False)"
   ]
  },
  {
   "cell_type": "markdown",
   "metadata": {},
   "source": [
    "The time complexity curve above indicates that the order of growth of the first implementation of `make_change` is $O(n^2)$. To be more precise it says that the actual amount of time is approximately $3n^2$ microseconds, where $n$ is the first argument (i.e. the amount of change to be made).  This explains why it appeared to be very fast, even for $n = 100$, since $3 \\times 100^2 \\mu s = 3 \\times 10^4 \\mu s = 0.03 s$.\n",
    "\n",
    "### Where is the exponential hiding?\n",
    "However, as I indicated the presence of 2 recursive calls on only gradually decreasing input sizes indicates that we should expect exponential behaviour. It's just that the exponential behaviour would be in the length of the list of coins, not the amount being changed."
   ]
  },
  {
   "cell_type": "code",
   "execution_count": 62,
   "metadata": {},
   "outputs": [
    {
     "data": {
      "image/png": "[encoded data removed]",
      "text/plain": [
       "<Figure size 432x288 with 3 Axes>"
      ]
     },
     "metadata": {
      "needs_background": "light"
     },
     "output_type": "display_data"
    }
   ],
   "source": [
    "%run boaz_utils.ipynb\n",
    "inputs = [[20, list(range(1, i))] for i in range(2, 21)]\n",
    "(curve,lengths,times,steps,outputs) = timer(make_change,inputs,inlen=lambda pair: len(pair[1]), doplot_logscale=False)"
   ]
  },
  {
   "cell_type": "markdown",
   "metadata": {},
   "source": [
    "The best fit function is exponential, but notice that it is not a very good fit to the actual data.  So, it is inconclusive. \n",
    "\n",
    "If you are still interested, you are encouraged to explore the space of inputs to get a better fitting curve and see what the order of growth of the actual measured time is. "
   ]
  }
 ],
 "metadata": {
  "colab": {
   "collapsed_sections": [],
   "name": "jamcoders_wk4_d1_a.ipynb",
   "provenance": []
  },
  "kernelspec": {
   "display_name": "Python 3",
   "language": "python",
   "name": "python3"
  },
  "language_info": {
   "codemirror_mode": {
    "name": "ipython",
    "version": 3
   },
   "file_extension": ".py",
   "mimetype": "text/x-python",
   "name": "python",
   "nbconvert_exporter": "python",
   "pygments_lexer": "ipython3",
   "version": "3.9.2"
  },
  "vscode": {
   "interpreter": {
    "hash": "9650cb4e16cdd4a8e8e2d128bf38d875813998db22a3c986335f89e0cb4d7bb2"
   }
  }
 },
 "nbformat": 4,
 "nbformat_minor": 1
}
