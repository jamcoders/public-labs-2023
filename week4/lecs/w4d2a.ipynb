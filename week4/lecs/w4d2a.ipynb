{
 "cells": [
  {
   "cell_type": "markdown",
   "id": "standing-background",
   "metadata": {
    "id": "standing-background"
   },
   "source": [
    "# Graph Traversals (Cont'd)\n",
    "\n",
    " The Implementation of DFS went by very quickly yesterday, so we'll take a second look with a few more examples."
   ]
  },
  {
   "cell_type": "code",
   "execution_count": 37,
   "id": "spanish-conservative",
   "metadata": {
    "id": "spanish-conservative",
    "slideshow": {
     "slide_type": "skip"
    }
   },
   "outputs": [],
   "source": [
    "%config InteractiveShell.ast_node_interactivity=\"none\""
   ]
  },
  {
   "cell_type": "code",
   "execution_count": null,
   "id": "uniform-hammer",
   "metadata": {
    "id": "uniform-hammer",
    "slideshow": {
     "slide_type": "skip"
    }
   },
   "outputs": [],
   "source": [
    "!wget https://raw.githubusercontent.com/jamcoders/syllabus-resources-2023/main/week3/lecs/boaz_utils.ipynb\n",
    "%run \"boaz_utils.ipynb\""
   ]
  },
  {
   "cell_type": "markdown",
   "id": "crazy-diana",
   "metadata": {},
   "source": [
    "## Trees\n",
    "A **tree** is an undirected graph that contains no cycles.  This means that every pair of nodes has a unique path between them.  This property makes it very suitable for trying to understand the DFS algorithm, because we do not need the visited dictionary.\n",
    "\n",
    "So we'll take a look at some computations on trees to see the power of recursion, as well as gain a little more insight into the DFS traversal.\n"
   ]
  },
  {
   "cell_type": "markdown",
   "id": "original-shelf",
   "metadata": {},
   "source": [
    "### Binary Trees\n",
    "Let us consider directed graphs that otherwise resemble trees.  \n",
    "- Each node will have at most 2 out-neighbours.  \n",
    "- Each node will also have exactly 1 in-neighbour, except for one node called the **root**, which will have no in-neighbour. \n",
    "- A node with zero out-neighbours is called a **leaf**.\n",
    "\n",
    "Here are some examples of graphs that would count as binary trees under this definition. (Developed collaboratively on the board during lecture)"
   ]
  },
  {
   "cell_type": "markdown",
   "id": "apart-doctor",
   "metadata": {},
   "source": [
    "#### Counting Descendants"
   ]
  },
  {
   "cell_type": "code",
   "execution_count": 38,
   "id": "consistent-bidding",
   "metadata": {},
   "outputs": [],
   "source": [
    "def count_reachable(tree, node):\n",
    "    nbrs = graph_nbrs(tree, node)\n",
    "    if len(nbrs) == 0:\n",
    "        return 1\n",
    "    elif len(nbrs) == 1:\n",
    "        c_l = count_reachable(tree, nbrs[0])\n",
    "        return c_l + 1\n",
    "    else:\n",
    "        c_l = count_reachable(tree, nbrs[0])\n",
    "        c_r = count_reachable(tree, nbrs[1])\n",
    "        return c_l + c_r + 1\n"
   ]
  },
  {
   "cell_type": "markdown",
   "id": "returning-romance",
   "metadata": {},
   "source": [
    "For expediency, we'll revert to our list representation of graphs. (It will make typing in examples faster)."
   ]
  },
  {
   "cell_type": "code",
   "execution_count": 39,
   "id": "sized-rehabilitation",
   "metadata": {},
   "outputs": [],
   "source": [
    "def graph_nodes(graph):\n",
    "    return range(len(graph))\n",
    "\n",
    "def graph_nbrs(graph, node):\n",
    "    return graph[node]\n",
    "\n",
    "def graph_size(graph):\n",
    "    return len(graph)"
   ]
  },
  {
   "cell_type": "code",
   "execution_count": 40,
   "id": "wired-boutique",
   "metadata": {},
   "outputs": [
    {
     "name": "stdout",
     "output_type": "stream",
     "text": [
      "4\n"
     ]
    }
   ],
   "source": [
    "g1 = [[1], [2, 3], [], []]\n",
    "print(count_reachable(g1, 0))"
   ]
  },
  {
   "cell_type": "code",
   "execution_count": 41,
   "id": "digital-blues",
   "metadata": {},
   "outputs": [
    {
     "name": "stdout",
     "output_type": "stream",
     "text": [
      "12\n"
     ]
    }
   ],
   "source": [
    "g2 = [[1, 2], [3, 4], [5], [6, 7], [], [8, 9], [], [10], [], [], [11], []]\n",
    "print(count_reachable(g2, 0))"
   ]
  },
  {
   "cell_type": "markdown",
   "id": "sapphire-retro",
   "metadata": {},
   "source": [
    "#### Count Leaves\n",
    "Try to develop a program that would count the number of _leaves_ that were reachable from the root."
   ]
  },
  {
   "cell_type": "markdown",
   "id": "going-representation",
   "metadata": {},
   "source": [
    "### General Trees\n",
    "\n",
    "If you have a general tree, how would you count the number of reachable nodes?"
   ]
  },
  {
   "cell_type": "code",
   "execution_count": 42,
   "id": "afraid-defensive",
   "metadata": {},
   "outputs": [],
   "source": [
    "def count_reachable_gen(tree, node):\n",
    "    nbrs = graph_nbrs(tree, node)\n",
    "    if len(nbrs) == 0:\n",
    "        return 1\n",
    "    else:\n",
    "        s = 0\n",
    "        for nbr in nbrs:\n",
    "            s += count_reachable(tree, nbr)\n",
    "        return s + 1\n",
    "   "
   ]
  },
  {
   "cell_type": "code",
   "execution_count": 43,
   "id": "available-tension",
   "metadata": {},
   "outputs": [
    {
     "name": "stdout",
     "output_type": "stream",
     "text": [
      "4\n"
     ]
    }
   ],
   "source": [
    "print(count_reachable_gen(g1, 0))"
   ]
  },
  {
   "cell_type": "code",
   "execution_count": 44,
   "id": "executive-transformation",
   "metadata": {
    "scrolled": true
   },
   "outputs": [
    {
     "name": "stdout",
     "output_type": "stream",
     "text": [
      "12\n"
     ]
    }
   ],
   "source": [
    "print(count_reachable_gen(g2, 0))"
   ]
  },
  {
   "cell_type": "code",
   "execution_count": 45,
   "id": "proved-haven",
   "metadata": {},
   "outputs": [
    {
     "name": "stdout",
     "output_type": "stream",
     "text": [
      "9\n"
     ]
    }
   ],
   "source": [
    "g3 = [[1, 2, 3], [4], [5, 6], [7], [8], [], [], [], []]\n",
    "print(count_reachable_gen(g3, 0))"
   ]
  },
  {
   "cell_type": "markdown",
   "id": "mobile-singer",
   "metadata": {},
   "source": [
    "Observe how there is a recursive call _inside_ a for loop in `count_reachable_gen`.  It seems scary at first if we come at it without preparation, but when we see how we built up to it, we can recognise the for loop as generalizing over the number of out-neighbours, and the recursive call is just the wishful thinking that we are carrying out per out-neighbour.\n",
    "\n",
    "What else we do inside and outside of the for loop is all about putting together the results of those \"wishful thinking\" processes (ie recursive calls) to produce the final answer that we were after. "
   ]
  },
  {
   "cell_type": "markdown",
   "id": "pharmaceutical-ideal",
   "metadata": {},
   "source": [
    "## DFS Implementation\n",
    "Now we are ready to re-examine the DFS implementation. \n",
    "\n",
    "Here is the main code from yesterday:"
   ]
  },
  {
   "cell_type": "code",
   "execution_count": null,
   "id": "bronze-chassis",
   "metadata": {},
   "outputs": [],
   "source": [
    "def init_visited(graph):\n",
    "    \"\"\"Return a dictionary mapping each node in graph to False \"\"\"\n",
    "    result = {}\n",
    "    for node in graph_nodes(graph):\n",
    "        result[node] = False\n",
    "    return result\n",
    "\n",
    "# This is just to get started\n",
    "def dfs_find_reachable(g, start):\n",
    "    visited = init_visited(g)\n",
    "    reachable = []\n",
    "    dfs_explore_reachable(g, start, visited, reachable)\n",
    "    return reachable\n",
    "\n",
    "# This one will do the hard work\n",
    "def dfs_explore_reachable(g, node, visited, reachable):\n",
    "    visited[node] = True\n",
    "    reachable.append(node)\n",
    "    for nbr in graph_nbrs(g, node):\n",
    "        if not visited[nbr]:\n",
    "            dfs_explore_reachable(g, nbr, visited, reachable)"
   ]
  },
  {
   "cell_type": "markdown",
   "id": "threatened-hearing",
   "metadata": {
    "id": "threatened-hearing"
   },
   "source": [
    "### Discussion\n",
    "\n",
    "Counting reachable nodes is the same thing as exploring, but we are also keeping track of a count.  In our discussion so far, we have limited ourselves to trees, which did not have cycles, so it was impossible to revisit the same node twice, if we started out on different out-neighbours from the root.\n",
    "\n",
    "In a general graph, this will not be the case though.  It might be possible that if we start at one node, $u$, and explore from its first out-neighbour, we could get to some node $v$; and then later, when exploring from $u$'s second out-neighbour, we also get to the same node $v$.  If we counted reachable nodes in the way we did for trees, we would end up double counting $v$.  So, to avoid this, we have to keep track of a \"register\" of which nodes have already been visited.  We need to make sure that it is available to every recursive call, so that as it is updated, other recursive calls see those updates.\n",
    "\n",
    "Looking back at our DFS implementation, we can see a strong similarity to the process for counting reachable nodes. The main difference is the existence of a record of the nodes that have been visited (the `visited` dictionary), which is passed to every recursive call.  Notice also that we consult that record to avoid making the recursive call at any out-neighbours that have already been accounted for (i.e. visited)."
   ]
  }
 ],
 "metadata": {
  "celltoolbar": "Slideshow",
  "colab": {
   "provenance": []
  },
  "kernelspec": {
   "display_name": "jamcoders",
   "language": "python",
   "name": "jamcoders"
  },
  "language_info": {
   "codemirror_mode": {
    "name": "ipython",
    "version": 3
   },
   "file_extension": ".py",
   "mimetype": "text/x-python",
   "name": "python",
   "nbconvert_exporter": "python",
   "pygments_lexer": "ipython3",
   "version": "3.9.2"
  }
 },
 "nbformat": 4,
 "nbformat_minor": 5
}
