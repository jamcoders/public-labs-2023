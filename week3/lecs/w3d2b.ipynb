{
 "cells": [
  {
   "cell_type": "markdown",
   "id": "19086bdd",
   "metadata": {},
   "source": [
    "# Week 3, Day 2, Afternoon Session\n",
    "## Merge Sort"
   ]
  },
  {
   "cell_type": "code",
   "execution_count": 1,
   "id": "26b35661",
   "metadata": {},
   "outputs": [],
   "source": [
    "import time\n",
    "import functools\n",
    "!wget https://raw.githubusercontent.com/jamcoders/syllabus-resources-2023/main/week3/lecs/boaz_utils.ipynb\n",
    "%run \"boaz_utils.ipynb\""
   ]
  },
  {
   "cell_type": "markdown",
   "id": "ecc71558",
   "metadata": {},
   "source": [
    "**SelectionSort** takes $O(n^2)$ time. Can we sort faster?"
   ]
  },
  {
   "cell_type": "code",
   "execution_count": 2,
   "id": "35d24986",
   "metadata": {},
   "outputs": [],
   "source": [
    "def merge(A, B):\n",
    "    C = []\n",
    "    Aidx,Bidx = 0,0\n",
    "    for i in range(len(A) + len(B)):\n",
    "        if Aidx == len(A):\n",
    "            C += B[Bidx:]\n",
    "            break\n",
    "        elif Bidx == len(B):\n",
    "            C += A[Aidx:]\n",
    "            break\n",
    "        elif A[Aidx] < B[Bidx]:\n",
    "            C += [A[Aidx]]\n",
    "            Aidx += 1\n",
    "        else:\n",
    "            C += [B[Bidx]]\n",
    "            Bidx += 1\n",
    "    return C\n",
    "        \n",
    "\n",
    "def merge_sort(L):\n",
    "    if len(L) <= 1:\n",
    "        return L[:]\n",
    "    else:\n",
    "        A = merge_sort(L[:len(L)//2])\n",
    "        B = merge_sort(L[len(L)//2:])\n",
    "        return merge(A,B)"
   ]
  },
  {
   "cell_type": "code",
   "execution_count": 3,
   "id": "8533e502",
   "metadata": {},
   "outputs": [],
   "source": [
    "# can also use a recursive implementation of merge\n",
    "def recursive_merge(A, B):\n",
    "    if len(A) == 0:\n",
    "        return B[:]\n",
    "    elif len(B) == 0:\n",
    "        return A[:]\n",
    "    elif A[0] < B[0]:\n",
    "        return [A[0]] + merge(A[1:], B)\n",
    "    else:\n",
    "        return [B[0]] + merge(A, B[1:])"
   ]
  },
  {
   "cell_type": "code",
   "execution_count": 4,
   "id": "23323ccf",
   "metadata": {},
   "outputs": [
    {
     "data": {
      "text/plain": [
       "[1, 2, 3, 4, 5]"
      ]
     },
     "execution_count": 4,
     "metadata": {},
     "output_type": "execute_result"
    }
   ],
   "source": [
    "merge_sort([5,4,3,2,1])"
   ]
  },
  {
   "cell_type": "code",
   "execution_count": 5,
   "id": "0c08efba",
   "metadata": {},
   "outputs": [
    {
     "name": "stdout",
     "output_type": "stream",
     "text": [
      "[10, 9, 8, 7, 6, 5, 4, 3, 2, 1]\n"
     ]
    }
   ],
   "source": [
    "print(list(range(10,0,-1)))"
   ]
  },
  {
   "cell_type": "code",
   "execution_count": 6,
   "id": "e81ae798",
   "metadata": {},
   "outputs": [],
   "source": [
    "big_list = list(range(20000,0,-1))"
   ]
  },
  {
   "cell_type": "code",
   "execution_count": 7,
   "id": "e1ded495",
   "metadata": {},
   "outputs": [
    {
     "data": {
      "text/plain": [
       "'done'"
      ]
     },
     "execution_count": 7,
     "metadata": {},
     "output_type": "execute_result"
    }
   ],
   "source": [
    "merge_sort(big_list)\n",
    "'done'"
   ]
  },
  {
   "cell_type": "code",
   "execution_count": 9,
   "id": "3418cc17",
   "metadata": {},
   "outputs": [],
   "source": [
    "# remember this slow O(n^2) implementation... def iterative_selection_sort(L):\n",
    "def iterative_selection_sort(L):\n",
    "    A = L[:]\n",
    "    for i in range(len(A)):\n",
    "        # try to find index idx of the min element in L[i:],\n",
    "        # then move it to L[i]\n",
    "        idx = i\n",
    "        for j in range(i+1, len(A)):\n",
    "            if A[j] < A[idx]:\n",
    "                idx = j\n",
    "        \n",
    "        # swap contents of A[i] and A[idx]\n",
    "        tmp = A[i]\n",
    "        A[i] = A[idx]\n",
    "        A[idx] = tmp\n",
    "    return A"
   ]
  },
  {
   "cell_type": "code",
   "execution_count": 10,
   "id": "abe773e2",
   "metadata": {},
   "outputs": [
    {
     "data": {
      "text/plain": [
       "'done'"
      ]
     },
     "execution_count": 10,
     "metadata": {},
     "output_type": "execute_result"
    }
   ],
   "source": [
    "iterative_selection_sort(big_list)\n",
    "'done'"
   ]
  },
  {
   "cell_type": "markdown",
   "id": "55b001a7",
   "metadata": {},
   "source": [
    "# Graphs"
   ]
  },
  {
   "cell_type": "markdown",
   "id": "725421e2",
   "metadata": {},
   "source": [
    "Central to computer science is the idea of _how to represent information_, and then how to create algorithms or programs that process those representations to compute useful things."
   ]
  },
  {
   "cell_type": "markdown",
   "id": "64d16f4b",
   "metadata": {},
   "source": [
    "For example, I may be a shopkeeper and want to keep track of the items I've sold throughout the day, and how much I was paid for them.\n",
    "\n",
    "`L = [ ['soap', 250], ['yam', 500] , ['yam', 500], ... ]`"
   ]
  },
  {
   "cell_type": "markdown",
   "id": "290d4b8c",
   "metadata": {},
   "source": [
    "Then, given that representation I may want to compute various things, such as \"what were my gross sales yesterday?\", or \"how many times did I sell a yam\"? I can then write programs to process this list L to find these answers."
   ]
  },
  {
   "cell_type": "markdown",
   "id": "7ed9ea00",
   "metadata": {},
   "source": [
    "A graph is just yet another way to represent information, and in the case of graphs, I want to represent information about _connections_ between pairs of objects (for example the \"objects\" could be people, and a \"connection\" could be that one person follows another on Instagram --- or the \"objects\" could be road intersections, and the \"connections\" are the road segments connecting one intersection to another)."
   ]
  },
  {
   "cell_type": "markdown",
   "id": "64d72a8c",
   "metadata": {},
   "source": [
    "When we talk about graphs, we call these \"objects\" **vertices**, and we call the \"connections\" **edges**. We will see more about graphs, and how to run algorithms on graphs, in the afternoon."
   ]
  }
 ],
 "metadata": {
  "kernelspec": {
   "display_name": "Python 3 (ipykernel)",
   "language": "python",
   "name": "python3"
  },
  "language_info": {
   "codemirror_mode": {
    "name": "ipython",
    "version": 3
   },
   "file_extension": ".py",
   "mimetype": "text/x-python",
   "name": "python",
   "nbconvert_exporter": "python",
   "pygments_lexer": "ipython3",
   "version": "3.8.10"
  }
 },
 "nbformat": 4,
 "nbformat_minor": 5
}
