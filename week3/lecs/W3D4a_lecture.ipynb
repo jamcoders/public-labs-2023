{
 "cells": [
  {
   "cell_type": "markdown",
   "metadata": {
    "slideshow": {
     "slide_type": "slide"
    }
   },
   "source": [
    "## Week 3 Day 4 Morning - More Graphs"
   ]
  },
  {
   "cell_type": "code",
   "execution_count": null,
   "metadata": {
    "slideshow": {
     "slide_type": "skip"
    }
   },
   "outputs": [],
   "source": [
    "%run \"boaz_utils.ipynb\""
   ]
  },
  {
   "cell_type": "markdown",
   "metadata": {
    "slideshow": {
     "slide_type": "slide"
    }
   },
   "source": [
    "Recall: mathematically, a graph is a set $V$ of __vertices__ and a set $E$ of pairs of these vertices which is known as the set of __edges__. We say that a vertex $u\\in V$ is connected to $v\\in V$ if the pair $(u,v)$ is in $E$."
   ]
  },
  {
   "cell_type": "markdown",
   "metadata": {
    "slideshow": {
     "slide_type": "slide"
    }
   },
   "source": [
    "A graph where $(u,v)$ is an edge if and only if $(v,u)$ is also an edge is known as an __undirected__ graph. Undirected graphs form an important special case. Otherwise if this is not promised to be the case, we say the graph is __directed__."
   ]
  },
  {
   "cell_type": "markdown",
   "metadata": {
    "slideshow": {
     "slide_type": "slide"
    }
   },
   "source": [
    "Sometimes the edges (or vertices) of the graph are labeled by a number, which we call a __weight__. For example in the case of the road network, we might label every road segment with the length of that segment in kilometers."
   ]
  },
  {
   "cell_type": "markdown",
   "metadata": {
    "slideshow": {
     "slide_type": "slide"
    }
   },
   "source": [
    "There are two main representations for graphs. We can always assume the vertices are simply identified by the numbers $0$ to $n-1$ for some $n$. \n",
    "\n",
    "The __adjacency list representation__ is an array $L$ where $L[i]$ is the list of all neighbors of the vertex $i$ (i.e., all $j$ such that $(i,j)\\in E$)\n",
    "\n",
    "The __adjacency matrix representation__ is an $n\\times n$ two-dimensional array $M$ (i.e., matrix) such that $M[i][j]$ equals $1$ if $j$ is a neighbor of $i$ and equals $0$ otherwise."
   ]
  },
  {
   "cell_type": "markdown",
   "metadata": {},
   "source": [
    "## Example of a graph: the 2-dimensional grid"
   ]
  },
  {
   "cell_type": "code",
   "execution_count": null,
   "metadata": {
    "slideshow": {
     "slide_type": "slide"
    }
   },
   "outputs": [],
   "source": [
    "def grid_neighbors(i,j,n):\n",
    "    if i==n-1 and j== n-1: return []\n",
    "    if i==n-1:\n",
    "        return [i*n+j+1]\n",
    "    if j==n-1:\n",
    "        return [(i+1)*n+j]\n",
    "    return [n*i+((j+1) % n), n*((i+1) % n)+j] "
   ]
  },
  {
   "cell_type": "code",
   "execution_count": null,
   "metadata": {
    "slideshow": {
     "slide_type": "fragment"
    }
   },
   "outputs": [],
   "source": [
    "n = 5\n",
    "grid = [ grid_neighbors(i,j,n) for i in range(n) for j in range(n)  ]"
   ]
  },
  {
   "cell_type": "code",
   "execution_count": null,
   "metadata": {
    "slideshow": {
     "slide_type": "slide"
    }
   },
   "outputs": [],
   "source": [
    "draw_graph(grid,'grid_layout')"
   ]
  },
  {
   "cell_type": "markdown",
   "metadata": {
    "slideshow": {
     "slide_type": "slide"
    }
   },
   "source": [
    "# Basic graph functions"
   ]
  },
  {
   "cell_type": "code",
   "execution_count": null,
   "metadata": {},
   "outputs": [],
   "source": [
    "def neighbors(G,u):\n",
    "    return G[u]\n",
    "\n",
    "def isedge(G,u,v):\n",
    "    for i in G[u]:\n",
    "        if i == v:\n",
    "            return True\n",
    "    return False\n",
    "\n",
    "def vertices(G):\n",
    "    return list(range(len(G)))\n",
    "\n",
    "def addedge(G,i,j):\n",
    "    if not isedge(G, i, j):\n",
    "        G[i].append(j)\n",
    "        \n",
    "def emptygraph(n):\n",
    "    G = []\n",
    "    for i in range(n):\n",
    "        G.append([])\n",
    "    return G"
   ]
  },
  {
   "cell_type": "code",
   "execution_count": null,
   "metadata": {
    "slideshow": {
     "slide_type": "fragment"
    }
   },
   "outputs": [],
   "source": [
    "neighbors(cycle,0)"
   ]
  },
  {
   "cell_type": "code",
   "execution_count": null,
   "metadata": {
    "slideshow": {
     "slide_type": "fragment"
    }
   },
   "outputs": [],
   "source": [
    "isedge(cycle,4,7)"
   ]
  },
  {
   "cell_type": "code",
   "execution_count": null,
   "metadata": {
    "slideshow": {
     "slide_type": "fragment"
    }
   },
   "outputs": [],
   "source": [
    "vertices(cycle)"
   ]
  },
  {
   "cell_type": "markdown",
   "metadata": {
    "slideshow": {
     "slide_type": "slide"
    }
   },
   "source": [
    "__Question:__ Write function `list2matrix(G)` that convertes a graph `G` in adj list format to adj matrix format where `M[i][j]` equals `1`/`0` based on whether `i` is neighbor of `j`"
   ]
  },
  {
   "cell_type": "code",
   "execution_count": null,
   "metadata": {},
   "outputs": [],
   "source": [
    "def zeros(n): return [0]*n\n",
    "def printmatrix(M):\n",
    "    for L in M:\n",
    "        print(L)\n",
    "        \n",
    "def list2matrix(G):\n",
    "    n = len(vertices(G))\n",
    "    M = []\n",
    "    for i in range(n):\n",
    "        M.append(zeros(n))\n",
    "    for i in range(n):\n",
    "        for j in range(n):\n",
    "            if isedge(G,i,j):\n",
    "                M[i][j] = 1\n",
    "    return M"
   ]
  },
  {
   "cell_type": "code",
   "execution_count": null,
   "metadata": {
    "slideshow": {
     "slide_type": "fragment"
    }
   },
   "outputs": [],
   "source": [
    "G = [[3,1],[0,2],[1,3],[2,0]]\n",
    "M = list2matrix(G)\n",
    "printmatrix(M)"
   ]
  },
  {
   "cell_type": "code",
   "execution_count": null,
   "metadata": {
    "slideshow": {
     "slide_type": "slide"
    }
   },
   "outputs": [],
   "source": [
    "G = [[1,4],[0,2],[1,3],[2,4],[3,0]]\n",
    "printmatrix(list2matrix(G))"
   ]
  },
  {
   "cell_type": "markdown",
   "metadata": {
    "slideshow": {
     "slide_type": "slide"
    }
   },
   "source": [
    "## Example: Make graph undirected\n",
    "\n",
    "__Exercise:__ Write a function `undir` that takes a graph `G` and outputs a graph `_G` that such that for every `i,j` the edge `i->j` is in `G` if and only if both  `j->i`  and `i->j` are in `_G`."
   ]
  },
  {
   "cell_type": "code",
   "execution_count": null,
   "metadata": {},
   "outputs": [],
   "source": [
    "def neighbors(G,u):\n",
    "    return G[u]\n",
    "\n",
    "def isedge(G,u,v):\n",
    "    return v in neighbors(G,u)\n",
    "\n",
    "def vertices(G):\n",
    "    return list(range(len(G)))\n",
    "\n",
    "def addedge(G,i,j): \n",
    "    if not j in G[i]:\n",
    "        G[i].append(j)\n",
    "        \n",
    "def emptygraph(n):\n",
    "    L = []\n",
    "    for i in range(n):\n",
    "        L.append([])\n",
    "    return L"
   ]
  },
  {
   "cell_type": "code",
   "execution_count": null,
   "metadata": {
    "slideshow": {
     "slide_type": "slide"
    }
   },
   "outputs": [],
   "source": [
    "def undirect(G):\n",
    "    U = emptygraph(len(G))\n",
    "    for u in vertices(G):\n",
    "        for v in neighbors(G, u):\n",
    "            addedge(U, u, v)\n",
    "            addedge(U, v, u)\n",
    "    return U"
   ]
  },
  {
   "cell_type": "code",
   "execution_count": null,
   "metadata": {
    "slideshow": {
     "slide_type": "slide"
    }
   },
   "outputs": [],
   "source": [
    "G = [[1],[2],[0]]\n",
    "undir(G)"
   ]
  },
  {
   "cell_type": "code",
   "execution_count": null,
   "metadata": {
    "slideshow": {
     "slide_type": "slide"
    }
   },
   "outputs": [],
   "source": [
    "draw_graph(undir(G))"
   ]
  },
  {
   "cell_type": "markdown",
   "metadata": {},
   "source": [
    "# Graph connectivity"
   ]
  },
  {
   "cell_type": "markdown",
   "metadata": {},
   "source": [
    "Given $i,j$ and a graph $G$: find out if $i$ has a path to $j$ (perhaps indirectly) in the graph"
   ]
  },
  {
   "cell_type": "markdown",
   "metadata": {},
   "source": [
    "Here is a natural suggestion for a recursive algorithm:\n",
    "\n",
    "$connected(i,j,G)$ is True if $i$ is a neighbor of $j$, and otherwise it is True if there is some neighbor $k$ of $i$ such that $k$ is connected to $j$. \n",
    "\n",
    "Let's code it up try to see what happens:"
   ]
  },
  {
   "cell_type": "code",
   "execution_count": null,
   "metadata": {},
   "outputs": [],
   "source": [
    "def connected(source, target, G):\n",
    "    print(\".\",end=\"\")\n",
    "    if source == target:\n",
    "        return True\n",
    "    else:\n",
    "        for k in neighbors(G, source):\n",
    "            if connected(k, target, G):\n",
    "                return True\n",
    "        return False"
   ]
  },
  {
   "cell_type": "code",
   "execution_count": null,
   "metadata": {},
   "outputs": [],
   "source": [
    "G = undir([[1],[2],[3],[4],[]])\n",
    "draw_graph(G)"
   ]
  },
  {
   "cell_type": "code",
   "execution_count": null,
   "metadata": {},
   "outputs": [],
   "source": [
    "connected(0,1,G)"
   ]
  },
  {
   "cell_type": "code",
   "execution_count": null,
   "metadata": {},
   "outputs": [],
   "source": [
    "connected(0,2,G)"
   ]
  },
  {
   "cell_type": "code",
   "execution_count": null,
   "metadata": {},
   "outputs": [],
   "source": [
    "connected(0,3,G)"
   ]
  },
  {
   "cell_type": "markdown",
   "metadata": {},
   "source": [
    "The problem is that we are getting into an infinite loop! \n",
    "We can fix this by remembering which vertices we visited."
   ]
  },
  {
   "cell_type": "code",
   "execution_count": null,
   "metadata": {},
   "outputs": [],
   "source": [
    "def connected(source, target, G, visited = []):\n",
    "    if not (source in visited):\n",
    "        visited.append(source)\n",
    "    if source == target:\n",
    "        return True\n",
    "    else:\n",
    "        #print('variables are now')\n",
    "        #print(str(source) + ' ' + str(target) + ' ' + str(visited))\n",
    "        for k in neighbors(G, source):\n",
    "            if not (k in visited):\n",
    "                visited.append(k)\n",
    "                if connected(k, target, G, visited):\n",
    "                    return True\n",
    "        return False\n",
    "    "
   ]
  },
  {
   "cell_type": "code",
   "execution_count": null,
   "metadata": {},
   "outputs": [],
   "source": [
    "G = undir([[1],[2],[3],[4],[]])\n",
    "draw_graph(G)"
   ]
  },
  {
   "cell_type": "code",
   "execution_count": null,
   "metadata": {},
   "outputs": [],
   "source": [
    "print(connected(0, 1, G, []))\n",
    "#print('next one')\n",
    "print(connected(0, 2, G, []))"
   ]
  },
  {
   "cell_type": "code",
   "execution_count": null,
   "metadata": {},
   "outputs": [],
   "source": [
    "G = undir([[1],[2],[0],[]])\n",
    "draw_graph(G)"
   ]
  },
  {
   "cell_type": "code",
   "execution_count": null,
   "metadata": {},
   "outputs": [],
   "source": [
    "print (connected(0,1,G) , connected(0,3,G))"
   ]
  },
  {
   "cell_type": "code",
   "execution_count": null,
   "metadata": {},
   "outputs": [],
   "source": [
    "def make_grid(n): # return a n by n grid with an isolated vertex\n",
    "    G = emptygraph(n*n)\n",
    "    for i in range(n):\n",
    "        for j in range(n):\n",
    "            v = i*n+j\n",
    "            if i<n-1: addedge(G,v,(i+1)*n+j)\n",
    "            if j<n-1: addedge(G,v,i*n+j+1)\n",
    "    G = undir(G)\n",
    "    return G\n",
    " \n",
    "def grid_input(n):\n",
    "    return (0,n*n,make_grid(n)+[[]])"
   ]
  },
  {
   "cell_type": "code",
   "execution_count": null,
   "metadata": {},
   "outputs": [],
   "source": [
    "(s,t,G) = grid_input(5)\n",
    "draw_graph(G, \"grid_layout\")"
   ]
  },
  {
   "cell_type": "code",
   "execution_count": null,
   "metadata": {},
   "outputs": [],
   "source": [
    "connected(0,1,G)"
   ]
  },
  {
   "cell_type": "markdown",
   "metadata": {},
   "source": [
    "## Can speed up by changing how 'visited' works. Make it a length n list, where visited[u] is True if we ever visited vertex u and False otherwise"
   ]
  },
  {
   "cell_type": "code",
   "execution_count": null,
   "metadata": {},
   "outputs": [],
   "source": [
    "# DFS = Depth First Search\n",
    "def search(u, G, visited):\n",
    "    visited[u] = True\n",
    "    for v in neighbors(G, u):\n",
    "        if not visited[v]:\n",
    "            search(v, G, visited)\n",
    "    \n",
    "def dfs(source, target, G):\n",
    "    visited = [False]*len(G)\n",
    "    search(source, G, visited)\n",
    "    return visited[target]"
   ]
  },
  {
   "cell_type": "code",
   "execution_count": null,
   "metadata": {},
   "outputs": [],
   "source": [
    "G = undir([[1],[2],[0],[]])\n",
    "draw_graph(G)"
   ]
  },
  {
   "cell_type": "code",
   "execution_count": null,
   "metadata": {},
   "outputs": [],
   "source": [
    "print (dfs(0,1,G) , dfs(0,3,G))"
   ]
  },
  {
   "cell_type": "markdown",
   "metadata": {},
   "source": [
    "## Exercise: think about the order DFS visits vertices in the graph below"
   ]
  },
  {
   "cell_type": "code",
   "execution_count": null,
   "metadata": {},
   "outputs": [],
   "source": [
    "G = undir([[1,4],[2],[3],[2],[0]])\n",
    "draw_graph(G)"
   ]
  }
 ],
 "metadata": {
  "celltoolbar": "Slideshow",
  "kernelspec": {
   "display_name": "Python 3 (ipykernel)",
   "language": "python",
   "name": "python3"
  },
  "language_info": {
   "codemirror_mode": {
    "name": "ipython",
    "version": 3
   },
   "file_extension": ".py",
   "mimetype": "text/x-python",
   "name": "python",
   "nbconvert_exporter": "python",
   "pygments_lexer": "ipython3",
   "version": "3.8.10"
  }
 },
 "nbformat": 4,
 "nbformat_minor": 2
}
