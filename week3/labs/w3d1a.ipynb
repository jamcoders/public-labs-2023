{
 "cells": [
  {
   "cell_type": "markdown",
   "metadata": {
    "id": "JsqjHg5ye87-"
   },
   "source": [
    "# Week 3, Day 1 Part A Exercises: Logarithms and Binary Search"
   ]
  },
  {
   "cell_type": "markdown",
   "metadata": {},
   "source": [
    "![Reminder to Save](https://github.com/jamcoders/jamcoders-public-2023/blob/main/images/warning.png?raw=true)\n"
   ]
  },
  {
   "cell_type": "markdown",
   "metadata": {
    "id": "AMFRBmIZrLyt"
   },
   "source": [
    "_**Run this cell first!**_"
   ]
  },
  {
   "cell_type": "code",
   "execution_count": 3,
   "metadata": {
    "id": "bM_n0RQXrLEM"
   },
   "outputs": [],
   "source": [
    "# Always run this code.\n",
    "%config InteractiveShell.ast_node_interactivity=\"none\"\n",
    "import sys\n",
    "if 'google.colab' in sys.modules:\n",
    "  !pip install --force-reinstall git+https://github.com/jamcoders/jamcoders-public-2023.git --quiet \n",
    "from jamcoders.base_utils import *\n",
    "from jamcoders.week3.labw3d1a import *"
   ]
  },
  {
   "cell_type": "markdown",
   "metadata": {
    "id": "Ep9DdU5wbRO4"
   },
   "source": [
    "Imagine you are the boss who runs the `JamCoders Premier League`. You have the following teams competing for the top prize in the league: \"Manchester United\", \"Arsenal\", \"Chelsea\", \"Liverpool\", \"Manchester City\", \"Tottenham Hotspur\", \"Everton\".\n",
    "\n",
    "The clubs have the following points in the league:\n",
    "\n",
    "| Club Name           |   Points |\n",
    "| -------------       |:--------:|\n",
    "| Manchester United   |  66      |\n",
    "| Arsenal             |  67      |\n",
    "| Chelsea             |  71      |   \n",
    "| Liverpool           |  94      | \n",
    "| Manchester City     |  95      |\n",
    "| Tottenham Hotspur   |  70      |\n",
    "| Everton             |  53      |"
   ]
  },
  {
   "cell_type": "markdown",
   "metadata": {
    "id": "tg6Xz4sypH7t"
   },
   "source": [
    "## Question 0: List + recursion review"
   ]
  },
  {
   "cell_type": "markdown",
   "metadata": {
    "id": "2Jc2z2DWbRPB"
   },
   "source": [
    "### 0.1 Creating lists\n",
    "\n",
    "Create a list called `club_points_list` that contains 5 integers."
   ]
  },
  {
   "cell_type": "code",
   "execution_count": null,
   "metadata": {
    "id": "hlO4qPcabRPC"
   },
   "outputs": [],
   "source": [
    "# YOUR CODE HERE\n"
   ]
  },
  {
   "cell_type": "markdown",
   "metadata": {
    "id": "McqM-CKZbRPD"
   },
   "source": [
    "### 0.2 Iterating through lists\n",
    "\n",
    "Print every element in that list (`club_points_list`) using a `for` loop."
   ]
  },
  {
   "cell_type": "code",
   "execution_count": null,
   "metadata": {
    "id": "MAp9_GWrbRPE"
   },
   "outputs": [],
   "source": [
    "# YOUR CODE HERE"
   ]
  },
  {
   "cell_type": "markdown",
   "metadata": {
    "id": "kG2wl8U1bRPF"
   },
   "source": [
    "### 0.3 Minimum element in list"
   ]
  },
  {
   "cell_type": "markdown",
   "metadata": {
    "id": "UrK05wNdbRPG"
   },
   "source": [
    "The function `minimum(L)` finds the minimum element in a list `L` :\n",
    "```python\n",
    "def minimum(L):\n",
    "    min_so_far = L[0]\n",
    "    for element in L:\n",
    "        if element < min_so_far :\n",
    "            min_so_far = element     \n",
    "    return min_so_far\n",
    "```"
   ]
  },
  {
   "cell_type": "markdown",
   "metadata": {
    "id": "KTnRd-_rbRPI"
   },
   "source": [
    "Write a non recursive function `maximum(L)` that takes a list of integers `L` and returns the largest integer in that list."
   ]
  },
  {
   "cell_type": "code",
   "execution_count": null,
   "metadata": {
    "id": "NT6jPNhDbRPJ"
   },
   "outputs": [],
   "source": [
    "def maximum(L):\n",
    "    # YOUR CODE HERE\n",
    "\n",
    "check_0_3a(maximum([23, 45, 56, 88, 19, 10]))\n",
    "check_0_3b(maximum([0, 12, 44, 5, 6, 7]))"
   ]
  },
  {
   "cell_type": "markdown",
   "metadata": {
    "id": "sSMggqr7bRPL"
   },
   "source": [
    "### 0.4 Recursive Maximum"
   ]
  },
  {
   "cell_type": "markdown",
   "metadata": {
    "id": "QN_Y-3BObRPN"
   },
   "source": [
    "Let's write a **recursive** function `recursive_max(L)` that takes a list of integers `L` and returns the largest integer in that list."
   ]
  },
  {
   "cell_type": "code",
   "execution_count": null,
   "metadata": {
    "id": "sPanGHspbRPQ"
   },
   "outputs": [],
   "source": [
    "def recursive_max(L):\n",
    "    # YOUR CODE HERE\n",
    "\n",
    "check_0_4a(maximum([23, 45, 56, 88, 19, 10]))\n",
    "check_0_4b(maximum([0, 12, 44, 5, 6, 7]))"
   ]
  },
  {
   "cell_type": "markdown",
   "metadata": {
    "id": "CTYNkAtrfPAs"
   },
   "source": [
    "## Question 1: Logarithms"
   ]
  },
  {
   "cell_type": "markdown",
   "metadata": {
    "id": "2wNDXdk7npTk"
   },
   "source": [
    "### 1.0 Logarithms Rules!!1"
   ]
  },
  {
   "cell_type": "markdown",
   "metadata": {
    "id": "ychWOZ0WgWCW"
   },
   "source": [
    "Logarithms are the opposite (inverse) of exponents. For any two numbers $a > 0$ and $z$, the $a$-ary (also called base-$a$) logarithm of $z$ is a number $x$ such that $$a^x = z.$$ \n",
    "Just like with exponents, we have mathematical notation to denote the logarithm: $x=\\log_{a}(z)$.\n",
    "\n",
    "Some examples:\n",
    "\n",
    "* Since $2^{5} = 32$ then $\\log_2(32) = 5$. \n",
    "* Since $2^{0} = 1$ then $\\log_2(1) = 0$. Actually, for _any_ number $a \\neq 0$ it holds that $\\log_a(1) = 0$...\n",
    "\n",
    "In other words, the logarithm of $x$ base $a$, is _the number of times we need to multiply $a$ by itself to equal $x$_. \n",
    "\n",
    "**Useful Tricks**\n",
    "\n",
    "As you may remember, there are some nice tricks (sometimes called rules) for working with expressions involving exponents. Specifically, for any three numbers $x, y,$ and $a$\n",
    "\n",
    "1. $$a^x \\cdot a^y = a^{x + y}$$\n",
    "2. $${\\left(a^x\\right)}^y = a^{x \\cdot y}$$\n",
    "\n",
    "(If you haven't seen these before, try to convince yourself of why they are true. You can try out some small examples, such as $2^3 \\cdot 2^2 = 2^5$; write down the exponents as repeated multiplication.)\n",
    "\n",
    "Because logarithm is an opposite (inverse) of exponent, each of the rules above have a corresponding rule for working with logarithms.\n",
    "\n",
    "1. $$ \\log_a(x \\cdot y) = \\log_a(x) + \\log_a(y)$$\n",
    "2. $$ \\log_a(x^y) = y \\cdot \\log_a(x)$$\n",
    "\n",
    "It's not terribly important that we remember all these rules now. But it's nice to think about them as a way to get comfortable with logarithms.\n",
    "Can you convince yourself of the two logarithm rules based on the corresponding exponent rule?"
   ]
  },
  {
   "cell_type": "code",
   "execution_count": null,
   "metadata": {
    "id": "7uVY_ltRkJeU"
   },
   "outputs": [],
   "source": [
    "# Optional: Your thoughts here."
   ]
  },
  {
   "cell_type": "markdown",
   "metadata": {
    "id": "SlBScwO5oxBN"
   },
   "source": [
    "### 1.1 Logarithm Algorithm\n",
    "The **integer (binary) logarithm** of a number $x$ is the smallest integer $y$ such that $$2^{y+1} > x.$$\n",
    "\n",
    "It's just like the logarithm, except _rounded down_ to the nearest integer.\n",
    "\n",
    "For example, looking at the number 33 we see\n",
    "$$2^6 = 64 > 33 > 32 =2^5$$\n",
    "and so the integer binary logarithm of $33$ would be 5. "
   ]
  },
  {
   "cell_type": "markdown",
   "metadata": {
    "id": "PK5TdQmzjPxs"
   },
   "source": [
    "Before we implement `ilog_binary`, it may help to look at some the code for the **integer square root** function, `isqrt()`.\n",
    "\n",
    "The integer square root of a number $x$ is the smallest number $y$ such that \n",
    "\n",
    "$$(y + 1)^2 > x$$\n",
    "\n",
    "Here is one implementation for `isqrt`:\n",
    "\n",
    "```python\n",
    "def isqrt(x):\n",
    "    \"\"\"Computes the smallest integer y such that (y + 1) ** 2 > x.\n",
    "    Arguments: x (int)\n",
    "    Returns: (int)\n",
    "    \"\"\"\n",
    "    for y in range(x):\n",
    "        if (y + 1) ** 2 > x:\n",
    "            return y\n",
    "```\n",
    "\n",
    "Now, implement the `ilog_binary` function."
   ]
  },
  {
   "cell_type": "code",
   "execution_count": null,
   "metadata": {
    "colab": {
     "base_uri": "https://localhost:8080/"
    },
    "id": "XKgUm_Kjqa7H",
    "outputId": "14a9ab6b-1161-4033-e6c9-0f6e778dcbb5"
   },
   "outputs": [],
   "source": [
    "def ilog_binary(x):\n",
    "    \"\"\"\n",
    "    Finds the smallest integer y for which 2 ** (y+1) > x.\n",
    "    Arguments: x (int)\n",
    "    Returns: (int)\n",
    "    \"\"\"\n",
    "    # YOUR CODE HERE"
   ]
  },
  {
   "cell_type": "code",
   "execution_count": null,
   "metadata": {
    "id": "uKqWTomwrSTl"
   },
   "outputs": [],
   "source": [
    "check_1_1a(ilog_binary(2))\n",
    "check_1_1b(ilog_binary(1))\n",
    "check_1_1c(ilog_binary(4))\n",
    "check_1_1d(ilog_binary(8))\n",
    "check_1_1e(ilog_binary(10))\n",
    "check_1_1f(ilog_binary(100))"
   ]
  },
  {
   "cell_type": "markdown",
   "metadata": {
    "id": "YGNU0lW3jcoJ"
   },
   "source": [
    "### 1.2 Turn up the base"
   ]
  },
  {
   "cell_type": "markdown",
   "metadata": {
    "id": "T98bXDX9sy8K"
   },
   "source": [
    "The reason why we called our function the **binary** integer logarithm is because it works for **base 2**; the base is the base of the exponent in the condition $\\mathbf{2}^{y+1} > x$ (notice the bold 2).\n",
    "\n",
    "But we can define the logarithm for _any_ base. For example, the _decimal_ integer logarithm of $x$ is the smallest integer $y$ such that $10^{y+1} > x$.\n",
    "\n",
    "In general, for any positive integer $a$, the **$a$-ary** integer logairithm of $x$ is the smallest integer $y$ such that $$a^{y+1} > x.$$\n",
    "\n",
    "Next, we'll define this function."
   ]
  },
  {
   "cell_type": "code",
   "execution_count": null,
   "metadata": {
    "id": "CFnKd2e9w6cM"
   },
   "outputs": [],
   "source": [
    "def ilog(x, a):\n",
    "    \"\"\"Finds the smallest integer y for which a ** (y+1) > x.\n",
    "    Arguments: x (int), a (positive integer)\n",
    "    Returns: (int)\n",
    "    \"\"\"\n",
    "    # Your code here\n",
    "\n",
    "check_1_2a(ilog(2, 2))\n",
    "check_1_2b(ilog(1, 2))\n",
    "check_1_2c(ilog(4, 2))\n",
    "check_1_2d(ilog(8, 2))\n",
    "check_1_2e(ilog(10, 2))\n",
    "check_1_2f(ilog(100, 2))\n",
    "check_1_2g(ilog(10, 10))\n",
    "check_1_2h(ilog(1, 10))\n",
    "check_1_2i(ilog(9, 10))\n",
    "check_1_2j(ilog(100, 10))\n",
    "check_1_2k(ilog(215, 10))\n",
    "check_1_2l(ilog(3, 3))\n",
    "check_1_2m(ilog(4, 3))\n",
    "check_1_2n(ilog(9, 3))\n",
    "check_1_2o(ilog(10, 3))"
   ]
  },
  {
   "cell_type": "markdown",
   "metadata": {
    "id": "FJYKLMHSxums"
   },
   "source": [
    "## Question 2: Shall we play a game?"
   ]
  },
  {
   "cell_type": "markdown",
   "metadata": {
    "id": "5jvnlseBbRPT"
   },
   "source": [
    "Let us introduce a \"very fun\" game called _Guess The Number_. There are two players: the _Host_ and the _Seeker_. The game goes as follows:\n",
    "* The Host chooses a range of integers $[a,b]$ and a target integer $x$ in that range.\n",
    "* The Host tells the Seeker about the range $[a,b]$. The Seeker's goal is to find $x$.\n",
    "* In each turn, the Seeker chooses a number $y$. If $y = x$, the Seeker wins and the game is over. Else, the the Host tells the seeker whether $y$ is greater than $x$ or less than $x$.\n",
    "\n",
    "Try playing the game by running the code below using different inputs. "
   ]
  },
  {
   "cell_type": "code",
   "execution_count": null,
   "metadata": {
    "id": "HagI8tFRbRPU"
   },
   "outputs": [],
   "source": [
    "def seek(x, a, b):\n",
    "    \"\"\"Plays Guess The Number.\n",
    "    Arguments: x (int), a (int), b (int)\n",
    "    Returns: The number of rounds played (int).\n",
    "    Effects: Prints dialogue between the Host and the Seeker.\n",
    "    \"\"\"\n",
    "\n",
    "    if x > b or x < a:\n",
    "        print(\"Invalid number!\")\n",
    "        return -1\n",
    "\n",
    "    mid = (a + b) // 2\n",
    "\n",
    "    print(\"Seeker: I choose\", mid)\n",
    "\n",
    "    if mid == x:\n",
    "        print(\"Host: Exactly!\")\n",
    "        return 1\n",
    "\n",
    "    if mid > x:\n",
    "        print(\"Host: Too big!\")\n",
    "        return 1 + seek(x, a, mid-1)\n",
    "\n",
    "    if mid < x:\n",
    "        print(\"Host: Too small!\")\n",
    "        return 1 + seek(x, mid+1, b)"
   ]
  },
  {
   "cell_type": "markdown",
   "metadata": {
    "id": "8KtXhxUWbRPV"
   },
   "source": [
    "### 2.1 "
   ]
  },
  {
   "cell_type": "markdown",
   "metadata": {
    "id": "xfqSVCMy3HOl"
   },
   "source": [
    "Let's play!"
   ]
  },
  {
   "cell_type": "code",
   "execution_count": null,
   "metadata": {
    "id": "Tz3NW8Om18GA"
   },
   "outputs": [],
   "source": [
    "x, a, b = 56, 1, 100\n",
    "print(f\"Host: Let's play! The range is [{a}, {b}].\")\n",
    "print(f\"Seeker wins in {seek(x, a, b)} rounds.\")"
   ]
  },
  {
   "cell_type": "markdown",
   "metadata": {
    "id": "TSPVmHZ3bRPW"
   },
   "source": [
    "What are the **left** and **right** values for each of the 4 guesses made in  `guess(56,1,100)` ? The **left** and **right** values refer to the boundaries of the range searched in the steps of the binary search. For example, the first left and right values are `1` and `100` (`guess_1` below)."
   ]
  },
  {
   "cell_type": "code",
   "execution_count": null,
   "metadata": {
    "id": "SiHTrCjS4uNi"
   },
   "outputs": [],
   "source": [
    "# FILL IN THE THE VALUES FOR [LEFT, RIGHT] BELOW (e.g. [1, 100])\n",
    "guess_1 = [# FILL IN LEFT HERE, # FILL IN RIGHT HERE]\n",
    "guess_2 = [# FILL IN LEFT HERE, # FILL IN RIGHT HERE]\n",
    "guess_3 = [# FILL IN LEFT HERE, # FILL IN RIGHT HERE]\n",
    "guess_4 = [# FILL IN LEFT HERE, # FILL IN RIGHT HERE]\n",
    "check_2_1(guess_1, guess_2, guess_3, guess_4)"
   ]
  },
  {
   "cell_type": "markdown",
   "metadata": {
    "id": "x54XEUFabRPY"
   },
   "source": [
    "### 2.2 "
   ]
  },
  {
   "cell_type": "markdown",
   "metadata": {
    "id": "j3jkZn3e3JXM"
   },
   "source": [
    "That was so fun! Let's play again!"
   ]
  },
  {
   "cell_type": "code",
   "execution_count": null,
   "metadata": {
    "id": "rg_2kkqF19rQ"
   },
   "outputs": [],
   "source": [
    "x, a, b = 1, 1, 100\n",
    "print(f\"Host: Let's play! The range is [{a}, {b}].\")\n",
    "print(f\"Seeker wins in {seek(x, a, b)} rounds.\")"
   ]
  },
  {
   "cell_type": "markdown",
   "metadata": {
    "id": "Jc5vAKxfbRPZ"
   },
   "source": [
    "What are the **left** and **right** values for each of the guesses made in  `guess(1,1,100)` ?"
   ]
  },
  {
   "cell_type": "code",
   "execution_count": null,
   "metadata": {
    "id": "WQ-cl-T14raI"
   },
   "outputs": [],
   "source": [
    "# FILL IN THE THE VALUES FOR [LEFT, RIGHT] BELOW (e.g. [150, 200])\n",
    "guess_1 = [# FILL IN LEFT HERE, # FILL IN RIGHT HERE]\n",
    "guess_2 = [# FILL IN LEFT HERE, # FILL IN RIGHT HERE]\n",
    "guess_3 = [# FILL IN LEFT HERE, # FILL IN RIGHT HERE]\n",
    "guess_4 = [# FILL IN LEFT HERE, # FILL IN RIGHT HERE]\n",
    "guess_5 = [# FILL IN LEFT HERE, # FILL IN RIGHT HERE]\n",
    "guess_6 = [# FILL IN LEFT HERE, # FILL IN RIGHT HERE]\n",
    "check_2_2(guess_1, guess_2, guess_3, guess_4, guess_5, guess_6)"
   ]
  },
  {
   "cell_type": "markdown",
   "metadata": {
    "id": "ho6ZDp7ibRPa"
   },
   "source": [
    "## Question 3: Iterative Binary Search"
   ]
  },
  {
   "cell_type": "markdown",
   "metadata": {
    "id": "ts7MTzTX4x5N"
   },
   "source": [
    "Here is an implementation of binary search using a `while` loop. Run this cell before continuing:"
   ]
  },
  {
   "cell_type": "code",
   "execution_count": null,
   "metadata": {
    "id": "CmZIasBUbRPb"
   },
   "outputs": [],
   "source": [
    "def binary_search(lst, target):\n",
    "    \"\"\"Finds target in a sorted list lst.\n",
    "    Arguments: lst (list of ints), target (int)\n",
    "    Returns: index of target in lst (int)\n",
    "    Effects: Prints the number of iterations taken to find target.\n",
    "    \"\"\"\n",
    "    cnt = 0\n",
    "    left = 0\n",
    "    right = len(lst) - 1\n",
    "\n",
    "    while left <= right:\n",
    "        # print(f\"left={left}, right={right}\") # Question 3.2\n",
    "        cnt += 1\n",
    "        mid = (left+right) // 2\n",
    "        # print(f\"Looking at {lst[mid]}\") # Question 3.1\n",
    "        if lst[mid] == target:\n",
    "            break\n",
    "        if lst[mid] > target:\n",
    "            right = mid - 1\n",
    "        else:\n",
    "            left = mid + 1\n",
    "\n",
    "    print(\"Number of iterations:\", cnt)\n",
    "    return mid\n",
    "\n",
    "\n",
    "binary_search([1, 2, 4, 6, 7, 10], 4)"
   ]
  },
  {
   "cell_type": "markdown",
   "metadata": {
    "id": "gr_6v7RsbRPe"
   },
   "source": [
    "### 3.1"
   ]
  },
  {
   "cell_type": "markdown",
   "metadata": {
    "id": "F1Z6x4F4bRPg"
   },
   "source": [
    "What values of the array are looked at when searching for `10` in the list `[-1,3,6,10,15]`? You may uncomment a line in the above code to see if you are right (just be sure to re-run that cell)."
   ]
  },
  {
   "cell_type": "code",
   "execution_count": null,
   "metadata": {
    "id": "LziT0yaM7UW9"
   },
   "outputs": [],
   "source": [
    "# YOUR CODE HERE\n",
    "values_looked_at = [# FILL IN HERE]\n",
    "check_3_1(values_looked_at)"
   ]
  },
  {
   "cell_type": "code",
   "execution_count": null,
   "metadata": {
    "id": "CJR45Dvd7YQn"
   },
   "outputs": [],
   "source": [
    "binary_search([-1, 3, 6, 10, 15], 10) # If you would like to check your answer."
   ]
  },
  {
   "cell_type": "markdown",
   "metadata": {
    "id": "XEJGHbtwbRPh"
   },
   "source": [
    "### 3.2 \n",
    "What values do `left` and `right` take when searching for `5` in the list `[-1, 0, 1, 3, 5, 7]`? You may uncomment a line in the above code to see if you are right (just be sure to re-run that cell)."
   ]
  },
  {
   "cell_type": "code",
   "execution_count": null,
   "metadata": {
    "id": "2-_MGrul8E17"
   },
   "outputs": [],
   "source": [
    "# YOUR CODE HERE\n",
    "\n",
    "left_and_right_values = # e.g. [[23, 42], [34, 15], ...]]\n",
    "check_3_2(left_and_right_values)"
   ]
  },
  {
   "cell_type": "markdown",
   "metadata": {
    "id": "Zelfydw6bRPi"
   },
   "source": [
    "### 3.3\n",
    "\n",
    "What will happen if we run `binary_search([1, 9, 8, -1, 4, 11], 4)`? Why does this not work? How would you fix it?"
   ]
  },
  {
   "cell_type": "code",
   "execution_count": null,
   "metadata": {},
   "outputs": [],
   "source": [
    "# WRITE YOUR EXPLANATION HERE (IN A COMMENT)"
   ]
  },
  {
   "cell_type": "markdown",
   "metadata": {},
   "source": [
    "### 3.4: Binary Search for Finding an Element's Index\n",
    "\n",
    "We can instead implement a more typically seen version of binary search where return the index of the element we are looking for, or determine that it does not exist. The following pseudocode breaks this down for a given a _sorted_ input `lst` and a target item in the list `target`.\n",
    "\n",
    "1. Set `left` to `0` and `right` to `len(lst) - 1`.\n",
    "2. While `left` is less than or equal to `right`, do the following:\n",
    "    * Set `mid` to the rounded down average of `left` and `right` (i.e. `(left + right) // 2`)\n",
    "    * If `lst[mid] < target`.\n",
    "        * Set `left` to `mid + 1`.\n",
    "    * Otherwise, if `lst[mid]` is greater than `target`.\n",
    "        * Set `right` to  `mid - 1`.\n",
    "    * Else, we know `lst[mid] == target`.\n",
    "        * So we return the _index_ mid.\n",
    "3. If we finish the for loop, we have not found `target` in `lst`, so we return `-1` (since `-1` is not a valid index for a list).\n",
    "\n",
    "Now, implement `binary_search_index` below."
   ]
  },
  {
   "cell_type": "code",
   "execution_count": null,
   "metadata": {},
   "outputs": [],
   "source": [
    "def binary_search_index(lst, target):\n",
    "    # YOUR CODE HERE\n",
    "\n",
    "\n",
    "# Test your code with the following, it should return 3.\n",
    "print(binary_search_index([12, 14, 25, 47, 58, 69, 72, 83, 94, 105], 47))"
   ]
  },
  {
   "cell_type": "code",
   "execution_count": null,
   "metadata": {},
   "outputs": [],
   "source": [
    "# Check your answer here\n",
    "test_list = [3, 7, 12, 15, 21, 37, 38, 42, 59, 63]\n",
    "check_3_4a(binary_search_index([3, 7, 12, 15, 21, 37, 38, 42, 59, 63], 21))\n",
    "check_3_4b(binary_search_index([3, 7, 12, 15, 21, 37, 38, 42, 59, 63], 24))"
   ]
  },
  {
   "cell_type": "markdown",
   "metadata": {},
   "source": [
    "### 3.5: Ordering Cakes\n",
    "\n",
    "Sugar & Spice receive thousands of cake orders per day. Each order is assigned an order number, such as `1569`. Orders are stored in a sorted list called `orders`. For example, `orders = [1343, 28343, 32450]`.\n",
    "\n",
    "To find out the details for a given order number, they use the function `get_details(order_num)`. For example, `get_details(1343)` returns `'Chocolate cake. Decoration: Happy Anniversary!'`\n",
    "\n",
    "Fill in the following code for `binary_search_orders` to find after which you should see a special message appear!\n",
    "\n",
    "_Hint:_ this is very similar to the previous binary search question, except in the end, you want to print the message using the index of the order number that you found.\n",
    "\n",
    "_Hint × 2:_ You shouldn't use the `get_message` function until _after_ the binary search, `get_message` should use the index returned from the binary search, only after the search is done."
   ]
  },
  {
   "cell_type": "code",
   "execution_count": 2,
   "metadata": {},
   "outputs": [
    {
     "ename": "SyntaxError",
     "evalue": "invalid syntax (3280843643.py, line 5)",
     "output_type": "error",
     "traceback": [
      "\u001b[0;36m  Cell \u001b[0;32mIn[2], line 5\u001b[0;36m\u001b[0m\n\u001b[0;31m    while # FILL THIS IN:\u001b[0m\n\u001b[0m          ^\u001b[0m\n\u001b[0;31mSyntaxError\u001b[0m\u001b[0;31m:\u001b[0m invalid syntax\n"
     ]
    }
   ],
   "source": [
    "def binary_search_orders(order_num):\n",
    "    left = 0 # DO NOT CHANGE THIS LINE\n",
    "    right = len(orders) # DO NOT CHANGE THIS LINE\n",
    "\n",
    "    while # FILL THIS IN:\n",
    "        mid = (left + right) // 2\n",
    "        if orders[mid] < order_num:\n",
    "            # FILL THIS IN \n",
    "        else:\n",
    "            if # FILL THIS IN :\n",
    "                # FILL THIS IN \n",
    "            else: \n",
    "                # FILL THIS IN \n",
    "    return -1\n",
    "        \n",
    "    \n",
    "# Test your code with the following, you should see a special message (rather than a \"Sorry ...\" message).\n",
    "print(get_message(binary_search_orders(71723)))"
   ]
  },
  {
   "cell_type": "markdown",
   "metadata": {
    "id": "mN-0pNEB0ZDU"
   },
   "source": [
    "## Question 4: `isqrt()` -- bigger, better, faster, binary-search-ier!\n",
    "\n",
    "\n",
    "\n"
   ]
  },
  {
   "cell_type": "markdown",
   "metadata": {
    "id": "GzCg-1CU9LoA"
   },
   "source": [
    "The integer square root of $x$ is the smallest integer $y$ such that $$ (y+1)^2 > x.$$\n",
    "\n",
    "Here is an implementation of the integer square root function, similar to the one we saw in week 1."
   ]
  },
  {
   "cell_type": "code",
   "execution_count": null,
   "metadata": {
    "id": "61YdUqFr9loZ"
   },
   "outputs": [],
   "source": [
    "def isqrt(x):\n",
    "    \"\"\"Computes the smallest integer y such that (y + 1) ** 2 > x.\n",
    "    Arguments: x (int)\n",
    "    Returns: (int)\n",
    "    \"\"\"\n",
    "    for y in range(x):\n",
    "        if (y + 1) ** 2 > x:\n",
    "            return y"
   ]
  },
  {
   "cell_type": "markdown",
   "metadata": {
    "id": "7XuYT7bIjn0-"
   },
   "source": [
    "### 4.1 Testing with Big Numbers"
   ]
  },
  {
   "cell_type": "markdown",
   "metadata": {
    "id": "wCCbPFXL-AEq"
   },
   "source": [
    "Let's try to use our function to find the square root of a big number. Run the following cell."
   ]
  },
  {
   "cell_type": "code",
   "execution_count": null,
   "metadata": {
    "id": "jWKpsMHLAOYJ"
   },
   "outputs": [],
   "source": [
    "big_number = 14472334024676221 # 14,472,334,024,676,221\n",
    "# isqrt(4)\n",
    "isqrt(big_number)"
   ]
  },
  {
   "cell_type": "markdown",
   "metadata": {
    "id": "HcuE5hSjETYx"
   },
   "source": [
    "While the cell is running, take a moment to reflect on this poem by Dick King-Smith:\n",
    "\n",
    "\n",
    "\n",
    "> *Patience is a virtue,* \\\n",
    "> *Virtue is a grace.*\\\n",
    "> *Grace is a little girl*\\\n",
    "> *Who would not wash her face.*\n",
    "\n"
   ]
  },
  {
   "cell_type": "markdown",
   "metadata": {
    "id": "yjBhIHatjrix"
   },
   "source": [
    "### 4.2 Speed it up!"
   ]
  },
  {
   "cell_type": "markdown",
   "metadata": {
    "id": "ENVpr7dBE8JX"
   },
   "source": [
    "Whew, that was pretty awful! Luckily, we can speed things up using _binary search_.\n",
    "\n",
    "You can think of computing the integer square root of $x$ as a search problem on the array $[0, 1, 2, ..., x]$. Our old implementation of `isqrt()` is doing _linear search_. However, since this array is sorted, we know that we can use binary search!\n",
    "\n",
    "Wait a minute... Usually, we're used to using binary search to find a given (already-known) number; for example, find the index of $71$ in the array $[-3, 21, 35, 71, 101]$. But we don't know what the integer square root is yet! So we'll do things a bit differently.\n",
    "\n",
    "Here is the pseudo-code for `fast_isqrt(x)`:\n",
    "\n",
    "* If `x < 2` (equivalent to `x ==0` or `x == 1`)\n",
    "  * return `x`\n",
    "* Otherwise, initialize variables `low = 0` and `high = x`.\n",
    "* While `low + 1 < high`:\n",
    " * Let `mid = (low + high) // 2`.\n",
    " * If `(mid + 1) ** 2 <= x`:\n",
    "   * Set `low = mid`.\n",
    " * Else:\n",
    "   * Set `high = mid`.\n",
    "* Return `low`.\n"
   ]
  },
  {
   "cell_type": "code",
   "execution_count": 1,
   "metadata": {
    "id": "_uZR3ZtrJnG5"
   },
   "outputs": [],
   "source": [
    "def fast_isqrt(x):\n",
    "    \"\"\"Computes the smallest integer y such that (y + 1) ** 2 > x.\n",
    "    Arguments: x (int)\n",
    "    Returns: (int)\n",
    "    \"\"\"\n",
    "    # Your code here"
   ]
  },
  {
   "cell_type": "markdown",
   "metadata": {
    "id": "pqc5AOEJK7c6"
   },
   "source": [
    "Now let's try again."
   ]
  },
  {
   "cell_type": "code",
   "execution_count": null,
   "metadata": {
    "id": "txz3GqlDJ6Zy"
   },
   "outputs": [],
   "source": [
    "fast_isqrt(big_number)"
   ]
  },
  {
   "cell_type": "markdown",
   "metadata": {
    "id": "1yvuVg94LATs"
   },
   "source": [
    "Much better! Let's celebrate with a tiny poem for our tiny runtime; this one is by Ogden Nash, and is title _Fleas_.\n",
    "> _Adam_ \\\n",
    "> _Had'em_"
   ]
  },
  {
   "cell_type": "markdown",
   "metadata": {
    "id": "Ggry9OwjL3IQ"
   },
   "source": [
    "## Optional: Faster Logarithm"
   ]
  },
  {
   "cell_type": "markdown",
   "metadata": {
    "id": "5P_LENdyj16W"
   },
   "source": [
    "### O.1 Applying Binary Search\n"
   ]
  },
  {
   "cell_type": "markdown",
   "metadata": {
    "id": "dWsE9C2fL9kZ"
   },
   "source": [
    "Use binary-search to speed up our implementation of `ilog(x, a)`. Here is the pseudo-code.\n",
    "\n",
    "* Initialize variables `low = 0` and `high = x`.\n",
    "* While `low + 1 < high`:\n",
    " * Let `mid = (low + high) // 2`.\n",
    " * If `2 ** mid <= x`:\n",
    "   * Set `low = mid`.\n",
    " * Else:\n",
    "   * Set `high = mid`.\n",
    "* Return `low`."
   ]
  },
  {
   "cell_type": "code",
   "execution_count": null,
   "metadata": {
    "id": "ZzTXKdIuMM29"
   },
   "outputs": [],
   "source": [
    "def fast_ilog_binary(x):\n",
    "    \"\"\"Finds the smallest integer y for which 2 ** (y+1) > x.\n",
    "    Arguments: x (int), a (positive integer)\n",
    "    Returns: (int)\n",
    "    \"\"\""
   ]
  },
  {
   "cell_type": "code",
   "execution_count": null,
   "metadata": {
    "id": "GvqO1QU5clQ_"
   },
   "outputs": [],
   "source": [
    "check_o_1a(fast_ilog_binary(2))\n",
    "check_o_1b(fast_ilog_binary(1))\n",
    "check_o_1c(fast_ilog_binary(4))\n",
    "check_o_1d(fast_ilog_binary(8))\n",
    "check_o_1e(fast_ilog_binary(10))\n",
    "check_o_1f(fast_ilog_binary(100))"
   ]
  },
  {
   "cell_type": "markdown",
   "metadata": {
    "id": "0a85lAQAj7IW"
   },
   "source": [
    "### O.2 Did it really speed up?"
   ]
  },
  {
   "cell_type": "markdown",
   "metadata": {
    "id": "W9WEW9pjdAoR"
   },
   "source": [
    "So you have a faster implementation of the binary integer logarithm. Fantastic! But does it matter? That is, can you find a number $x$ for which `ilog_binary(x)` takes a while (say, 30 seconds) to run, but `fast_ilog_binary(x)` is quick (say, under 1 second)?"
   ]
  },
  {
   "cell_type": "code",
   "execution_count": null,
   "metadata": {
    "colab": {
     "base_uri": "https://localhost:8080/"
    },
    "id": "vltQ9CY5eCsY",
    "outputId": "97946f3a-5c51-49b6-a22e-2c444744d0e4"
   },
   "outputs": [],
   "source": [
    "big_number = # Choose a big number\n",
    "%timeit -r1 -n1 ilog_binary(big_number)\n",
    "%timeit -r1 -n1 fast_ilog_binary(big_number)"
   ]
  },
  {
   "cell_type": "markdown",
   "metadata": {
    "id": "HI5uUQepfLiS"
   },
   "source": [
    "If you're punching in big numbers, then you'll probably notice that `ilog_binary()` (not the fast version) returns in under one second even for very large inputs.\n",
    "\n",
    "Why do you think that is? Hint / answer: the number of iterations in `ilog_binary()` is proportional to the _output_. For example, since `ilog_binary(2 ** 265)` outputs `265`, then only $\\log_2(2^{265}) = 265$ iterations will be run in the function -- despite the fact that $2^{265}$ is more than the number of atoms in the universe!\n",
    "\n",
    " Since the output is the integer logarithm of the input, we see that the logarithm of even really big numbers is still very small!\n",
    " \n",
    "Recalling our discussion of time complexity from week 2, we can say that `ilog_binary()` has a $O(\\log (n))$ or logarithmic runtime.\n",
    "\n",
    "Interestingly, `fast_ilog_binary` has the same time complexity, $O(\\log(n))$. So why is `fast_ilog_binary` slower than `ilog_binary`? Well, `fast_ilog_binary` is doing some extra work through each iteration, we call this extra _overhead_."
   ]
  },
  {
   "cell_type": "code",
   "execution_count": null,
   "metadata": {
    "id": "7ReA4T3Oj-lS"
   },
   "outputs": [],
   "source": [
    "# Your thoughts here"
   ]
  }
 ],
 "metadata": {
  "colab": {
   "collapsed_sections": [],
   "name": "probs11a",
   "provenance": []
  },
  "kernelspec": {
   "display_name": "Python 3 (ipykernel)",
   "language": "python",
   "name": "python3"
  },
  "language_info": {
   "codemirror_mode": {
    "name": "ipython",
    "version": 3
   },
   "file_extension": ".py",
   "mimetype": "text/x-python",
   "name": "python",
   "nbconvert_exporter": "python",
   "pygments_lexer": "ipython3",
   "version": "3.11.3"
  }
 },
 "nbformat": 4,
 "nbformat_minor": 4
}
