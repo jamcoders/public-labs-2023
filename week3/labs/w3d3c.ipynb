{
 "cells": [
  {
   "cell_type": "markdown",
   "metadata": {},
   "source": [
    "![Reminder to Save](https://github.com/jamcoders/jamcoders-public-2023/blob/main/images/warning.png?raw=true)"
   ]
  },
  {
   "cell_type": "code",
   "execution_count": 1,
   "metadata": {},
   "outputs": [],
   "source": [
    "# Run this cell first!\n",
    "\n",
    "%config InteractiveShell.ast_node_interactivity=\"none\"\n",
    "import sys\n",
    "if 'google.colab' in sys.modules:\n",
    "    !pip install --force-reinstall git+https://github.com/jamcoders/jamcoders-public-2023.git --quiet\n",
    "from jamcoders.base_utils import *"
   ]
  },
  {
   "attachments": {},
   "cell_type": "markdown",
   "metadata": {},
   "source": [
    "# Week 2, Day 3 Challenge Problems\n",
    "\n",
    "**All of today's exercises should use recursion** unless the question says otherwise. As taught in lecture, make sure to always define your base case(s) and recursive case(s)."
   ]
  },
  {
   "attachments": {},
   "cell_type": "markdown",
   "metadata": {},
   "source": [
    "## 1. Pyramid Construction\n",
    "### 3.1 `print_pyramid`\n",
    "\n",
    "Print the following pyramids for the corresponding $N$'s.\n",
    "```\n",
    "N = 1:\n",
    "#\n",
    "#\n",
    "``` \n",
    "\n",
    "```\n",
    "N = 2:\n",
    "# #\n",
    "# \n",
    "#\n",
    "# # \n",
    "```\n",
    "\n",
    "```\n",
    "N = 3:\n",
    "# # #\n",
    "# #\n",
    "#\n",
    "#\n",
    "# # \n",
    "# # #\n",
    "``` \n",
    "\n",
    "*Hint*: Notice that the `N=2` pyramid is contained within the `N=3` pyramid.\n",
    "\n",
    "Test your result with different values of `N`.\n"
   ]
  },
  {
   "cell_type": "code",
   "execution_count": null,
   "metadata": {},
   "outputs": [],
   "source": [
    "def print_pyramid_desc_asc(N):\n",
    "    \"\"\"\n",
    "    Prints a descending-ascending pyramid with height N*2.\n",
    "    \n",
    "    Args: \n",
    "        N (int):\n",
    "            Half the height of the pyramid.\n",
    "    \"\"\"\n",
    "    # Write your base case here\n",
    "\n",
    "    # Write your recursive/other cases here"
   ]
  },
  {
   "attachments": {},
   "cell_type": "markdown",
   "metadata": {},
   "source": [
    "### 1.2 `print_pyramid_2`\n",
    "\n",
    "Print the following pyramids for the corresponding heights.\n",
    "```\n",
    "height = 1:\n",
    "#\n",
    "#\n",
    "``` \n",
    "\n",
    "```\n",
    "height = 2:\n",
    "#\n",
    "# #\n",
    "# #\n",
    "# \n",
    "```\n",
    "\n",
    "```\n",
    "height = 3:\n",
    "#  \n",
    "# #\n",
    "# # #\n",
    "# # #\n",
    "# # \n",
    "# \n",
    "``` \n",
    "and so on.\n",
    "\n",
    "Test your result with different heights.\n",
    "\n",
    "*Hint*: you might need to define a helper function that takes two arguments."
   ]
  },
  {
   "cell_type": "code",
   "execution_count": null,
   "metadata": {},
   "outputs": [],
   "source": [
    "def print_pyramid_asc_desc(height):\n",
    "    \"\"\"\n",
    "    Prints an ascending-descending pyramid with height N*2.\n",
    "    \n",
    "    Args: \n",
    "        N (int):\n",
    "            Half the height of the pyramid.\n",
    "    \"\"\"\n",
    "    # Write your base case here\n",
    "\n",
    "    # Write your recursive/other cases here"
   ]
  },
  {
   "attachments": {},
   "cell_type": "markdown",
   "metadata": {},
   "source": [
    "## 2. More Counting!\n",
    "\n",
    "### 2.1 How many assignments?\n",
    "\n",
    "Suppose there are $n$ students who are in JamCoders this year and the computer lab has $k$ computers. We have more computers than students, so $k \\geq n$. In how many different ways can the $k$ computers be occupied by the students? \n",
    "\n",
    "*Hint:* Suppose we had the same number of students as computers ($k$). As we saw earlier, there are $k!$ different ways to assign those $k$ students to those computers. Call these assignments \"full\" assignments.\n",
    "\n",
    "Now, what if we only had $n$ students? Given any full assignment of $k$ students, we could replace $k - n$ students with blank slots. That would leave us with a \"blank\" assignment of $n$ students and $k - n$ blank slots.\n",
    "\n",
    "For example, let $k = 5$ and $n = 3$. Here is a sample \"full\" assignment:\n",
    "\n",
    "```\n",
    "Computers: 1  2  3  4  5\n",
    "Students:  5  2  3  1  4\n",
    "\n",
    "# Student 5 is assigned to computer 1, student 2 is assigned to computer 2, and\n",
    "so on.\n",
    "```\n",
    "\n",
    "And by removing $k - n = 2$ students (in this example, let's always choose students `5` and `4`), we can produce an assignment with blanks:\n",
    "\n",
    "```\n",
    "Computers: 1  2  3  4  5\n",
    "Students:     2  3  1  \n",
    "```\n",
    "\n",
    "Notice that there are multiple \"full\" assignments that give us the same \"blank\" assignment. Indeed, when you remove students `5` and `4` from the following different full assignment, you arrive at the same \"blank\" assignment as above.\n",
    "\n",
    "```\n",
    "Computers: 1  2  3  4  5\n",
    "Students:  4  2  3  1  5\n",
    "\n",
    "# The same full assignment as above except with 5 and 4 swapped. But when 4 and\n",
    "5 are removed, we arrive at the same blank assignment (try it!).\n",
    "```\n",
    "\n",
    "Recall again that there are $k!$ full assignments. For every blank assignment, how many corresponding full assignments are there? Can you express that number in terms of factorial ($!$) as well? How can you combine the number of full assignments with the number of full assignments that \"map\" to a blank assignment to find the number of blank assignments?\n",
    "\n",
    "For this part, your solution does not need to be recursive."
   ]
  },
  {
   "cell_type": "code",
   "execution_count": null,
   "metadata": {},
   "outputs": [],
   "source": [
    "from math import factorial\n",
    "\n",
    "def num_comp_assigns(n, k):\n",
    "    \"\"\"\n",
    "    Computes the number of possible assignments of n students to k computers.\n",
    "\n",
    "    Assume there are at least as many computers as students.\n",
    "\n",
    "    Args: \n",
    "        n (int):\n",
    "            The number of students.\n",
    "        k (int):\n",
    "            The number of computers.\n",
    "\n",
    "    Returns (int): \n",
    "        The number of possible assignments.\n",
    "    \"\"\""
   ]
  },
  {
   "cell_type": "code",
   "execution_count": null,
   "metadata": {},
   "outputs": [],
   "source": [
    "assert_equal(got=num_comp_assigns(3, 5),want= 10)\n",
    "assert_equal(got=num_comp_assigns(10, 10), want=1)\n",
    "assert_equal(got=num_comp_assigns(1, 5), want=5)\n",
    "assert_equal(got=num_comp_assigns(0, 100), want=1)"
   ]
  },
  {
   "attachments": {},
   "cell_type": "markdown",
   "metadata": {},
   "source": [
    "### 2.2\n",
    "\n",
    "Did your solution to 2.1 use recursion? Why or why not?"
   ]
  },
  {
   "cell_type": "code",
   "execution_count": null,
   "metadata": {},
   "outputs": [],
   "source": [
    "ANSWER_2_2 = \"Type your answer in this string.\""
   ]
  },
  {
   "cell_type": "code",
   "execution_count": null,
   "metadata": {},
   "outputs": [],
   "source": [
    "assert_equal(got=(ANSWER_2_2 == \"Type your answer in this string.\"),want= False)"
   ]
  },
  {
   "attachments": {},
   "cell_type": "markdown",
   "metadata": {},
   "source": [
    "### 2.3\n",
    "\n",
    "Now write a recursive function `recur_num_comp_assigns` that computes the same value but **DOES NOT** use the function factorial."
   ]
  },
  {
   "cell_type": "code",
   "execution_count": null,
   "metadata": {},
   "outputs": [],
   "source": [
    "def recur_num_comp_assigns(n, k):\n",
    "    \"\"\"\n",
    "    Computes the number of possible assignments of n students to k computers.\n",
    "\n",
    "    Do NOT use the factorial() function.\n",
    "    Assume there are at least as many computers as students.\n",
    "\n",
    "    Args: \n",
    "        n (int):\n",
    "            The number of students.\n",
    "        k (int):\n",
    "            The number of computers.\n",
    "\n",
    "    Returns (int): \n",
    "        The number of possible assignments.\n",
    "    \"\"\""
   ]
  },
  {
   "cell_type": "code",
   "execution_count": null,
   "metadata": {},
   "outputs": [],
   "source": [
    "assert_equal(got=recur_num_comp_assigns(3, 5), want=10)\n",
    "assert_equal(got=recur_num_comp_assigns(7, 10), want=120)\n",
    "assert_equal(got=recur_num_comp_assigns(10, 10), want=1)\n",
    "assert_equal(got=recur_num_comp_assigns(0, 5), want=1)"
   ]
  },
  {
   "attachments": {},
   "cell_type": "markdown",
   "metadata": {},
   "source": [
    "Does this remind you of any other exercise you've seen today?"
   ]
  },
  {
   "attachments": {},
   "cell_type": "markdown",
   "metadata": {},
   "source": [
    "## 3 Ternary Search\n",
    "\n",
    "For this section, you do not need to use recursion.\n",
    "\n",
    "Let's play another game with functions. This time, consider g(n):"
   ]
  },
  {
   "cell_type": "code",
   "execution_count": null,
   "metadata": {},
   "outputs": [],
   "source": [
    "# ENSURE YOU FIRST RUN THIS FUNCTION\n",
    "def g(n):\n",
    "    return n*n - 80*n + 5"
   ]
  },
  {
   "attachments": {},
   "cell_type": "markdown",
   "metadata": {},
   "source": [
    "We can graph it to see what it looks like:"
   ]
  },
  {
   "cell_type": "code",
   "execution_count": null,
   "metadata": {},
   "outputs": [],
   "source": [
    "# DO NOT EDIT THIS CELL\n",
    "from matplotlib import pyplot as plt"
   ]
  },
  {
   "cell_type": "code",
   "execution_count": null,
   "metadata": {},
   "outputs": [],
   "source": [
    "# DO NOT EDIT THIS CELL\n",
    "plt.scatter([i for i in range(1, 100)], [g(i) for i in range(1, 100)])\n",
    "plt.title('Values of g')\n",
    "plt.xlabel('n')\n",
    "plt.ylabel('g(n)')\n",
    "plt.show()"
   ]
  },
  {
   "attachments": {},
   "cell_type": "markdown",
   "metadata": {},
   "source": [
    "We can confirm visually that g(n) is minimized at n=40. But what if we wanted to answer this for any function?\n",
    "\n",
    "More precisely, given a function f that takes in integers and returns integers, can we determine an (integer) point that minimizes the function value, if it exists?\n",
    "\n",
    "The answer to that question is a little complicated (f can look really weird), so let's assume that f is a positive quadratic function: $f(n) = a \\times n^2 + b \\times n + c$ for a > 0. Functions like this are guaranteed to have an integer point that minimizes the function value (among all integer points). Further, let's assume we are also given some range [n1, n2] such that a point n that minimizes f(n) must satisfy n1 <= n <= n2.\n",
    "\n",
    "Note that with a bit of calculus this can be answered with a simple equation. But we want to use other techniques that will generalize to more functions, so you must use the techniques we describe below.\n",
    "\n",
    "Now we can write code to find the minimizer.\n"
   ]
  },
  {
   "attachments": {},
   "cell_type": "markdown",
   "metadata": {},
   "source": [
    "### 3.1 `linear_minimizer`\n",
    "\n",
    "As a warm-up, write code that searches linearly for the minimizer."
   ]
  },
  {
   "cell_type": "code",
   "execution_count": null,
   "metadata": {},
   "outputs": [],
   "source": [
    "def f(n):\n",
    "    # Do not modify this function\n",
    "    return 731*n*n - 7501*n + 1984\n",
    "\n",
    "def linear_minimizer(n1, n2):\n",
    "    \"\"\"\n",
    "    Returns an integer n such that n1 <= n <= n2 and f(n) <= f(k) for all n1 <= k <= n2.\n",
    "    In other words, return n such that f(n) is minimized on the range [n1, n2].\n",
    "\n",
    "    Args:\n",
    "        n1 (int): The left side of the range.\n",
    "        n2 (int): The right side of the range.\n",
    "\n",
    "    Returns (int): \n",
    "        The minimizer in this range.\n",
    "    \"\"\"\n",
    "    "
   ]
  },
  {
   "cell_type": "code",
   "execution_count": null,
   "metadata": {},
   "outputs": [],
   "source": [
    "assert_equal(got=linear_minimizer(-100, 100), want=5)"
   ]
  },
  {
   "attachments": {},
   "cell_type": "markdown",
   "metadata": {},
   "source": [
    "### 3.2 `ternary_minimizer`\n",
    "\n",
    "Note: This section is pretty hard. Try drawing it out on paper as you read through the idea.\n",
    "\n",
    "This works well when our range to check is relatively small, but what if we need to check quadrillions of inputs? We need a faster approach.\n",
    "\n",
    "For this, we will use ternary search.\n",
    "\n",
    "Consider dividing our range into three pieces: n1 to x, x to y, y to n2, for n1 < x < y < n2. If f(x) > f(y), we know that the minimizer cannot come before x: if it came before, then we would have f(x) <= f(y). Similarly, if we have f(x) < f(y), we know that the minimizer cannot come after y. If f(x) = f(y), then the minimizer must be in between x and y.\n",
    "\n",
    "So we can use this to refine our search area. If f(x) > f(y), set n1 = x. Otherwise, set n2 = y. If we calculate x = floor(n1 + (n2-n1)/3) and y = ceil(n1 + 2*(n2-n1)/3), we divide our range into a smaller range of roughly two thirds the size. When the range is small enough that the size no longer decreases, then we can just check all values left in the range (like we did in the `linear_minimizer` function). \n",
    "\n",
    "Implement the above idea."
   ]
  },
  {
   "cell_type": "code",
   "execution_count": null,
   "metadata": {},
   "outputs": [],
   "source": [
    "def f(n):\n",
    "    # Do not modify this function\n",
    "    return 13*n*n - 1309409398734181*n + 10\n",
    "\n",
    "from math import floor, ceil\n",
    "def ternary_minimizer(n1, n2):\n",
    "    \"\"\"\n",
    "    Returns an integer n such that n1 <= n <= n2 and f(n) <= f(k) for all n1 <= k <= n2.\n",
    "    In other words, return n such that f(n) is minimized on the range [n1, n2].\n",
    "\n",
    "    Args:\n",
    "        n1 (int): The left side of the range.\n",
    "        n2 (int): The right side of the range.\n",
    "\n",
    "    Returns (int): \n",
    "        The minimizer in this range.\n",
    "    \"\"\"\n",
    "\n",
    "    "
   ]
  },
  {
   "cell_type": "code",
   "execution_count": null,
   "metadata": {},
   "outputs": [],
   "source": [
    "assert_equal(got=ternary_minimizer(-10000000000000000, 1000000000000000), want=50361899951315)"
   ]
  },
  {
   "attachments": {},
   "cell_type": "markdown",
   "metadata": {},
   "source": [
    "Ternary search works for any function that looks kind of like a quadratic: decreasing to a minimum and then increasing after. These functions are called *unimodal*."
   ]
  }
 ],
 "metadata": {
  "kernelspec": {
   "display_name": "Python 3",
   "language": "python",
   "name": "python3"
  },
  "language_info": {
   "codemirror_mode": {
    "name": "ipython",
    "version": 3
   },
   "file_extension": ".py",
   "mimetype": "text/x-python",
   "name": "python",
   "nbconvert_exporter": "python",
   "pygments_lexer": "ipython3",
   "version": "3.10.11"
  },
  "orig_nbformat": 4
 },
 "nbformat": 4,
 "nbformat_minor": 2
}
