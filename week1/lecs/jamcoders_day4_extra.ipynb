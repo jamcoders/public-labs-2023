{
 "cells": [
  {
   "cell_type": "markdown",
   "id": "7ff50129-fe7b-47b7-a440-a7d11407ed86",
   "metadata": {
    "id": "iBQKe5SYbG_P",
    "slideshow": {
     "slide_type": "slide"
    },
    "tags": []
   },
   "source": [
    "# While loops"
   ]
  },
  {
   "cell_type": "markdown",
   "id": "0dfccdb2-ec2a-44de-901d-433a7e87cbec",
   "metadata": {
    "id": "z5RXrRXLbG_P",
    "slideshow": {
     "slide_type": "slide"
    }
   },
   "source": [
    "A _while_ loop has the form:\n",
    "```python\n",
    "while CONDITION:\n",
    "    LOOP_BODY\n",
    "```"
   ]
  },
  {
   "cell_type": "code",
   "execution_count": null,
   "id": "fd4df722-405d-46c9-8c60-5b496e5ca26e",
   "metadata": {
    "id": "N4dY0W0ObG_P",
    "slideshow": {
     "slide_type": "slide"
    }
   },
   "outputs": [],
   "source": [
    "i = 0\n",
    "while i < 10:\n",
    "    print(i)\n",
    "    i = i+1\n",
    "print('Loop completed!')"
   ]
  },
  {
   "cell_type": "code",
   "execution_count": null,
   "id": "71c98a96-a19b-4a64-8763-62162d12cd34",
   "metadata": {
    "id": "OUtJANogbG_Q",
    "slideshow": {
     "slide_type": "slide"
    }
   },
   "outputs": [],
   "source": [
    "# If CONDITION is False at the start of the loop, the loop body will not execute!\n",
    "\n",
    "i = 0\n",
    "while i < 0:\n",
    "    print(i)\n",
    "    i += 1\n",
    "print('Loop completed!')"
   ]
  },
  {
   "cell_type": "code",
   "execution_count": null,
   "id": "b10741e1-b702-4ab2-8720-2b1a3e2b780a",
   "metadata": {
    "id": "jKgPkEQTbG_Q",
    "slideshow": {
     "slide_type": "slide"
    }
   },
   "outputs": [],
   "source": [
    "# WARNING!!!!\n",
    "# You can have loops that run forever.\n",
    "# These are really really bad.\n",
    "# Make sure the loop terminates.\n",
    "\n",
    "while 3>2: # Could also do while True\n",
    "    print('hi!')"
   ]
  },
  {
   "cell_type": "code",
   "execution_count": null,
   "id": "1212958b-11a3-44e9-9dfe-799ae1502408",
   "metadata": {
    "id": "57-nvj_RbG_Q",
    "slideshow": {
     "slide_type": "slide"
    }
   },
   "outputs": [],
   "source": [
    "# WARNING!!!!!\n",
    "# Even if you don't mean to, the loop can run forever.\n",
    "# DO NOT do this.\n",
    "\n",
    "i = 0\n",
    "while i < 10:\n",
    "    print(i)\n",
    "print('Loop completed!') # This will never execute!"
   ]
  },
  {
   "cell_type": "code",
   "execution_count": null,
   "id": "01ccc49a-c709-4875-8d22-0a3fa15ccf37",
   "metadata": {
    "id": "XyVWkIL8bG_R",
    "slideshow": {
     "slide_type": "slide"
    }
   },
   "outputs": [],
   "source": [
    "# You use \"break\" in while loops\n",
    "# The moment \"break\" happens, the loop stops\n",
    "i = 0\n",
    "while True:\n",
    "    if i > 10:\n",
    "        break\n",
    "    print(i)\n",
    "    i += 1"
   ]
  },
  {
   "cell_type": "code",
   "execution_count": null,
   "id": "c07097d1-48d5-45c5-a928-0d87c923649c",
   "metadata": {
    "slideshow": {
     "slide_type": "slide"
    }
   },
   "outputs": [],
   "source": [
    "while True:\n",
    "    print(\"I will print a star: *\")\n",
    "    answer = input(\"If you are tired of this type q:\")\n",
    "    if answer==\"q\": break"
   ]
  },
  {
   "cell_type": "markdown",
   "id": "c0ab35e1-7eaa-4460-85d3-9f3e64e24166",
   "metadata": {
    "slideshow": {
     "slide_type": "slide"
    }
   },
   "source": [
    "__Exercise:__ One US Dollar is worth today 153.8 Jamaican Dollars.  Write a function `jmd2usd` that takes as input a number `x` which is the price of something in Jamaican Dollars, and returns the price of it in US dollars.\n",
    "\n",
    "For example `jmd2usd(153.8)` should return 1"
   ]
  },
  {
   "cell_type": "code",
   "execution_count": null,
   "id": "425ac380-200f-41bf-ac65-f4e00c858d2b",
   "metadata": {
    "slideshow": {
     "slide_type": "fragment"
    },
    "tags": []
   },
   "outputs": [],
   "source": [
    "def jmd2usd(x):\n",
    "    ..."
   ]
  },
  {
   "cell_type": "code",
   "execution_count": null,
   "id": "a81bdc9a-d1fa-4c18-b428-c3e1d9697ac1",
   "metadata": {
    "slideshow": {
     "slide_type": "fragment"
    }
   },
   "outputs": [],
   "source": [
    "def jmd2usd(x):\n",
    "    return x / 153.8"
   ]
  },
  {
   "cell_type": "code",
   "execution_count": null,
   "id": "836dd28e-398e-4420-a110-0d3e9299c878",
   "metadata": {
    "slideshow": {
     "slide_type": "fragment"
    }
   },
   "outputs": [],
   "source": [
    "print(jmd2usd(100))"
   ]
  },
  {
   "cell_type": "markdown",
   "id": "38fc0d8e-72a7-40d2-9eb0-b0fcb7c96bb0",
   "metadata": {
    "slideshow": {
     "slide_type": "slide"
    }
   },
   "source": [
    "__Input statement:__ get input from user. Returns it as a string."
   ]
  },
  {
   "cell_type": "code",
   "execution_count": null,
   "id": "fd3e0070-1308-45ef-a7df-64a5a25f69e6",
   "metadata": {
    "slideshow": {
     "slide_type": "fragment"
    }
   },
   "outputs": [],
   "source": [
    "amount = input(\"What amount you would like to convert from JMD to USD?\")\n",
    "print(f\"This is worth ${jmd2usd(amount)} USD\")"
   ]
  },
  {
   "cell_type": "code",
   "execution_count": null,
   "id": "e1e0c9c1-0291-48c0-b008-90df4a57bfce",
   "metadata": {
    "slideshow": {
     "slide_type": "slide"
    },
    "tags": []
   },
   "outputs": [],
   "source": [
    "amount = input(\"What amount you would like to convert from JMD to USD?\")\n",
    "amount = float(amount)\n",
    "print(f\"This is worth ${jmd2usd(amount):.2f} USD\")"
   ]
  },
  {
   "cell_type": "markdown",
   "id": "a1652377-b08d-42ad-a5b0-d4d4aecfd7df",
   "metadata": {
    "slideshow": {
     "slide_type": "slide"
    }
   },
   "source": [
    "# Indexing lists and palindromes"
   ]
  },
  {
   "cell_type": "markdown",
   "id": "1a095db8-fc92-443c-90ce-c259f5250b91",
   "metadata": {
    "slideshow": {
     "slide_type": "slide"
    }
   },
   "source": [
    "Reminder: if `L` is a list then `L[-1]` is the last element of the list, and `L[-2]` is the one before last elements, etc.. Same for _strings_."
   ]
  },
  {
   "cell_type": "code",
   "execution_count": null,
   "id": "17c1f211-8e39-4fd3-a384-1da79d204973",
   "metadata": {
    "slideshow": {
     "slide_type": "fragment"
    }
   },
   "outputs": [],
   "source": [
    "L = [\"a\",\"b\",\"c\",\"d\",\"e\"]\n",
    "print(f\"L[-1]={L[-1]}\")\n",
    "print(f\"L[-2]={L[-2]}\")"
   ]
  },
  {
   "cell_type": "code",
   "execution_count": null,
   "id": "43087de3-858a-46d8-8614-8e37c1dbdb3d",
   "metadata": {
    "slideshow": {
     "slide_type": "fragment"
    }
   },
   "outputs": [],
   "source": [
    "x = \"boaz\"\n",
    "print(x[-1])"
   ]
  },
  {
   "cell_type": "markdown",
   "id": "eb3eb23c-e018-4c7a-9e11-949d2a82b579",
   "metadata": {
    "slideshow": {
     "slide_type": "slide"
    }
   },
   "source": [
    "__Question:__ A _Palindrome_ is a string that is the same if you read it forward and backwards:\n",
    "\n",
    "Which one is a Palindrome?\n",
    "\n",
    "* `kayak`?\n",
    "\n",
    "* `banana`?\n",
    "\n",
    "* `racecar`?\n",
    "\n",
    "* `aaabaaa`?"
   ]
  },
  {
   "cell_type": "markdown",
   "id": "a06a5be8-7859-46ca-bdae-31a5947343e5",
   "metadata": {
    "slideshow": {
     "slide_type": "slide"
    }
   },
   "source": [
    "Write a function `pal3(s)` that takes as input a string `s` of length 3 and returns `True` if `s` is a palindrome and `False` otherwise.\n",
    "\n",
    "For example: `pal3(\"lol\")` is `True` but `pal3(\"aab\")` is `False`"
   ]
  },
  {
   "cell_type": "code",
   "execution_count": null,
   "id": "d12f1503-09a7-483b-83b7-e8335238e8b9",
   "metadata": {
    "slideshow": {
     "slide_type": "fragment"
    }
   },
   "outputs": [],
   "source": [
    "def pal3(s):\n",
    "    ..."
   ]
  },
  {
   "cell_type": "code",
   "execution_count": null,
   "id": "e4a63b34-7933-4031-af07-7a65e099dc53",
   "metadata": {
    "slideshow": {
     "slide_type": "skip"
    }
   },
   "outputs": [],
   "source": [
    "def pal3(s):\n",
    "    if s[0]==s[-1]:\n",
    "        return True\n",
    "    else: # can also skip else\n",
    "        return False"
   ]
  },
  {
   "cell_type": "code",
   "execution_count": null,
   "id": "a257955a-25b7-4739-9f81-05a0bd9e534a",
   "metadata": {
    "slideshow": {
     "slide_type": "fragment"
    }
   },
   "outputs": [],
   "source": [
    "print(pal3(\"lol\"))\n",
    "print(pal3(\"bbc\"))"
   ]
  },
  {
   "cell_type": "markdown",
   "id": "69a468b2-455c-42b4-8039-13bb5c69bd07",
   "metadata": {
    "slideshow": {
     "slide_type": "slide"
    }
   },
   "source": [
    "Write a function `pal4(s)` that takes as input `s` of length 4, and returns `True` if `s` is a Palindrome and `False` otherwise. Use `if` of an `and`  of two conditions.\n",
    "\n",
    "Something like:\n",
    "\n",
    "```python\n",
    "def pal4(s):\n",
    "    if COND1 and COND2:\n",
    "        DO SOMETHING\n",
    "    else:\n",
    "        DO SOMETHING ELSE\n",
    "```"
   ]
  },
  {
   "cell_type": "code",
   "execution_count": null,
   "id": "3220e992-afbb-42cf-8054-4f3f0dffbc0f",
   "metadata": {
    "slideshow": {
     "slide_type": "fragment"
    }
   },
   "outputs": [],
   "source": [
    "def pal4(s):\n",
    "    ..."
   ]
  },
  {
   "cell_type": "code",
   "execution_count": null,
   "id": "671844de-4117-4038-8383-64db36cca5a1",
   "metadata": {
    "slideshow": {
     "slide_type": "skip"
    }
   },
   "outputs": [],
   "source": [
    "def pal4(s):\n",
    "    if (s[0]==s[-1]) and (s[1]==s[-2]):\n",
    "        return True\n",
    "    return False"
   ]
  },
  {
   "cell_type": "code",
   "execution_count": null,
   "id": "f94cf400-ab2d-4cf0-89c6-4560c28df3ce",
   "metadata": {
    "slideshow": {
     "slide_type": "fragment"
    }
   },
   "outputs": [],
   "source": [
    "print(pal4(\"abba\"))\n",
    "print(pal4(\"boaz\"))"
   ]
  },
  {
   "cell_type": "code",
   "execution_count": null,
   "id": "49a5a4f9-99db-4867-b759-9b420a009aaa",
   "metadata": {
    "slideshow": {
     "slide_type": "slide"
    }
   },
   "outputs": [],
   "source": [
    "# version with _or_:\n",
    "def pal4_or(s):\n",
    "    if s[0]!=s[-1] or s[1]!=s[-2]:\n",
    "        return False\n",
    "    return True"
   ]
  },
  {
   "cell_type": "code",
   "execution_count": null,
   "id": "a455bded-ba9d-4582-9a98-1d40ea44ff4e",
   "metadata": {
    "slideshow": {
     "slide_type": "fragment"
    }
   },
   "outputs": [],
   "source": [
    "check_words = [\"abba\", \"boaz\",  \"naan\", \"help\", \"deed\"]\n",
    "for word in check_words:\n",
    "    if pal4_or(word)==pal4(word):\n",
    "        print(f\"pal4 and pal4_or agree on {word}\")\n",
    "    else:\n",
    "        print(f\"pal4and pal4_or disagree on {word}!!!!\")\n",
    "    "
   ]
  },
  {
   "cell_type": "markdown",
   "id": "08bf89ee",
   "metadata": {
    "slideshow": {
     "slide_type": "slide"
    }
   },
   "source": [
    "# Secret codes \n",
    "\n",
    "We will write a function `enc(s)` that takes a string `s` and outputs it to a string where `a` is replaced with `z`, `b` is replaced with `y`, and so on\n",
    "\n",
    "\n",
    "So `enc(car)` is `yaj`."
   ]
  },
  {
   "cell_type": "code",
   "execution_count": null,
   "id": "7744eb82",
   "metadata": {
    "slideshow": {
     "slide_type": "fragment"
    }
   },
   "outputs": [],
   "source": [
    "from string import ascii_letters\n",
    "print(ascii_letters)"
   ]
  },
  {
   "cell_type": "code",
   "execution_count": null,
   "id": "889ed4f7",
   "metadata": {
    "slideshow": {
     "slide_type": "fragment"
    }
   },
   "outputs": [],
   "source": [
    "# If a and b are strings, then a.find(b) gives the first position where b is in a. Otherwise it gives -1\n",
    "\n",
    "x = \"abcdefghijklmnop\"\n",
    "y = \"l\"\n",
    "print(x.find(y))"
   ]
  },
  {
   "cell_type": "code",
   "execution_count": null,
   "id": "1bbd9961",
   "metadata": {
    "slideshow": {
     "slide_type": "fragment"
    }
   },
   "outputs": [],
   "source": [
    "lowercase = ascii_letters[:26]\n",
    "print(lowercase)\n",
    "x = lowercase + \"a\"\n",
    "print(x)\n",
    "x.find(\"a\")"
   ]
  },
  {
   "cell_type": "markdown",
   "id": "11aea7d7",
   "metadata": {
    "slideshow": {
     "slide_type": "slide"
    }
   },
   "source": [
    "Write a function `enc(s)` that takes a string `s` and outputs it to a string where `a` is replaced with `z`, `b` is replaced with `y`, and so on\n",
    "\n",
    "Can use:\n",
    "* The string `lowercase` that contains all lowercase letters.\n",
    "* The `find` operation: `a.find(b)` is the first position of `b` in `a`\n",
    "\n",
    "We'll use it to decode `xsilmrcc`\n"
   ]
  },
  {
   "cell_type": "code",
   "execution_count": 34,
   "id": "d8ac1e1b",
   "metadata": {
    "slideshow": {
     "slide_type": "fragment"
    }
   },
   "outputs": [
    {
     "data": {
      "text/plain": [
       "'a secret message to you'"
      ]
     },
     "execution_count": 34,
     "metadata": {},
     "output_type": "execute_result"
    }
   ],
   "source": [
    "def enc_letter(a):\n",
    "    index = lowercase.find(a)\n",
    "    encrypt = -index-1\n",
    "    r = lowercase[encrypt]\n",
    "    return r\n",
    "\n",
    "def enc(s):\n",
    "    res = \"\"\n",
    "    for a in s:\n",
    "        if a in lowercase:\n",
    "            b = enc_letter(a)\n",
    "        else:\n",
    "            b = a\n",
    "        res += b\n",
    "    return res\n",
    "\n",
    "enc(\"z hvxivg nvhhztv gl blf\")"
   ]
  },
  {
   "cell_type": "code",
   "execution_count": null,
   "id": "be57acaa",
   "metadata": {
    "slideshow": {
     "slide_type": "fragment"
    }
   },
   "outputs": [],
   "source": []
  },
  {
   "cell_type": "code",
   "execution_count": 22,
   "id": "fcf63044",
   "metadata": {
    "slideshow": {
     "slide_type": "skip"
    }
   },
   "outputs": [],
   "source": [
    "def enc_letter(a):\n",
    "    return lowercase[-lowercase.find(a)-1]"
   ]
  },
  {
   "cell_type": "code",
   "execution_count": null,
   "id": "90d3093b",
   "metadata": {
    "slideshow": {
     "slide_type": "skip"
    }
   },
   "outputs": [],
   "source": [
    "def enc(s):\n",
    "    res = \"\"\n",
    "    for a in s:\n",
    "        res += enc_letter(a)\n",
    "    return res"
   ]
  },
  {
   "cell_type": "code",
   "execution_count": null,
   "id": "57206748",
   "metadata": {
    "slideshow": {
     "slide_type": "fragment"
    }
   },
   "outputs": [],
   "source": [
    "enc(\"xsilmrcc\")"
   ]
  },
  {
   "cell_type": "code",
   "execution_count": null,
   "id": "fe1a7cbd",
   "metadata": {},
   "outputs": [],
   "source": []
  },
  {
   "cell_type": "code",
   "execution_count": null,
   "id": "3f11abcc",
   "metadata": {},
   "outputs": [],
   "source": []
  }
 ],
 "metadata": {
  "celltoolbar": "Slideshow",
  "kernelspec": {
   "display_name": "tcs",
   "language": "python",
   "name": "tcs"
  },
  "language_info": {
   "codemirror_mode": {
    "name": "ipython",
    "version": 3
   },
   "file_extension": ".py",
   "mimetype": "text/x-python",
   "name": "python",
   "nbconvert_exporter": "python",
   "pygments_lexer": "ipython3",
   "version": "3.9.14"
  }
 },
 "nbformat": 4,
 "nbformat_minor": 5
}
