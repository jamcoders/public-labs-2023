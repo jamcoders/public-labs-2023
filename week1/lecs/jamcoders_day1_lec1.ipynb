{
 "cells": [
  {
   "cell_type": "markdown",
   "metadata": {
    "id": "XNlROaAxoCg_",
    "slideshow": {
     "slide_type": "slide"
    }
   },
   "source": [
    "# JamCoders Day 1 Lecture 1\n",
    "\n",
    "### Boaz Barak"
   ]
  },
  {
   "cell_type": "code",
   "execution_count": 1,
   "metadata": {
    "slideshow": {
     "slide_type": "skip"
    }
   },
   "outputs": [],
   "source": [
    "from termcolor import colored\n",
    "def typ(s): return colored(type(s).__name__,\"green\")\n",
    "def red(s): return colored(str(s),\"red\")\n",
    "def blue(s): return colored(str(s),\"blue\")"
   ]
  },
  {
   "cell_type": "markdown",
   "metadata": {
    "id": "1lpdpPUmoChB",
    "slideshow": {
     "slide_type": "slide"
    }
   },
   "source": [
    "# Example"
   ]
  },
  {
   "cell_type": "code",
   "execution_count": 8,
   "metadata": {
    "id": "CehzuQr2oChB",
    "slideshow": {
     "slide_type": "slide"
    }
   },
   "outputs": [],
   "source": [
    "def find_min(L):\n",
    "    n = len(L)\n",
    "    current_min = L[0]\n",
    "    i = 1 \n",
    "    while i < n:\n",
    "        if L[i]<current_min:\n",
    "            current_min = L[i]\n",
    "        i = i + 1\n",
    "    return current_min"
   ]
  },
  {
   "cell_type": "markdown",
   "metadata": {
    "slideshow": {
     "slide_type": "skip"
    }
   },
   "source": [
    "[pythontutor](https://pythontutor.com/visualize.html#code=def%20find_min%28L%29%3A%0A%20%20%20%20n%20%3D%20len%28L%29%0A%20%20%20%20current_min%20%3D%20L%5B0%5D%0A%20%20%20%20i%20%3D%201%20%0A%20%20%20%20while%20i%20%3C%20n%3A%0A%20%20%20%20%20%20%20%20if%20L%5Bi%5D%3Ccurrent_min%3A%0A%20%20%20%20%20%20%20%20%20%20%20%20current_min%20%3D%20L%5Bi%5D%0A%20%20%20%20%20%20%20%20i%20%3D%20i%20%2B%201%0A%20%20%20%20return%20current_min%0A%20%20%20%20%0Aa%20%3D%20find_min%28%5B15,%203,%2017,%2022,%209%20,2,%208%5D%29%0A%0Aprint%28%22The%20value%20of%20a%20is%20%22,%20a%29&cumulative=false&curInstr=22&heapPrimitives=nevernest&mode=display&origin=opt-frontend.js&py=3&rawInputLstJSON=%5B%5D&textReferences=false)"
   ]
  },
  {
   "cell_type": "code",
   "execution_count": 11,
   "metadata": {
    "id": "GPiwAMtvoChC",
    "outputId": "4b2e1b80-935d-48e0-f924-7f7aceb5a62b",
    "slideshow": {
     "slide_type": "fragment"
    }
   },
   "outputs": [
    {
     "name": "stdout",
     "output_type": "stream",
     "text": [
      "1\n"
     ]
    }
   ],
   "source": [
    "my_list = [15, 3, 17, 1, 9 ,4, 8]\n",
    "print(my_list[3])"
   ]
  },
  {
   "cell_type": "code",
   "execution_count": 12,
   "metadata": {
    "slideshow": {
     "slide_type": "fragment"
    }
   },
   "outputs": [
    {
     "name": "stdout",
     "output_type": "stream",
     "text": [
      "1\n"
     ]
    }
   ],
   "source": [
    "print(find_min(my_list))"
   ]
  },
  {
   "cell_type": "markdown",
   "metadata": {
    "id": "tyosCIpqoChC",
    "slideshow": {
     "slide_type": "slide"
    }
   },
   "source": [
    "# Seeing what's going on"
   ]
  },
  {
   "cell_type": "markdown",
   "metadata": {
    "slideshow": {
     "slide_type": "slide"
    }
   },
   "source": [
    "## The print statement"
   ]
  },
  {
   "cell_type": "code",
   "execution_count": 7,
   "metadata": {
    "id": "VN4J77yfoChC",
    "outputId": "a262156f-a931-44a1-f213-30384947cbf8",
    "slideshow": {
     "slide_type": "fragment"
    }
   },
   "outputs": [
    {
     "name": "stdout",
     "output_type": "stream",
     "text": [
      "Hello\n"
     ]
    }
   ],
   "source": [
    "print(\"Hello\")"
   ]
  },
  {
   "cell_type": "code",
   "execution_count": 13,
   "metadata": {
    "id": "VN4J77yfoChC",
    "outputId": "a262156f-a931-44a1-f213-30384947cbf8",
    "slideshow": {
     "slide_type": "fragment"
    }
   },
   "outputs": [
    {
     "name": "stdout",
     "output_type": "stream",
     "text": [
      "Hello, the variable x is equal to 17\n"
     ]
    }
   ],
   "source": [
    "x = 17\n",
    "print(f\"Hello, the variable x is equal to {x}\")"
   ]
  },
  {
   "cell_type": "code",
   "execution_count": 14,
   "metadata": {
    "slideshow": {
     "slide_type": "fragment"
    }
   },
   "outputs": [
    {
     "name": "stdout",
     "output_type": "stream",
     "text": [
      "Hello\n",
      "World\n"
     ]
    }
   ],
   "source": [
    "print(\"Hello\")\n",
    "print(\"World\")"
   ]
  },
  {
   "cell_type": "code",
   "execution_count": 15,
   "metadata": {
    "slideshow": {
     "slide_type": "fragment"
    }
   },
   "outputs": [
    {
     "name": "stdout",
     "output_type": "stream",
     "text": [
      "7 Banana 85\n"
     ]
    }
   ],
   "source": [
    "print(7, \"Banana\", x*5)"
   ]
  },
  {
   "cell_type": "markdown",
   "metadata": {
    "slideshow": {
     "slide_type": "slide"
    }
   },
   "source": [
    "## Using print to see how a program runs"
   ]
  },
  {
   "cell_type": "code",
   "execution_count": 16,
   "metadata": {
    "id": "fpHYNq--oChD",
    "slideshow": {
     "slide_type": "slide"
    }
   },
   "outputs": [],
   "source": [
    "def find_min(L):\n",
    "    print(f\"Running find_min function with input L={L}\")\n",
    "    n = len(L)\n",
    "    print(f\"Length of L is {n}\")\n",
    "    current_min = L[0]\n",
    "    print(f\"current_min is {current_min}\")\n",
    "    i = 1\n",
    "    print(\"Entering loop\")\n",
    "    while i < n:\n",
    "        print(f\"  Loop with i={i}, L[i]={L[i]}\")\n",
    "        if L[i]<current_min:\n",
    "            print(f\"    Updating current_min to {L[i]}\")\n",
    "            current_min = L[i]\n",
    "        i = i + 1\n",
    "    print(f\"Exited loop. Value of i is {i}\")\n",
    "    print(f\"Returning the value {current_min}.\")\n",
    "    return current_min"
   ]
  },
  {
   "cell_type": "code",
   "execution_count": 18,
   "metadata": {
    "id": "dtO6S7AxoChE",
    "outputId": "6db49757-932a-405d-8d0f-45f1e2d1a245",
    "scrolled": true,
    "slideshow": {
     "slide_type": "fragment"
    }
   },
   "outputs": [
    {
     "name": "stdout",
     "output_type": "stream",
     "text": [
      "Running find_min function with input L=[15, 3, 17, 22, 9, 2, 8, 213, 123, 2234, 23, 23, 23, 2, 232, 3, 1, 234234]\n",
      "Length of L is 18\n",
      "current_min is 15\n",
      "Entering loop\n",
      "  Loop with i=1, L[i]=3\n",
      "    Updating current_min to 3\n",
      "  Loop with i=2, L[i]=17\n",
      "  Loop with i=3, L[i]=22\n",
      "  Loop with i=4, L[i]=9\n",
      "  Loop with i=5, L[i]=2\n",
      "    Updating current_min to 2\n",
      "  Loop with i=6, L[i]=8\n",
      "  Loop with i=7, L[i]=213\n",
      "  Loop with i=8, L[i]=123\n",
      "  Loop with i=9, L[i]=2234\n",
      "  Loop with i=10, L[i]=23\n",
      "  Loop with i=11, L[i]=23\n",
      "  Loop with i=12, L[i]=23\n",
      "  Loop with i=13, L[i]=2\n",
      "  Loop with i=14, L[i]=232\n",
      "  Loop with i=15, L[i]=3\n",
      "  Loop with i=16, L[i]=1\n",
      "    Updating current_min to 1\n",
      "  Loop with i=17, L[i]=234234\n",
      "Exited loop. Value of i is 18\n",
      "Returning the value 1.\n",
      "*** The value of the variable result is 1 ***\n"
     ]
    }
   ],
   "source": [
    "my_list = [15, 3, 17, 22, 9 , 2, 8, 213, 123, 2234, 23, 23 , 23, 2, 232 , 3, 1, 234234]\n",
    "result = find_min(my_list)\n",
    "print(f\"*** The value of the variable result is {result} ***\")"
   ]
  },
  {
   "cell_type": "markdown",
   "metadata": {
    "id": "V0GobsHToChE",
    "slideshow": {
     "slide_type": "slide"
    }
   },
   "source": [
    "# Jupyter notebook\n",
    "\n",
    "Notebook composed of _cells_. Every cell either has _text_ (markdown) or _code_. If you press Shift+ENTER on a code cell then you _run_ it. "
   ]
  },
  {
   "cell_type": "code",
   "execution_count": null,
   "metadata": {
    "slideshow": {
     "slide_type": "fragment"
    }
   },
   "outputs": [],
   "source": [
    "i = 5\n",
    "i = i + 1\n",
    "print(i*2) "
   ]
  },
  {
   "cell_type": "markdown",
   "metadata": {
    "id": "B_q0bzeSoChF",
    "slideshow": {
     "slide_type": "fragment"
    }
   },
   "source": [
    "Use `Kernel` -> `Restart & Clear Output` to erase all variables and start from the beginning"
   ]
  },
  {
   "cell_type": "markdown",
   "metadata": {
    "id": "RAQ2vWQAoChF",
    "slideshow": {
     "slide_type": "skip"
    }
   },
   "source": [
    "# Comments"
   ]
  },
  {
   "cell_type": "code",
   "execution_count": null,
   "metadata": {
    "id": "6VVpSxOwoChF",
    "outputId": "85afa76b-7549-445b-9db8-fd5fb4765933",
    "slideshow": {
     "slide_type": "skip"
    }
   },
   "outputs": [],
   "source": [
    "print(\"hello\") # print(\"World\") This is a comment in the middle of code. It will not run"
   ]
  },
  {
   "cell_type": "markdown",
   "metadata": {
    "id": "gllpHc9OoChF",
    "slideshow": {
     "slide_type": "slide"
    }
   },
   "source": [
    "# Variables and types "
   ]
  },
  {
   "cell_type": "code",
   "execution_count": null,
   "metadata": {
    "id": "SsvCXY5hoChF",
    "outputId": "8b757354-2d89-41bc-e1e6-1f40126c8df2",
    "slideshow": {
     "slide_type": "fragment"
    }
   },
   "outputs": [],
   "source": [
    "x = 5 # integer\n",
    "y = 6.5 # floating point (number with fraction)\n",
    "z = \"Boaz\" # string\n",
    "w = False \n",
    "print(type(x),type(y),type(z),type(w))"
   ]
  },
  {
   "cell_type": "code",
   "execution_count": null,
   "metadata": {
    "slideshow": {
     "slide_type": "fragment"
    }
   },
   "outputs": [],
   "source": [
    "print(typ(x),typ(y),typ(z),typ(w))"
   ]
  },
  {
   "cell_type": "code",
   "execution_count": null,
   "metadata": {
    "id": "PTD-gj8coChF",
    "outputId": "73a353c1-3fe2-4bb7-a1fd-d8d8c045cd42",
    "slideshow": {
     "slide_type": "slide"
    }
   },
   "outputs": [],
   "source": [
    "print(typ('Hello world!'))"
   ]
  },
  {
   "cell_type": "code",
   "execution_count": null,
   "metadata": {
    "slideshow": {
     "slide_type": "fragment"
    }
   },
   "outputs": [],
   "source": [
    "print('Hello world!')"
   ]
  },
  {
   "cell_type": "code",
   "execution_count": null,
   "metadata": {
    "slideshow": {
     "slide_type": "slide"
    }
   },
   "outputs": [],
   "source": [
    "x = [1,2,3]\n",
    "print(f\"x is a variable of type {typ(x)}, the value of x is {red(x)}\")"
   ]
  },
  {
   "cell_type": "code",
   "execution_count": null,
   "metadata": {
    "id": "u1Gg1hGEoChG",
    "outputId": "8ca0f117-7330-411e-bff4-1e38e6ebfc13",
    "slideshow": {
     "slide_type": "skip"
    }
   },
   "outputs": [],
   "source": [
    "print(typ( 5 / 2))"
   ]
  },
  {
   "cell_type": "code",
   "execution_count": null,
   "metadata": {
    "id": "N_TZx_EDoChG",
    "outputId": "0e3d1499-4418-4d56-83a0-d30ec054d334",
    "slideshow": {
     "slide_type": "skip"
    }
   },
   "outputs": [],
   "source": [
    "print(typ([0, 1, 2]))"
   ]
  },
  {
   "cell_type": "code",
   "execution_count": null,
   "metadata": {
    "id": "eDAgqUcyoChG",
    "outputId": "d791e21a-ab80-4290-e631-b168cd595c2f",
    "slideshow": {
     "slide_type": "skip"
    }
   },
   "outputs": [],
   "source": [
    "print(typ(5>3))"
   ]
  },
  {
   "cell_type": "code",
   "execution_count": null,
   "metadata": {
    "id": "1ipjr1SroChG",
    "outputId": "6fccbf35-c8cd-47ab-ef5d-d5ae4abe5015",
    "slideshow": {
     "slide_type": "skip"
    }
   },
   "outputs": [],
   "source": [
    "# Here is an example of a NoneType\n",
    "print(typ(None))"
   ]
  },
  {
   "cell_type": "markdown",
   "metadata": {
    "id": "u8tr1LPooChG",
    "slideshow": {
     "slide_type": "slide"
    }
   },
   "source": [
    "# Variable assignments"
   ]
  },
  {
   "cell_type": "code",
   "execution_count": null,
   "metadata": {
    "id": "GZrGPBHgoChG",
    "outputId": "523ddc12-2825-4699-fc1b-bddd4d8f85ee",
    "slideshow": {
     "slide_type": "fragment"
    }
   },
   "outputs": [],
   "source": [
    "x = 1\n",
    "# Putting a variable at the end of a code block will print it\n",
    "print(x)"
   ]
  },
  {
   "cell_type": "code",
   "execution_count": null,
   "metadata": {
    "id": "REhh0sCyoChG",
    "outputId": "2482c7aa-4828-4b74-b37d-83964551baed",
    "slideshow": {
     "slide_type": "fragment"
    }
   },
   "outputs": [],
   "source": [
    "# You can find the type of what the variable holds by using type\n",
    "print(type(x))"
   ]
  },
  {
   "cell_type": "code",
   "execution_count": null,
   "metadata": {
    "id": "8U_VkwFwoChG",
    "outputId": "c56fd183-e8c2-4927-848b-3e31a7efc78b",
    "slideshow": {
     "slide_type": "fragment"
    }
   },
   "outputs": [],
   "source": [
    "# Variables can be reassigned\n",
    "x = 2\n",
    "print(x)"
   ]
  },
  {
   "cell_type": "code",
   "execution_count": null,
   "metadata": {
    "id": "DQDoDe--oChG",
    "slideshow": {
     "slide_type": "slide"
    }
   },
   "outputs": [],
   "source": [
    "# The name of a variable is not related to the content at all\n",
    "two = 4\n",
    "print(two)"
   ]
  },
  {
   "cell_type": "code",
   "execution_count": null,
   "metadata": {
    "id": "8UlDkOchoChG",
    "outputId": "1584c387-ed5e-491c-e332-75f8b26633e1",
    "slideshow": {
     "slide_type": "fragment"
    }
   },
   "outputs": [],
   "source": [
    "# Variables are case-sensitive\n",
    "x = 1\n",
    "X = 7\n",
    "print(X,x)"
   ]
  },
  {
   "cell_type": "code",
   "execution_count": null,
   "metadata": {
    "id": "6iTfIOoSoChH",
    "outputId": "a1bc040f-3fc0-41c4-fe75-5febfdfeebb6",
    "slideshow": {
     "slide_type": "fragment"
    }
   },
   "outputs": [],
   "source": [
    "# Variables are case-senstive for any part of the variable\n",
    "Xyz = 3\n",
    "print(XYz)"
   ]
  },
  {
   "cell_type": "code",
   "execution_count": null,
   "metadata": {
    "slideshow": {
     "slide_type": "slide"
    }
   },
   "outputs": [],
   "source": [
    "L = [\"hello\", \"world\"]"
   ]
  },
  {
   "cell_type": "code",
   "execution_count": null,
   "metadata": {
    "slideshow": {
     "slide_type": "fragment"
    }
   },
   "outputs": [],
   "source": [
    "print(L[1])"
   ]
  },
  {
   "cell_type": "code",
   "execution_count": null,
   "metadata": {
    "slideshow": {
     "slide_type": "fragment"
    }
   },
   "outputs": [],
   "source": [
    "print(L[0])"
   ]
  }
 ],
 "metadata": {
  "celltoolbar": "Slideshow",
  "colab": {
   "name": "jamcoders_day1_lec1.ipynb",
   "provenance": []
  },
  "kernelspec": {
   "display_name": "tcs",
   "language": "python",
   "name": "tcs"
  },
  "language_info": {
   "codemirror_mode": {
    "name": "ipython",
    "version": 3
   },
   "file_extension": ".py",
   "mimetype": "text/x-python",
   "name": "python",
   "nbconvert_exporter": "python",
   "pygments_lexer": "ipython3",
   "version": "3.9.14"
  }
 },
 "nbformat": 4,
 "nbformat_minor": 4
}
