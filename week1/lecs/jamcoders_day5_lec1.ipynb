{
 "cells": [
  {
   "cell_type": "markdown",
   "id": "b45e0ad5-6978-45c1-bba1-f169029370d4",
   "metadata": {
    "slideshow": {
     "slide_type": "slide"
    }
   },
   "source": [
    "# Jamcoders Day 5 Lecture 1\n",
    "\n",
    "My last day 😔"
   ]
  },
  {
   "cell_type": "markdown",
   "id": "34a5ed5b",
   "metadata": {
    "slideshow": {
     "slide_type": "fragment"
    }
   },
   "source": [
    "But still two more lectures! 😀"
   ]
  },
  {
   "cell_type": "code",
   "execution_count": null,
   "id": "83a9c602-51b2-4d32-a8ef-266c315f02c9",
   "metadata": {
    "slideshow": {
     "slide_type": "skip"
    }
   },
   "outputs": [],
   "source": [
    "from IPython.display import clear_output\n",
    "import functools\n",
    "print = functools.partial(print, flush=True)"
   ]
  },
  {
   "cell_type": "code",
   "execution_count": null,
   "id": "5344ded0-e24f-400f-9064-f07741e39292",
   "metadata": {
    "slideshow": {
     "slide_type": "skip"
    }
   },
   "outputs": [],
   "source": [
    "from termcolor import colored\n",
    "def typ(s): return colored(type(s).__name__,\"green\")\n",
    "def red(s): return colored(str(s),\"red\")\n",
    "def blue(s): return colored(str(s),\"blue\")"
   ]
  },
  {
   "cell_type": "markdown",
   "id": "aa048072-f385-4ab6-9607-0735a92f0e06",
   "metadata": {
    "slideshow": {
     "slide_type": "slide"
    }
   },
   "source": [
    "## While loops"
   ]
  },
  {
   "cell_type": "markdown",
   "id": "94647110",
   "metadata": {
    "slideshow": {
     "slide_type": "slide"
    }
   },
   "source": [
    "Blast from the past"
   ]
  },
  {
   "cell_type": "code",
   "execution_count": null,
   "id": "663adbc8-6111-40f7-9c06-dcacdb744441",
   "metadata": {
    "slideshow": {
     "slide_type": "fragment"
    }
   },
   "outputs": [],
   "source": [
    "def find_min(L):\n",
    "    n = len(L)\n",
    "    current_min = L[0]\n",
    "    i = 1 \n",
    "    while i < n:\n",
    "        if L[i]<current_min:\n",
    "            current_min = L[i]\n",
    "        i = i + 1\n",
    "    return current_min"
   ]
  },
  {
   "cell_type": "markdown",
   "id": "635bb3d0-3c80-4453-848f-0228a768c6e3",
   "metadata": {
    "id": "z5RXrRXLbG_P",
    "slideshow": {
     "slide_type": "slide"
    }
   },
   "source": [
    "A _while_ loop has the form:\n",
    "```python\n",
    "while CONDITION:\n",
    "    LOOP_BODY\n",
    "```"
   ]
  },
  {
   "cell_type": "code",
   "execution_count": 42,
   "id": "0abbc54f-f8fe-477a-8563-56107c8fcd6a",
   "metadata": {
    "id": "N4dY0W0ObG_P",
    "slideshow": {
     "slide_type": "slide"
    }
   },
   "outputs": [
    {
     "name": "stdout",
     "output_type": "stream",
     "text": [
      "0\n",
      "1\n",
      "2\n",
      "3\n",
      "4\n",
      "5\n",
      "6\n",
      "7\n",
      "8\n",
      "9\n",
      "Loop completed!\n"
     ]
    }
   ],
   "source": [
    "i = 0\n",
    "while i < 10:\n",
    "    print(i)\n",
    "    i = i+1\n",
    "print('Loop completed!')"
   ]
  },
  {
   "cell_type": "code",
   "execution_count": 43,
   "id": "ae87ab73-1518-409d-a768-915158002aa3",
   "metadata": {
    "id": "OUtJANogbG_Q",
    "slideshow": {
     "slide_type": "slide"
    }
   },
   "outputs": [
    {
     "name": "stdout",
     "output_type": "stream",
     "text": [
      "Loop completed!\n"
     ]
    }
   ],
   "source": [
    "# If CONDITION is False at the start of the loop, the loop body will not execute!\n",
    "\n",
    "i = 0\n",
    "while i < 0:\n",
    "    print(i)\n",
    "    i += 1\n",
    "print('Loop completed!')"
   ]
  },
  {
   "cell_type": "code",
   "execution_count": null,
   "id": "54745cfb-3f14-4671-84c7-4c172c94960c",
   "metadata": {
    "id": "jKgPkEQTbG_Q",
    "slideshow": {
     "slide_type": "slide"
    }
   },
   "outputs": [],
   "source": [
    "# WARNING!!!!\n",
    "# You can have loops that run forever.\n",
    "# These are really really bad.\n",
    "# Make sure the loop terminates.\n",
    "\n",
    "while 2<3: #True:\n",
    "    print('hi!')"
   ]
  },
  {
   "cell_type": "code",
   "execution_count": null,
   "id": "f1764316-9e14-49f1-9e0c-5b5b03b4784c",
   "metadata": {
    "id": "57-nvj_RbG_Q",
    "slideshow": {
     "slide_type": "slide"
    }
   },
   "outputs": [],
   "source": [
    "# WARNING!!!!!\n",
    "# Even if you don't mean to, the loop can run forever.\n",
    "# DO NOT do this.\n",
    "\n",
    "i = 0\n",
    "while i < 10:\n",
    "    print(i)\n",
    "print('Loop completed!') # This will never execute!"
   ]
  },
  {
   "cell_type": "code",
   "execution_count": 48,
   "id": "25311693-fdd3-438c-8920-811b8b4d69bf",
   "metadata": {
    "id": "XyVWkIL8bG_R",
    "slideshow": {
     "slide_type": "slide"
    }
   },
   "outputs": [
    {
     "name": "stdout",
     "output_type": "stream",
     "text": [
      "0\n",
      "1\n",
      "2\n",
      "3\n",
      "4\n",
      "5\n",
      "6\n",
      "7\n",
      "8\n",
      "9\n",
      "10\n",
      "Loop ended i =11\n"
     ]
    }
   ],
   "source": [
    "# You can also use \"break\" in while loops\n",
    "# It immediately stops the loop. Works also in for loops\n",
    "\n",
    "i = 0\n",
    "while True:\n",
    "    if i > 10:\n",
    "        break\n",
    "    print(i)\n",
    "    i += 1\n",
    "print(f\"Loop ended i ={i}\")"
   ]
  },
  {
   "cell_type": "code",
   "execution_count": 50,
   "id": "42e4e1ad-26d9-43e6-b0da-5d8f1d0a880a",
   "metadata": {
    "slideshow": {
     "slide_type": "slide"
    }
   },
   "outputs": [
    {
     "name": "stdout",
     "output_type": "stream",
     "text": [
      "I will print a star: *\n",
      "If you are tired of this type q:4324\n",
      "I will print a star: *\n",
      "If you are tired of this type q:234234\n",
      "I will print a star: *\n",
      "If you are tired of this type q:q\n",
      "Program is over.\n"
     ]
    }
   ],
   "source": [
    "while True:\n",
    "    print(\"I will print a star: *\")\n",
    "    answer = input(\"If you are tired of this type q:\")\n",
    "    if answer==\"q\": \n",
    "        print(\"Program is over.\")\n",
    "        break"
   ]
  },
  {
   "cell_type": "markdown",
   "id": "e45adc3d-7e3f-45e0-858d-ac8323bfc0a1",
   "metadata": {
    "slideshow": {
     "slide_type": "slide"
    }
   },
   "source": [
    "__Exercise:__ Write a function `smallest_power` that gets as argument a number $n$ and returns the smallest power of two $m$ such that $n \\leq m$. (A power of two is a number $m$ of the form $m=2^k$ for an integer $k$.)\n",
    "\n",
    "For example `smallest_power(8)==8` but `smallest_power(9)==16`. Use a `while` loop"
   ]
  },
  {
   "cell_type": "code",
   "execution_count": 56,
   "id": "1cfa2cbf-1261-4212-85ef-2d9342ac1aee",
   "metadata": {
    "slideshow": {
     "slide_type": "fragment"
    }
   },
   "outputs": [
    {
     "name": "stdout",
     "output_type": "stream",
     "text": [
      "8\n"
     ]
    }
   ],
   "source": [
    "def smallest_power(n):\n",
    "    m=1\n",
    "    while not (m>=n):\n",
    "        m = m*2\n",
    "    return m\n",
    "print(smallest_power(8))"
   ]
  },
  {
   "cell_type": "code",
   "execution_count": null,
   "id": "362f8e26-6acb-433b-a711-dd24ba999127",
   "metadata": {
    "slideshow": {
     "slide_type": "skip"
    }
   },
   "outputs": [],
   "source": [
    "def smallest_power(n):\n",
    "    m = 1\n",
    "    while m<n:\n",
    "        m = m*2\n",
    "    return m"
   ]
  },
  {
   "cell_type": "code",
   "execution_count": 57,
   "id": "ac2fe2b9-cfbb-42f3-be73-42b71accce60",
   "metadata": {
    "slideshow": {
     "slide_type": "fragment"
    }
   },
   "outputs": [
    {
     "name": "stdout",
     "output_type": "stream",
     "text": [
      "16\n"
     ]
    }
   ],
   "source": [
    "print(smallest_power(9))"
   ]
  },
  {
   "cell_type": "markdown",
   "id": "51590ff2-58a7-4ef5-8f83-e2bddfc0754e",
   "metadata": {
    "slideshow": {
     "slide_type": "slide"
    }
   },
   "source": [
    "# Using while for interaction"
   ]
  },
  {
   "cell_type": "markdown",
   "id": "a4eb2fea-d5f6-49ce-98e0-24578b813a3d",
   "metadata": {
    "slideshow": {
     "slide_type": "slide"
    }
   },
   "source": [
    "__Exercise:__ Write a function `list_to_str_ns` that takes an argument list `L` and returns a string that starts and ends with `\"|\"` and in the middle are all the elements of the list _without spaces_.\n",
    "\n",
    "For example `list_to_str_ns([1,2,3])` returns the string `\"|123|\"`"
   ]
  },
  {
   "cell_type": "code",
   "execution_count": 58,
   "id": "12bc2758-a231-4105-b220-4a8baf78995d",
   "metadata": {
    "slideshow": {
     "slide_type": "fragment"
    }
   },
   "outputs": [
    {
     "name": "stdout",
     "output_type": "stream",
     "text": [
      "|1289123|\n"
     ]
    }
   ],
   "source": [
    "def list_to_str_ns(L):\n",
    "    result = \"\"\n",
    "    for s in L:\n",
    "        result += str(s)\n",
    "    return \"|\"+result+\"|\"\n",
    "print(list_to_str_ns([12,89,123]))"
   ]
  },
  {
   "cell_type": "code",
   "execution_count": null,
   "id": "a5131730-5441-45a5-adc2-90f92457fbd1",
   "metadata": {
    "slideshow": {
     "slide_type": "skip"
    }
   },
   "outputs": [],
   "source": [
    "def list_to_str_ns(L):\n",
    "    \"\"\"Converts list [a,b,c] to string 'abc' etc (no space)\"\"\"\n",
    "    result = \"\"\n",
    "    for x in L:\n",
    "        result = result + str(x)\n",
    "    return \"|\"+result+\"|\""
   ]
  },
  {
   "cell_type": "code",
   "execution_count": 59,
   "id": "cf815c18",
   "metadata": {
    "slideshow": {
     "slide_type": "fragment"
    }
   },
   "outputs": [
    {
     "name": "stdout",
     "output_type": "stream",
     "text": [
      "|1234|\n"
     ]
    }
   ],
   "source": [
    "print(list_to_str_ns([12,3,4]))"
   ]
  },
  {
   "cell_type": "code",
   "execution_count": 60,
   "id": "b83b7f7f-384b-46cd-a307-bae53c61adf6",
   "metadata": {
    "slideshow": {
     "slide_type": "slide"
    }
   },
   "outputs": [],
   "source": [
    "def print_nicer_ns(list_of_lists):\n",
    "    \"\"\"Prints each list on line of its own \n",
    "    without commas or brackets or spaces\"\"\"\n",
    "    for L in list_of_lists:\n",
    "        print(list_to_str_ns(L))"
   ]
  },
  {
   "cell_type": "code",
   "execution_count": 61,
   "id": "a663c853-8c92-4de0-9ca8-35367b2d43cd",
   "metadata": {
    "slideshow": {
     "slide_type": "fragment"
    }
   },
   "outputs": [
    {
     "name": "stdout",
     "output_type": "stream",
     "text": [
      "|123|\n",
      "|456|\n",
      "|789|\n"
     ]
    }
   ],
   "source": [
    "my_list = [[1,2,3],[4,5,6],[7,8,9]]\n",
    "print_nicer_ns(my_list)"
   ]
  },
  {
   "cell_type": "code",
   "execution_count": null,
   "id": "0f9bee73-79fc-4d93-93ee-53aad30e035a",
   "metadata": {
    "slideshow": {
     "slide_type": "skip"
    }
   },
   "outputs": [],
   "source": [
    "board = [[\" \"]*9]*9\n",
    "for b in board:\n",
    "    print(str(b)+\",\")"
   ]
  },
  {
   "cell_type": "code",
   "execution_count": 71,
   "id": "b5fa9b5f-75c0-4ad7-ad60-661c5f07786f",
   "metadata": {
    "slideshow": {
     "slide_type": "slide"
    }
   },
   "outputs": [
    {
     "name": "stdout",
     "output_type": "stream",
     "text": [
      "9 9\n",
      "|         |\n",
      "|         |\n",
      "|         |\n",
      "|         |\n",
      "|         |\n",
      "|         |\n",
      "|         |\n",
      "|         |\n",
      "|         |\n"
     ]
    }
   ],
   "source": [
    "board = [[' ', ' ', ' ', ' ', ' ', ' ', ' ', ' ', ' '],\n",
    "         [' ', ' ', ' ', ' ', ' ', ' ', ' ', ' ', ' '],\n",
    "         [' ', ' ', ' ', ' ', ' ', ' ', ' ', ' ', ' '],\n",
    "         [' ', ' ', ' ', ' ', ' ', ' ', ' ', ' ', ' '],\n",
    "         [' ', ' ', ' ', ' ', ' ', ' ', ' ', ' ', ' '],\n",
    "         [' ', ' ', ' ', ' ', ' ', ' ', ' ', ' ', ' '],\n",
    "         [' ', ' ', ' ', ' ', ' ', ' ', ' ', ' ', ' '],\n",
    "         [' ', ' ', ' ', ' ', ' ', ' ', ' ', ' ', ' '],\n",
    "         [' ', ' ', ' ', ' ', ' ', ' ', ' ', ' ', ' ']]\n",
    "print(len(board),len(board[0]))\n",
    "print_nicer_ns(board)"
   ]
  },
  {
   "cell_type": "code",
   "execution_count": null,
   "id": "e12f1753-e0b8-454b-8497-17bb95dd0530",
   "metadata": {
    "slideshow": {
     "slide_type": "slide"
    }
   },
   "outputs": [],
   "source": [
    "i = 4\n",
    "j = 4\n",
    "color = \"blue\"\n",
    "board[i][j]= colored(\"█\",color)    \n",
    "clear_output()\n",
    "print_nicer_ns(board)\n",
    "    \n",
    "while True:    \n",
    "    dirs = input(\"Directions:\")\n",
    "    for d in dirs:\n",
    "        if d==\"w\": i-=1\n",
    "        if d==\"a\": j-=1\n",
    "        if d==\"z\": i+=1\n",
    "        if d==\"s\": j+=1\n",
    "        if d==\"r\": color=\"red\"\n",
    "        if d==\"b\": color=\"blue\"\n",
    "        if d==\"p\": color=\"magenta\"\n",
    "        if d==\"q\": break\n",
    "        i = i % 9\n",
    "        j = j % 9\n",
    "        board[i][j]= colored(\"█\",color)\n",
    "        clear_output()\n",
    "        print_nicer_ns(board)\n"
   ]
  }
 ],
 "metadata": {
  "celltoolbar": "Slideshow",
  "kernelspec": {
   "display_name": "tcs",
   "language": "python",
   "name": "tcs"
  },
  "language_info": {
   "codemirror_mode": {
    "name": "ipython",
    "version": 3
   },
   "file_extension": ".py",
   "mimetype": "text/x-python",
   "name": "python",
   "nbconvert_exporter": "python",
   "pygments_lexer": "ipython3",
   "version": "3.9.14"
  }
 },
 "nbformat": 4,
 "nbformat_minor": 5
}
