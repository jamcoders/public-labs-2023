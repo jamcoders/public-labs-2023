{
 "cells": [
  {
   "cell_type": "markdown",
   "metadata": {
    "id": "P_F0_IkBFo_q",
    "slideshow": {
     "slide_type": "slide"
    }
   },
   "source": [
    "# JamCoders Day 1 Lecture 2\n",
    "\n",
    "### Boaz Barak"
   ]
  },
  {
   "cell_type": "code",
   "execution_count": 62,
   "metadata": {
    "slideshow": {
     "slide_type": "skip"
    }
   },
   "outputs": [],
   "source": [
    "from termcolor import colored\n",
    "def typ(s): return colored(type(s).__name__,\"green\")\n",
    "def red(s): return colored(str(s),\"red\")\n",
    "def blue(s): return colored(str(s),\"blue\")"
   ]
  },
  {
   "cell_type": "markdown",
   "metadata": {
    "jp-MarkdownHeadingCollapsed": true,
    "slideshow": {
     "slide_type": "slide"
    },
    "tags": []
   },
   "source": [
    "## Components of Python programs:\n",
    "\n",
    "* __Variables:__ storing data of types `int`, `str`, `float`, `list`,...\n",
    "\n",
    "* __Operations:__ `+`, `*`  , ...\n",
    "\n",
    "* __Control flow:__ Decide when to execute instructions: `if`, `while`,.... \n",
    "    "
   ]
  },
  {
   "cell_type": "markdown",
   "metadata": {
    "slideshow": {
     "slide_type": "slide"
    }
   },
   "source": [
    "## What is a variable?"
   ]
  },
  {
   "cell_type": "markdown",
   "metadata": {
    "slideshow": {
     "slide_type": "fragment"
    }
   },
   "source": [
    "`name = value`\n",
    "\n",
    "From now on, if we use `name` then it will refer to `value`"
   ]
  },
  {
   "cell_type": "markdown",
   "metadata": {
    "slideshow": {
     "slide_type": "fragment"
    }
   },
   "source": [
    "* More detailed explanation later"
   ]
  },
  {
   "cell_type": "markdown",
   "metadata": {
    "slideshow": {
     "slide_type": "slide"
    }
   },
   "source": [
    "# Types of variables"
   ]
  },
  {
   "cell_type": "markdown",
   "metadata": {
    "slideshow": {
     "slide_type": "slide"
    }
   },
   "source": [
    "### Numbers"
   ]
  },
  {
   "cell_type": "markdown",
   "metadata": {
    "slideshow": {
     "slide_type": "fragment"
    }
   },
   "source": [
    "__Integers:__ Whole numbers (positive or negative).  \n",
    "\n",
    "_Examples:_ `2`, `178`, `-5` \n",
    "\n",
    "_Python name:_ `int`"
   ]
  },
  {
   "cell_type": "markdown",
   "metadata": {
    "slideshow": {
     "slide_type": "fragment"
    }
   },
   "source": [
    "__Real numbers / Floating point:__ Numbers that could have a fractional component\n",
    "    \n",
    "_Examples:_ `1.7`, `-5.3` , `4.0`\n",
    "    \n",
    "_Python name:_ `float` "
   ]
  },
  {
   "cell_type": "markdown",
   "metadata": {
    "slideshow": {
     "slide_type": "slide"
    }
   },
   "source": [
    "__Strings:__ Sequences of zero or more letters/symbols\n",
    "\n",
    "_Examples:_ `\"Boaz\"`, `\"Hello World\"`, `\"JamCoders 2023\"`\n",
    "\n",
    "_Python name:_ `str`"
   ]
  },
  {
   "cell_type": "code",
   "execution_count": 63,
   "metadata": {
    "slideshow": {
     "slide_type": "fragment"
    }
   },
   "outputs": [
    {
     "name": "stdout",
     "output_type": "stream",
     "text": [
      "My mood is 😀💯🏝️\n"
     ]
    }
   ],
   "source": [
    "# Python strings can even have emojis and characters from other languages in it\n",
    "# all \"unicode\" symbols\n",
    "boaz_heb = \"בועז\"\n",
    "mood_today = \"😀💯🏝️\"\n",
    "\n",
    "print(\"My mood is \" + mood_today)"
   ]
  },
  {
   "cell_type": "code",
   "execution_count": 64,
   "metadata": {
    "slideshow": {
     "slide_type": "fragment"
    }
   },
   "outputs": [
    {
     "name": "stdout",
     "output_type": "stream",
     "text": [
      "\n"
     ]
    }
   ],
   "source": [
    "# A string can be empty\n",
    "empty = \"\"\n",
    "print(empty)"
   ]
  },
  {
   "cell_type": "code",
   "execution_count": 65,
   "metadata": {
    "slideshow": {
     "slide_type": "fragment"
    }
   },
   "outputs": [
    {
     "name": "stdout",
     "output_type": "stream",
     "text": [
      "0\n"
     ]
    }
   ],
   "source": [
    "print(len(empty))"
   ]
  },
  {
   "cell_type": "markdown",
   "metadata": {
    "slideshow": {
     "slide_type": "slide"
    }
   },
   "source": [
    "**Lists**:  Lists of variables that can be of other types.\n",
    "\n",
    "_Examples:_ \n",
    "\n",
    "`[7,2,19]` , `[\"Boaz\", \"Barak\"]` , `[\"JamCoders\", 2023 ]`\n",
    "\n",
    "_Python name:_ `list`"
   ]
  },
  {
   "cell_type": "code",
   "execution_count": 66,
   "metadata": {
    "slideshow": {
     "slide_type": "fragment"
    }
   },
   "outputs": [
    {
     "name": "stdout",
     "output_type": "stream",
     "text": [
      "3\n"
     ]
    }
   ],
   "source": [
    "my_list = [1,2,3,4,5]\n",
    "print(my_list[2])"
   ]
  },
  {
   "cell_type": "code",
   "execution_count": 67,
   "metadata": {
    "slideshow": {
     "slide_type": "fragment"
    }
   },
   "outputs": [
    {
     "name": "stdout",
     "output_type": "stream",
     "text": [
      "0\n"
     ]
    }
   ],
   "source": [
    "# Lists can be empty also\n",
    "empty_list = []\n",
    "print(len(empty_list))"
   ]
  },
  {
   "cell_type": "markdown",
   "metadata": {
    "slideshow": {
     "slide_type": "slide"
    }
   },
   "source": [
    "**Boolean** Either `True` or `False` \n",
    "\n",
    "*Python name:* `bool`"
   ]
  },
  {
   "cell_type": "code",
   "execution_count": 70,
   "metadata": {
    "slideshow": {
     "slide_type": "fragment"
    }
   },
   "outputs": [
    {
     "name": "stdout",
     "output_type": "stream",
     "text": [
      "\u001b[32mbool\u001b[0m\n"
     ]
    }
   ],
   "source": [
    "print(typ(True))"
   ]
  },
  {
   "cell_type": "markdown",
   "metadata": {
    "id": "IXRHdZCIFo_x",
    "slideshow": {
     "slide_type": "slide"
    }
   },
   "source": [
    "# Operations on numbers"
   ]
  },
  {
   "cell_type": "code",
   "execution_count": 71,
   "metadata": {
    "id": "S13R8TSUFo_7",
    "outputId": "695091ee-2e33-45c7-a263-6c1cbb551ddc",
    "slideshow": {
     "slide_type": "fragment"
    }
   },
   "outputs": [
    {
     "name": "stdout",
     "output_type": "stream",
     "text": [
      "9.4\n"
     ]
    }
   ],
   "source": [
    "# The result of arithmetic operations can be assigned to variables\n",
    "x = 10 - 5.3\n",
    "y= 2\n",
    "z=x*y\n",
    "print(z)"
   ]
  },
  {
   "cell_type": "code",
   "execution_count": 77,
   "metadata": {
    "id": "tC4UAOc8FpAA",
    "outputId": "0c0dbb64-fc04-428b-a512-71fd1ca4057c",
    "slideshow": {
     "slide_type": "fragment"
    }
   },
   "outputs": [
    {
     "name": "stdout",
     "output_type": "stream",
     "text": [
      "x equals \u001b[34m0.6666666666666666\u001b[0m and is of type \u001b[32mfloat\u001b[0m\n"
     ]
    }
   ],
   "source": [
    "x = 3\n",
    "#print(x)\n",
    "#x=x*2\n",
    "#print(x)\n",
    "x  = 2/3\n",
    "print(f\"x equals {blue(x)} and is of type {typ(x)}\")"
   ]
  },
  {
   "cell_type": "code",
   "execution_count": 73,
   "metadata": {
    "slideshow": {
     "slide_type": "fragment"
    }
   },
   "outputs": [
    {
     "name": "stdout",
     "output_type": "stream",
     "text": [
      "x equals \u001b[34m5\u001b[0m and is of type \u001b[32mint\u001b[0m\n",
      "y equals \u001b[34m5.1\u001b[0m and is of type \u001b[32mfloat\u001b[0m\n"
     ]
    }
   ],
   "source": [
    "x = 2 +3\n",
    "y = 2 + 3.1\n",
    "print(f\"x equals {blue(x)} and is of type {typ(x)}\")\n",
    "print(f\"y equals {blue(y)} and is of type {typ(y)}\")"
   ]
  },
  {
   "cell_type": "code",
   "execution_count": null,
   "metadata": {
    "slideshow": {
     "slide_type": "fragment"
    }
   },
   "outputs": [],
   "source": [
    "x = 2 + 3.0\n",
    "print(f\"x equals {blue(x)} and is of type {typ(x)}\")"
   ]
  },
  {
   "cell_type": "markdown",
   "metadata": {
    "id": "ELcxNdnkFpAM",
    "outputId": "818a00df-7a26-4b05-f8f6-e518bc982086",
    "slideshow": {
     "slide_type": "slide"
    }
   },
   "source": [
    "__Rules:__\n",
    "    \n",
    "* `int + int` is `int`\n",
    "* `int - int` is `int`\n",
    "* `int * int` is `int`\n",
    "* `int + float` is `float`\n",
    "* `int - float` is `float`\n",
    "* `int * float` is `float`"
   ]
  },
  {
   "cell_type": "code",
   "execution_count": 78,
   "metadata": {
    "slideshow": {
     "slide_type": "slide"
    }
   },
   "outputs": [
    {
     "name": "stdout",
     "output_type": "stream",
     "text": [
      "x equals \u001b[34m3.3333333333333335\u001b[0m and is of type \u001b[32mfloat\u001b[0m\n"
     ]
    }
   ],
   "source": [
    "# Division\n",
    "x = 10 / 3\n",
    "print(f\"x equals {blue(x)} and is of type {typ(x)}\")"
   ]
  },
  {
   "cell_type": "code",
   "execution_count": 81,
   "metadata": {
    "slideshow": {
     "slide_type": "fragment"
    }
   },
   "outputs": [
    {
     "name": "stdout",
     "output_type": "stream",
     "text": [
      "x equals \u001b[34m5.0\u001b[0m and is of type \u001b[32mfloat\u001b[0m\n"
     ]
    }
   ],
   "source": [
    "x = 10 / 2\n",
    "print(f\"x equals {blue(x)} and is of type {typ(x)}\")"
   ]
  },
  {
   "cell_type": "code",
   "execution_count": 82,
   "metadata": {
    "slideshow": {
     "slide_type": "fragment"
    }
   },
   "outputs": [
    {
     "name": "stdout",
     "output_type": "stream",
     "text": [
      "x equals \u001b[34m5\u001b[0m and is of type \u001b[32mint\u001b[0m\n"
     ]
    }
   ],
   "source": [
    "# integer division\n",
    "x = 10 // 2\n",
    "print(f\"x equals {blue(x)} and is of type {typ(x)}\")"
   ]
  },
  {
   "cell_type": "code",
   "execution_count": 83,
   "metadata": {
    "slideshow": {
     "slide_type": "slide"
    }
   },
   "outputs": [
    {
     "name": "stdout",
     "output_type": "stream",
     "text": [
      "x equals \u001b[34m6.1\u001b[0m and is of type \u001b[32mfloat\u001b[0m\n",
      "y equals \u001b[34m6\u001b[0m and is of type \u001b[32mint\u001b[0m\n"
     ]
    }
   ],
   "source": [
    "# transforming between types\n",
    "x = 6.1\n",
    "y = int(x)\n",
    "print(f\"x equals {blue(x)} and is of type {typ(x)}\")\n",
    "print(f\"y equals {blue(y)} and is of type {typ(y)}\")"
   ]
  },
  {
   "cell_type": "code",
   "execution_count": 86,
   "metadata": {
    "slideshow": {
     "slide_type": "fragment"
    }
   },
   "outputs": [
    {
     "name": "stdout",
     "output_type": "stream",
     "text": [
      "x equals \u001b[34m6.9\u001b[0m and is of type \u001b[32mfloat\u001b[0m\n",
      "y equals \u001b[34m6\u001b[0m and is of type \u001b[32mint\u001b[0m\n"
     ]
    }
   ],
   "source": [
    "x = 6.9\n",
    "y = int(x)\n",
    "print(f\"x equals {blue(x)} and is of type {typ(x)}\")\n",
    "print(f\"y equals {blue(y)} and is of type {typ(y)}\")"
   ]
  },
  {
   "cell_type": "code",
   "execution_count": 87,
   "metadata": {
    "slideshow": {
     "slide_type": "fragment"
    }
   },
   "outputs": [
    {
     "name": "stdout",
     "output_type": "stream",
     "text": [
      "x equals \u001b[34m6\u001b[0m and is of type \u001b[32mint\u001b[0m\n",
      "y equals \u001b[34m6.0\u001b[0m and is of type \u001b[32mfloat\u001b[0m\n"
     ]
    }
   ],
   "source": [
    "x = 6\n",
    "y = float(x)\n",
    "print(f\"x equals {blue(x)} and is of type {typ(x)}\")\n",
    "print(f\"y equals {blue(y)} and is of type {typ(y)}\")"
   ]
  },
  {
   "cell_type": "code",
   "execution_count": 88,
   "metadata": {
    "slideshow": {
     "slide_type": "slide"
    }
   },
   "outputs": [
    {
     "name": "stdout",
     "output_type": "stream",
     "text": [
      "x equals \u001b[34m16\u001b[0m and is of type \u001b[32mint\u001b[0m\n",
      "y equals \u001b[34m20\u001b[0m and is of type \u001b[32mint\u001b[0m\n"
     ]
    }
   ],
   "source": [
    "# Order of operations\n",
    "x = 1 + 3 * 5  \n",
    "y = (1+3)*5\n",
    "print(f\"x equals {blue(x)} and is of type {typ(x)}\")\n",
    "print(f\"y equals {blue(y)} and is of type {typ(y)}\")"
   ]
  },
  {
   "cell_type": "markdown",
   "metadata": {
    "slideshow": {
     "slide_type": "fragment"
    }
   },
   "source": [
    "Can always enforce the order you want using parentheses"
   ]
  },
  {
   "cell_type": "markdown",
   "metadata": {
    "slideshow": {
     "slide_type": "slide"
    }
   },
   "source": [
    "# Example"
   ]
  },
  {
   "cell_type": "code",
   "execution_count": 89,
   "metadata": {
    "slideshow": {
     "slide_type": "slide"
    }
   },
   "outputs": [],
   "source": [
    "seconds_in_minute = 60\n",
    "minutes_in_hours = 60\n",
    "hours_in_day = 24\n",
    "days_in_year = 365"
   ]
  },
  {
   "cell_type": "code",
   "execution_count": 90,
   "metadata": {
    "slideshow": {
     "slide_type": "fragment"
    }
   },
   "outputs": [
    {
     "name": "stdout",
     "output_type": "stream",
     "text": [
      "31536000\n"
     ]
    }
   ],
   "source": [
    "seconds_in_year = seconds_in_minute * minutes_in_hours * hours_in_day * days_in_year\n",
    "print(seconds_in_year)"
   ]
  },
  {
   "cell_type": "code",
   "execution_count": 92,
   "metadata": {
    "slideshow": {
     "slide_type": "fragment"
    }
   },
   "outputs": [
    {
     "name": "stdout",
     "output_type": "stream",
     "text": [
      "Ajani has been alive for 499,320,000 seconds\n"
     ]
    }
   ],
   "source": [
    "name = \"Ajani\"\n",
    "age = 15+(10/12)\n",
    "print(f\"{name} has been alive for {int(age*seconds_in_year):,} seconds\")"
   ]
  },
  {
   "cell_type": "markdown",
   "metadata": {
    "slideshow": {
     "slide_type": "slide"
    }
   },
   "source": [
    "## Difference between `=` and `==`\n",
    "\n",
    "`x = 5`: Assign the value `5` to the variable `x`\n",
    "\n",
    "`x==5`: Is `True` if `x` equals to `5` already and is `False` otherwise"
   ]
  },
  {
   "cell_type": "code",
   "execution_count": 95,
   "metadata": {
    "id": "TX5nRDmkFpAr",
    "slideshow": {
     "slide_type": "fragment"
    }
   },
   "outputs": [
    {
     "name": "stdout",
     "output_type": "stream",
     "text": [
      "5\n"
     ]
    }
   ],
   "source": [
    "x = 5\n",
    "print(x)"
   ]
  },
  {
   "cell_type": "code",
   "execution_count": 96,
   "metadata": {
    "slideshow": {
     "slide_type": "fragment"
    }
   },
   "outputs": [
    {
     "name": "stdout",
     "output_type": "stream",
     "text": [
      "False\n",
      "5\n"
     ]
    }
   ],
   "source": [
    "print(x == 7)\n",
    "print(x)"
   ]
  },
  {
   "cell_type": "code",
   "execution_count": 97,
   "metadata": {
    "slideshow": {
     "slide_type": "fragment"
    }
   },
   "outputs": [
    {
     "name": "stdout",
     "output_type": "stream",
     "text": [
      "7\n"
     ]
    }
   ],
   "source": [
    "x = 7\n",
    "print(x)"
   ]
  },
  {
   "cell_type": "code",
   "execution_count": 98,
   "metadata": {
    "slideshow": {
     "slide_type": "fragment"
    }
   },
   "outputs": [
    {
     "name": "stdout",
     "output_type": "stream",
     "text": [
      "True\n"
     ]
    }
   ],
   "source": [
    "print(x == 7)"
   ]
  },
  {
   "cell_type": "code",
   "execution_count": 99,
   "metadata": {
    "slideshow": {
     "slide_type": "slide"
    }
   },
   "outputs": [
    {
     "name": "stdout",
     "output_type": "stream",
     "text": [
      "True\n"
     ]
    }
   ],
   "source": [
    "print(7 == x)"
   ]
  },
  {
   "cell_type": "code",
   "execution_count": 100,
   "metadata": {
    "slideshow": {
     "slide_type": "fragment"
    }
   },
   "outputs": [
    {
     "ename": "SyntaxError",
     "evalue": "cannot assign to literal (2109587270.py, line 1)",
     "output_type": "error",
     "traceback": [
      "\u001b[0;36m  Input \u001b[0;32mIn [100]\u001b[0;36m\u001b[0m\n\u001b[0;31m    7 = x\u001b[0m\n\u001b[0m    ^\u001b[0m\n\u001b[0;31mSyntaxError\u001b[0m\u001b[0;31m:\u001b[0m cannot assign to literal\n"
     ]
    }
   ],
   "source": [
    "7 = x"
   ]
  },
  {
   "cell_type": "markdown",
   "metadata": {
    "id": "DWYia9noFpAv",
    "slideshow": {
     "slide_type": "slide"
    }
   },
   "source": [
    "# Boolean types and control flow"
   ]
  },
  {
   "cell_type": "code",
   "execution_count": 102,
   "metadata": {
    "slideshow": {
     "slide_type": "slide"
    }
   },
   "outputs": [
    {
     "name": "stdout",
     "output_type": "stream",
     "text": [
      "x equals \u001b[34mTrue\u001b[0m and is of type \u001b[32mbool\u001b[0m\n"
     ]
    }
   ],
   "source": [
    "x = 12 > 7\n",
    "print(f\"x equals {blue(x)} and is of type {typ(x)}\")"
   ]
  },
  {
   "cell_type": "code",
   "execution_count": 104,
   "metadata": {
    "slideshow": {
     "slide_type": "fragment"
    }
   },
   "outputs": [
    {
     "name": "stdout",
     "output_type": "stream",
     "text": [
      "Hello\n"
     ]
    }
   ],
   "source": [
    "x = (5 > 3)\n",
    "if x == True:\n",
    "    print(\"Hello\")\n",
    "else:\n",
    "    print(\"Goodbye\")"
   ]
  },
  {
   "cell_type": "code",
   "execution_count": 105,
   "metadata": {
    "slideshow": {
     "slide_type": "fragment"
    }
   },
   "outputs": [
    {
     "name": "stdout",
     "output_type": "stream",
     "text": [
      "Goodbye\n"
     ]
    }
   ],
   "source": [
    "# Don't have to define a variable\n",
    "if 5 < 3:\n",
    "    print(\"Hello\")\n",
    "else:\n",
    "    print(\"Goodbye\")"
   ]
  },
  {
   "cell_type": "code",
   "execution_count": 107,
   "metadata": {
    "slideshow": {
     "slide_type": "slide"
    }
   },
   "outputs": [
    {
     "name": "stdout",
     "output_type": "stream",
     "text": [
      "x is larger than y\n",
      "x is larger than twice y\n"
     ]
    }
   ],
   "source": [
    "# If inside an if\n",
    "x = 7\n",
    "y = 3\n",
    "if x>y:\n",
    "    print(\"x is larger than y\")\n",
    "    if x > 2*y:\n",
    "        print(\"x is larger than twice y\")\n",
    "    else:\n",
    "        print(\"x is not larger than twice y\")\n",
    "else:\n",
    "    print(\"x is not larger than y\")"
   ]
  },
  {
   "cell_type": "code",
   "execution_count": 108,
   "metadata": {
    "id": "UdXSen9GFpAx",
    "slideshow": {
     "slide_type": "slide"
    }
   },
   "outputs": [
    {
     "name": "stdout",
     "output_type": "stream",
     "text": [
      "False\n"
     ]
    }
   ],
   "source": [
    "# Booleans can be combined using logical ands\n",
    "# The result of logical and is True if and only if both sides are True\n",
    "\n",
    "print( (12 > 7) and (3 > 8) )"
   ]
  },
  {
   "cell_type": "code",
   "execution_count": 109,
   "metadata": {
    "id": "e24S0vhuFpAy",
    "slideshow": {
     "slide_type": "fragment"
    }
   },
   "outputs": [
    {
     "name": "stdout",
     "output_type": "stream",
     "text": [
      "True\n"
     ]
    }
   ],
   "source": [
    "# Booleans can be combined using logical ors\n",
    "# The result of logical or is True if either side is True\n",
    "\n",
    "print( (12 > 7) or (3 > 8) )"
   ]
  },
  {
   "cell_type": "code",
   "execution_count": 110,
   "metadata": {
    "id": "xh8TKdcNFpA0",
    "slideshow": {
     "slide_type": "fragment"
    }
   },
   "outputs": [
    {
     "name": "stdout",
     "output_type": "stream",
     "text": [
      "False\n"
     ]
    }
   ],
   "source": [
    "# Logical negation changes True to False\n",
    "print( not (2*4 == 8) )"
   ]
  },
  {
   "cell_type": "code",
   "execution_count": 111,
   "metadata": {
    "id": "cq9eyU5mFpA0",
    "slideshow": {
     "slide_type": "fragment"
    }
   },
   "outputs": [
    {
     "name": "stdout",
     "output_type": "stream",
     "text": [
      "True\n"
     ]
    }
   ],
   "source": [
    "# and False to True\n",
    "print( not (2>3) )"
   ]
  },
  {
   "cell_type": "markdown",
   "metadata": {
    "id": "AkYLPOhYFpA3",
    "slideshow": {
     "slide_type": "slide"
    }
   },
   "source": [
    "# Operations (string, list)"
   ]
  },
  {
   "cell_type": "code",
   "execution_count": 112,
   "metadata": {
    "id": "nxGB1YdRFpA4",
    "slideshow": {
     "slide_type": "slide"
    }
   },
   "outputs": [
    {
     "name": "stdout",
     "output_type": "stream",
     "text": [
      "Hello world!\n"
     ]
    }
   ],
   "source": [
    "# Adding strings is called \"concatenation\"\n",
    "x = 'Hello ' + 'world!'\n",
    "print(x)"
   ]
  },
  {
   "cell_type": "code",
   "execution_count": 113,
   "metadata": {
    "id": "VrlnUYjYFpA7",
    "slideshow": {
     "slide_type": "fragment"
    }
   },
   "outputs": [
    {
     "name": "stdout",
     "output_type": "stream",
     "text": [
      "[1, 7, 8, 2, 2]\n"
     ]
    }
   ],
   "source": [
    "# Adding lists is also called \"concatenation\"\n",
    "x = [1,7,8, 2] + [2]\n",
    "print(x)"
   ]
  },
  {
   "cell_type": "code",
   "execution_count": 114,
   "metadata": {
    "id": "WkORGqRaFpA8",
    "slideshow": {
     "slide_type": "fragment"
    }
   },
   "outputs": [
    {
     "name": "stdout",
     "output_type": "stream",
     "text": [
      "[7, 3]\n"
     ]
    }
   ],
   "source": [
    "x = [7]\n",
    "y = [3]\n",
    "print(x + y)"
   ]
  },
  {
   "cell_type": "markdown",
   "metadata": {
    "id": "Cn4RmXvqFpA9",
    "slideshow": {
     "slide_type": "slide"
    }
   },
   "source": [
    "# Errors"
   ]
  },
  {
   "cell_type": "code",
   "execution_count": 115,
   "metadata": {
    "id": "P2X8hqjoFpA-",
    "scrolled": true,
    "slideshow": {
     "slide_type": "fragment"
    }
   },
   "outputs": [
    {
     "ename": "NameError",
     "evalue": "name 'true' is not defined",
     "output_type": "error",
     "traceback": [
      "\u001b[0;31m---------------------------------------------------------------------------\u001b[0m",
      "\u001b[0;31mNameError\u001b[0m                                 Traceback (most recent call last)",
      "Input \u001b[0;32mIn [115]\u001b[0m, in \u001b[0;36m<cell line: 3>\u001b[0;34m()\u001b[0m\n\u001b[1;32m      1\u001b[0m \u001b[38;5;66;03m# Errors occur when something you do that isn't allowed\u001b[39;00m\n\u001b[1;32m      2\u001b[0m \u001b[38;5;66;03m# Remember: True is supposed to be capitalized!\u001b[39;00m\n\u001b[0;32m----> 3\u001b[0m \u001b[43mtrue\u001b[49m\n",
      "\u001b[0;31mNameError\u001b[0m: name 'true' is not defined"
     ]
    }
   ],
   "source": [
    "# Errors occur when something you do that isn't allowed\n",
    "# Remember: True is supposed to be capitalized!\n",
    "true"
   ]
  },
  {
   "cell_type": "code",
   "execution_count": 119,
   "metadata": {
    "id": "yLRnN4rwFpA-",
    "slideshow": {
     "slide_type": "fragment"
    }
   },
   "outputs": [
    {
     "name": "stdout",
     "output_type": "stream",
     "text": [
      "7\n"
     ]
    }
   ],
   "source": [
    "# Variables must be assigned before being used\n",
    "print(boaz)"
   ]
  },
  {
   "cell_type": "code",
   "execution_count": 118,
   "metadata": {
    "id": "EAij2NZrFpA_",
    "slideshow": {
     "slide_type": "fragment"
    }
   },
   "outputs": [
    {
     "name": "stdout",
     "output_type": "stream",
     "text": [
      "7\n"
     ]
    }
   ],
   "source": [
    "# Once you assign a variable you can use it\n",
    "boaz = 7\n",
    "print(boaz)"
   ]
  },
  {
   "cell_type": "code",
   "execution_count": 120,
   "metadata": {
    "id": "mFp99-EqFpBA",
    "slideshow": {
     "slide_type": "fragment"
    }
   },
   "outputs": [
    {
     "ename": "ZeroDivisionError",
     "evalue": "division by zero",
     "output_type": "error",
     "traceback": [
      "\u001b[0;31m---------------------------------------------------------------------------\u001b[0m",
      "\u001b[0;31mZeroDivisionError\u001b[0m                         Traceback (most recent call last)",
      "Input \u001b[0;32mIn [120]\u001b[0m, in \u001b[0;36m<cell line: 2>\u001b[0;34m()\u001b[0m\n\u001b[1;32m      1\u001b[0m \u001b[38;5;66;03m# Dividing by 0 is undefined and thus an error in Python\u001b[39;00m\n\u001b[0;32m----> 2\u001b[0m \u001b[38;5;28mprint\u001b[39m(\u001b[38;5;241;43m1\u001b[39;49m\u001b[43m \u001b[49m\u001b[38;5;241;43m/\u001b[39;49m\u001b[43m \u001b[49m\u001b[38;5;241;43m0\u001b[39;49m)\n",
      "\u001b[0;31mZeroDivisionError\u001b[0m: division by zero"
     ]
    }
   ],
   "source": [
    "# Dividing by 0 is undefined and thus an error in Python\n",
    "print(1 / 0)"
   ]
  },
  {
   "cell_type": "markdown",
   "metadata": {
    "id": "Qfh4DNmiFpBB",
    "slideshow": {
     "slide_type": "slide"
    }
   },
   "source": [
    "# Issues to watch out for"
   ]
  },
  {
   "cell_type": "markdown",
   "metadata": {
    "id": "BK9bajkSFpBB",
    "slideshow": {
     "slide_type": "fragment"
    }
   },
   "source": [
    "Different types of parenthesis/brackets/braces `(`,`)` .. `[`,`]` ... `{`,`}`"
   ]
  },
  {
   "cell_type": "code",
   "execution_count": 121,
   "metadata": {
    "id": "I0c1UjZlFpBC",
    "outputId": "1158c994-1bb6-43a1-f371-a47fd4d7e4a4",
    "slideshow": {
     "slide_type": "fragment"
    }
   },
   "outputs": [
    {
     "name": "stdout",
     "output_type": "stream",
     "text": [
      "2\n"
     ]
    }
   ],
   "source": [
    "# Square brackets: lists and indexing\n",
    "L = [1,2,3] # list\n",
    "print(L[1])"
   ]
  },
  {
   "cell_type": "code",
   "execution_count": 122,
   "metadata": {
    "slideshow": {
     "slide_type": "fragment"
    }
   },
   "outputs": [
    {
     "name": "stdout",
     "output_type": "stream",
     "text": [
      "x equals \u001b[34m20\u001b[0m and is of type \u001b[32mint\u001b[0m\n",
      "y equals \u001b[34m14\u001b[0m and is of type \u001b[32mint\u001b[0m\n"
     ]
    }
   ],
   "source": [
    "# Round paranethesis: order of operations and calling functions\n",
    "x = (2+3)*4\n",
    "y = 2+(3*4)\n",
    "print(f\"x equals {blue(x)} and is of type {typ(x)}\")\n",
    "print(f\"y equals {blue(y)} and is of type {typ(y)}\")"
   ]
  },
  {
   "cell_type": "code",
   "execution_count": 123,
   "metadata": {
    "id": "9tPQUMGSFpBE",
    "outputId": "a311bb0a-2c38-4fd0-f7fc-15b2be6e71a6",
    "slideshow": {
     "slide_type": "fragment"
    }
   },
   "outputs": [
    {
     "name": "stdout",
     "output_type": "stream",
     "text": [
      "x=12, y=10\n"
     ]
    }
   ],
   "source": [
    "# Curly braces: format strings and (in week 3) dictionaries\n",
    "x = 10\n",
    "y = x\n",
    "x = 12\n",
    "print(f\"x={x}, y={y}\")"
   ]
  },
  {
   "cell_type": "markdown",
   "metadata": {
    "slideshow": {
     "slide_type": "slide"
    }
   },
   "source": [
    "# Extra"
   ]
  },
  {
   "cell_type": "code",
   "execution_count": null,
   "metadata": {
    "slideshow": {
     "slide_type": "slide"
    }
   },
   "outputs": [],
   "source": [
    "# List indexing and slicing\n",
    "my_list = [ \"hello\", \"world\", \"this\", \"is\", \"boaz\"]"
   ]
  },
  {
   "cell_type": "code",
   "execution_count": null,
   "metadata": {
    "id": "PIx7dkFCFpBG",
    "slideshow": {
     "slide_type": "fragment"
    }
   },
   "outputs": [],
   "source": [
    "print(len(my_list))"
   ]
  },
  {
   "cell_type": "code",
   "execution_count": null,
   "metadata": {
    "slideshow": {
     "slide_type": "fragment"
    }
   },
   "outputs": [],
   "source": [
    "print(my_list[2])"
   ]
  },
  {
   "cell_type": "code",
   "execution_count": null,
   "metadata": {
    "slideshow": {
     "slide_type": "fragment"
    }
   },
   "outputs": [],
   "source": [
    "print(my_list[2:4])"
   ]
  },
  {
   "cell_type": "code",
   "execution_count": null,
   "metadata": {
    "slideshow": {
     "slide_type": "fragment"
    }
   },
   "outputs": [],
   "source": [
    "print(my_list[-1])"
   ]
  },
  {
   "cell_type": "code",
   "execution_count": null,
   "metadata": {},
   "outputs": [],
   "source": []
  }
 ],
 "metadata": {
  "celltoolbar": "Slideshow",
  "colab": {
   "name": "jamcoders_day1_lec2.ipynb",
   "provenance": []
  },
  "kernelspec": {
   "display_name": "Python 3 (ipykernel)",
   "language": "python",
   "name": "python3"
  },
  "language_info": {
   "codemirror_mode": {
    "name": "ipython",
    "version": 3
   },
   "file_extension": ".py",
   "mimetype": "text/x-python",
   "name": "python",
   "nbconvert_exporter": "python",
   "pygments_lexer": "ipython3",
   "version": "3.10.11"
  }
 },
 "nbformat": 4,
 "nbformat_minor": 4
}
