{
 "cells": [
  {
   "cell_type": "markdown",
   "metadata": {
    "id": "WndTMk8X9C2D",
    "slideshow": {
     "slide_type": "slide"
    }
   },
   "source": [
    "# JamCoders Day 2 Lecture 1\n",
    "\n",
    "### Boaz Barak\n",
    "\n",
    "Lists, strings, lopps\n"
   ]
  },
  {
   "cell_type": "markdown",
   "metadata": {
    "id": "amsBhxYR9C2E",
    "slideshow": {
     "slide_type": "slide"
    }
   },
   "source": [
    "# Lists"
   ]
  },
  {
   "cell_type": "code",
   "execution_count": 8,
   "metadata": {
    "id": "Wop3M1ze9C2F",
    "outputId": "d2470a0e-676d-4b86-f366-d6e69b0310ca",
    "scrolled": true,
    "slideshow": {
     "slide_type": "slide"
    }
   },
   "outputs": [
    {
     "ename": "IndexError",
     "evalue": "list index out of range",
     "output_type": "error",
     "traceback": [
      "\u001b[0;31m---------------------------------------------------------------------------\u001b[0m",
      "\u001b[0;31mIndexError\u001b[0m                                Traceback (most recent call last)",
      "Input \u001b[0;32mIn [8]\u001b[0m, in \u001b[0;36m<cell line: 6>\u001b[0;34m()\u001b[0m\n\u001b[1;32m      3\u001b[0m x \u001b[38;5;241m=\u001b[39m [\u001b[38;5;241m1\u001b[39m, \u001b[38;5;241m2\u001b[39m, \u001b[38;5;241m3\u001b[39m, \u001b[38;5;241m4\u001b[39m, \u001b[38;5;241m5\u001b[39m, \u001b[38;5;241m6\u001b[39m]\n\u001b[1;32m      4\u001b[0m \u001b[38;5;66;03m#print(x[0])\u001b[39;00m\n\u001b[1;32m      5\u001b[0m \u001b[38;5;66;03m#print(x[1])\u001b[39;00m\n\u001b[0;32m----> 6\u001b[0m \u001b[38;5;28mprint\u001b[39m(\u001b[43mx\u001b[49m\u001b[43m[\u001b[49m\u001b[38;5;241;43m6\u001b[39;49m\u001b[43m]\u001b[49m)\n",
      "\u001b[0;31mIndexError\u001b[0m: list index out of range"
     ]
    }
   ],
   "source": [
    "# Lists are indexed STARTING FROM 0\n",
    "# You can retreive elements from a list using LIST[INDEX] notation\n",
    "x = [1, 2, 3, 4, 5, 6]\n",
    "#print(x[0])\n",
    "#print(x[1])\n",
    "print(x[6])"
   ]
  },
  {
   "cell_type": "code",
   "execution_count": 9,
   "metadata": {
    "id": "mxIUQsJr9C2G",
    "outputId": "3c1d0d9b-fef3-45c9-b975-8c8d63ddd4b8",
    "slideshow": {
     "slide_type": "fragment"
    }
   },
   "outputs": [
    {
     "name": "stdout",
     "output_type": "stream",
     "text": [
      "how\n"
     ]
    }
   ],
   "source": [
    "x = ['hello', 'world', 'how', 'do', 'you', 'do']\n",
    "print(x[2])"
   ]
  },
  {
   "cell_type": "code",
   "execution_count": 11,
   "metadata": {
    "id": "GUlrbZkv9C2G",
    "outputId": "e19aa252-854b-46c4-f70d-bfbc04593f29",
    "slideshow": {
     "slide_type": "fragment"
    }
   },
   "outputs": [
    {
     "name": "stdout",
     "output_type": "stream",
     "text": [
      "do!\n"
     ]
    }
   ],
   "source": [
    "# Indexing from negative numbers gives elements from the back\n",
    "x = ['hello', 'world', 'how', 'do', 'you', 'do!']\n",
    "#print(x[0])\n",
    "#print(x[1])\n",
    "print(x[-1])\n",
    "#print(x[2])"
   ]
  },
  {
   "cell_type": "code",
   "execution_count": 12,
   "metadata": {
    "id": "kMzJ5cxj9C2G",
    "outputId": "b69d0f95-54f7-4d8d-f0b8-7babe0d41d1b",
    "slideshow": {
     "slide_type": "fragment"
    }
   },
   "outputs": [
    {
     "name": "stdout",
     "output_type": "stream",
     "text": [
      "6\n"
     ]
    }
   ],
   "source": [
    "# len(LIST) gives you the length of the list\n",
    "x = ['hello', 'world', 'how', 'do', 'you', 'do']\n",
    "print(len(x))"
   ]
  },
  {
   "cell_type": "markdown",
   "metadata": {
    "slideshow": {
     "slide_type": "slide"
    }
   },
   "source": [
    "**Exercise:** Suppose `L` is a list of length 3. Print the elements of `L` in reverse order"
   ]
  },
  {
   "cell_type": "code",
   "execution_count": 14,
   "metadata": {
    "slideshow": {
     "slide_type": "fragment"
    }
   },
   "outputs": [
    {
     "name": "stdout",
     "output_type": "stream",
     "text": [
      "99\n",
      "10\n",
      "22\n"
     ]
    }
   ],
   "source": [
    "L = [22, 10, 99]\n",
    "print(L[2])\n",
    "print(L[1])\n",
    "print(L[0])"
   ]
  },
  {
   "cell_type": "markdown",
   "metadata": {
    "slideshow": {
     "slide_type": "slide"
    }
   },
   "source": [
    "__Exercise:__ Suppose `L` is a list of length 2. Print the smallest element in the list (use `if` and `else`)"
   ]
  },
  {
   "cell_type": "code",
   "execution_count": 16,
   "metadata": {
    "slideshow": {
     "slide_type": "fragment"
    }
   },
   "outputs": [
    {
     "name": "stdout",
     "output_type": "stream",
     "text": [
      "2\n"
     ]
    }
   ],
   "source": [
    "L = [2,3]\n",
    "if L[0]<L[1]:\n",
    "    print(L[0])\n",
    "else:\n",
    "    print(L[1])"
   ]
  },
  {
   "cell_type": "markdown",
   "metadata": {
    "slideshow": {
     "slide_type": "slide"
    }
   },
   "source": [
    "__Exercise (harder):__ Suppose `L` is a list of length 3. Print the smallest element in the list (use _nested_ `if` and `else`)\n",
    "\n",
    "if L[0]<L[1]:\n",
    "   if L[0]<L[2]:\n",
    "      print(L[0])\n",
    "   else if L[1]<L[2]:\n",
    "      print(L[1])\n",
    "        else:\n",
    "       print(L[2])\n",
    "else:\n",
    "   "
   ]
  },
  {
   "cell_type": "code",
   "execution_count": 17,
   "metadata": {
    "slideshow": {
     "slide_type": "fragment"
    }
   },
   "outputs": [
    {
     "name": "stdout",
     "output_type": "stream",
     "text": [
      "2\n"
     ]
    }
   ],
   "source": [
    "L = [5,3,2]\n",
    "if L[0] < L[1]:\n",
    "    if L[0]<L[2]:\n",
    "        print(L[0])\n",
    "    else:\n",
    "        print(L[2])\n",
    "else:\n",
    "    if L[1] < L[2]:\n",
    "        print(L[1])\n",
    "    else:\n",
    "        print(L[2])"
   ]
  },
  {
   "cell_type": "markdown",
   "metadata": {
    "slideshow": {
     "slide_type": "slide"
    }
   },
   "source": [
    "## List slicing\n",
    "\n",
    "If `L` is a list $[X_0,X_1,X_2,.....,X_{n-1}]$ then\n",
    "`L[`$i$ `:` $j$`]` gives all the elements from index $i$ to index $j-1$. (Elements $X_i,X_{i+1},...,X_{j-1}$)"
   ]
  },
  {
   "cell_type": "code",
   "execution_count": 29,
   "metadata": {
    "id": "n8n8Q79y9C2H",
    "outputId": "1846bd3d-b3cb-4e96-95b1-0b0585de8f3c",
    "slideshow": {
     "slide_type": "fragment"
    }
   },
   "outputs": [
    {
     "name": "stdout",
     "output_type": "stream",
     "text": [
      "[2, 4, 6, 8, 10]\n"
     ]
    }
   ],
   "source": [
    "# List slicing can give you parts of lists\n",
    "x = [2,4,6,8,10,12,14,16,18]\n",
    "print(x[:5])\n"
   ]
  },
  {
   "cell_type": "code",
   "execution_count": null,
   "metadata": {
    "id": "gPiLHnAB9C2H",
    "outputId": "14d6aa45-22aa-41c7-b7cb-e59f69e4c836",
    "slideshow": {
     "slide_type": "fragment"
    }
   },
   "outputs": [],
   "source": [
    "# It does not include the last element past the colon\n",
    "x[1:5]"
   ]
  },
  {
   "cell_type": "code",
   "execution_count": null,
   "metadata": {
    "id": "L4qUG3349C2H",
    "outputId": "60ca96f8-5de1-4a16-8735-97dc17ccb86a",
    "slideshow": {
     "slide_type": "fragment"
    }
   },
   "outputs": [],
   "source": [
    "# If you don't have something past the colon, it takes until the end\n",
    "x[5:] "
   ]
  },
  {
   "cell_type": "code",
   "execution_count": null,
   "metadata": {
    "id": "TevdCXF79C2H",
    "outputId": "a4ddbc7e-61c1-4883-e725-591c19f7284e",
    "slideshow": {
     "slide_type": "fragment"
    }
   },
   "outputs": [],
   "source": [
    "# If you don't have something before the colon, it takes from the start\n",
    "x[:5]"
   ]
  },
  {
   "cell_type": "markdown",
   "metadata": {
    "slideshow": {
     "slide_type": "slide"
    }
   },
   "source": [
    "__Exercise:__  Suppose `L` is a list of more 4 elements. Print all the elements of `L` in order _execept_ the third one (i.e., except `L[2]')"
   ]
  },
  {
   "cell_type": "code",
   "execution_count": null,
   "metadata": {
    "slideshow": {
     "slide_type": "fragment"
    }
   },
   "outputs": [],
   "source": [
    "L = [2,4,6,8,10,12,14,16,18]\n",
    "print(L[:2],L[3:])"
   ]
  },
  {
   "cell_type": "code",
   "execution_count": null,
   "metadata": {
    "slideshow": {
     "slide_type": "fragment"
    }
   },
   "outputs": [],
   "source": [
    "print(L[:2]+L[3:])"
   ]
  },
  {
   "cell_type": "markdown",
   "metadata": {
    "slideshow": {
     "slide_type": "slide"
    }
   },
   "source": [
    "## Modifying lists\n",
    "\n",
    "You can change a list `L` in several ways:\n",
    "\n",
    "* `L[5] = 7` - changes the 6th element of `L` to be `7`\n",
    "\n",
    "* `L.append(17)`  - adds the number 17 at the end of the list\n",
    "\n",
    "* `L.insert(2,17)` - adds the number 17 just before the third element of the list"
   ]
  },
  {
   "cell_type": "code",
   "execution_count": null,
   "metadata": {
    "id": "j218QaCL9C2I",
    "outputId": "ca439b4b-1acc-4856-c234-85d6b3695b7a",
    "slideshow": {
     "slide_type": "slide"
    }
   },
   "outputs": [],
   "source": [
    "x = [0, 1, 2, 3, 5]\n",
    "print(x)\n",
    "x[4] = 10\n",
    "print(x)\n",
    "x[2]=-1\n",
    "print(x)"
   ]
  },
  {
   "cell_type": "code",
   "execution_count": null,
   "metadata": {
    "slideshow": {
     "slide_type": "slide"
    }
   },
   "outputs": [],
   "source": [
    "L = [0,1,2,3,4]\n",
    "L.append(5)\n",
    "L.insert(0,-1)\n",
    "print(L)"
   ]
  },
  {
   "cell_type": "code",
   "execution_count": null,
   "metadata": {
    "id": "UvAfQJOd9C2I",
    "outputId": "8c564fc3-7c66-4fcf-f8e7-b36db76f88a0",
    "slideshow": {
     "slide_type": "slide"
    }
   },
   "outputs": [],
   "source": [
    "# Lists can have mixed types\n",
    "x = [1, 2, 'hi', 4.0, True, None]\n",
    "x"
   ]
  },
  {
   "cell_type": "markdown",
   "metadata": {
    "id": "2u4ipz_U9C2I",
    "slideshow": {
     "slide_type": "slide"
    }
   },
   "source": [
    "# String indexing"
   ]
  },
  {
   "cell_type": "code",
   "execution_count": null,
   "metadata": {
    "id": "aoTWI-q19C2I",
    "outputId": "285b807f-5608-47f1-dafc-d17bbebb77cd",
    "slideshow": {
     "slide_type": "slide"
    }
   },
   "outputs": [],
   "source": [
    "# String indexing follows the same rules as list indexing\n",
    "x = 'Hello world!'\n",
    "x[0]"
   ]
  },
  {
   "cell_type": "code",
   "execution_count": null,
   "metadata": {
    "id": "EGcMlFgN9C2J",
    "outputId": "0ede33d3-aa53-4e8b-e79f-24c4dfc00ab0",
    "slideshow": {
     "slide_type": "fragment"
    }
   },
   "outputs": [],
   "source": [
    "x = 'Hello world!'\n",
    "x[7]"
   ]
  },
  {
   "cell_type": "code",
   "execution_count": null,
   "metadata": {
    "id": "4JnCfVR59C2J",
    "outputId": "423ab378-fb31-4067-add8-be9cfd2b5c52",
    "slideshow": {
     "slide_type": "fragment"
    }
   },
   "outputs": [],
   "source": [
    "# You can also use len with strings\n",
    "x = 'Hello world!'\n",
    "len(x)"
   ]
  },
  {
   "cell_type": "markdown",
   "metadata": {
    "slideshow": {
     "slide_type": "skip"
    }
   },
   "source": [
    "Strings are __immutable__ "
   ]
  },
  {
   "cell_type": "code",
   "execution_count": null,
   "metadata": {
    "id": "bHtthjVl9C2J",
    "outputId": "9c7e5527-646d-489b-dee4-abd5b6983acb",
    "slideshow": {
     "slide_type": "skip"
    }
   },
   "outputs": [],
   "source": [
    "x = 'Hello world!'\n",
    "x[0] = 'B'"
   ]
  },
  {
   "cell_type": "code",
   "execution_count": null,
   "metadata": {
    "id": "vh2aBz4f9C2J",
    "outputId": "d63d2cb2-ca35-402e-ae76-10eaeac6ac1f",
    "slideshow": {
     "slide_type": "skip"
    }
   },
   "outputs": [],
   "source": [
    "# But we can do the following\n",
    "x = 'B' + x[1:]\n",
    "x"
   ]
  },
  {
   "cell_type": "markdown",
   "metadata": {
    "id": "XAk6NLSh8shT",
    "slideshow": {
     "slide_type": "slide"
    },
    "tags": []
   },
   "source": [
    "# For loops"
   ]
  },
  {
   "cell_type": "markdown",
   "metadata": {
    "id": "yCbQ06FZ8shU",
    "slideshow": {
     "slide_type": "fragment"
    }
   },
   "source": [
    "The format of a `for` loop is\n",
    "```python\n",
    "for VARIABLE in COLLECTION:\n",
    "    FOR_LOOP_BODY\n",
    "```\n",
    "\n",
    "`COLLECTION` can be __list__, __range__, and other objects too  "
   ]
  },
  {
   "cell_type": "code",
   "execution_count": 30,
   "metadata": {
    "id": "ZT4d1KMC8shU",
    "outputId": "cce3b257-aae8-4f79-cd7f-51043ea55736",
    "slideshow": {
     "slide_type": "fragment"
    }
   },
   "outputs": [
    {
     "name": "stdout",
     "output_type": "stream",
     "text": [
      "4\n",
      "38\n",
      "8\n"
     ]
    }
   ],
   "source": [
    "for x in [2,19,4]:\n",
    "    y = 2*x\n",
    "    print(y)\n",
    "    "
   ]
  },
  {
   "cell_type": "code",
   "execution_count": null,
   "metadata": {
    "id": "73RpzCeh8shW",
    "slideshow": {
     "slide_type": "fragment"
    }
   },
   "outputs": [],
   "source": [
    "# What will be printed?\n",
    "result = 0\n",
    "for x in [2,19,4]:\n",
    "    print(f\"Looping with x= {x}, result = {result}\")\n",
    "    print(f\"  Updating result to {result+x}\")\n",
    "    result = result + x\n",
    "print(result)"
   ]
  },
  {
   "cell_type": "markdown",
   "metadata": {
    "slideshow": {
     "slide_type": "fragment"
    }
   },
   "source": [
    "`range(n)` is essentially `[0,1,2, ...., n-1]`"
   ]
  },
  {
   "cell_type": "code",
   "execution_count": 34,
   "metadata": {
    "id": "FEzjnlHC8shW",
    "outputId": "baddc1fd-f37f-47a2-a611-d5cf86812b73",
    "slideshow": {
     "slide_type": "slide"
    },
    "tags": []
   },
   "outputs": [
    {
     "name": "stdout",
     "output_type": "stream",
     "text": [
      "boaz\n",
      "orr\n",
      "ian\n"
     ]
    }
   ],
   "source": [
    "for x in [\"boaz\",\"orr\",\"ian\"]:\n",
    "    print(x)"
   ]
  },
  {
   "cell_type": "code",
   "execution_count": 36,
   "metadata": {
    "id": "aK0NblKB8shX",
    "outputId": "83040632-ba03-478e-85c3-4e3e59028daf",
    "slideshow": {
     "slide_type": "fragment"
    }
   },
   "outputs": [
    {
     "name": "stdout",
     "output_type": "stream",
     "text": [
      "5050\n"
     ]
    }
   ],
   "source": [
    "# What will be printed?\n",
    "result = 0\n",
    "for x in range(101): # range(101) \n",
    "    result = result + x\n",
    "    \n",
    "print(result)"
   ]
  },
  {
   "cell_type": "markdown",
   "metadata": {
    "id": "CVNw2hRG9lJU",
    "slideshow": {
     "slide_type": "slide"
    }
   },
   "source": [
    "## Example\n",
    "\n",
    "Suppoe that you invest thousand dollars in stock X. Every year the stock grows by 4%. How much will your stock be worth after 20 years."
   ]
  },
  {
   "cell_type": "code",
   "execution_count": null,
   "metadata": {
    "colab": {
     "base_uri": "https://localhost:8080/"
    },
    "executionInfo": {
     "elapsed": 5,
     "status": "ok",
     "timestamp": 1656514765632,
     "user": {
      "displayName": "Boaz Barak",
      "userId": "16461156097343293408"
     },
     "user_tz": 240
    },
    "id": "9y7Q1ilU-FSa",
    "outputId": "dff03048-e8c5-4f0e-e4d7-9b7a8847d27c",
    "slideshow": {
     "slide_type": "fragment"
    }
   },
   "outputs": [],
   "source": [
    "value = 1000\n",
    "for year in range(20):\n",
    "    value = value * 1.04\n",
    "print(value)"
   ]
  },
  {
   "cell_type": "markdown",
   "metadata": {
    "id": "hZ8Vs_t6-a94",
    "slideshow": {
     "slide_type": "slide"
    }
   },
   "source": [
    "Generalize this calculation for general `initial_investment`, `pct_growth_per_year`, and `num_years`."
   ]
  },
  {
   "cell_type": "code",
   "execution_count": null,
   "metadata": {
    "slideshow": {
     "slide_type": "fragment"
    }
   },
   "outputs": [],
   "source": [
    "initial_investment = 1000\n",
    "pct_growth_per_year = 10\n",
    "num_years = 30"
   ]
  },
  {
   "cell_type": "code",
   "execution_count": null,
   "metadata": {
    "id": "yIO60IFy-rIl",
    "slideshow": {
     "slide_type": "fragment"
    }
   },
   "outputs": [],
   "source": [
    "# Compute final_value from (initial_investment, pct_growth_per_year,num_years):\n",
    "value = initial_investment\n",
    "for year in range(num_years):\n",
    "    value *= 1+pct_growth_per_year / 100\n",
    "\n",
    "print(value)"
   ]
  },
  {
   "cell_type": "markdown",
   "metadata": {
    "slideshow": {
     "slide_type": "slide"
    }
   },
   "source": [
    "### Sneak preview: functions"
   ]
  },
  {
   "cell_type": "code",
   "execution_count": null,
   "metadata": {
    "slideshow": {
     "slide_type": "slide"
    }
   },
   "outputs": [],
   "source": [
    "# Compute final_value from (initial_investment, pct_growth_per_year,num_years):\n",
    "value = initial_investment\n",
    "for year in range(num_years):\n",
    "    value *= 1+pct_growth_per_year / 100\n",
    "\n",
    "print(value)"
   ]
  },
  {
   "cell_type": "code",
   "execution_count": null,
   "metadata": {},
   "outputs": [],
   "source": [
    "def final_value(initial_investment, pct_growth_per_year,num_years):\n",
    "    value = initial_investment\n",
    "    for year in range(num_years):\n",
    "        value *= 1+pct_growth_per_year / 100\n",
    "    return value\n",
    "\n",
    "print(final_value(100,4,20))\n",
    "print(final_value(100,8,10))"
   ]
  },
  {
   "cell_type": "code",
   "execution_count": null,
   "metadata": {
    "colab": {
     "base_uri": "https://localhost:8080/"
    },
    "executionInfo": {
     "elapsed": 8,
     "status": "ok",
     "timestamp": 1656514970352,
     "user": {
      "displayName": "Boaz Barak",
      "userId": "16461156097343293408"
     },
     "user_tz": 240
    },
    "id": "67Us-Eyu-PZi",
    "outputId": "bb9c71c7-2412-4332-92ad-e9679ff6ae82",
    "slideshow": {
     "slide_type": "skip"
    }
   },
   "outputs": [],
   "source": [
    "# shortcut\n",
    "\n",
    "100*(1.04)**20"
   ]
  },
  {
   "cell_type": "markdown",
   "metadata": {
    "id": "8CZO7le0_SXX",
    "slideshow": {
     "slide_type": "slide"
    }
   },
   "source": [
    "## Loops on lists"
   ]
  },
  {
   "cell_type": "code",
   "execution_count": null,
   "metadata": {
    "id": "ZavUlwdF8shX",
    "outputId": "3bbc1d1f-2219-4eac-dbba-b04a0ce2fddf",
    "slideshow": {
     "slide_type": "fragment"
    }
   },
   "outputs": [],
   "source": [
    "# Lists can contain any type\n",
    "fruits = [\"apple\", \"banana\", \"cherry\"]\n",
    "for x in fruits:\n",
    "    print(x)"
   ]
  },
  {
   "cell_type": "code",
   "execution_count": null,
   "metadata": {
    "id": "UzkPRc9_8shY",
    "outputId": "9c08590e-77b4-464d-834f-df8e693e9d0d",
    "slideshow": {
     "slide_type": "fragment"
    }
   },
   "outputs": [],
   "source": [
    "# You can put control flow in a loop\n",
    "fruits = [\"apple\", \"banana\", \"cherry\"]\n",
    "for x in fruits:\n",
    "    print(f\"Looping with x={x}\")\n",
    "    if x == 'apple':\n",
    "        print(x)\n",
    "    else:\n",
    "        print(\"(not printing anything)\")"
   ]
  },
  {
   "cell_type": "code",
   "execution_count": null,
   "metadata": {
    "colab": {
     "base_uri": "https://localhost:8080/"
    },
    "executionInfo": {
     "elapsed": 255,
     "status": "ok",
     "timestamp": 1656515170911,
     "user": {
      "displayName": "Boaz Barak",
      "userId": "16461156097343293408"
     },
     "user_tz": 240
    },
    "id": "LMSxi9YV8shZ",
    "outputId": "5ca2f7bc-0a2a-4088-f168-f12767d090bb",
    "slideshow": {
     "slide_type": "fragment"
    }
   },
   "outputs": [],
   "source": [
    "fruits = [\"apple\", \"banana\", \"cherry\"]\n",
    "for x in fruits:\n",
    "    if x != 'apple':\n",
    "        print(x)"
   ]
  },
  {
   "cell_type": "markdown",
   "metadata": {
    "id": "GVL05SjW_cyo",
    "slideshow": {
     "slide_type": "slide"
    }
   },
   "source": [
    "__Exercise:__ Write code that for a given list `L` of strings , prints all the elements in the list that start with `b` "
   ]
  },
  {
   "cell_type": "code",
   "execution_count": null,
   "metadata": {
    "id": "t00A56-9_ZZ_",
    "slideshow": {
     "slide_type": "fragment"
    }
   },
   "outputs": [],
   "source": [
    "L = fruits\n",
    "for elem in L:\n",
    "    if elem[0]=='b': \n",
    "        print(elem)"
   ]
  },
  {
   "cell_type": "markdown",
   "metadata": {
    "id": "_4S6CjU-8shZ",
    "slideshow": {
     "slide_type": "fragment"
    }
   },
   "source": [
    "## Options for range "
   ]
  },
  {
   "cell_type": "code",
   "execution_count": null,
   "metadata": {
    "id": "01qWQdje8sha",
    "outputId": "7e1db8d2-d952-45fe-9977-d1c91a42409d",
    "slideshow": {
     "slide_type": "fragment"
    }
   },
   "outputs": [],
   "source": [
    "# range with two arguments (call them n and m) is like looping over the list from n to m-1\n",
    "for x in range(3, 6):\n",
    "    print(x)"
   ]
  },
  {
   "cell_type": "code",
   "execution_count": null,
   "metadata": {
    "id": "ZEMGkhWa8sha",
    "slideshow": {
     "slide_type": "fragment"
    }
   },
   "outputs": [],
   "source": [
    "# What will this do?\n",
    "for x in range(3, 3):\n",
    "    print(x)"
   ]
  },
  {
   "cell_type": "code",
   "execution_count": null,
   "metadata": {
    "id": "zGWUNwac8sha",
    "outputId": "184ce368-d43b-420e-d360-3a3f455fdfba",
    "slideshow": {
     "slide_type": "fragment"
    },
    "tags": []
   },
   "outputs": [],
   "source": [
    "# Range with three arguments (call them n, m, and step)\n",
    "# is like looping over the list from n to m-1, but incrementing by step\n",
    "for x in range(3, 8, 3):\n",
    "    print(x)"
   ]
  },
  {
   "cell_type": "markdown",
   "metadata": {
    "slideshow": {
     "slide_type": "slide"
    }
   },
   "source": [
    "## Extra: lists of lists"
   ]
  },
  {
   "cell_type": "code",
   "execution_count": null,
   "metadata": {
    "slideshow": {
     "slide_type": "slide"
    }
   },
   "outputs": [],
   "source": [
    "L = [[1,2,3],[4,5,6],[7,8,9]]\n",
    "# what will be printed?\n",
    "print(L[1])"
   ]
  },
  {
   "cell_type": "code",
   "execution_count": null,
   "metadata": {
    "slideshow": {
     "slide_type": "fragment"
    }
   },
   "outputs": [],
   "source": [
    "# what will be printed?\n",
    "print(L[1][2])"
   ]
  },
  {
   "cell_type": "code",
   "execution_count": null,
   "metadata": {},
   "outputs": [],
   "source": []
  }
 ],
 "metadata": {
  "celltoolbar": "Slideshow",
  "colab": {
   "name": "jamcoders_day2_lec1.ipynb",
   "provenance": []
  },
  "kernelspec": {
   "display_name": "tcs",
   "language": "python",
   "name": "tcs"
  },
  "language_info": {
   "codemirror_mode": {
    "name": "ipython",
    "version": 3
   },
   "file_extension": ".py",
   "mimetype": "text/x-python",
   "name": "python",
   "nbconvert_exporter": "python",
   "pygments_lexer": "ipython3",
   "version": "3.9.14"
  }
 },
 "nbformat": 4,
 "nbformat_minor": 4
}
