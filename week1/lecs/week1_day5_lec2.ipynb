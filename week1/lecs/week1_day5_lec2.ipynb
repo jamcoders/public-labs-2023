{
 "cells": [
  {
   "cell_type": "markdown",
   "metadata": {
    "slideshow": {
     "slide_type": "slide"
    }
   },
   "source": [
    "# End of week 1 😀😔\n",
    "\n",
    "b@boazbarak.org "
   ]
  },
  {
   "cell_type": "markdown",
   "metadata": {
    "slideshow": {
     "slide_type": "slide"
    }
   },
   "source": [
    "Progress you have made..."
   ]
  },
  {
   "cell_type": "code",
   "execution_count": null,
   "metadata": {
    "slideshow": {
     "slide_type": "slide"
    },
    "tags": []
   },
   "outputs": [],
   "source": [
    "def find_min(L):\n",
    "    n = len(L)\n",
    "    current_min = L[0]\n",
    "    i = 1 \n",
    "    while i < n:\n",
    "        if L[i]<current_min:\n",
    "            current_min = L[i]\n",
    "        i = i + 1\n",
    "    return current_min"
   ]
  },
  {
   "cell_type": "markdown",
   "metadata": {
    "slideshow": {
     "slide_type": "slide"
    }
   },
   "source": [
    "Before Monday, it would have looked like:"
   ]
  },
  {
   "cell_type": "markdown",
   "metadata": {
    "slideshow": {
     "slide_type": "fragment"
    }
   },
   "source": [
    "```python\n",
    "定义 find_min(L):\n",
    "    n = 长度(L)\n",
    "    当前最小值 = L[0]\n",
    "    i = 1 \n",
    "    当 i < n:\n",
    "        如果 L[i]<当前最小值:\n",
    "            当前最小值 = L[i]\n",
    "        i = i + 1\n",
    "    返回 当前最小值\n",
    "```"
   ]
  },
  {
   "cell_type": "markdown",
   "metadata": {
    "slideshow": {
     "slide_type": "slide"
    }
   },
   "source": [
    "## Concepts we learned\n",
    "\n",
    "* Variables and their types `int`,`str`,`list`,`float`,`bool`\n",
    "* Various operations on numbers, strings, lists, etc.\n",
    "* Control flow and loops: `if`, `for`, `while`\n",
    "* Functions.\n",
    "* __Compositions:__ Loops inside loops, functions calling other functions, functions inside loops, lists inside lists, etc.."
   ]
  },
  {
   "cell_type": "markdown",
   "metadata": {
    "slideshow": {
     "slide_type": "fragment"
    }
   },
   "source": [
    "__Remember:__ First describe the algorithm in English, then in Python."
   ]
  },
  {
   "cell_type": "markdown",
   "metadata": {
    "slideshow": {
     "slide_type": "slide"
    }
   },
   "source": [
    "# Secret codes \n",
    "\n",
    "We will write a function `enc_string(s)` that takes a string `s` and outputs it to a string where `\"a\"` is replaced with `\"z\"`, `\"b\"` is replaced with `\"y\"`, `\"c\"` is replaced with `\"x\"` and so on\n",
    "\n",
    "\n",
    "So `enc_string(\"cat\")` is `\"xzg\"`, and `enc_string(\"banana\")` is `\"yzmzmz\"`."
   ]
  },
  {
   "cell_type": "code",
   "execution_count": null,
   "metadata": {
    "slideshow": {
     "slide_type": "skip"
    }
   },
   "outputs": [],
   "source": [
    "from string import ascii_letters\n",
    "print(ascii_letters[:26])"
   ]
  },
  {
   "cell_type": "markdown",
   "metadata": {
    "slideshow": {
     "slide_type": "slide"
    }
   },
   "source": [
    "__Exercise:__ Write a function `num2let` that takes as argument a number `n` between 0 and 25, and returns the letter that corresponds to this number. The function should start as follows:"
   ]
  },
  {
   "cell_type": "code",
   "execution_count": 144,
   "metadata": {
    "slideshow": {
     "slide_type": "fragment"
    }
   },
   "outputs": [],
   "source": [
    "def num2let(n):\n",
    "    letters = \"abcdefghijklmnopqrstuvwxyz\"\n",
    "    return letters[n] # Hint: this function is very simple"
   ]
  },
  {
   "cell_type": "code",
   "execution_count": null,
   "metadata": {
    "slideshow": {
     "slide_type": "skip"
    }
   },
   "outputs": [],
   "source": [
    "def num2let(n):\n",
    "    letters = \"abcdefghijklmnopqrstuvwxyz\"\n",
    "    return letters[n]\n"
   ]
  },
  {
   "cell_type": "code",
   "execution_count": 147,
   "metadata": {
    "slideshow": {
     "slide_type": "fragment"
    }
   },
   "outputs": [
    {
     "name": "stdout",
     "output_type": "stream",
     "text": [
      "e\n"
     ]
    }
   ],
   "source": [
    "print(num2let(4))"
   ]
  },
  {
   "cell_type": "markdown",
   "metadata": {
    "slideshow": {
     "slide_type": "slide"
    }
   },
   "source": [
    "__Exercise:__ Write a function `let2num` that takes as argument a letter `letter` (can be `\"a\"`, `\"b\"`,...,`\"z\"`) and returns the corresponding number between 0 and 26. It shuold return -1 if the argument is not a lowercase letter. \n",
    "\n",
    "_Hint:_ The first line should be `letters = \"abcdefghijklmnopqrstuvwxyz\"`, recall that if `string` is a string then `string[i]` is the letter in the `i` position of string. So think about searching for the right letter\n"
   ]
  },
  {
   "cell_type": "code",
   "execution_count": 151,
   "metadata": {
    "slideshow": {
     "slide_type": "fragment"
    }
   },
   "outputs": [
    {
     "name": "stdout",
     "output_type": "stream",
     "text": [
      "1\n",
      "0\n",
      "-1\n"
     ]
    }
   ],
   "source": [
    "def let2num(letter):\n",
    "    letters = \"abcdefghijklmnopqrstuvwxyz\"\n",
    "    for i in range(len(letters)):\n",
    "        if letters[i]==letter:\n",
    "            return i\n",
    "    return -1 # after loop completed\n",
    "print(let2num(\"b\")) #==1\n",
    "print(let2num(\"a\"))#==5\n",
    "print(let2num(\"*\")) #==-1"
   ]
  },
  {
   "cell_type": "code",
   "execution_count": null,
   "metadata": {
    "slideshow": {
     "slide_type": "skip"
    }
   },
   "outputs": [],
   "source": [
    "def let2num(letter):\n",
    "    letters = \"abcdefghijklmnopqrstuvwxyz\"\n",
    "    for i in range(len(letters)):\n",
    "        if letters[i]==letter: return i\n",
    "    return -1"
   ]
  },
  {
   "cell_type": "code",
   "execution_count": 152,
   "metadata": {
    "slideshow": {
     "slide_type": "fragment"
    }
   },
   "outputs": [
    {
     "name": "stdout",
     "output_type": "stream",
     "text": [
      "3\n"
     ]
    }
   ],
   "source": [
    "print(let2num(\"d\"))"
   ]
  },
  {
   "cell_type": "markdown",
   "metadata": {
    "slideshow": {
     "slide_type": "slide"
    }
   },
   "source": [
    "__Exercise:__ Write a function `enc_letter(letter)` that takes a letter/symbol `letter` and:  if `letter` is `\"a\"` then returns `\"z\"`, if `letter` is `\"b\"` then returns `\"y\"`, and so on and so forth. (A symbol that is not a lower case letter stays the same.)"
   ]
  },
  {
   "cell_type": "code",
   "execution_count": 153,
   "metadata": {
    "slideshow": {
     "slide_type": "fragment"
    }
   },
   "outputs": [
    {
     "name": "stdout",
     "output_type": "stream",
     "text": [
      "x\n",
      "z\n",
      "!\n"
     ]
    }
   ],
   "source": [
    "def enc_letter(letter):\n",
    "    num = let2num(letter)\n",
    "    if num==-1: return letter\n",
    "    num = 25-num\n",
    "    return num2let(num)\n",
    "\n",
    "print(enc_letter(\"c\")) # ==\"x\"\n",
    "print(enc_letter(\"a\")) #==\"z\"\n",
    "print(enc_letter(\"!\"))"
   ]
  },
  {
   "cell_type": "code",
   "execution_count": null,
   "metadata": {
    "slideshow": {
     "slide_type": "skip"
    }
   },
   "outputs": [],
   "source": [
    "def enc_letter(letter):\n",
    "    i = let2num(letter)\n",
    "    if i==-1: \n",
    "        return letter\n",
    "    return num2let(25-i)"
   ]
  },
  {
   "cell_type": "code",
   "execution_count": null,
   "metadata": {
    "slideshow": {
     "slide_type": "fragment"
    }
   },
   "outputs": [],
   "source": [
    "print(enc_letter(\"z\"))"
   ]
  },
  {
   "cell_type": "markdown",
   "metadata": {
    "slideshow": {
     "slide_type": "slide"
    }
   },
   "source": [
    "__Exercise:__ Write a function `enc_string(s)` that takes a string `s` and replaces it with a new string in which the letter `\"a\"` is replaced with `\"z\"`, `\"b\"` is replaced with `\"y\"` and so on and so forth. (A symbol that is not a lower case letter stays the same.)"
   ]
  },
  {
   "cell_type": "code",
   "execution_count": 154,
   "metadata": {
    "slideshow": {
     "slide_type": "fragment"
    }
   },
   "outputs": [
    {
     "name": "stdout",
     "output_type": "stream",
     "text": [
      "xzg!!\n"
     ]
    }
   ],
   "source": [
    "def enc_string(s):\n",
    "    result = \"\"\n",
    "    for letter in s:\n",
    "        result += enc_letter(letter)\n",
    "    return result\n",
    "print(enc_string(\"cat!!\"))"
   ]
  },
  {
   "cell_type": "code",
   "execution_count": null,
   "metadata": {
    "slideshow": {
     "slide_type": "skip"
    }
   },
   "outputs": [],
   "source": [
    "def enc_string(s):\n",
    "    res = \"\"\n",
    "    for a in s:\n",
    "        res += enc_letter(a)\n",
    "    return res"
   ]
  },
  {
   "cell_type": "code",
   "execution_count": 155,
   "metadata": {
    "slideshow": {
     "slide_type": "fragment"
    }
   },
   "outputs": [
    {
     "name": "stdout",
     "output_type": "stream",
     "text": [
      "yzmzmz\n"
     ]
    }
   ],
   "source": [
    "print(enc_string(\"banana\"))"
   ]
  },
  {
   "cell_type": "code",
   "execution_count": 156,
   "metadata": {
    "slideshow": {
     "slide_type": "fragment"
    }
   },
   "outputs": [
    {
     "name": "stdout",
     "output_type": "stream",
     "text": [
      "xzg\n"
     ]
    }
   ],
   "source": [
    "print(enc_string(\"cat\"))"
   ]
  },
  {
   "cell_type": "code",
   "execution_count": 157,
   "metadata": {
    "slideshow": {
     "slide_type": "slide"
    }
   },
   "outputs": [
    {
     "name": "stdout",
     "output_type": "stream",
     "text": [
      "thank you jamcoders students for a great week! ❤️🇯🇲\n"
     ]
    }
   ],
   "source": [
    "print(enc_string('gszmp blf qznxlwvih hgfwvmgh uli z tivzg dvvp! ❤️🇯🇲'))"
   ]
  },
  {
   "cell_type": "markdown",
   "metadata": {
    "slideshow": {
     "slide_type": "skip"
    }
   },
   "source": [
    "# OPTIONAL"
   ]
  },
  {
   "cell_type": "markdown",
   "metadata": {
    "slideshow": {
     "slide_type": "skip"
    }
   },
   "source": [
    "__Find:__ If `big_string`, `small_string` are two strings then `big_string.find(small_string)` returns the first position in which `small_string` appears in `big_string` or `-1` if there is no such position. "
   ]
  },
  {
   "cell_type": "code",
   "execution_count": null,
   "metadata": {
    "slideshow": {
     "slide_type": "skip"
    }
   },
   "outputs": [],
   "source": [
    "s = \"Boaz Barak\"\n",
    "print(s.find(\"Barak\"))"
   ]
  },
  {
   "cell_type": "code",
   "execution_count": null,
   "metadata": {
    "slideshow": {
     "slide_type": "skip"
    }
   },
   "outputs": [],
   "source": [
    "print(s.find(\"B\"))"
   ]
  },
  {
   "cell_type": "code",
   "execution_count": null,
   "metadata": {
    "slideshow": {
     "slide_type": "skip"
    }
   },
   "outputs": [],
   "source": [
    "print(s.find(\"w\"))"
   ]
  },
  {
   "cell_type": "markdown",
   "metadata": {
    "slideshow": {
     "slide_type": "slide"
    }
   },
   "source": [
    "# Fun exercises from AddisCoder Week 3"
   ]
  },
  {
   "cell_type": "code",
   "execution_count": null,
   "metadata": {
    "id": "t6FtUR0pr_r7",
    "scrolled": true,
    "slideshow": {
     "slide_type": "skip"
    }
   },
   "outputs": [],
   "source": [
    "from PIL import Image\n",
    "import numpy as np\n",
    "import IPython.display as dsp\n",
    "from ipywidgets import interact, interactive, fixed, Box\n",
    "import ipywidgets as widgets\n",
    "\n",
    "\n",
    "def empty_screen(w=100, h=100):\n",
    "    res = [[color(255, 255, 255) for i in range(h)] for j in range(w)]\n",
    "    return res\n",
    "\n",
    "\n",
    "def color(red=0, green=0, blue=0):\n",
    "    return (red, green, blue)\n",
    "\n",
    "\n",
    "def array_to_image(array, scale=2):\n",
    "    w = len(array)\n",
    "    h = len(array[0])\n",
    "    data = np.zeros((h*scale, w*scale, 3), dtype=np.uint8)\n",
    "    for i in range(w):\n",
    "        for j in range(h):\n",
    "            for k in range(scale):\n",
    "                for l in range(scale):\n",
    "                    data[(h-1)*scale-(j*scale + k), i*scale+l] = array[i][j]\n",
    "    img = Image.fromarray(data, 'RGB')\n",
    "    img.save('my.png')\n",
    "    return dsp.Image(filename='my.png')\n",
    "\n",
    "\n",
    "def plot_array(array, scale=2):\n",
    "    dsp.clear_output(True)\n",
    "    dsp.display_png(array_to_image(array, scale))\n",
    "    # sys.stdout.flush()"
   ]
  },
  {
   "cell_type": "code",
   "execution_count": null,
   "metadata": {
    "id": "qXJWplRgr_r8",
    "slideshow": {
     "slide_type": "skip"
    }
   },
   "outputs": [],
   "source": [
    "import math\n",
    "\n",
    "\n",
    "def sine(angle):\n",
    "    return math.sin((angle/360.0)*2*math.pi)\n",
    "\n",
    "\n",
    "def cosine(angle):\n",
    "    return math.cos((angle/360.0)*2*math.pi)"
   ]
  },
  {
   "cell_type": "code",
   "execution_count": null,
   "metadata": {
    "id": "gqvBLGULr_r8",
    "slideshow": {
     "slide_type": "skip"
    }
   },
   "outputs": [],
   "source": [
    "def cannon(angle, speed, time, gravity=9.8):\n",
    "    x = speed*time*cosine(angle)\n",
    "    y = speed*time*sine(angle) - (gravity/2.0)*(time**2)\n",
    "    return round(x, 3), round(y, 3)\n",
    "\n",
    "\n",
    "def draw_cannon(angle, speed):\n",
    "    s = empty_screen(100, 100)\n",
    "    x = 0\n",
    "    y = 0\n",
    "    t = 0.0\n",
    "    while x < 100 and y >= 0 and y < 100:\n",
    "        s[x][y] = color(red=255)\n",
    "        (x, y) = cannon(angle, speed, t)\n",
    "        x = int(x)\n",
    "        y = int(y)\n",
    "        t += 1.0/speed\n",
    "        plot_array(s)"
   ]
  },
  {
   "cell_type": "code",
   "execution_count": null,
   "metadata": {
    "id": "D-S9oGGLr_r-",
    "slideshow": {
     "slide_type": "skip"
    }
   },
   "outputs": [],
   "source": [
    "def RGB(width, height, red, green, blue):\n",
    "\n",
    "    # Answer\n",
    "\n",
    "    s = empty_screen(width, height)\n",
    "    for i in range(len(s)):\n",
    "        for j in range(len(s[i])):\n",
    "            s[i][j] = color(red, green, blue)\n",
    "    return s"
   ]
  },
  {
   "cell_type": "markdown",
   "metadata": {
    "id": "8itCqdQ9r_r_",
    "slideshow": {
     "slide_type": "skip"
    }
   },
   "source": [
    "Now create another array (named screen) of size 100x100 that corresponds to your favorite color."
   ]
  },
  {
   "cell_type": "code",
   "execution_count": null,
   "metadata": {
    "id": "kKV3ofw2r_r_",
    "slideshow": {
     "slide_type": "skip"
    }
   },
   "outputs": [],
   "source": [
    "screen = RGB(100, 100, 0, 0, 255)\n",
    "array_to_image(screen)"
   ]
  },
  {
   "cell_type": "code",
   "execution_count": null,
   "metadata": {
    "id": "f_CAoXC0r_sA",
    "slideshow": {
     "slide_type": "skip"
    }
   },
   "outputs": [],
   "source": [
    "left = widgets.Button(description='Left')\n",
    "right = widgets.Button(description='Right')\n",
    "up = widgets.Button(description='Up')\n",
    "down = widgets.Button(description='Down')\n",
    "\n",
    "items = [left, up, down, right]\n",
    "controllers = Box(children=items)\n",
    "\n",
    "# Left\n",
    "x = 50\n",
    "y = 50\n",
    "\n",
    "def leftB(button):\n",
    "    global x\n",
    "    global screen\n",
    "    if x > 0:\n",
    "        screen[x][y] = color(0, 0, 0)\n",
    "        x = x-1\n",
    "        screen[x][y] = color(255, 255, 255)\n",
    "    dsp.clear_output(wait=True)\n",
    "    display(controllers)\n",
    "    display(array_to_image(screen))\n",
    "\n",
    "\n",
    "left.on_click(leftB)\n",
    "\n",
    "# Answer\n",
    "\n",
    "# Right\n",
    "\n",
    "\n",
    "def rightB(button):\n",
    "    global x\n",
    "    global screen\n",
    "    if x < 99:\n",
    "        screen[x][y] = color(0, 0, 0)\n",
    "        x = x+1\n",
    "        screen[x][y] = color(255, 255, 255)\n",
    "    dsp.clear_output(wait=True)\n",
    "    display(controllers)\n",
    "    display(array_to_image(screen))\n",
    "\n",
    "\n",
    "right.on_click(rightB)\n",
    "\n",
    "# Up\n",
    "\n",
    "\n",
    "def upB(button):\n",
    "    global y\n",
    "    global screen\n",
    "    if y < 99:\n",
    "        screen[x][y] = color(0, 0, 0)\n",
    "        y = y+1\n",
    "        screen[x][y] = color(255, 255, 255)\n",
    "    dsp.clear_output(wait=True)\n",
    "    display(controllers)\n",
    "    display(array_to_image(screen))\n",
    "\n",
    "\n",
    "up.on_click(upB)\n",
    "\n",
    "# Down\n",
    "\n",
    "\n",
    "def downB(button):\n",
    "    global y\n",
    "    global screen\n",
    "    if y > 0:\n",
    "        screen[x][y] = color(0, 0, 0)\n",
    "        y = y-1\n",
    "        screen[x][y] = color(255, 255, 255)\n",
    "    dsp.clear_output(wait=True)\n",
    "    display(controllers)\n",
    "    display(array_to_image(screen))\n",
    "\n",
    "\n",
    "down.on_click(downB)"
   ]
  },
  {
   "cell_type": "markdown",
   "metadata": {
    "id": "KGjjkFVbr_sA",
    "slideshow": {
     "slide_type": "skip"
    }
   },
   "source": [
    "We now have created an interactive way to control the white dot in our screen!\n",
    "\n",
    "This gives us a really simple drawing program!"
   ]
  },
  {
   "cell_type": "code",
   "execution_count": null,
   "metadata": {
    "id": "l0ZCA42dr_sA",
    "slideshow": {
     "slide_type": "slide"
    }
   },
   "outputs": [],
   "source": [
    "screen = RGB(100,100, 255, 0, 0)\n",
    "display(controllers)\n",
    "display(array_to_image(screen))"
   ]
  },
  {
   "cell_type": "markdown",
   "metadata": {
    "id": "fOfm6Ovrr_sA",
    "slideshow": {
     "slide_type": "skip"
    }
   },
   "source": [
    "## Challenge: Passing Game"
   ]
  },
  {
   "cell_type": "markdown",
   "metadata": {
    "id": "r8f8yjdor_sB",
    "slideshow": {
     "slide_type": "skip"
    }
   },
   "source": [
    "Prepare a game for two players that will work as follows:\n",
    "\n",
    "Each player chooses a _position_, _angle_ and _speed_ for their football player.\n",
    "\n",
    "Then the two footballers pass the ball to each other. Add a point to a player if they pass the ball to the other player's footballer successfully.\n",
    "\n",
    "The next function is provided to help you begin working on the game! Take a few minuits to look at it and make sure you understund how everyting works."
   ]
  },
  {
   "cell_type": "code",
   "execution_count": null,
   "metadata": {
    "id": "dBl69Jj0r_sB",
    "slideshow": {
     "slide_type": "skip"
    }
   },
   "outputs": [],
   "source": [
    "def passing_game(width=100, height=100, points1=0, points2=0):\n",
    "    # Input from the users\n",
    "    location1 = 0 # int(input(\"Player 1, enter your location: \"))\n",
    "    location2 = 100 # width - int(input(\"Player 2, enter your location: \"))\n",
    "    angle1 = int(input(\"Player 1, enter your angle: \"))\n",
    "    speed1 = int(input(\"Player 1, enter your speed: \"))\n",
    "    angle2 = 180-int(input(\"Player 2, enter your angle: \"))\n",
    "    speed2 = int(input(\"Player 2, enter your speed: \"))\n",
    "\n",
    "    # Function to draw the ball trajectories\n",
    "    draw_two_trajectories(angle1, speed1, location1, angle2,\n",
    "                          speed2, location2, width, height)\n",
    "    \n",
    "    print(f\"Player 1: speed {speed1} at angle {angle1}, Player 2: speed {speed2} at angle {180-angle2}\")\n",
    "    \n",
    "    not_hit = True\n",
    "    # Test if a pass is successful and allocate points\n",
    "    if will_it_hit(angle1, speed1, location2-location1):\n",
    "        not_hit = False\n",
    "        points1 = points1 + 1\n",
    "        print(\"Player 1 has successfully passed the ball to Player 2!\")\n",
    "        print(\"Player 1 has \", points1, \" points!\")\n",
    "    if will_it_hit(180-angle2, speed2, location2-location1):\n",
    "        not_hit = False\n",
    "        points2 = points2 + 1\n",
    "        print(\"Player 2 has successfully passed the ball to Player 1!\")\n",
    "        print(\"Player 2 has \", points2, \" points!\")\n",
    "    \n",
    "    if not_hit:\n",
    "        print(\"No player successfully passed the ball\")\n",
    "    # Recursivly continue playing the game until you are bored\n",
    "    stop = str(input(\"Continue playing? Y/N \"))\n",
    "    if stop == \"N\" or stop == \"n\":\n",
    "        if points1 > points2:\n",
    "            print(\"Player 1 won.\")\n",
    "        elif points1 < points2:\n",
    "            print(\"Player 2 won.\")\n",
    "        else:\n",
    "            print(\"It's a tie.\")\n",
    "        print(\"The final score is: \", points1, \"-\", points2)\n",
    "    else:\n",
    "        passing_game(width, height, points1, points2)"
   ]
  },
  {
   "cell_type": "code",
   "execution_count": null,
   "metadata": {
    "id": "1me2IAwnr_sB",
    "slideshow": {
     "slide_type": "skip"
    }
   },
   "outputs": [],
   "source": [
    "def draw_two_trajectories(angle1, speed1, location1, angle2, speed2, location2, width, height):\n",
    "    \"\"\"\n",
    "    Draw in two colors the trajectory of two passes from these locations at the given widths and angles.\n",
    "    Use a screen of the given width and height\n",
    "    \"\"\"\n",
    "\n",
    "    # Answer\n",
    "\n",
    "    s = empty_screen(width, height)\n",
    "\n",
    "    # initialise 1st player\n",
    "    x1 = location1\n",
    "    y1 = 0\n",
    "    t1 = 0.0\n",
    "\n",
    "    # initialise 2nd player\n",
    "    x2 = location2\n",
    "    y2 = 0\n",
    "    t2 = 0.0\n",
    "\n",
    "    while y1 >= 0 or y2 >= 0:\n",
    "        # check if you are in the range of the array\n",
    "        if y1<0 and (x2<0 or x2>width):\n",
    "            break\n",
    "        if y2<0 and (x1<0 or x1>width):\n",
    "            break\n",
    "        if (x2<0 or x2>width) and (x1<0 or x1>width):\n",
    "            break\n",
    "        if y1 >= 0 and y1 < height and x1 >= 0 and x1 < width:\n",
    "            s[x1][y1] = color(red=255)\n",
    "        if y2 >= 0 and y2 < height and x2 >= 0 and x2 < width:\n",
    "            s[x2][y2] = color(blue=255)\n",
    "\n",
    "        # calculate the new values of x1 & y1\n",
    "        (x1, y1) = cannon(angle1, speed1, t1)\n",
    "        x1 = int(location1 + int(x1))\n",
    "        y1 = int(y1)\n",
    "        t1 += 1.0/speed1\n",
    "        # calculate the new values of x2 & y2\n",
    "        (x2, y2) = cannon(angle2, speed2, t2)\n",
    "        x2 = int(location2 + int(x2))\n",
    "        y2 = int(y2)\n",
    "        t2 += 1.0/speed2\n",
    "\n",
    "        plot_array(s)"
   ]
  },
  {
   "cell_type": "code",
   "execution_count": null,
   "metadata": {
    "id": "ePv9syHNr_sB",
    "slideshow": {
     "slide_type": "skip"
    }
   },
   "outputs": [],
   "source": [
    "def will_it_hit(angle, speed, distance):\n",
    "    \"\"\"\n",
    "    Return True if a pass (with given speed and angle) will land back on the ground \n",
    "    within five units (-3/+3) from the given distance.\n",
    "    \"\"\"\n",
    "\n",
    "    # Answer\n",
    "\n",
    "    # initialise\n",
    "    x = 0\n",
    "    y = 0\n",
    "    t = 0.0\n",
    "\n",
    "    # as before calculate the trajectory of the ball,\n",
    "    # but this time we are only interested in the final possition\n",
    "    while y >= 0:\n",
    "        (x, y) = cannon(angle, speed, t)\n",
    "        x = int(x)\n",
    "        y = int(y)\n",
    "        t += 1.0/speed\n",
    "\n",
    "    # check if x is within 3 units from distance\n",
    "    #print(distance, x)\n",
    "    if x >= distance-3 and x <= distance+3:\n",
    "        return True\n",
    "    else:\n",
    "        return False"
   ]
  },
  {
   "cell_type": "code",
   "execution_count": null,
   "metadata": {
    "id": "_CyDnovcr_sC",
    "slideshow": {
     "slide_type": "slide"
    }
   },
   "outputs": [],
   "source": [
    "passing_game(width=100, height=100, points1=0, points2=0)"
   ]
  },
  {
   "cell_type": "code",
   "execution_count": null,
   "metadata": {
    "slideshow": {
     "slide_type": "skip"
    }
   },
   "outputs": [],
   "source": [
    "from IPython.display import Video"
   ]
  },
  {
   "cell_type": "markdown",
   "metadata": {
    "slideshow": {
     "slide_type": "slide"
    }
   },
   "source": [
    "__Another example:__ Given some network of connections - is there a way to reach from one point to the other. "
   ]
  },
  {
   "cell_type": "markdown",
   "metadata": {
    "slideshow": {
     "slide_type": "fragment"
    }
   },
   "source": [
    "<img src=\"https://i.imgur.com/a3HeUAs.jpg\"  style=\"width: 500px;\"/>"
   ]
  },
  {
   "cell_type": "code",
   "execution_count": null,
   "metadata": {
    "slideshow": {
     "slide_type": "fragment"
    }
   },
   "outputs": [],
   "source": [
    "def connected(source,target,G,visited = []):\n",
    "    if source==target: return True\n",
    "    for u in neighbors(G,source):\n",
    "        if (u not in visited):\n",
    "            visited += [u]\n",
    "            visited = connected(u,target,G,visited) #<-- recursion\n",
    "            if visited ==True: return True\n",
    "    return visited"
   ]
  },
  {
   "cell_type": "code",
   "execution_count": null,
   "metadata": {
    "slideshow": {
     "slide_type": "skip"
    }
   },
   "outputs": [],
   "source": [
    "from IPython.display import HTML\n",
    "\n",
    "# the id part in the shareable link\n",
    "file_id = '11lW-nPk8cG3Gd_GMy5D4l9vCmWKSj5QD'\n",
    "\n",
    "# creating the HTML string\n",
    "HTML_embed_code = f\"\"\"\n",
    "<video width=\"320\" height=\"240\" controls>\n",
    "  <source src=\"https://drive.google.com/uc?export=download&id={file_id}\" type=\"video/mp4\">\n",
    "</video>\n",
    "\"\"\"\n",
    "\n",
    "# creating and displaying the HTML object\n",
    "HTML_obj = HTML(HTML_embed_code)\n",
    "\n"
   ]
  },
  {
   "cell_type": "code",
   "execution_count": null,
   "metadata": {
    "slideshow": {
     "slide_type": "slide"
    }
   },
   "outputs": [],
   "source": [
    "display(HTML_obj)"
   ]
  },
  {
   "cell_type": "markdown",
   "metadata": {
    "slideshow": {
     "slide_type": "slide"
    }
   },
   "source": [
    "# ASK ME ANYTHING\n",
    "\n",
    "* About computer science\n",
    "* About how to study more\n",
    "* About studying in the U.S.\n",
    "* About life in general"
   ]
  },
  {
   "cell_type": "markdown",
   "metadata": {
    "slideshow": {
     "slide_type": "slide"
    }
   },
   "source": [
    "# Thank you!!! \n",
    "\n",
    "### Enjoy the weekend and rest of the program!!!"
   ]
  }
 ],
 "metadata": {
  "celltoolbar": "Slideshow",
  "colab": {
   "name": "W3D5a_solutions.ipynb",
   "provenance": []
  },
  "kernelspec": {
   "display_name": "tcs",
   "language": "python",
   "name": "tcs"
  },
  "language_info": {
   "codemirror_mode": {
    "name": "ipython",
    "version": 3
   },
   "file_extension": ".py",
   "mimetype": "text/x-python",
   "name": "python",
   "nbconvert_exporter": "python",
   "pygments_lexer": "ipython3",
   "version": "3.9.14"
  }
 },
 "nbformat": 4,
 "nbformat_minor": 4
}
