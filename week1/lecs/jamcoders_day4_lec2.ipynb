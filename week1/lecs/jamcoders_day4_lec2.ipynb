{
 "cells": [
  {
   "cell_type": "markdown",
   "id": "b45e0ad5-6978-45c1-bba1-f169029370d4",
   "metadata": {
    "slideshow": {
     "slide_type": "slide"
    }
   },
   "source": [
    "# Jamcoders Day 4 Lecture 2\n",
    "\n",
    "input, tic tac toe"
   ]
  },
  {
   "cell_type": "code",
   "execution_count": null,
   "id": "83a9c602-51b2-4d32-a8ef-266c315f02c9",
   "metadata": {
    "slideshow": {
     "slide_type": "skip"
    }
   },
   "outputs": [],
   "source": [
    "from IPython.display import clear_output\n",
    "import functools\n",
    "print = functools.partial(print, flush=True)"
   ]
  },
  {
   "cell_type": "code",
   "execution_count": null,
   "id": "5344ded0-e24f-400f-9064-f07741e39292",
   "metadata": {
    "slideshow": {
     "slide_type": "skip"
    }
   },
   "outputs": [],
   "source": [
    "from termcolor import colored\n",
    "def typ(s): return colored(type(s).__name__,\"green\")\n",
    "def red(s): return colored(str(s),\"red\")\n",
    "def blue(s): return colored(str(s),\"blue\")"
   ]
  },
  {
   "cell_type": "markdown",
   "id": "2f5e2ea6-f08c-483c-bd28-c20489f6dbca",
   "metadata": {
    "slideshow": {
     "slide_type": "slide"
    }
   },
   "source": [
    "# Reminder - list of lists"
   ]
  },
  {
   "cell_type": "code",
   "execution_count": 57,
   "id": "0d3bb036-d4cd-44f1-acac-86347eb261f8",
   "metadata": {
    "slideshow": {
     "slide_type": "slide"
    }
   },
   "outputs": [],
   "source": [
    "my_list = [ [1,2,3],[4,5,6],[7,8,9] ]"
   ]
  },
  {
   "cell_type": "code",
   "execution_count": 59,
   "id": "c8f89f5c-7b27-4d3e-9f06-8ec970ce4c83",
   "metadata": {
    "slideshow": {
     "slide_type": "fragment"
    }
   },
   "outputs": [
    {
     "name": "stdout",
     "output_type": "stream",
     "text": [
      "4\n"
     ]
    }
   ],
   "source": [
    "# What will be printed?\n",
    "print(my_list[1][0])\n"
   ]
  },
  {
   "cell_type": "code",
   "execution_count": 60,
   "id": "25a7b8d1-51a7-4d8d-9816-8c17dc5cdf71",
   "metadata": {
    "slideshow": {
     "slide_type": "fragment"
    }
   },
   "outputs": [
    {
     "name": "stdout",
     "output_type": "stream",
     "text": [
      "6\n"
     ]
    }
   ],
   "source": [
    "# How do we get 6\n",
    "print(my_list[1][2])"
   ]
  },
  {
   "cell_type": "markdown",
   "id": "009fbba4-8794-447d-80ca-4b417abb8340",
   "metadata": {
    "slideshow": {
     "slide_type": "slide"
    }
   },
   "source": [
    "# print list of lists"
   ]
  },
  {
   "cell_type": "code",
   "execution_count": 61,
   "id": "477d8818-f77f-4bef-a20a-6707eb470d5c",
   "metadata": {
    "slideshow": {
     "slide_type": "fragment"
    }
   },
   "outputs": [
    {
     "name": "stdout",
     "output_type": "stream",
     "text": [
      "[[1, 2, 3], [4, 5, 6], [7, 8, 9]]\n"
     ]
    }
   ],
   "source": [
    "print(my_list)"
   ]
  },
  {
   "cell_type": "markdown",
   "id": "45dd9187-75e0-48ea-a018-d03a5d1e9660",
   "metadata": {
    "slideshow": {
     "slide_type": "slide"
    }
   },
   "source": [
    "# Reminder: print nicer"
   ]
  },
  {
   "cell_type": "code",
   "execution_count": 63,
   "id": "dbe03a89-bc15-43dc-90c2-1d3746fb0cac",
   "metadata": {
    "slideshow": {
     "slide_type": "slide"
    }
   },
   "outputs": [],
   "source": [
    "def list_to_str(L):\n",
    "    \"\"\"Converts list [a,b,c] to string 'a b c' etc\"\"\"\n",
    "    result = \"\"\n",
    "    for x in L:\n",
    "        result = result + str(x) + \" \"\n",
    "    return result\n",
    "\n",
    "def print_nicer(list_of_lists):\n",
    "    \"\"\"Prints each list on line of its own \n",
    "    without commas or brackets\"\"\"\n",
    "    for L in list_of_lists:\n",
    "        print(list_to_str(L))"
   ]
  },
  {
   "cell_type": "code",
   "execution_count": 66,
   "id": "186f9318-0690-40a8-9881-8a5a73a614e8",
   "metadata": {
    "slideshow": {
     "slide_type": "fragment"
    }
   },
   "outputs": [
    {
     "name": "stdout",
     "output_type": "stream",
     "text": [
      "1 2 3 \n",
      "4 5 6 \n",
      "7 8 9 \n"
     ]
    }
   ],
   "source": [
    "print_nicer(my_list)"
   ]
  },
  {
   "cell_type": "markdown",
   "id": "78f90c5b-77ce-4701-89ac-d9e011a46230",
   "metadata": {
    "slideshow": {
     "slide_type": "slide"
    }
   },
   "source": [
    "__Input:__ Ask a user for an input. Always returns a string"
   ]
  },
  {
   "cell_type": "code",
   "execution_count": 70,
   "id": "ed7645f9-437f-496b-9e4c-6dc7d07d0214",
   "metadata": {
    "slideshow": {
     "slide_type": "fragment"
    }
   },
   "outputs": [
    {
     "name": "stdout",
     "output_type": "stream",
     "text": [
      "Write something:Melon\n"
     ]
    },
    {
     "ename": "ValueError",
     "evalue": "invalid literal for int() with base 10: 'Melon'",
     "output_type": "error",
     "traceback": [
      "\u001b[0;31m---------------------------------------------------------------------------\u001b[0m",
      "\u001b[0;31mValueError\u001b[0m                                Traceback (most recent call last)",
      "Input \u001b[0;32mIn [70]\u001b[0m, in \u001b[0;36m<cell line: 1>\u001b[0;34m()\u001b[0m\n\u001b[0;32m----> 1\u001b[0m answer \u001b[38;5;241m=\u001b[39m \u001b[38;5;28;43mint\u001b[39;49m\u001b[43m(\u001b[49m\u001b[38;5;28;43minput\u001b[39;49m\u001b[43m(\u001b[49m\u001b[38;5;124;43m\"\u001b[39;49m\u001b[38;5;124;43mWrite something:\u001b[39;49m\u001b[38;5;124;43m\"\u001b[39;49m\u001b[43m)\u001b[49m\u001b[43m)\u001b[49m\n\u001b[1;32m      2\u001b[0m \u001b[38;5;28mprint\u001b[39m(\u001b[38;5;124mf\u001b[39m\u001b[38;5;124m\"\u001b[39m\u001b[38;5;124mAnswer is \u001b[39m\u001b[38;5;132;01m{\u001b[39;00manswer\u001b[38;5;132;01m}\u001b[39;00m\u001b[38;5;124m of type \u001b[39m\u001b[38;5;132;01m{\u001b[39;00mtyp(answer)\u001b[38;5;132;01m}\u001b[39;00m\u001b[38;5;124m\"\u001b[39m)\n",
      "\u001b[0;31mValueError\u001b[0m: invalid literal for int() with base 10: 'Melon'"
     ]
    }
   ],
   "source": [
    "answer = int(input(\"Write something:\"))\n",
    "print(f\"Answer is {answer} of type {typ(answer)}\")"
   ]
  },
  {
   "cell_type": "markdown",
   "id": "819ee261-e773-4d46-88f5-8a24510bf95b",
   "metadata": {
    "slideshow": {
     "slide_type": "slide"
    }
   },
   "source": [
    "# Example Tic-Tac-Toe"
   ]
  },
  {
   "cell_type": "code",
   "execution_count": 71,
   "id": "ebc70ee3-a2f4-41a5-ae5d-800a0db6e12a",
   "metadata": {
    "slideshow": {
     "slide_type": "slide"
    }
   },
   "outputs": [
    {
     "name": "stdout",
     "output_type": "stream",
     "text": [
      ". . . \n",
      ". . . \n",
      ". . . \n"
     ]
    }
   ],
   "source": [
    "board = [[\".\",\".\",\".\"], [\".\",\".\",\".\"],[\".\",\".\",\".\"]]\n",
    "print_nicer(board)"
   ]
  },
  {
   "cell_type": "code",
   "execution_count": 72,
   "id": "a26baca9-d543-4890-bd67-1f5ef6817729",
   "metadata": {
    "slideshow": {
     "slide_type": "fragment"
    }
   },
   "outputs": [
    {
     "name": "stdout",
     "output_type": "stream",
     "text": [
      ". . . \n",
      ". X . \n",
      ". . . \n"
     ]
    }
   ],
   "source": [
    "# X player puts \"X\" in middle\n",
    "board[1][1]=\"X\"\n",
    "print_nicer(board)"
   ]
  },
  {
   "cell_type": "code",
   "execution_count": 73,
   "id": "9ab78a0d-0d7c-4174-9ba7-3b7509afa23a",
   "metadata": {
    "slideshow": {
     "slide_type": "fragment"
    }
   },
   "outputs": [
    {
     "name": "stdout",
     "output_type": "stream",
     "text": [
      ". . . \n",
      ". X . \n",
      ". . O \n"
     ]
    }
   ],
   "source": [
    "# O player puts \"O\" in the corner\n",
    "board[2][2] = \"O\"\n",
    "print_nicer(board)"
   ]
  },
  {
   "cell_type": "code",
   "execution_count": 74,
   "id": "c3d2881f-8880-4cb6-9635-14b648940c2e",
   "metadata": {
    "slideshow": {
     "slide_type": "slide"
    }
   },
   "outputs": [],
   "source": [
    "def tic_tac_toe():\n",
    "    board = [[\".\",\".\",\".\"], [\".\",\".\",\".\"],[\".\",\".\",\".\"]]\n",
    "    print_nicer(board)\n",
    "    for x in range(9):\n",
    "        player = input(\"Player:\")\n",
    "        i = int(input(\"row:\"))\n",
    "        j = int(input(\"col:\"))\n",
    "        board[i][j] = player\n",
    "        clear_output()\n",
    "        print_nicer(board)"
   ]
  },
  {
   "cell_type": "code",
   "execution_count": 75,
   "id": "40275817-d6ac-4776-8350-551d3be5c8a1",
   "metadata": {
    "slideshow": {
     "slide_type": "fragment"
    }
   },
   "outputs": [
    {
     "name": "stdout",
     "output_type": "stream",
     "text": [
      "X X O \n",
      "O O X \n",
      "X O X \n"
     ]
    }
   ],
   "source": [
    "tic_tac_toe()"
   ]
  },
  {
   "cell_type": "markdown",
   "id": "8cc49829-7c5d-456c-b03a-89f7f332456a",
   "metadata": {
    "slideshow": {
     "slide_type": "slide"
    }
   },
   "source": [
    "__Exercise:__ Write function `flip_player` that takes as argument a string `p` and if `p` is `\"X\"` then it returns `\"O\"` and otherwise it returns `\"X\"`"
   ]
  },
  {
   "cell_type": "code",
   "execution_count": 80,
   "id": "8e6f1bcb-fc84-4bd8-9f42-f6ad6f8c9622",
   "metadata": {
    "slideshow": {
     "slide_type": "fragment"
    }
   },
   "outputs": [],
   "source": [
    "def flip_player(p):\n",
    "    if p==\"X\":\n",
    "        return \"O\"\n",
    "    else:\n",
    "        return \"X\""
   ]
  },
  {
   "cell_type": "code",
   "execution_count": null,
   "id": "0e859019-7a98-453d-b131-40ad08dcb01d",
   "metadata": {
    "slideshow": {
     "slide_type": "skip"
    }
   },
   "outputs": [],
   "source": [
    "def flip_player(p):\n",
    "    if p==\"X\": \n",
    "        return \"O\"\n",
    "    return \"X\""
   ]
  },
  {
   "cell_type": "markdown",
   "id": "066d417a-2e54-4012-8660-6e5b1e24c6fb",
   "metadata": {
    "slideshow": {
     "slide_type": "slide"
    }
   },
   "source": [
    "Integrating this into new code"
   ]
  },
  {
   "cell_type": "code",
   "execution_count": 84,
   "id": "b86dc5fe-7283-4f70-b76d-c583ab5dc39a",
   "metadata": {
    "slideshow": {
     "slide_type": "slide"
    }
   },
   "outputs": [],
   "source": [
    "def tic_tac_toe():\n",
    "    board = [[\".\",\".\",\".\"], [\".\",\".\",\".\"],[\".\",\".\",\".\"]]\n",
    "    print_nicer(board)\n",
    "    player = \"X\" #<--- ADDED\n",
    "    for x in range(9):\n",
    "        # REMOVED player = input(\"Player:\")\n",
    "        i = int(input(\"row:\"))\n",
    "        j = int(input(\"col:\"))\n",
    "        board[i][j] = player\n",
    "        clear_output()\n",
    "        print_nicer(board)\n",
    "        player = flip_player(player) #<--- ADDED\n"
   ]
  },
  {
   "cell_type": "code",
   "execution_count": 85,
   "id": "f41d76a8-8fa6-401b-b3a3-16e3bcdd5d71",
   "metadata": {
    "slideshow": {
     "slide_type": "fragment"
    },
    "tags": []
   },
   "outputs": [
    {
     "name": "stdout",
     "output_type": "stream",
     "text": [
      "O X O \n",
      "O X X \n",
      "X O X \n"
     ]
    }
   ],
   "source": [
    "tic_tac_toe()"
   ]
  },
  {
   "cell_type": "markdown",
   "id": "651d8a4a-312b-48f8-a9c6-ea3949e49038",
   "metadata": {
    "slideshow": {
     "slide_type": "slide"
    }
   },
   "source": [
    "__Exercise:__ Write a function \n",
    "\n",
    "```python \n",
    "def did_player_win(player,board):\n",
    "    \"\"\"player - either \"X\" or \"O\"\n",
    "       return True if player wins\"\"\"\n",
    "```\n",
    "that takes as input `player` which can be either `\"X\"` or `\"O\"` and the current state of the board, and returns `True` if the player won in this board (has 3 horizontal vertical or diagonal) and `False` if not. Start with just __center vertical line__"
   ]
  },
  {
   "cell_type": "markdown",
   "id": "935b2c46-8f62-435f-972a-69b3a2685523",
   "metadata": {
    "slideshow": {
     "slide_type": "fragment"
    }
   },
   "source": [
    "```python\n",
    "board = [['O', 'X', 'O'],\n",
    "         ['.', 'X', '.'],\n",
    "         ['.', 'X', '.']]\n",
    "print(did_player_win(\"X\",board))\n",
    "print(did_player_win(\"O\",board))\n",
    "True\n",
    "False\n",
    "```\n",
    "\n",
    "Start with just __center vertical line__, then do all vertical lines."
   ]
  },
  {
   "cell_type": "code",
   "execution_count": 87,
   "id": "a5062887-f875-47dc-bbf8-530cef0825eb",
   "metadata": {
    "slideshow": {
     "slide_type": "slide"
    }
   },
   "outputs": [],
   "source": [
    "# start easy - just check the center vertical line\n",
    "\n",
    "def did_player_win(player,board):  \n",
    "    # What we want\n",
    "    #if board[0][1]==board[1][1]==board[2][1]==player:\n",
    "    if (board[0][1]==player) and (board[1][1]==player) and (board[2][1]==player):\n",
    "        return True\n",
    "    \n",
    "    if (board[0][0]==player) and (board[1][0]==player) and (board[2][0]==player):\n",
    "        return True\n",
    "    \n",
    "    return False"
   ]
  },
  {
   "cell_type": "code",
   "execution_count": null,
   "id": "ba8de74c-4cc4-4d5d-8215-d2b41d5105cf",
   "metadata": {
    "slideshow": {
     "slide_type": "skip"
    }
   },
   "outputs": [],
   "source": [
    "def did_player_win(player,board):  \n",
    "    if (board[0][1]==player) and (board[1][1]==player) and (board[2][1]==player):\n",
    "        return True\n",
    "    return False"
   ]
  },
  {
   "cell_type": "code",
   "execution_count": 88,
   "id": "d9f7d796-f162-4ffa-8eb7-ec1dd9184ddf",
   "metadata": {
    "slideshow": {
     "slide_type": "fragment"
    }
   },
   "outputs": [
    {
     "name": "stdout",
     "output_type": "stream",
     "text": [
      "True\n",
      "False\n"
     ]
    }
   ],
   "source": [
    "board = [['O', 'X', 'O'],\n",
    "         ['.', 'X', '.'],\n",
    "         ['.', 'X', '.']] \n",
    "\n",
    "print(did_player_win(\"X\",board))\n",
    "\n",
    "print(did_player_win(\"O\",board))"
   ]
  },
  {
   "cell_type": "markdown",
   "id": "ba151a8e-5922-4ea6-b962-d7ae5889f9d7",
   "metadata": {
    "slideshow": {
     "slide_type": "slide"
    }
   },
   "source": [
    "All vertical lines"
   ]
  },
  {
   "cell_type": "code",
   "execution_count": null,
   "id": "7af39df3-11d3-46cd-b3d1-da5d80c31d0d",
   "metadata": {
    "slideshow": {
     "slide_type": "fragment"
    }
   },
   "outputs": [],
   "source": [
    "def did_player_win(player,board):   \n",
    "    # vertical    \n",
    "    if (board[0][0]==player) and (board[1][0]==player) and (board[2][0]==player):\n",
    "        return True\n",
    "    if (board[0][1]==player) and (board[1][1]==player) and (board[2][1]==player):\n",
    "        return True\n",
    "    if (board[0][2]==player) and (board[1][2]==player) and (board[2][2]==player):\n",
    "        return True\n",
    "    return False"
   ]
  },
  {
   "cell_type": "code",
   "execution_count": null,
   "id": "8e68030f-77fd-43bb-9c42-41a306c6b553",
   "metadata": {
    "slideshow": {
     "slide_type": "fragment"
    }
   },
   "outputs": [],
   "source": [
    "board = [['O', 'O', 'X'],\n",
    "         ['.', 'O', 'X'],\n",
    "         ['.', 'X', 'X']] \n",
    "\n",
    "print(did_player_win(\"X\",board))\n",
    "\n",
    "print(did_player_win(\"O\",board))"
   ]
  },
  {
   "cell_type": "markdown",
   "id": "8e7a99de-2cff-4294-abfd-b3091b04483f",
   "metadata": {
    "slideshow": {
     "slide_type": "slide"
    }
   },
   "source": [
    "We can extend this to all 8 ways of winning by making 8 if statements"
   ]
  },
  {
   "cell_type": "code",
   "execution_count": 89,
   "id": "6dd37897-ba08-4ee3-838b-f37c1e186dbe",
   "metadata": {
    "slideshow": {
     "slide_type": "fragment"
    }
   },
   "outputs": [],
   "source": [
    "def did_player_win(player,board):   \n",
    "    # horizontal\n",
    "    if (board[0][0]==player) and (board[0][1]==player) and (board[0][2]==player):\n",
    "        return True\n",
    "    if (board[1][0]==player) and (board[1][1]==player) and (board[1][2]==player):\n",
    "        return True\n",
    "    if (board[2][0]==player) and (board[2][1]==player) and (board[2][2]==player):\n",
    "        return True\n",
    "    \n",
    "    # vertical    \n",
    "    if (board[0][0]==player) and (board[1][0]==player) and (board[2][0]==player):\n",
    "        return True\n",
    "    if (board[0][1]==player) and (board[1][1]==player) and (board[2][1]==player):\n",
    "        return True\n",
    "    if (board[0][2]==player) and (board[1][2]==player) and (board[2][2]==player):\n",
    "        return True\n",
    "    \n",
    "    # diagonal    \n",
    "    if (board[0][0]==player) and (board[1][1]==player) and (board[2][2]==player):\n",
    "        return True\n",
    "    \n",
    "    if (board[2][0]==player) and (board[1][1]==player) and (board[0][2]==player):\n",
    "        return True\n",
    "    \n",
    "    return False"
   ]
  },
  {
   "cell_type": "markdown",
   "id": "2eb11144-2188-4982-b6f0-f0926ef2ba3e",
   "metadata": {
    "slideshow": {
     "slide_type": "slide"
    }
   },
   "source": [
    "We now modify our code so that we break if a player win and announce that"
   ]
  },
  {
   "cell_type": "code",
   "execution_count": 91,
   "id": "07bead7a-7cee-4ab0-a336-8ce8f11fa196",
   "metadata": {
    "slideshow": {
     "slide_type": "fragment"
    }
   },
   "outputs": [],
   "source": [
    "def tic_tac_toe():\n",
    "    board = [[\".\",\".\",\".\"], [\".\",\".\",\".\"],[\".\",\".\",\".\"]]\n",
    "    print_nicer(board)\n",
    "    player = \"X\" \n",
    "    for x in range(9):\n",
    "        i = int(input(\"row:\"))\n",
    "        j = int(input(\"col:\"))\n",
    "        board[i][j] = player\n",
    "        clear_output()\n",
    "        print_nicer(board)\n",
    "        if did_player_win(player,board): #<-- ADDED\n",
    "            print(f\"Player {player} won!\")\n",
    "            return\n",
    "        player = flip_player(player) "
   ]
  },
  {
   "cell_type": "code",
   "execution_count": 92,
   "id": "9773bbe9-97f8-4bb0-ab38-b5ae90fc023f",
   "metadata": {
    "slideshow": {
     "slide_type": "fragment"
    }
   },
   "outputs": [
    {
     "name": "stdout",
     "output_type": "stream",
     "text": [
      ". X . \n",
      ". X O \n",
      ". X O \n",
      "Player X won!\n"
     ]
    }
   ],
   "source": [
    "tic_tac_toe()"
   ]
  },
  {
   "cell_type": "markdown",
   "id": "3ae14602-9151-4c77-8a6b-a62743f6dcde",
   "metadata": {
    "slideshow": {
     "slide_type": "skip"
    }
   },
   "source": [
    "Can we make `did_player_win` simpler using loops?"
   ]
  },
  {
   "cell_type": "code",
   "execution_count": null,
   "id": "8b049cf4-0aec-4ba5-9775-e385ca52198d",
   "metadata": {
    "slideshow": {
     "slide_type": "skip"
    }
   },
   "outputs": [],
   "source": [
    "def did_player_win(player,board):   \n",
    "    # horizontal\n",
    "    for i in range(3):\n",
    "        if (board[i][0]==player) and (board[i][1]==player) and (board[i][2]==player):\n",
    "            return True\n",
    "\n",
    "    # vertical\n",
    "    for j in range(3):\n",
    "        if (board[0][j]==player) and (board[1][j]==player) and (board[2][j]==player):\n",
    "            return True\n",
    "    \n",
    "    # diagonal    \n",
    "    if (board[0][0]==player) and (board[1][1]==player) and (board[2][2]==player):\n",
    "        return True\n",
    "    \n",
    "    if (board[2][0]==player) and (board[1][1]==player) and (board[0][2]==player):\n",
    "        return True\n",
    "    \n",
    "    return False"
   ]
  },
  {
   "cell_type": "markdown",
   "id": "3b743e66",
   "metadata": {
    "slideshow": {
     "slide_type": "slide"
    }
   },
   "source": [
    "### Optional: check if space is taken"
   ]
  },
  {
   "cell_type": "markdown",
   "id": "9b5bf565-6ca4-4893-8444-0c9e9ce10783",
   "metadata": {
    "slideshow": {
     "slide_type": "slide"
    }
   },
   "source": [
    "__Exercise:__ Write a function `free(board,i,j)` that on input a board and positions `i` and `j`, returns `True` if that position in the board is free (contains `.`) and returns `False` otherwise"
   ]
  },
  {
   "cell_type": "code",
   "execution_count": null,
   "id": "e3056fe2-1699-4acb-bc7b-9562fe9b92e7",
   "metadata": {
    "slideshow": {
     "slide_type": "fragment"
    }
   },
   "outputs": [],
   "source": [
    "def free(board,i,j):\n",
    "    ..."
   ]
  },
  {
   "cell_type": "code",
   "execution_count": null,
   "id": "04e9d8a2-b8f4-4bf9-8e54-523c28489b3d",
   "metadata": {
    "slideshow": {
     "slide_type": "skip"
    }
   },
   "outputs": [],
   "source": [
    "def free(board,i,j):\n",
    "    if board[i][j]=='.': return True\n",
    "    return False"
   ]
  },
  {
   "cell_type": "markdown",
   "id": "ed9e4cc2-1345-4f2c-bfe1-6d155a45278e",
   "metadata": {
    "slideshow": {
     "slide_type": "slide"
    }
   },
   "source": [
    "Now we can change the game so that invalid moves are not allowed. For simplicity we will just call it an error and quit the game"
   ]
  },
  {
   "cell_type": "code",
   "execution_count": null,
   "id": "ba1f0d33-214b-40ee-96c0-77d41e580b63",
   "metadata": {
    "slideshow": {
     "slide_type": "fragment"
    }
   },
   "outputs": [],
   "source": [
    "def tic_tac_toe():\n",
    "    board = [[\".\",\".\",\".\"], [\".\",\".\",\".\"],[\".\",\".\",\".\"]]\n",
    "    print_nicer(board)\n",
    "    player = \"X\" \n",
    "    for x in range(9):\n",
    "        i = int(input(\"row:\"))\n",
    "        j = int(input(\"col:\"))\n",
    "        if not free(board,i,j): #<-- ADDED\n",
    "            print(f\"Invalid move! {i},{j} is taken!\")\n",
    "            return\n",
    "        board[i][j] = player\n",
    "        clear_output()\n",
    "        print_nicer(board)\n",
    "        if did_player_win(player,board):\n",
    "            print(f\"Player {player} won!\")\n",
    "            return\n",
    "        player = flip_player(player) "
   ]
  },
  {
   "cell_type": "code",
   "execution_count": null,
   "id": "d9c490d2-3aaa-4f9c-8d6d-d09b77e8b4e8",
   "metadata": {
    "slideshow": {
     "slide_type": "fragment"
    }
   },
   "outputs": [],
   "source": [
    "tic_tac_toe()"
   ]
  },
  {
   "cell_type": "markdown",
   "id": "da708710-70c1-4709-abd5-bcfb424c4ad1",
   "metadata": {
    "slideshow": {
     "slide_type": "slide"
    }
   },
   "source": [
    "# Extra: ChatGPT"
   ]
  },
  {
   "cell_type": "code",
   "execution_count": null,
   "id": "e6892fdf-7f7b-450e-83ef-411269dfe0b9",
   "metadata": {
    "slideshow": {
     "slide_type": "skip"
    }
   },
   "outputs": [],
   "source": [
    "import openai\n",
    "import os\n",
    "from IPython.display import clear_output\n",
    "openai.api_key = os.getenv(\"OPENAI_API_KEY\")\n",
    "if not openai.api_key:\n",
    "    print(\"WARNING: no api key set\")\n",
    "    key = input(\"Input API KEY:\")\n",
    "    os.environ[\"OPENAI_API_KEY\"] = key\n",
    "    openai.api_key = os.getenv(\"OPENAI_API_KEY\")\n",
    "    clear_output()"
   ]
  },
  {
   "cell_type": "code",
   "execution_count": null,
   "id": "b6129702-b76a-49b6-8cb3-477b18e5950b",
   "metadata": {
    "slideshow": {
     "slide_type": "skip"
    }
   },
   "outputs": [],
   "source": [
    "MODEL, MAX_TOKENS = \"gpt-4\", 8192\n",
    "#MODEL, MAX_TOKENS = \"gpt-3.5-turbo\", 4096\n",
    "SYSTEM_PROMPT = \"You are a research assistant.\""
   ]
  },
  {
   "cell_type": "code",
   "execution_count": null,
   "id": "e2c44bd7-2572-49ce-8a00-3f173d91ae66",
   "metadata": {
    "slideshow": {
     "slide_type": "skip"
    }
   },
   "outputs": [],
   "source": [
    "def chat(message):\n",
    "    try:\n",
    "        history = [{\"role\": \"system\", \"content\": SYSTEM_PROMPT}, {\"role\": \"user\", \"content\": message}]\n",
    "        params = dict(\n",
    "          model = MODEL,\n",
    "          messages= history,\n",
    "          n=1,\n",
    "          temperature=0,\n",
    "          top_p=1,\n",
    "          frequency_penalty=0,\n",
    "          presence_penalty=0,\n",
    "          )\n",
    "        response = openai.ChatCompletion.create(**params)\n",
    "    except Exception as e:\n",
    "        print(f\"Error {e}\")\n",
    "        print(\"Messsage:\\n\",message)\n",
    "        raise e\n",
    "\n",
    "    return  response.choices[0]['message']['content']"
   ]
  },
  {
   "cell_type": "code",
   "execution_count": 93,
   "id": "8f3a3726-0472-4859-b0ad-2fa70926bf65",
   "metadata": {
    "slideshow": {
     "slide_type": "slide"
    }
   },
   "outputs": [
    {
     "name": "stdout",
     "output_type": "stream",
     "text": [
      "1. Jamaica College: Founded in 1789, Jamaica College is one of the oldest and most respected high schools in Jamaica. It is a prominent all-boys institution known for its strong academic and sports programs.\n",
      "\n",
      "2. Kingston College: Also known as KC, Kingston College is a prominent all-boys school in Kingston, Jamaica. It is known for its strong emphasis on discipline and academic excellence.\n",
      "\n",
      "3. Campion College: This is a co-educational school located in Kingston, Jamaica. It is one of the top performing schools in the country and is known for its strong emphasis on academics and extracurricular activities.\n",
      "\n",
      "4. Wolmer's Boys' School and Wolmer's Girls' School: These are two of the oldest high schools in Jamaica, founded in 1729. They are known for their strong academic programs and contribution to sports in Jamaica.\n",
      "\n",
      "5. St. Andrew High School for Girls: This is one of the leading girls' schools in Jamaica, known for its strong academic performance and emphasis on character development.\n",
      "\n",
      "6. Munro College: This is an all-boys boarding school located in St. Elizabeth, Jamaica. It is one of the oldest high schools in the country and is known for its strong academic and sports programs.\n",
      "\n",
      "7. Immaculate Conception High School: This is a Roman Catholic all-girls school located in Kingston, Jamaica. It is known for its strong academic performance and emphasis on character development.\n",
      "\n",
      "8. St. George's College: This is a Roman Catholic high school for boys in Kingston, Jamaica. It is one of the oldest and most respected schools in the country.\n",
      "\n",
      "9. Ardenne High School: This is a co-educational secondary school in Kingston, Jamaica. It is known for its strong academic performance and emphasis on character development.\n",
      "\n",
      "10. Hampton School: This is an all-girls boarding school located in Malvern, Jamaica. It is known for its strong academic and sports programs.\n"
     ]
    }
   ],
   "source": [
    "response = chat(\"What are some famous high schools in Jamaica?\")\n",
    "print(response)"
   ]
  },
  {
   "cell_type": "code",
   "execution_count": 94,
   "id": "86aab873-71ed-4df5-92ba-9fa2303a536b",
   "metadata": {
    "slideshow": {
     "slide_type": "slide"
    }
   },
   "outputs": [
    {
     "name": "stdout",
     "output_type": "stream",
     "text": [
      "[ \"Kingston College\", \"Wolmer's Boys' School\", \"Jamaica College\", \"St. George's College\", \"Calabar High School\", \"Munro College\", \"St. Jago High School\", \"Camperdown High School\", \"Immaculate Conception High School\", \"St. Andrew High School for Girls\" ]\n"
     ]
    }
   ],
   "source": [
    "response = chat(\"\"\"What are some famous high schools in Jamaica? \n",
    "Write the names of the schools only, surrounded by quotation marks and separated by commas.\"\"\")\n",
    "print(\"[ \" + response+ \" ]\")"
   ]
  },
  {
   "cell_type": "code",
   "execution_count": null,
   "id": "84c4b177-fea3-4d45-a135-cd0ec7f0e54f",
   "metadata": {
    "slideshow": {
     "slide_type": "skip"
    }
   },
   "outputs": [],
   "source": [
    "schools = response.split(\",\")\n",
    "print(schools)"
   ]
  },
  {
   "cell_type": "code",
   "execution_count": 95,
   "id": "145c8e2d-4653-4365-b6d5-ca3afa68bb84",
   "metadata": {
    "slideshow": {
     "slide_type": "slide"
    }
   },
   "outputs": [],
   "source": [
    "def twenty_questions():\n",
    "    prompt = '''We are playing 20 questions. \n",
    "I am thinking of something or someone related to Jamaica and you are guessing. \n",
    "You can ask me a yes or no question or make a guess. \n",
    "If some questions and answers are written below then you can use them.\n",
    "'''\n",
    "    for i in range(20):\n",
    "        question = chat(prompt)\n",
    "        print(question)\n",
    "        response = input(\"Answer (yes/no/quit):\")\n",
    "        if response==\"quit\":\n",
    "            return\n",
    "        prompt += f\"\\nQuestion {i+1}: {question}\\nAnswer {i+1}: {response}\" \n"
   ]
  },
  {
   "cell_type": "code",
   "execution_count": 97,
   "id": "9f3a5550-9253-4149-ba73-411bbb29a647",
   "metadata": {
    "slideshow": {
     "slide_type": "fragment"
    }
   },
   "outputs": [
    {
     "name": "stdout",
     "output_type": "stream",
     "text": [
      "Is it a person?\n",
      "Answer (yes/no/quit):yes\n",
      "Question 2: Is this person alive?\n",
      "Answer (yes/no/quit):yes\n",
      "Question 3: Is this person involved in the music industry?\n",
      "Answer (yes/no/quit):yes\n",
      "Question 4: Is this person a reggae artist?\n",
      "Answer (yes/no/quit):yes\n",
      "Question 5: Is this person a male?\n",
      "Answer (yes/no/quit):yes\n",
      "Question 6: Has this person won a Grammy award?\n",
      "Answer (yes/no/quit):yes\n",
      "Question 7: Is this person over 50 years old?\n",
      "Answer (yes/no/quit):no\n",
      "Question 8: Is this person associated with the Marley family?\n",
      "Answer (yes/no/quit):no\n",
      "Question 9: Has this person released an album in the last 5 years?\n",
      "Answer (yes/no/quit):yes\n",
      "Question 10: Has this person collaborated with international artists?\n",
      "Answer (yes/no/quit):yes\n",
      "Question 11: Has this person ever performed at the Reggae Sumfest?\n",
      "Answer (yes/no/quit):yes\n",
      "Question 12: Has this person ever been nominated for a MOBO award?\n",
      "Answer (yes/no/quit):no\n",
      "Question 13: Has this person ever been involved in acting?\n",
      "Answer (yes/no/quit):no\n",
      "Question 14: Has this person ever been involved in a controversy?\n",
      "Answer (yes/no/quit):no\n",
      "Question 15: Has this person ever been featured on a Billboard chart?\n",
      "Answer (yes/no/quit):yes\n",
      "Question 16: Has this person ever been signed to a major record label?\n",
      "Answer (yes/no/quit):yes\n",
      "Question 17: Has this person ever released a single that reached number one on any chart?\n",
      "Answer (yes/no/quit):yes\n",
      "Question 18: Has this person ever been nominated for a BET award?\n",
      "Answer (yes/no/quit):no\n",
      "Question 19: Has this person ever been involved in philanthropy or charity work?\n",
      "Answer (yes/no/quit):yes\n",
      "Question 20: Has this person ever been nominated for a Juno Award?\n",
      "Answer (yes/no/quit):no\n"
     ]
    }
   ],
   "source": [
    "twenty_questions()"
   ]
  }
 ],
 "metadata": {
  "celltoolbar": "Slideshow",
  "kernelspec": {
   "display_name": "tcs",
   "language": "python",
   "name": "tcs"
  },
  "language_info": {
   "codemirror_mode": {
    "name": "ipython",
    "version": 3
   },
   "file_extension": ".py",
   "mimetype": "text/x-python",
   "name": "python",
   "nbconvert_exporter": "python",
   "pygments_lexer": "ipython3",
   "version": "3.9.14"
  }
 },
 "nbformat": 4,
 "nbformat_minor": 5
}
