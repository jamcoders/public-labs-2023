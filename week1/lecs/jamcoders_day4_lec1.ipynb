{
 "cells": [
  {
   "cell_type": "markdown",
   "id": "a0f6f5c4",
   "metadata": {
    "slideshow": {
     "slide_type": "slide"
    }
   },
   "source": [
    "# JamCoders Day 4 Lecture 1\n",
    "\n",
    "Review of loops, lists, functions"
   ]
  },
  {
   "cell_type": "markdown",
   "id": "8f1be87a-3d84-4e50-9c4f-23f1e1522a6e",
   "metadata": {
    "slideshow": {
     "slide_type": "slide"
    },
    "tags": []
   },
   "source": [
    "# Loops"
   ]
  },
  {
   "cell_type": "markdown",
   "id": "0b9a1a3b-e14b-43b7-a7b7-131ec0d414a9",
   "metadata": {
    "slideshow": {
     "slide_type": "slide"
    }
   },
   "source": [
    "__English:__ Do `SOMETHING` 10 times\n",
    "\n",
    "__Python:__ \n",
    "```python\n",
    "for i in range(10):\n",
    "    SOMETHING(i)\n",
    "```"
   ]
  },
  {
   "cell_type": "markdown",
   "id": "c26acb99-7166-43ac-9f22-b48708acf5c2",
   "metadata": {
    "slideshow": {
     "slide_type": "slide"
    }
   },
   "source": [
    "__English:__ Go over every element `x` of a list `L` and do `SOMETHING` to `x`\n",
    "\n",
    "__Python:__\n",
    "```python\n",
    "for x in L:\n",
    "    SOMETHING(x)\n",
    "```"
   ]
  },
  {
   "cell_type": "markdown",
   "id": "44e2e44c-fc60-480d-9df0-6882d4715bd5",
   "metadata": {
    "slideshow": {
     "slide_type": "fragment"
    }
   },
   "source": [
    "or\n",
    "```python\n",
    "for i in range(len(L)):\n",
    "    SOMETHING(L[i])\n",
    "```"
   ]
  },
  {
   "cell_type": "markdown",
   "id": "0fcff62c",
   "metadata": {
    "slideshow": {
     "slide_type": "slide"
    }
   },
   "source": [
    "__Memory trick:__\n",
    "\n",
    "* Use `i`, `j`, `n` for variables that are *integers*\n",
    "\n",
    "* Use `x`, `y`, `z` for variables that can be anything (elements of lists that can be `int`,`str`,`float`, even `list`)\n",
    "\n",
    "* Use `L` for lists, and `s` for strings\n",
    "\n",
    "_Best memory trick:_ Use a longer name so easy to remember what the variable is supposed to be\n",
    "\n"
   ]
  },
  {
   "cell_type": "code",
   "execution_count": 45,
   "id": "16dd1b35-969e-457c-9feb-1be162dacd08",
   "metadata": {
    "slideshow": {
     "slide_type": "slide"
    }
   },
   "outputs": [],
   "source": [
    "schools = ['Campion College', 'Immaculate Conception High School',\n",
    "           'Jamaica College', 'Kingston College', \n",
    "           'St. Andrew High School for Girls', \"St. George's College\", \"Wolmer's Boys' School\"]"
   ]
  },
  {
   "cell_type": "code",
   "execution_count": 46,
   "id": "9c199ad9-b144-4b08-ac62-439714e79d47",
   "metadata": {
    "slideshow": {
     "slide_type": "slide"
    }
   },
   "outputs": [
    {
     "name": "stdout",
     "output_type": "stream",
     "text": [
      "Campion College\n",
      "Immaculate Conception High School\n",
      "Jamaica College\n",
      "Kingston College\n",
      "St. Andrew High School for Girls\n",
      "St. George's College\n",
      "Wolmer's Boys' School\n"
     ]
    }
   ],
   "source": [
    "for x in schools:\n",
    "    print(x)"
   ]
  },
  {
   "cell_type": "code",
   "execution_count": 47,
   "id": "19ddee97-230b-47a8-bb6e-1794985838b7",
   "metadata": {
    "slideshow": {
     "slide_type": "fragment"
    }
   },
   "outputs": [
    {
     "name": "stdout",
     "output_type": "stream",
     "text": [
      "Campion College\n",
      "Immaculate Conception High School\n",
      "Jamaica College\n",
      "Kingston College\n",
      "St. Andrew High School for Girls\n",
      "St. George's College\n",
      "Wolmer's Boys' School\n"
     ]
    }
   ],
   "source": [
    "for x in range(len(schools)):\n",
    "    print(schools[x])"
   ]
  },
  {
   "cell_type": "code",
   "execution_count": 48,
   "id": "d9e4b312-a4e8-4a97-805c-950c93a0bccb",
   "metadata": {
    "slideshow": {
     "slide_type": "fragment"
    }
   },
   "outputs": [
    {
     "name": "stdout",
     "output_type": "stream",
     "text": [
      "0\n",
      "1\n",
      "2\n",
      "3\n",
      "4\n",
      "5\n",
      "6\n"
     ]
    }
   ],
   "source": [
    "for x in range(len(schools)):\n",
    "    print(x)"
   ]
  },
  {
   "cell_type": "code",
   "execution_count": 49,
   "id": "2397a663-c98c-44b9-900c-4397f7ffd5d4",
   "metadata": {
    "slideshow": {
     "slide_type": "fragment"
    }
   },
   "outputs": [
    {
     "ename": "TypeError",
     "evalue": "'list' object cannot be interpreted as an integer",
     "output_type": "error",
     "traceback": [
      "\u001b[0;31m---------------------------------------------------------------------------\u001b[0m",
      "\u001b[0;31mTypeError\u001b[0m                                 Traceback (most recent call last)",
      "Input \u001b[0;32mIn [49]\u001b[0m, in \u001b[0;36m<cell line: 1>\u001b[0;34m()\u001b[0m\n\u001b[0;32m----> 1\u001b[0m \u001b[38;5;28;01mfor\u001b[39;00m x \u001b[38;5;129;01min\u001b[39;00m \u001b[38;5;28;43mrange\u001b[39;49m\u001b[43m(\u001b[49m\u001b[43mschools\u001b[49m\u001b[43m)\u001b[49m:\n\u001b[1;32m      2\u001b[0m     \u001b[38;5;28mprint\u001b[39m(x)\n",
      "\u001b[0;31mTypeError\u001b[0m: 'list' object cannot be interpreted as an integer"
     ]
    }
   ],
   "source": [
    "for x in range(schools):\n",
    "    print(x)"
   ]
  },
  {
   "cell_type": "code",
   "execution_count": 50,
   "id": "ce67945f-7648-4d7d-b371-f4ddb02d5afa",
   "metadata": {
    "slideshow": {
     "slide_type": "slide"
    }
   },
   "outputs": [
    {
     "name": "stdout",
     "output_type": "stream",
     "text": [
      "St. Andrew High School for Girls\n",
      "St. George's College\n"
     ]
    }
   ],
   "source": [
    "for x in schools:\n",
    "    if x[:3]==\"St.\":\n",
    "        print(x)"
   ]
  },
  {
   "cell_type": "markdown",
   "id": "e798b15e-b9cd-4443-93e0-654b092a0244",
   "metadata": {
    "slideshow": {
     "slide_type": "slide"
    }
   },
   "source": [
    "# 3 Boom"
   ]
  },
  {
   "cell_type": "markdown",
   "id": "799eaf10-d6da-424b-8064-17e5b9f68e30",
   "metadata": {
    "slideshow": {
     "slide_type": "slide"
    }
   },
   "source": [
    "Write a function `three_boom` that on input an integer `n` prints all the numbers from `0` to `n-1` except that it prints `BOOM` whenever the integer is a multiple of `3`. _hint:_ Use the `%` operator\n",
    "\n",
    "```python\n",
    "three_boom(7)\n",
    "```\n",
    "```\n",
    "BOOM\n",
    "1\n",
    "2\n",
    "BOOM\n",
    "4\n",
    "5\n",
    "BOOM\n",
    "```"
   ]
  },
  {
   "cell_type": "code",
   "execution_count": 60,
   "id": "98129bf8-a844-43db-be14-7afeb2e2941c",
   "metadata": {
    "slideshow": {
     "slide_type": "fragment"
    }
   },
   "outputs": [],
   "source": [
    "def three_boom(n):\n",
    "    for x in range(n):\n",
    "        if x % 3 == 0:\n",
    "            print(\"BOOM\")\n",
    "        else:\n",
    "            print(x)\n",
    "\n",
    "            \n",
    "            \n",
    "\n",
    "            "
   ]
  },
  {
   "cell_type": "code",
   "execution_count": null,
   "id": "9634a0fa-4b27-4e7a-98e6-ba8a6971f1e0",
   "metadata": {
    "slideshow": {
     "slide_type": "skip"
    }
   },
   "outputs": [],
   "source": [
    "def three_boom(n):\n",
    "    for i in range(n):\n",
    "        if i % 3 == 0:\n",
    "            print(\"BOOM\")\n",
    "        else:\n",
    "            print(i)"
   ]
  },
  {
   "cell_type": "code",
   "execution_count": 61,
   "id": "32060c19-ba35-479d-b9fa-878e5455a54d",
   "metadata": {
    "slideshow": {
     "slide_type": "slide"
    }
   },
   "outputs": [
    {
     "name": "stdout",
     "output_type": "stream",
     "text": [
      "BOOM\n",
      "1\n",
      "2\n",
      "BOOM\n",
      "4\n",
      "5\n",
      "BOOM\n"
     ]
    }
   ],
   "source": [
    "three_boom(7)"
   ]
  },
  {
   "cell_type": "markdown",
   "id": "c2911565-124b-46f6-8782-6a0dd09d5bc3",
   "metadata": {
    "slideshow": {
     "slide_type": "slide"
    }
   },
   "source": [
    "# 3 Boom +"
   ]
  },
  {
   "cell_type": "markdown",
   "id": "127992b8-7a81-46ea-89a1-9385a505ed75",
   "metadata": {
    "slideshow": {
     "slide_type": "slide"
    }
   },
   "source": [
    "Write a function `three_boom_plus` that on input an integer `n` prints all the numbers from `0` to `n-1` except that it prints `BOOM` and the _sum_ of the numbers from 0 up to the integer if the integer is a multiple of 3.\n",
    "\n",
    "```python\n",
    "three_boom_plus(7)\n",
    "```\n",
    "```\n",
    "BOOM 0\n",
    "1\n",
    "2\n",
    "BOOM 6\n",
    "4\n",
    "5\n",
    "BOOM 21\n",
    "```"
   ]
  },
  {
   "cell_type": "code",
   "execution_count": 66,
   "id": "a481efa9-a914-41d8-820d-97b666757cf7",
   "metadata": {
    "slideshow": {
     "slide_type": "fragment"
    }
   },
   "outputs": [],
   "source": [
    "def compute_sum(x):\n",
    "    result = 0\n",
    "    for y in range(x+1):\n",
    "        result += y\n",
    "    return result\n",
    "\n",
    "def three_boom_plus(n):\n",
    "    for x in range(n):\n",
    "        if x % 3 == 0:\n",
    "            sum = compute_sum(x)\n",
    "            print(\"BOOM\", sum)\n",
    "        else:\n",
    "            print(x)   \n",
    "\n",
    "            \n",
    "            \n",
    "            \n",
    "            \n",
    "\n",
    "\n",
    "\n",
    "\n",
    "\n",
    "\n",
    "\n"
   ]
  },
  {
   "cell_type": "code",
   "execution_count": null,
   "id": "2d3bb2fb-bbf0-4186-91dd-2d7009ad9ab5",
   "metadata": {
    "slideshow": {
     "slide_type": "skip"
    }
   },
   "outputs": [],
   "source": [
    "def three_boom_plus(n):\n",
    "    for i in range(n):\n",
    "        if i % 3 == 0:\n",
    "            sum = 0\n",
    "            for j in range(i+1):\n",
    "                sum += j\n",
    "            print(\"BOOM\", sum)\n",
    "        else:\n",
    "            print(i)"
   ]
  },
  {
   "cell_type": "code",
   "execution_count": 67,
   "id": "f149992f-bce8-4fef-8d53-e5198781e3a7",
   "metadata": {
    "slideshow": {
     "slide_type": "slide"
    }
   },
   "outputs": [
    {
     "name": "stdout",
     "output_type": "stream",
     "text": [
      "BOOM 0\n",
      "1\n",
      "2\n",
      "BOOM 6\n",
      "4\n",
      "5\n",
      "BOOM 21\n"
     ]
    }
   ],
   "source": [
    "three_boom_plus(7)"
   ]
  }
 ],
 "metadata": {
  "celltoolbar": "Slideshow",
  "kernelspec": {
   "display_name": "tcs",
   "language": "python",
   "name": "tcs"
  },
  "language_info": {
   "codemirror_mode": {
    "name": "ipython",
    "version": 3
   },
   "file_extension": ".py",
   "mimetype": "text/x-python",
   "name": "python",
   "nbconvert_exporter": "python",
   "pygments_lexer": "ipython3",
   "version": "3.9.14"
  }
 },
 "nbformat": 4,
 "nbformat_minor": 5
}
