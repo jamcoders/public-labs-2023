{
 "cells": [
  {
   "cell_type": "markdown",
   "metadata": {
    "id": "hQffdjEi8shQ",
    "slideshow": {
     "slide_type": "slide"
    }
   },
   "source": [
    "# JamCoders Day 2 Lecture 2\n",
    "\n",
    "### Functions\n",
    "\n",
    "### Boaz Barak"
   ]
  },
  {
   "cell_type": "markdown",
   "metadata": {
    "id": "2zQZuHTK9C2J",
    "slideshow": {
     "slide_type": "slide"
    }
   },
   "source": [
    "# Basic function syntax"
   ]
  },
  {
   "cell_type": "markdown",
   "metadata": {
    "id": "G5ddOZg39C2J",
    "slideshow": {
     "slide_type": "slide"
    }
   },
   "source": [
    "```Python\n",
    "def FUNCTION_NAME(ARGUMENT1, ARGUMENT2):\n",
    "    FUNCTION_BODY\n",
    "    return RETURN_VALUE\n",
    "```"
   ]
  },
  {
   "cell_type": "markdown",
   "metadata": {
    "slideshow": {
     "slide_type": "fragment"
    }
   },
   "source": [
    "__indentation matters:__   This is not valid code\n",
    "```Python\n",
    "def FUNCTION_NAME(ARGUMENT1, ARGUMENT2):\n",
    "FUNCTION_BODY\n",
    "return RETURN_VALUE\n",
    "```"
   ]
  },
  {
   "cell_type": "code",
   "execution_count": 24,
   "metadata": {
    "id": "roWzCHFD9C2J",
    "slideshow": {
     "slide_type": "slide"
    }
   },
   "outputs": [],
   "source": [
    "def thisIsAFunction(x):\n",
    "    return x + 2"
   ]
  },
  {
   "cell_type": "code",
   "execution_count": 25,
   "metadata": {
    "id": "I8O-bk-09C2J",
    "outputId": "c2caa112-1644-43fc-bb6b-476136404028",
    "slideshow": {
     "slide_type": "fragment"
    }
   },
   "outputs": [
    {
     "name": "stdout",
     "output_type": "stream",
     "text": [
      "y= 102\n",
      "z= 59\n"
     ]
    }
   ],
   "source": [
    "y = thisIsAFunction(100)\n",
    "print(\"y=\",y)\n",
    "z = thisIsAFunction(57)\n",
    "print(\"z=\",z)"
   ]
  },
  {
   "cell_type": "markdown",
   "metadata": {
    "slideshow": {
     "slide_type": "slide"
    }
   },
   "source": [
    "The name of the  argument of the function does not have to be same as the one we use outside."
   ]
  },
  {
   "cell_type": "code",
   "execution_count": 26,
   "metadata": {
    "slideshow": {
     "slide_type": "fragment"
    }
   },
   "outputs": [],
   "source": [
    "def thisIsAFunction(x):\n",
    "    return x + 2"
   ]
  },
  {
   "cell_type": "code",
   "execution_count": 27,
   "metadata": {
    "slideshow": {
     "slide_type": "fragment"
    }
   },
   "outputs": [
    {
     "name": "stdout",
     "output_type": "stream",
     "text": [
      "7\n"
     ]
    }
   ],
   "source": [
    "w = 5\n",
    "result = thisIsAFunction(w)\n",
    "print(result)"
   ]
  },
  {
   "cell_type": "markdown",
   "metadata": {
    "slideshow": {
     "slide_type": "slide"
    }
   },
   "source": [
    "Changing the name does not change the function"
   ]
  },
  {
   "cell_type": "code",
   "execution_count": 28,
   "metadata": {
    "slideshow": {
     "slide_type": "fragment"
    }
   },
   "outputs": [],
   "source": [
    "def thisIsAFunction(blah):\n",
    "    return blah + 2"
   ]
  },
  {
   "cell_type": "code",
   "execution_count": 29,
   "metadata": {
    "slideshow": {
     "slide_type": "fragment"
    }
   },
   "outputs": [
    {
     "name": "stdout",
     "output_type": "stream",
     "text": [
      "7\n"
     ]
    }
   ],
   "source": [
    "w = 5\n",
    "result = thisIsAFunction(w)\n",
    "print(result)"
   ]
  },
  {
   "cell_type": "markdown",
   "metadata": {
    "slideshow": {
     "slide_type": "slide"
    }
   },
   "source": [
    "__Exercise:__ Write a function `square` that takes an input $x$ and returns $x^2$ \n",
    "\n",
    "So if we run:\n",
    "```Python\n",
    "y = square(4)\n",
    "print(y)\n",
    "```\n",
    "\n",
    "The printed value would be `16`"
   ]
  },
  {
   "cell_type": "code",
   "execution_count": 30,
   "metadata": {
    "slideshow": {
     "slide_type": "fragment"
    }
   },
   "outputs": [],
   "source": [
    "def square(x):\n",
    "    return x*x"
   ]
  },
  {
   "cell_type": "code",
   "execution_count": null,
   "metadata": {
    "slideshow": {
     "slide_type": "skip"
    }
   },
   "outputs": [],
   "source": [
    "def square(x):\n",
    "    return x*x"
   ]
  },
  {
   "cell_type": "code",
   "execution_count": 37,
   "metadata": {
    "slideshow": {
     "slide_type": "fragment"
    }
   },
   "outputs": [
    {
     "name": "stdout",
     "output_type": "stream",
     "text": [
      "1172026940144641\n"
     ]
    }
   ],
   "source": [
    "y = square(34234879)\n",
    "print(y)"
   ]
  },
  {
   "cell_type": "code",
   "execution_count": 39,
   "metadata": {
    "id": "6Z3EIxOu9C2J",
    "slideshow": {
     "slide_type": "slide"
    }
   },
   "outputs": [
    {
     "name": "stdout",
     "output_type": "stream",
     "text": [
      "58\n"
     ]
    }
   ],
   "source": [
    "def function2(x):\n",
    "    temp_var = x + 3\n",
    "    return temp_var\n",
    "print(function2(55))"
   ]
  },
  {
   "cell_type": "code",
   "execution_count": 40,
   "metadata": {
    "slideshow": {
     "slide_type": "fragment"
    }
   },
   "outputs": [
    {
     "name": "stdout",
     "output_type": "stream",
     "text": [
      "25\n"
     ]
    },
    {
     "ename": "NameError",
     "evalue": "name 'temp_var' is not defined",
     "output_type": "error",
     "traceback": [
      "\u001b[0;31m---------------------------------------------------------------------------\u001b[0m",
      "\u001b[0;31mNameError\u001b[0m                                 Traceback (most recent call last)",
      "Input \u001b[0;32mIn [40]\u001b[0m, in \u001b[0;36m<cell line: 3>\u001b[0;34m()\u001b[0m\n\u001b[1;32m      1\u001b[0m \u001b[38;5;66;03m# What will happen? Trick question\u001b[39;00m\n\u001b[1;32m      2\u001b[0m \u001b[38;5;28mprint\u001b[39m(function2(\u001b[38;5;241m22\u001b[39m))\n\u001b[0;32m----> 3\u001b[0m \u001b[38;5;28mprint\u001b[39m(\u001b[43mtemp_var\u001b[49m)\n",
      "\u001b[0;31mNameError\u001b[0m: name 'temp_var' is not defined"
     ]
    }
   ],
   "source": [
    "# What will happen? Trick question\n",
    "print(function2(22))\n",
    "print(temp_var)"
   ]
  },
  {
   "cell_type": "code",
   "execution_count": 41,
   "metadata": {
    "id": "Qw4Y9qje9C2K",
    "outputId": "288efb6c-df61-48ba-f118-02fc48ebd91d",
    "slideshow": {
     "slide_type": "fragment"
    }
   },
   "outputs": [
    {
     "name": "stdout",
     "output_type": "stream",
     "text": [
      "y =100, z =103, w =106\n"
     ]
    }
   ],
   "source": [
    "y = 100\n",
    "z = function2(y)\n",
    "w = function2(z)\n",
    "print(f\"y ={y}, z ={z}, w ={w}\")"
   ]
  },
  {
   "cell_type": "markdown",
   "metadata": {
    "slideshow": {
     "slide_type": "fragment"
    }
   },
   "source": [
    "_move to powerpoint_"
   ]
  },
  {
   "cell_type": "code",
   "execution_count": 42,
   "metadata": {
    "id": "n8Fnwmpd9C2K",
    "slideshow": {
     "slide_type": "slide"
    }
   },
   "outputs": [],
   "source": [
    "# Function names DO NOT represent what the function does!\n",
    "def multThree(x):\n",
    "    return x * 2"
   ]
  },
  {
   "cell_type": "code",
   "execution_count": 43,
   "metadata": {
    "id": "c7Ymoz0Z9C2K",
    "outputId": "7cc30f2d-5970-41f1-a4aa-8e2f0c53d2f2",
    "slideshow": {
     "slide_type": "fragment"
    }
   },
   "outputs": [
    {
     "data": {
      "text/plain": [
       "4"
      ]
     },
     "execution_count": 43,
     "metadata": {},
     "output_type": "execute_result"
    }
   ],
   "source": [
    "multThree(2)"
   ]
  },
  {
   "cell_type": "code",
   "execution_count": 44,
   "metadata": {
    "id": "QKgkq4A49C2K",
    "outputId": "4dd5e686-6460-42d3-b809-a3dfeb9c51a8",
    "slideshow": {
     "slide_type": "slide"
    }
   },
   "outputs": [
    {
     "name": "stdout",
     "output_type": "stream",
     "text": [
      "3\n",
      "6\n",
      "4\n"
     ]
    }
   ],
   "source": [
    "# You can call functions in functions\n",
    "# You can also call functions on results of functions\n",
    "def identityFunction(x):\n",
    "    return x\n",
    "\n",
    "def multByTwo(x):\n",
    "    return 2 * x\n",
    "\n",
    "def addOne(x):\n",
    "    return x + 1\n",
    "\n",
    "def mystery(x):\n",
    "    return multByTwo(x) + addOne(identityFunction(x))\n",
    "\n",
    "print(identityFunction(3))\n",
    "print(multByTwo(3))\n",
    "print(addOne(3))"
   ]
  },
  {
   "cell_type": "code",
   "execution_count": 45,
   "metadata": {
    "id": "LPiL-opf9C2K",
    "outputId": "df342bdd-b8b1-43ae-f028-3d9a18a96fa6",
    "slideshow": {
     "slide_type": "fragment"
    }
   },
   "outputs": [
    {
     "name": "stdout",
     "output_type": "stream",
     "text": [
      "10\n"
     ]
    }
   ],
   "source": [
    "print(mystery(3)) # what is the output?"
   ]
  },
  {
   "cell_type": "code",
   "execution_count": 46,
   "metadata": {
    "id": "tOMPo2Ms9C2K",
    "slideshow": {
     "slide_type": "slide"
    }
   },
   "outputs": [],
   "source": [
    "# Functions can have multiple argumentsI\n",
    "def mystery2(a,b):\n",
    "    if a-b>0:\n",
    "        return True\n",
    "    return False"
   ]
  },
  {
   "cell_type": "code",
   "execution_count": 48,
   "metadata": {
    "id": "dqEJg7HD9C2L",
    "outputId": "252453a9-5a6e-4486-e1aa-914c9c96553f",
    "slideshow": {
     "slide_type": "fragment"
    }
   },
   "outputs": [
    {
     "name": "stdout",
     "output_type": "stream",
     "text": [
      "False\n"
     ]
    }
   ],
   "source": [
    "print(mystery2(9,10))"
   ]
  },
  {
   "cell_type": "markdown",
   "metadata": {
    "slideshow": {
     "slide_type": "slide"
    }
   },
   "source": [
    "Functions can take other elements such as _strings_ and _lists_ as well."
   ]
  },
  {
   "cell_type": "markdown",
   "metadata": {
    "slideshow": {
     "slide_type": "slide"
    }
   },
   "source": [
    "__Exercise:__ Write a function `min2` that takes as input a list `L` of length 2 and returns the smallest element of the list.\n",
    "\n",
    "So if we run \n",
    "\n",
    "```Python\n",
    "my_list = [13,2]\n",
    "res = min2(my_list)\n",
    "print(res)\n",
    "```\n",
    "\n",
    "We will get `2`"
   ]
  },
  {
   "cell_type": "code",
   "execution_count": 49,
   "metadata": {
    "slideshow": {
     "slide_type": "fragment"
    }
   },
   "outputs": [],
   "source": [
    "# Solution\n",
    "def min2(x):\n",
    "    if x[0] < x[1]:\n",
    "        return x[0]\n",
    "    else:\n",
    "        return x[1]"
   ]
  },
  {
   "cell_type": "code",
   "execution_count": 51,
   "metadata": {
    "slideshow": {
     "slide_type": "fragment"
    }
   },
   "outputs": [
    {
     "name": "stdout",
     "output_type": "stream",
     "text": [
      "2\n"
     ]
    }
   ],
   "source": [
    "print(min2([2,3]))"
   ]
  },
  {
   "cell_type": "code",
   "execution_count": 52,
   "metadata": {
    "slideshow": {
     "slide_type": "fragment"
    }
   },
   "outputs": [
    {
     "name": "stdout",
     "output_type": "stream",
     "text": [
      "2\n"
     ]
    }
   ],
   "source": [
    "my_list = [13,2]\n",
    "res = min2(my_list)\n",
    "print(res)"
   ]
  },
  {
   "cell_type": "markdown",
   "metadata": {
    "id": "3p_-yfD_9C2L",
    "slideshow": {
     "slide_type": "slide"
    }
   },
   "source": [
    "## Return is not the same as print\n",
    "\n",
    "* `print(x)` - prints `x` to the bottom of the cell. We can repeat it multiple times inside a function or also use it outside a function. Does not change the value that the function returns. \n",
    "\n",
    "* `return x` - returns the value `x` from the function. Can only use it inside a function and if it happens then it stops the execution of the function."
   ]
  },
  {
   "cell_type": "code",
   "execution_count": 53,
   "metadata": {
    "executionInfo": {
     "elapsed": 8,
     "status": "ok",
     "timestamp": 1656514494459,
     "user": {
      "displayName": "Boaz Barak",
      "userId": "16461156097343293408"
     },
     "user_tz": 240
    },
    "id": "X7HKFW0f9C2L",
    "slideshow": {
     "slide_type": "slide"
    }
   },
   "outputs": [],
   "source": [
    "def double_return(x):\n",
    "    return 2*x\n",
    "\n",
    "def double_print(x):\n",
    "    print(2*x)"
   ]
  },
  {
   "cell_type": "code",
   "execution_count": 57,
   "metadata": {
    "slideshow": {
     "slide_type": "fragment"
    }
   },
   "outputs": [
    {
     "name": "stdout",
     "output_type": "stream",
     "text": [
      "result equals 10\n"
     ]
    }
   ],
   "source": [
    "result = double_return(5)\n",
    "print(f\"result equals {result}\")"
   ]
  },
  {
   "cell_type": "code",
   "execution_count": 55,
   "metadata": {
    "slideshow": {
     "slide_type": "fragment"
    }
   },
   "outputs": [
    {
     "name": "stdout",
     "output_type": "stream",
     "text": [
      "10\n",
      "result equals None\n"
     ]
    }
   ],
   "source": [
    "result = double_print(5)\n",
    "print(f\"result equals {result}\")"
   ]
  },
  {
   "cell_type": "code",
   "execution_count": 58,
   "metadata": {
    "slideshow": {
     "slide_type": "slide"
    }
   },
   "outputs": [],
   "source": [
    "def double_return2(x):\n",
    "    return x\n",
    "    x = x*2\n",
    "    return x\n",
    "\n",
    "def double_print2(x):\n",
    "    print(x)\n",
    "    x = x*2\n",
    "    print(x)\n"
   ]
  },
  {
   "cell_type": "code",
   "execution_count": 62,
   "metadata": {
    "slideshow": {
     "slide_type": "fragment"
    }
   },
   "outputs": [
    {
     "name": "stdout",
     "output_type": "stream",
     "text": [
      "8\n",
      "16\n",
      "result equals None\n"
     ]
    }
   ],
   "source": [
    "result = double_print2(8)\n",
    "print(f\"result equals {result}\")"
   ]
  },
  {
   "cell_type": "code",
   "execution_count": null,
   "metadata": {
    "colab": {
     "base_uri": "https://localhost:8080/"
    },
    "executionInfo": {
     "elapsed": 7,
     "status": "ok",
     "timestamp": 1656514494460,
     "user": {
      "displayName": "Boaz Barak",
      "userId": "16461156097343293408"
     },
     "user_tz": 240
    },
    "id": "13QskzcV9C2L",
    "outputId": "91a16137-f5d3-481e-a8a7-755c3326a5c2",
    "slideshow": {
     "slide_type": "fragment"
    }
   },
   "outputs": [],
   "source": [
    "result = double_return(12)\n",
    "print(f\"result equals {result}\")"
   ]
  },
  {
   "cell_type": "code",
   "execution_count": 63,
   "metadata": {
    "colab": {
     "base_uri": "https://localhost:8080/"
    },
    "executionInfo": {
     "elapsed": 5,
     "status": "ok",
     "timestamp": 1656514494668,
     "user": {
      "displayName": "Boaz Barak",
      "userId": "16461156097343293408"
     },
     "user_tz": 240
    },
    "id": "GF-rOEnq9C2L",
    "outputId": "f3f70802-f633-4698-b24f-2670e8850a11",
    "slideshow": {
     "slide_type": "fragment"
    }
   },
   "outputs": [
    {
     "name": "stdout",
     "output_type": "stream",
     "text": [
      "result equals 32\n"
     ]
    }
   ],
   "source": [
    "# Guess the output\n",
    "result = double_return(double_return(8))\n",
    "print(f\"result equals {result}\")"
   ]
  },
  {
   "cell_type": "code",
   "execution_count": 64,
   "metadata": {
    "colab": {
     "base_uri": "https://localhost:8080/",
     "height": 303
    },
    "executionInfo": {
     "elapsed": 4,
     "status": "error",
     "timestamp": 1656514494668,
     "user": {
      "displayName": "Boaz Barak",
      "userId": "16461156097343293408"
     },
     "user_tz": 240
    },
    "id": "tLuj13bj9C2L",
    "outputId": "f9254382-7d27-4928-c515-f244dba2198e",
    "slideshow": {
     "slide_type": "fragment"
    }
   },
   "outputs": [
    {
     "name": "stdout",
     "output_type": "stream",
     "text": [
      "16\n"
     ]
    },
    {
     "ename": "TypeError",
     "evalue": "unsupported operand type(s) for *: 'int' and 'NoneType'",
     "output_type": "error",
     "traceback": [
      "\u001b[0;31m---------------------------------------------------------------------------\u001b[0m",
      "\u001b[0;31mTypeError\u001b[0m                                 Traceback (most recent call last)",
      "Input \u001b[0;32mIn [64]\u001b[0m, in \u001b[0;36m<cell line: 2>\u001b[0;34m()\u001b[0m\n\u001b[1;32m      1\u001b[0m \u001b[38;5;66;03m# Guess the output\u001b[39;00m\n\u001b[0;32m----> 2\u001b[0m result \u001b[38;5;241m=\u001b[39m \u001b[43mdouble_print\u001b[49m\u001b[43m(\u001b[49m\u001b[43mdouble_print\u001b[49m\u001b[43m(\u001b[49m\u001b[38;5;241;43m8\u001b[39;49m\u001b[43m)\u001b[49m\u001b[43m)\u001b[49m\n\u001b[1;32m      3\u001b[0m \u001b[38;5;28mprint\u001b[39m(\u001b[38;5;124mf\u001b[39m\u001b[38;5;124m\"\u001b[39m\u001b[38;5;124mresult equals \u001b[39m\u001b[38;5;132;01m{\u001b[39;00mresult\u001b[38;5;132;01m}\u001b[39;00m\u001b[38;5;124m\"\u001b[39m)\n",
      "Input \u001b[0;32mIn [53]\u001b[0m, in \u001b[0;36mdouble_print\u001b[0;34m(x)\u001b[0m\n\u001b[1;32m      4\u001b[0m \u001b[38;5;28;01mdef\u001b[39;00m \u001b[38;5;21mdouble_print\u001b[39m(x):\n\u001b[0;32m----> 5\u001b[0m     \u001b[38;5;28mprint\u001b[39m(\u001b[38;5;241;43m2\u001b[39;49m\u001b[38;5;241;43m*\u001b[39;49m\u001b[43mx\u001b[49m)\n",
      "\u001b[0;31mTypeError\u001b[0m: unsupported operand type(s) for *: 'int' and 'NoneType'"
     ]
    }
   ],
   "source": [
    "# Guess the output\n",
    "result = double_print(double_print(8))\n",
    "print(f\"result equals {result}\")"
   ]
  },
  {
   "cell_type": "markdown",
   "metadata": {
    "slideshow": {
     "slide_type": "slide"
    }
   },
   "source": [
    "# Questions?"
   ]
  }
 ],
 "metadata": {
  "celltoolbar": "Slideshow",
  "colab": {
   "collapsed_sections": [
    "_4S6CjU-8shZ",
    "fDFtpKGYFEeL"
   ],
   "name": "JamCoders_day2_lec2.ipynb",
   "provenance": []
  },
  "kernelspec": {
   "display_name": "tcs",
   "language": "python",
   "name": "tcs"
  },
  "language_info": {
   "codemirror_mode": {
    "name": "ipython",
    "version": 3
   },
   "file_extension": ".py",
   "mimetype": "text/x-python",
   "name": "python",
   "nbconvert_exporter": "python",
   "pygments_lexer": "ipython3",
   "version": "3.9.14"
  }
 },
 "nbformat": 4,
 "nbformat_minor": 4
}
