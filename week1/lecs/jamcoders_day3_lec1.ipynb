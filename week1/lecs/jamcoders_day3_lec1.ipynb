{
 "cells": [
  {
   "cell_type": "markdown",
   "metadata": {
    "id": "rvxn7r31bG_I",
    "slideshow": {
     "slide_type": "slide"
    }
   },
   "source": [
    "# JamCoders Day 3 Lecture 1\n",
    "\n",
    "### Boaz Barak\n",
    "\n",
    "Nexted loops, Going deeper into functions"
   ]
  },
  {
   "cell_type": "code",
   "execution_count": null,
   "metadata": {
    "slideshow": {
     "slide_type": "skip"
    }
   },
   "outputs": [],
   "source": [
    "import functools\n",
    "print = functools.partial(print, flush=True)"
   ]
  },
  {
   "cell_type": "markdown",
   "metadata": {
    "id": "g3ocyCTV8shb",
    "slideshow": {
     "slide_type": "slide"
    }
   },
   "source": [
    "# Loops inside loops"
   ]
  },
  {
   "cell_type": "code",
   "execution_count": 42,
   "metadata": {
    "id": "6xFccoqY8shb",
    "slideshow": {
     "slide_type": "fragment"
    }
   },
   "outputs": [
    {
     "name": "stdout",
     "output_type": "stream",
     "text": [
      "*  i= 0  j= 0\n",
      "*  i= 0  j= 1\n",
      "*  i= 0  j= 2\n",
      "*  i= 1  j= 0\n",
      "*  i= 1  j= 1\n",
      "*  i= 1  j= 2\n"
     ]
    }
   ],
   "source": [
    "# You can put loops inside loops\n",
    "# ALWAYS make sure the variables for the loops are different\n",
    "for i in range(2):\n",
    "    #print(f\"Looping on i, currently i={i}\")\n",
    "    for j in range(3): # DO NOT USE i HERE\n",
    "        #print(f\"  Looping on j, currently j={j}\")\n",
    "        #print(f\"  i+j={i+j}\")\n",
    "        print(\"*\", \" i=\",i,\" j=\",j)"
   ]
  },
  {
   "cell_type": "code",
   "execution_count": 44,
   "metadata": {
    "id": "TS1QwJ6v8shb",
    "outputId": "0d7711a2-45ee-45b4-cf7f-b7ce324a8d12",
    "slideshow": {
     "slide_type": "slide"
    }
   },
   "outputs": [
    {
     "name": "stdout",
     "output_type": "stream",
     "text": [
      "We change n from 0 to 1 (i=0,j=0)\n",
      "We change n from 1 to 2 (i=0,j=1)\n",
      "We change n from 2 to 3 (i=0,j=2)\n",
      "We change n from 3 to 4 (i=0,j=3)\n",
      "We change n from 4 to 5 (i=0,j=4)\n",
      "We change n from 5 to 6 (i=1,j=0)\n",
      "We change n from 6 to 7 (i=1,j=1)\n",
      "We change n from 7 to 8 (i=1,j=2)\n",
      "We change n from 8 to 9 (i=1,j=3)\n",
      "We change n from 9 to 10 (i=1,j=4)\n",
      "We change n from 10 to 11 (i=2,j=0)\n",
      "We change n from 11 to 12 (i=2,j=1)\n",
      "We change n from 12 to 13 (i=2,j=2)\n",
      "We change n from 13 to 14 (i=2,j=3)\n",
      "We change n from 14 to 15 (i=2,j=4)\n",
      "We change n from 15 to 16 (i=3,j=0)\n",
      "We change n from 16 to 17 (i=3,j=1)\n",
      "We change n from 17 to 18 (i=3,j=2)\n",
      "We change n from 18 to 19 (i=3,j=3)\n",
      "We change n from 19 to 20 (i=3,j=4)\n",
      "n= 20\n"
     ]
    }
   ],
   "source": [
    "n = 0\n",
    "for i in range(4):\n",
    "    for j in range(5):\n",
    "        print(f\"We change n from {n} to {n+1} (i={i},j={j})\")\n",
    "        n = n+1\n",
    "# What will be printed?\n",
    "print(\"n=\",n)"
   ]
  },
  {
   "cell_type": "code",
   "execution_count": 45,
   "metadata": {
    "colab": {
     "base_uri": "https://localhost:8080/"
    },
    "executionInfo": {
     "elapsed": 6,
     "status": "ok",
     "timestamp": 1656517349314,
     "user": {
      "displayName": "Boaz Barak",
      "userId": "16461156097343293408"
     },
     "user_tz": 240
    },
    "id": "-_r1yYmFG6S_",
    "outputId": "1829c8b0-ad5b-478d-a053-83408be166ad",
    "slideshow": {
     "slide_type": "slide"
    }
   },
   "outputs": [
    {
     "name": "stdout",
     "output_type": "stream",
     "text": [
      "\n",
      "*\n",
      "**\n",
      "***\n",
      "****\n",
      "*****\n",
      "******\n",
      "*******\n",
      "********\n",
      "*********\n"
     ]
    }
   ],
   "source": [
    "# What will be printed?\n",
    "for i in range(10):\n",
    "    line = \"\"\n",
    "    for j in range(i):\n",
    "        line  = line + \"*\"\n",
    "    print(line)"
   ]
  },
  {
   "cell_type": "code",
   "execution_count": null,
   "metadata": {
    "colab": {
     "base_uri": "https://localhost:8080/"
    },
    "executionInfo": {
     "elapsed": 3908,
     "status": "ok",
     "timestamp": 1656519235173,
     "user": {
      "displayName": "Boaz Barak",
      "userId": "16461156097343293408"
     },
     "user_tz": 240
    },
    "id": "OIUcSVyAPU71",
    "outputId": "2e606103-9386-4e03-e720-91ea2b0af55e",
    "scrolled": true,
    "slideshow": {
     "slide_type": "skip"
    }
   },
   "outputs": [],
   "source": [
    "import termcolor\n",
    "from termcolor import colored # colored(text,color) returns text in the color"
   ]
  },
  {
   "cell_type": "code",
   "execution_count": 46,
   "metadata": {
    "slideshow": {
     "slide_type": "slide"
    }
   },
   "outputs": [
    {
     "name": "stdout",
     "output_type": "stream",
     "text": [
      "\n",
      "\u001b[35m█\u001b[0m\n",
      "\u001b[35m█\u001b[0m\u001b[35m█\u001b[0m\n",
      "\u001b[35m█\u001b[0m\u001b[35m█\u001b[0m\u001b[35m█\u001b[0m\n",
      "\u001b[35m█\u001b[0m\u001b[35m█\u001b[0m\u001b[35m█\u001b[0m\u001b[35m█\u001b[0m\n",
      "\u001b[35m█\u001b[0m\u001b[35m█\u001b[0m\u001b[35m█\u001b[0m\u001b[35m█\u001b[0m\u001b[35m█\u001b[0m\n",
      "\u001b[35m█\u001b[0m\u001b[35m█\u001b[0m\u001b[35m█\u001b[0m\u001b[35m█\u001b[0m\u001b[35m█\u001b[0m\u001b[35m█\u001b[0m\n",
      "\u001b[35m█\u001b[0m\u001b[35m█\u001b[0m\u001b[35m█\u001b[0m\u001b[35m█\u001b[0m\u001b[35m█\u001b[0m\u001b[35m█\u001b[0m\u001b[35m█\u001b[0m\n",
      "\u001b[35m█\u001b[0m\u001b[35m█\u001b[0m\u001b[35m█\u001b[0m\u001b[35m█\u001b[0m\u001b[35m█\u001b[0m\u001b[35m█\u001b[0m\u001b[35m█\u001b[0m\u001b[35m█\u001b[0m\n",
      "\u001b[35m█\u001b[0m\u001b[35m█\u001b[0m\u001b[35m█\u001b[0m\u001b[35m█\u001b[0m\u001b[35m█\u001b[0m\u001b[35m█\u001b[0m\u001b[35m█\u001b[0m\u001b[35m█\u001b[0m\u001b[35m█\u001b[0m\n"
     ]
    }
   ],
   "source": [
    "# What will be printed?\n",
    "for i in range(10):\n",
    "    line = \"\"\n",
    "    for j in range(i):\n",
    "        line  += colored(\"█\",\"magenta\")\n",
    "    print(line)"
   ]
  },
  {
   "cell_type": "code",
   "execution_count": null,
   "metadata": {
    "slideshow": {
     "slide_type": "skip"
    }
   },
   "outputs": [],
   "source": [
    "import termcolor\n",
    "n = 5\n",
    "for i in range(n):\n",
    "    line = \"\"\n",
    "    for j in range(n+1):\n",
    "        if (j==0) or (j==n-i):\n",
    "            line += colored(\"█\",\"magenta\")\n",
    "        else:\n",
    "            line += \" \"\n",
    "    print(line)\n",
    "\n",
    "for i in range(n):\n",
    "    line = \"\"\n",
    "    for j in range(n+1):\n",
    "        if (j==0) or (j==i+1):\n",
    "            line += colored(\"█\",\"magenta\")\n",
    "        else:\n",
    "            line += \" \"\n",
    "    print(line)"
   ]
  },
  {
   "cell_type": "code",
   "execution_count": 57,
   "metadata": {
    "slideshow": {
     "slide_type": "slide"
    }
   },
   "outputs": [
    {
     "name": "stdout",
     "output_type": "stream",
     "text": [
      "\u001b[33m█\u001b[0m\u001b[32m█\u001b[0m\u001b[32m█\u001b[0m\u001b[32m█\u001b[0m\u001b[33m█\u001b[0m\n",
      "█\u001b[0m\u001b[33m█\u001b[0m\u001b[32m█\u001b[0m\u001b[33m█\u001b[0m█\u001b[0m\n",
      "█\u001b[0m█\u001b[0m\u001b[33m█\u001b[0m█\u001b[0m█\u001b[0m\n",
      "█\u001b[0m\u001b[33m█\u001b[0m\u001b[32m█\u001b[0m\u001b[33m█\u001b[0m█\u001b[0m\n",
      "\u001b[33m█\u001b[0m\u001b[32m█\u001b[0m\u001b[32m█\u001b[0m\u001b[32m█\u001b[0m\u001b[33m█\u001b[0m\n"
     ]
    }
   ],
   "source": [
    "# What will be printed?  \n",
    "n = 4\n",
    "for i in range(n+1):\n",
    "    line = \"\"\n",
    "    for j in range(n+1):\n",
    "        if (j<i and j< n-i) or (j>i and j> n-i): \n",
    "            color= None # black\n",
    "        else:\n",
    "            color = \"green\"\n",
    "        if (j == i) or (j ==n-i): color=\"yellow\"\n",
    "        line += colored(\"█\",color)\n",
    "    print(line)"
   ]
  },
  {
   "cell_type": "code",
   "execution_count": 71,
   "metadata": {
    "slideshow": {
     "slide_type": "fragment"
    }
   },
   "outputs": [
    {
     "name": "stdout",
     "output_type": "stream",
     "text": [
      "\u001b[33m█\u001b[0m\u001b[32m█\u001b[0m\u001b[32m█\u001b[0m\u001b[32m█\u001b[0m\u001b[32m█\u001b[0m\u001b[32m█\u001b[0m\u001b[32m█\u001b[0m\u001b[32m█\u001b[0m\u001b[32m█\u001b[0m\u001b[32m█\u001b[0m\u001b[33m█\u001b[0m\n",
      "█\u001b[0m\u001b[33m█\u001b[0m\u001b[32m█\u001b[0m\u001b[32m█\u001b[0m\u001b[32m█\u001b[0m\u001b[32m█\u001b[0m\u001b[32m█\u001b[0m\u001b[32m█\u001b[0m\u001b[32m█\u001b[0m\u001b[33m█\u001b[0m█\u001b[0m\n",
      "█\u001b[0m█\u001b[0m\u001b[33m█\u001b[0m\u001b[32m█\u001b[0m\u001b[32m█\u001b[0m\u001b[32m█\u001b[0m\u001b[32m█\u001b[0m\u001b[32m█\u001b[0m\u001b[33m█\u001b[0m█\u001b[0m█\u001b[0m\n",
      "█\u001b[0m█\u001b[0m█\u001b[0m\u001b[33m█\u001b[0m\u001b[32m█\u001b[0m\u001b[32m█\u001b[0m\u001b[32m█\u001b[0m\u001b[33m█\u001b[0m█\u001b[0m█\u001b[0m█\u001b[0m\n",
      "█\u001b[0m█\u001b[0m█\u001b[0m█\u001b[0m\u001b[33m█\u001b[0m\u001b[32m█\u001b[0m\u001b[33m█\u001b[0m█\u001b[0m█\u001b[0m█\u001b[0m█\u001b[0m\n",
      "█\u001b[0m█\u001b[0m█\u001b[0m█\u001b[0m█\u001b[0m\u001b[33m█\u001b[0m█\u001b[0m█\u001b[0m█\u001b[0m█\u001b[0m█\u001b[0m\n",
      "█\u001b[0m█\u001b[0m█\u001b[0m█\u001b[0m\u001b[33m█\u001b[0m\u001b[32m█\u001b[0m\u001b[33m█\u001b[0m█\u001b[0m█\u001b[0m█\u001b[0m█\u001b[0m\n",
      "█\u001b[0m█\u001b[0m█\u001b[0m\u001b[33m█\u001b[0m\u001b[32m█\u001b[0m\u001b[32m█\u001b[0m\u001b[32m█\u001b[0m\u001b[33m█\u001b[0m█\u001b[0m█\u001b[0m█\u001b[0m\n",
      "█\u001b[0m█\u001b[0m\u001b[33m█\u001b[0m\u001b[32m█\u001b[0m\u001b[32m█\u001b[0m\u001b[32m█\u001b[0m\u001b[32m█\u001b[0m\u001b[32m█\u001b[0m\u001b[33m█\u001b[0m█\u001b[0m█\u001b[0m\n",
      "█\u001b[0m\u001b[33m█\u001b[0m\u001b[32m█\u001b[0m\u001b[32m█\u001b[0m\u001b[32m█\u001b[0m\u001b[32m█\u001b[0m\u001b[32m█\u001b[0m\u001b[32m█\u001b[0m\u001b[32m█\u001b[0m\u001b[33m█\u001b[0m█\u001b[0m\n",
      "\u001b[33m█\u001b[0m\u001b[32m█\u001b[0m\u001b[32m█\u001b[0m\u001b[32m█\u001b[0m\u001b[32m█\u001b[0m\u001b[32m█\u001b[0m\u001b[32m█\u001b[0m\u001b[32m█\u001b[0m\u001b[32m█\u001b[0m\u001b[32m█\u001b[0m\u001b[33m█\u001b[0m\n"
     ]
    }
   ],
   "source": [
    "# What will be printed?  \n",
    "n = 10\n",
    "for i in range(n+1):\n",
    "    line = \"\"\n",
    "    for j in range(n+1):\n",
    "        if (j<i and j< n-i) or (j>i and j> n-i): \n",
    "            color= None # black\n",
    "        else:\n",
    "            color = \"green\"\n",
    "        if (j == i) or (j ==n-i): color=\"yellow\"\n",
    "        line += colored(\"█\",color)\n",
    "    print(line)"
   ]
  },
  {
   "cell_type": "code",
   "execution_count": 65,
   "metadata": {
    "colab": {
     "base_uri": "https://localhost:8080/"
    },
    "executionInfo": {
     "elapsed": 31,
     "status": "ok",
     "timestamp": 1656519237994,
     "user": {
      "displayName": "Boaz Barak",
      "userId": "16461156097343293408"
     },
     "user_tz": 240
    },
    "id": "Un7vTKSFH8gw",
    "outputId": "c1d1a9d4-fa8f-444a-be99-da0f3176ceaa",
    "slideshow": {
     "slide_type": "slide"
    }
   },
   "outputs": [
    {
     "name": "stdout",
     "output_type": "stream",
     "text": [
      "\u001b[33m█\u001b[0m\u001b[33m█\u001b[0m\u001b[33m█\u001b[0m\u001b[33m█\u001b[0m\u001b[32m█\u001b[0m\u001b[32m█\u001b[0m\u001b[32m█\u001b[0m\u001b[32m█\u001b[0m\u001b[32m█\u001b[0m\u001b[32m█\u001b[0m\u001b[32m█\u001b[0m\u001b[32m█\u001b[0m\u001b[32m█\u001b[0m\u001b[32m█\u001b[0m\u001b[32m█\u001b[0m\u001b[32m█\u001b[0m\u001b[32m█\u001b[0m\u001b[32m█\u001b[0m\u001b[32m█\u001b[0m\u001b[32m█\u001b[0m\u001b[32m█\u001b[0m\u001b[32m█\u001b[0m\u001b[32m█\u001b[0m\u001b[32m█\u001b[0m\u001b[32m█\u001b[0m\u001b[32m█\u001b[0m\u001b[32m█\u001b[0m\u001b[32m█\u001b[0m\u001b[32m█\u001b[0m\u001b[32m█\u001b[0m\u001b[32m█\u001b[0m\u001b[32m█\u001b[0m\u001b[32m█\u001b[0m\u001b[32m█\u001b[0m\u001b[32m█\u001b[0m\u001b[32m█\u001b[0m\u001b[32m█\u001b[0m\u001b[32m█\u001b[0m\u001b[32m█\u001b[0m\u001b[32m█\u001b[0m\u001b[32m█\u001b[0m\u001b[32m█\u001b[0m\u001b[32m█\u001b[0m\u001b[32m█\u001b[0m\u001b[32m█\u001b[0m\u001b[32m█\u001b[0m\u001b[32m█\u001b[0m\u001b[32m█\u001b[0m\u001b[32m█\u001b[0m\u001b[32m█\u001b[0m\u001b[32m█\u001b[0m\u001b[32m█\u001b[0m\u001b[32m█\u001b[0m\u001b[32m█\u001b[0m\u001b[32m█\u001b[0m\u001b[32m█\u001b[0m\u001b[32m█\u001b[0m\u001b[32m█\u001b[0m\u001b[32m█\u001b[0m\u001b[32m█\u001b[0m\u001b[32m█\u001b[0m\u001b[32m█\u001b[0m\u001b[32m█\u001b[0m\u001b[32m█\u001b[0m\u001b[32m█\u001b[0m\u001b[32m█\u001b[0m\u001b[32m█\u001b[0m\u001b[32m█\u001b[0m\u001b[32m█\u001b[0m\u001b[32m█\u001b[0m\u001b[32m█\u001b[0m\u001b[32m█\u001b[0m\u001b[32m█\u001b[0m\u001b[32m█\u001b[0m\u001b[32m█\u001b[0m\u001b[32m█\u001b[0m\u001b[33m█\u001b[0m\u001b[33m█\u001b[0m\u001b[33m█\u001b[0m\u001b[33m█\u001b[0m\n",
      "█\u001b[0m█\u001b[0m█\u001b[0m█\u001b[0m\u001b[33m█\u001b[0m\u001b[33m█\u001b[0m\u001b[33m█\u001b[0m\u001b[33m█\u001b[0m\u001b[32m█\u001b[0m\u001b[32m█\u001b[0m\u001b[32m█\u001b[0m\u001b[32m█\u001b[0m\u001b[32m█\u001b[0m\u001b[32m█\u001b[0m\u001b[32m█\u001b[0m\u001b[32m█\u001b[0m\u001b[32m█\u001b[0m\u001b[32m█\u001b[0m\u001b[32m█\u001b[0m\u001b[32m█\u001b[0m\u001b[32m█\u001b[0m\u001b[32m█\u001b[0m\u001b[32m█\u001b[0m\u001b[32m█\u001b[0m\u001b[32m█\u001b[0m\u001b[32m█\u001b[0m\u001b[32m█\u001b[0m\u001b[32m█\u001b[0m\u001b[32m█\u001b[0m\u001b[32m█\u001b[0m\u001b[32m█\u001b[0m\u001b[32m█\u001b[0m\u001b[32m█\u001b[0m\u001b[32m█\u001b[0m\u001b[32m█\u001b[0m\u001b[32m█\u001b[0m\u001b[32m█\u001b[0m\u001b[32m█\u001b[0m\u001b[32m█\u001b[0m\u001b[32m█\u001b[0m\u001b[32m█\u001b[0m\u001b[32m█\u001b[0m\u001b[32m█\u001b[0m\u001b[32m█\u001b[0m\u001b[32m█\u001b[0m\u001b[32m█\u001b[0m\u001b[32m█\u001b[0m\u001b[32m█\u001b[0m\u001b[32m█\u001b[0m\u001b[32m█\u001b[0m\u001b[32m█\u001b[0m\u001b[32m█\u001b[0m\u001b[32m█\u001b[0m\u001b[32m█\u001b[0m\u001b[32m█\u001b[0m\u001b[32m█\u001b[0m\u001b[32m█\u001b[0m\u001b[32m█\u001b[0m\u001b[32m█\u001b[0m\u001b[32m█\u001b[0m\u001b[32m█\u001b[0m\u001b[32m█\u001b[0m\u001b[32m█\u001b[0m\u001b[32m█\u001b[0m\u001b[32m█\u001b[0m\u001b[32m█\u001b[0m\u001b[32m█\u001b[0m\u001b[32m█\u001b[0m\u001b[32m█\u001b[0m\u001b[32m█\u001b[0m\u001b[32m█\u001b[0m\u001b[32m█\u001b[0m\u001b[33m█\u001b[0m\u001b[33m█\u001b[0m\u001b[33m█\u001b[0m\u001b[33m█\u001b[0m█\u001b[0m█\u001b[0m█\u001b[0m█\u001b[0m\n",
      "█\u001b[0m█\u001b[0m█\u001b[0m█\u001b[0m█\u001b[0m█\u001b[0m█\u001b[0m█\u001b[0m\u001b[33m█\u001b[0m\u001b[33m█\u001b[0m\u001b[33m█\u001b[0m\u001b[33m█\u001b[0m\u001b[32m█\u001b[0m\u001b[32m█\u001b[0m\u001b[32m█\u001b[0m\u001b[32m█\u001b[0m\u001b[32m█\u001b[0m\u001b[32m█\u001b[0m\u001b[32m█\u001b[0m\u001b[32m█\u001b[0m\u001b[32m█\u001b[0m\u001b[32m█\u001b[0m\u001b[32m█\u001b[0m\u001b[32m█\u001b[0m\u001b[32m█\u001b[0m\u001b[32m█\u001b[0m\u001b[32m█\u001b[0m\u001b[32m█\u001b[0m\u001b[32m█\u001b[0m\u001b[32m█\u001b[0m\u001b[32m█\u001b[0m\u001b[32m█\u001b[0m\u001b[32m█\u001b[0m\u001b[32m█\u001b[0m\u001b[32m█\u001b[0m\u001b[32m█\u001b[0m\u001b[32m█\u001b[0m\u001b[32m█\u001b[0m\u001b[32m█\u001b[0m\u001b[32m█\u001b[0m\u001b[32m█\u001b[0m\u001b[32m█\u001b[0m\u001b[32m█\u001b[0m\u001b[32m█\u001b[0m\u001b[32m█\u001b[0m\u001b[32m█\u001b[0m\u001b[32m█\u001b[0m\u001b[32m█\u001b[0m\u001b[32m█\u001b[0m\u001b[32m█\u001b[0m\u001b[32m█\u001b[0m\u001b[32m█\u001b[0m\u001b[32m█\u001b[0m\u001b[32m█\u001b[0m\u001b[32m█\u001b[0m\u001b[32m█\u001b[0m\u001b[32m█\u001b[0m\u001b[32m█\u001b[0m\u001b[32m█\u001b[0m\u001b[32m█\u001b[0m\u001b[32m█\u001b[0m\u001b[32m█\u001b[0m\u001b[32m█\u001b[0m\u001b[32m█\u001b[0m\u001b[32m█\u001b[0m\u001b[32m█\u001b[0m\u001b[32m█\u001b[0m\u001b[32m█\u001b[0m\u001b[33m█\u001b[0m\u001b[33m█\u001b[0m\u001b[33m█\u001b[0m\u001b[33m█\u001b[0m█\u001b[0m█\u001b[0m█\u001b[0m█\u001b[0m█\u001b[0m█\u001b[0m█\u001b[0m█\u001b[0m\n",
      "█\u001b[0m█\u001b[0m█\u001b[0m█\u001b[0m█\u001b[0m█\u001b[0m█\u001b[0m█\u001b[0m█\u001b[0m█\u001b[0m█\u001b[0m█\u001b[0m\u001b[33m█\u001b[0m\u001b[33m█\u001b[0m\u001b[33m█\u001b[0m\u001b[33m█\u001b[0m\u001b[32m█\u001b[0m\u001b[32m█\u001b[0m\u001b[32m█\u001b[0m\u001b[32m█\u001b[0m\u001b[32m█\u001b[0m\u001b[32m█\u001b[0m\u001b[32m█\u001b[0m\u001b[32m█\u001b[0m\u001b[32m█\u001b[0m\u001b[32m█\u001b[0m\u001b[32m█\u001b[0m\u001b[32m█\u001b[0m\u001b[32m█\u001b[0m\u001b[32m█\u001b[0m\u001b[32m█\u001b[0m\u001b[32m█\u001b[0m\u001b[32m█\u001b[0m\u001b[32m█\u001b[0m\u001b[32m█\u001b[0m\u001b[32m█\u001b[0m\u001b[32m█\u001b[0m\u001b[32m█\u001b[0m\u001b[32m█\u001b[0m\u001b[32m█\u001b[0m\u001b[32m█\u001b[0m\u001b[32m█\u001b[0m\u001b[32m█\u001b[0m\u001b[32m█\u001b[0m\u001b[32m█\u001b[0m\u001b[32m█\u001b[0m\u001b[32m█\u001b[0m\u001b[32m█\u001b[0m\u001b[32m█\u001b[0m\u001b[32m█\u001b[0m\u001b[32m█\u001b[0m\u001b[32m█\u001b[0m\u001b[32m█\u001b[0m\u001b[32m█\u001b[0m\u001b[32m█\u001b[0m\u001b[32m█\u001b[0m\u001b[32m█\u001b[0m\u001b[32m█\u001b[0m\u001b[32m█\u001b[0m\u001b[32m█\u001b[0m\u001b[32m█\u001b[0m\u001b[32m█\u001b[0m\u001b[32m█\u001b[0m\u001b[32m█\u001b[0m\u001b[33m█\u001b[0m\u001b[33m█\u001b[0m\u001b[33m█\u001b[0m\u001b[33m█\u001b[0m█\u001b[0m█\u001b[0m█\u001b[0m█\u001b[0m█\u001b[0m█\u001b[0m█\u001b[0m█\u001b[0m█\u001b[0m█\u001b[0m█\u001b[0m█\u001b[0m\n",
      "█\u001b[0m█\u001b[0m█\u001b[0m█\u001b[0m█\u001b[0m█\u001b[0m█\u001b[0m█\u001b[0m█\u001b[0m█\u001b[0m█\u001b[0m█\u001b[0m█\u001b[0m█\u001b[0m█\u001b[0m█\u001b[0m\u001b[33m█\u001b[0m\u001b[33m█\u001b[0m\u001b[33m█\u001b[0m\u001b[33m█\u001b[0m\u001b[32m█\u001b[0m\u001b[32m█\u001b[0m\u001b[32m█\u001b[0m\u001b[32m█\u001b[0m\u001b[32m█\u001b[0m\u001b[32m█\u001b[0m\u001b[32m█\u001b[0m\u001b[32m█\u001b[0m\u001b[32m█\u001b[0m\u001b[32m█\u001b[0m\u001b[32m█\u001b[0m\u001b[32m█\u001b[0m\u001b[32m█\u001b[0m\u001b[32m█\u001b[0m\u001b[32m█\u001b[0m\u001b[32m█\u001b[0m\u001b[32m█\u001b[0m\u001b[32m█\u001b[0m\u001b[32m█\u001b[0m\u001b[32m█\u001b[0m\u001b[32m█\u001b[0m\u001b[32m█\u001b[0m\u001b[32m█\u001b[0m\u001b[32m█\u001b[0m\u001b[32m█\u001b[0m\u001b[32m█\u001b[0m\u001b[32m█\u001b[0m\u001b[32m█\u001b[0m\u001b[32m█\u001b[0m\u001b[32m█\u001b[0m\u001b[32m█\u001b[0m\u001b[32m█\u001b[0m\u001b[32m█\u001b[0m\u001b[32m█\u001b[0m\u001b[32m█\u001b[0m\u001b[32m█\u001b[0m\u001b[32m█\u001b[0m\u001b[32m█\u001b[0m\u001b[32m█\u001b[0m\u001b[32m█\u001b[0m\u001b[33m█\u001b[0m\u001b[33m█\u001b[0m\u001b[33m█\u001b[0m\u001b[33m█\u001b[0m█\u001b[0m█\u001b[0m█\u001b[0m█\u001b[0m█\u001b[0m█\u001b[0m█\u001b[0m█\u001b[0m█\u001b[0m█\u001b[0m█\u001b[0m█\u001b[0m█\u001b[0m█\u001b[0m█\u001b[0m█\u001b[0m\n",
      "█\u001b[0m█\u001b[0m█\u001b[0m█\u001b[0m█\u001b[0m█\u001b[0m█\u001b[0m█\u001b[0m█\u001b[0m█\u001b[0m█\u001b[0m█\u001b[0m█\u001b[0m█\u001b[0m█\u001b[0m█\u001b[0m█\u001b[0m█\u001b[0m█\u001b[0m█\u001b[0m\u001b[33m█\u001b[0m\u001b[33m█\u001b[0m\u001b[33m█\u001b[0m\u001b[33m█\u001b[0m\u001b[32m█\u001b[0m\u001b[32m█\u001b[0m\u001b[32m█\u001b[0m\u001b[32m█\u001b[0m\u001b[32m█\u001b[0m\u001b[32m█\u001b[0m\u001b[32m█\u001b[0m\u001b[32m█\u001b[0m\u001b[32m█\u001b[0m\u001b[32m█\u001b[0m\u001b[32m█\u001b[0m\u001b[32m█\u001b[0m\u001b[32m█\u001b[0m\u001b[32m█\u001b[0m\u001b[32m█\u001b[0m\u001b[32m█\u001b[0m\u001b[32m█\u001b[0m\u001b[32m█\u001b[0m\u001b[32m█\u001b[0m\u001b[32m█\u001b[0m\u001b[32m█\u001b[0m\u001b[32m█\u001b[0m\u001b[32m█\u001b[0m\u001b[32m█\u001b[0m\u001b[32m█\u001b[0m\u001b[32m█\u001b[0m\u001b[32m█\u001b[0m\u001b[32m█\u001b[0m\u001b[32m█\u001b[0m\u001b[32m█\u001b[0m\u001b[32m█\u001b[0m\u001b[32m█\u001b[0m\u001b[33m█\u001b[0m\u001b[33m█\u001b[0m\u001b[33m█\u001b[0m\u001b[33m█\u001b[0m█\u001b[0m█\u001b[0m█\u001b[0m█\u001b[0m█\u001b[0m█\u001b[0m█\u001b[0m█\u001b[0m█\u001b[0m█\u001b[0m█\u001b[0m█\u001b[0m█\u001b[0m█\u001b[0m█\u001b[0m█\u001b[0m█\u001b[0m█\u001b[0m█\u001b[0m█\u001b[0m\n",
      "█\u001b[0m█\u001b[0m█\u001b[0m█\u001b[0m█\u001b[0m█\u001b[0m█\u001b[0m█\u001b[0m█\u001b[0m█\u001b[0m█\u001b[0m█\u001b[0m█\u001b[0m█\u001b[0m█\u001b[0m█\u001b[0m█\u001b[0m█\u001b[0m█\u001b[0m█\u001b[0m█\u001b[0m█\u001b[0m█\u001b[0m█\u001b[0m\u001b[33m█\u001b[0m\u001b[33m█\u001b[0m\u001b[33m█\u001b[0m\u001b[33m█\u001b[0m\u001b[32m█\u001b[0m\u001b[32m█\u001b[0m\u001b[32m█\u001b[0m\u001b[32m█\u001b[0m\u001b[32m█\u001b[0m\u001b[32m█\u001b[0m\u001b[32m█\u001b[0m\u001b[32m█\u001b[0m\u001b[32m█\u001b[0m\u001b[32m█\u001b[0m\u001b[32m█\u001b[0m\u001b[32m█\u001b[0m\u001b[32m█\u001b[0m\u001b[32m█\u001b[0m\u001b[32m█\u001b[0m\u001b[32m█\u001b[0m\u001b[32m█\u001b[0m\u001b[32m█\u001b[0m\u001b[32m█\u001b[0m\u001b[32m█\u001b[0m\u001b[32m█\u001b[0m\u001b[32m█\u001b[0m\u001b[32m█\u001b[0m\u001b[32m█\u001b[0m\u001b[33m█\u001b[0m\u001b[33m█\u001b[0m\u001b[33m█\u001b[0m\u001b[33m█\u001b[0m█\u001b[0m█\u001b[0m█\u001b[0m█\u001b[0m█\u001b[0m█\u001b[0m█\u001b[0m█\u001b[0m█\u001b[0m█\u001b[0m█\u001b[0m█\u001b[0m█\u001b[0m█\u001b[0m█\u001b[0m█\u001b[0m█\u001b[0m█\u001b[0m█\u001b[0m█\u001b[0m█\u001b[0m█\u001b[0m█\u001b[0m█\u001b[0m\n",
      "█\u001b[0m█\u001b[0m█\u001b[0m█\u001b[0m█\u001b[0m█\u001b[0m█\u001b[0m█\u001b[0m█\u001b[0m█\u001b[0m█\u001b[0m█\u001b[0m█\u001b[0m█\u001b[0m█\u001b[0m█\u001b[0m█\u001b[0m█\u001b[0m█\u001b[0m█\u001b[0m█\u001b[0m█\u001b[0m█\u001b[0m█\u001b[0m█\u001b[0m█\u001b[0m█\u001b[0m█\u001b[0m\u001b[33m█\u001b[0m\u001b[33m█\u001b[0m\u001b[33m█\u001b[0m\u001b[33m█\u001b[0m\u001b[32m█\u001b[0m\u001b[32m█\u001b[0m\u001b[32m█\u001b[0m\u001b[32m█\u001b[0m\u001b[32m█\u001b[0m\u001b[32m█\u001b[0m\u001b[32m█\u001b[0m\u001b[32m█\u001b[0m\u001b[32m█\u001b[0m\u001b[32m█\u001b[0m\u001b[32m█\u001b[0m\u001b[32m█\u001b[0m\u001b[32m█\u001b[0m\u001b[32m█\u001b[0m\u001b[32m█\u001b[0m\u001b[32m█\u001b[0m\u001b[33m█\u001b[0m\u001b[33m█\u001b[0m\u001b[33m█\u001b[0m\u001b[33m█\u001b[0m█\u001b[0m█\u001b[0m█\u001b[0m█\u001b[0m█\u001b[0m█\u001b[0m█\u001b[0m█\u001b[0m█\u001b[0m█\u001b[0m█\u001b[0m█\u001b[0m█\u001b[0m█\u001b[0m█\u001b[0m█\u001b[0m█\u001b[0m█\u001b[0m█\u001b[0m█\u001b[0m█\u001b[0m█\u001b[0m█\u001b[0m█\u001b[0m█\u001b[0m█\u001b[0m█\u001b[0m█\u001b[0m\n",
      "█\u001b[0m█\u001b[0m█\u001b[0m█\u001b[0m█\u001b[0m█\u001b[0m█\u001b[0m█\u001b[0m█\u001b[0m█\u001b[0m█\u001b[0m█\u001b[0m█\u001b[0m█\u001b[0m█\u001b[0m█\u001b[0m█\u001b[0m█\u001b[0m█\u001b[0m█\u001b[0m█\u001b[0m█\u001b[0m█\u001b[0m█\u001b[0m█\u001b[0m█\u001b[0m█\u001b[0m█\u001b[0m█\u001b[0m█\u001b[0m█\u001b[0m█\u001b[0m\u001b[33m█\u001b[0m\u001b[33m█\u001b[0m\u001b[33m█\u001b[0m\u001b[33m█\u001b[0m\u001b[32m█\u001b[0m\u001b[32m█\u001b[0m\u001b[32m█\u001b[0m\u001b[32m█\u001b[0m\u001b[32m█\u001b[0m\u001b[32m█\u001b[0m\u001b[32m█\u001b[0m\u001b[32m█\u001b[0m\u001b[33m█\u001b[0m\u001b[33m█\u001b[0m\u001b[33m█\u001b[0m\u001b[33m█\u001b[0m█\u001b[0m█\u001b[0m█\u001b[0m█\u001b[0m█\u001b[0m█\u001b[0m█\u001b[0m█\u001b[0m█\u001b[0m█\u001b[0m█\u001b[0m█\u001b[0m█\u001b[0m█\u001b[0m█\u001b[0m█\u001b[0m█\u001b[0m█\u001b[0m█\u001b[0m█\u001b[0m█\u001b[0m█\u001b[0m█\u001b[0m█\u001b[0m█\u001b[0m█\u001b[0m█\u001b[0m█\u001b[0m█\u001b[0m█\u001b[0m█\u001b[0m█\u001b[0m\n",
      "█\u001b[0m█\u001b[0m█\u001b[0m█\u001b[0m█\u001b[0m█\u001b[0m█\u001b[0m█\u001b[0m█\u001b[0m█\u001b[0m█\u001b[0m█\u001b[0m█\u001b[0m█\u001b[0m█\u001b[0m█\u001b[0m█\u001b[0m█\u001b[0m█\u001b[0m█\u001b[0m█\u001b[0m█\u001b[0m█\u001b[0m█\u001b[0m█\u001b[0m█\u001b[0m█\u001b[0m█\u001b[0m█\u001b[0m█\u001b[0m█\u001b[0m█\u001b[0m█\u001b[0m█\u001b[0m█\u001b[0m█\u001b[0m\u001b[33m█\u001b[0m\u001b[33m█\u001b[0m\u001b[33m█\u001b[0m\u001b[33m█\u001b[0m\u001b[33m█\u001b[0m\u001b[33m█\u001b[0m\u001b[33m█\u001b[0m\u001b[33m█\u001b[0m█\u001b[0m█\u001b[0m█\u001b[0m█\u001b[0m█\u001b[0m█\u001b[0m█\u001b[0m█\u001b[0m█\u001b[0m█\u001b[0m█\u001b[0m█\u001b[0m█\u001b[0m█\u001b[0m█\u001b[0m█\u001b[0m█\u001b[0m█\u001b[0m█\u001b[0m█\u001b[0m█\u001b[0m█\u001b[0m█\u001b[0m█\u001b[0m█\u001b[0m█\u001b[0m█\u001b[0m█\u001b[0m█\u001b[0m█\u001b[0m█\u001b[0m█\u001b[0m█\u001b[0m█\u001b[0m█\u001b[0m█\u001b[0m\n",
      "█\u001b[0m█\u001b[0m█\u001b[0m█\u001b[0m█\u001b[0m█\u001b[0m█\u001b[0m█\u001b[0m█\u001b[0m█\u001b[0m█\u001b[0m█\u001b[0m█\u001b[0m█\u001b[0m█\u001b[0m█\u001b[0m█\u001b[0m█\u001b[0m█\u001b[0m█\u001b[0m█\u001b[0m█\u001b[0m█\u001b[0m█\u001b[0m█\u001b[0m█\u001b[0m█\u001b[0m█\u001b[0m█\u001b[0m█\u001b[0m█\u001b[0m█\u001b[0m█\u001b[0m█\u001b[0m█\u001b[0m█\u001b[0m\u001b[33m█\u001b[0m\u001b[33m█\u001b[0m\u001b[33m█\u001b[0m\u001b[33m█\u001b[0m\u001b[33m█\u001b[0m\u001b[33m█\u001b[0m\u001b[33m█\u001b[0m\u001b[33m█\u001b[0m█\u001b[0m█\u001b[0m█\u001b[0m█\u001b[0m█\u001b[0m█\u001b[0m█\u001b[0m█\u001b[0m█\u001b[0m█\u001b[0m█\u001b[0m█\u001b[0m█\u001b[0m█\u001b[0m█\u001b[0m█\u001b[0m█\u001b[0m█\u001b[0m█\u001b[0m█\u001b[0m█\u001b[0m█\u001b[0m█\u001b[0m█\u001b[0m█\u001b[0m█\u001b[0m█\u001b[0m█\u001b[0m█\u001b[0m█\u001b[0m█\u001b[0m█\u001b[0m█\u001b[0m█\u001b[0m█\u001b[0m█\u001b[0m\n",
      "█\u001b[0m█\u001b[0m█\u001b[0m█\u001b[0m█\u001b[0m█\u001b[0m█\u001b[0m█\u001b[0m█\u001b[0m█\u001b[0m█\u001b[0m█\u001b[0m█\u001b[0m█\u001b[0m█\u001b[0m█\u001b[0m█\u001b[0m█\u001b[0m█\u001b[0m█\u001b[0m█\u001b[0m█\u001b[0m█\u001b[0m█\u001b[0m█\u001b[0m█\u001b[0m█\u001b[0m█\u001b[0m█\u001b[0m█\u001b[0m█\u001b[0m█\u001b[0m\u001b[33m█\u001b[0m\u001b[33m█\u001b[0m\u001b[33m█\u001b[0m\u001b[33m█\u001b[0m\u001b[32m█\u001b[0m\u001b[32m█\u001b[0m\u001b[32m█\u001b[0m\u001b[32m█\u001b[0m\u001b[32m█\u001b[0m\u001b[32m█\u001b[0m\u001b[32m█\u001b[0m\u001b[32m█\u001b[0m\u001b[33m█\u001b[0m\u001b[33m█\u001b[0m\u001b[33m█\u001b[0m\u001b[33m█\u001b[0m█\u001b[0m█\u001b[0m█\u001b[0m█\u001b[0m█\u001b[0m█\u001b[0m█\u001b[0m█\u001b[0m█\u001b[0m█\u001b[0m█\u001b[0m█\u001b[0m█\u001b[0m█\u001b[0m█\u001b[0m█\u001b[0m█\u001b[0m█\u001b[0m█\u001b[0m█\u001b[0m█\u001b[0m█\u001b[0m█\u001b[0m█\u001b[0m█\u001b[0m█\u001b[0m█\u001b[0m█\u001b[0m█\u001b[0m█\u001b[0m█\u001b[0m█\u001b[0m\n",
      "█\u001b[0m█\u001b[0m█\u001b[0m█\u001b[0m█\u001b[0m█\u001b[0m█\u001b[0m█\u001b[0m█\u001b[0m█\u001b[0m█\u001b[0m█\u001b[0m█\u001b[0m█\u001b[0m█\u001b[0m█\u001b[0m█\u001b[0m█\u001b[0m█\u001b[0m█\u001b[0m█\u001b[0m█\u001b[0m█\u001b[0m█\u001b[0m█\u001b[0m█\u001b[0m█\u001b[0m█\u001b[0m\u001b[33m█\u001b[0m\u001b[33m█\u001b[0m\u001b[33m█\u001b[0m\u001b[33m█\u001b[0m\u001b[32m█\u001b[0m\u001b[32m█\u001b[0m\u001b[32m█\u001b[0m\u001b[32m█\u001b[0m\u001b[32m█\u001b[0m\u001b[32m█\u001b[0m\u001b[32m█\u001b[0m\u001b[32m█\u001b[0m\u001b[32m█\u001b[0m\u001b[32m█\u001b[0m\u001b[32m█\u001b[0m\u001b[32m█\u001b[0m\u001b[32m█\u001b[0m\u001b[32m█\u001b[0m\u001b[32m█\u001b[0m\u001b[32m█\u001b[0m\u001b[33m█\u001b[0m\u001b[33m█\u001b[0m\u001b[33m█\u001b[0m\u001b[33m█\u001b[0m█\u001b[0m█\u001b[0m█\u001b[0m█\u001b[0m█\u001b[0m█\u001b[0m█\u001b[0m█\u001b[0m█\u001b[0m█\u001b[0m█\u001b[0m█\u001b[0m█\u001b[0m█\u001b[0m█\u001b[0m█\u001b[0m█\u001b[0m█\u001b[0m█\u001b[0m█\u001b[0m█\u001b[0m█\u001b[0m█\u001b[0m█\u001b[0m█\u001b[0m█\u001b[0m█\u001b[0m█\u001b[0m\n",
      "█\u001b[0m█\u001b[0m█\u001b[0m█\u001b[0m█\u001b[0m█\u001b[0m█\u001b[0m█\u001b[0m█\u001b[0m█\u001b[0m█\u001b[0m█\u001b[0m█\u001b[0m█\u001b[0m█\u001b[0m█\u001b[0m█\u001b[0m█\u001b[0m█\u001b[0m█\u001b[0m█\u001b[0m█\u001b[0m█\u001b[0m█\u001b[0m\u001b[33m█\u001b[0m\u001b[33m█\u001b[0m\u001b[33m█\u001b[0m\u001b[33m█\u001b[0m\u001b[32m█\u001b[0m\u001b[32m█\u001b[0m\u001b[32m█\u001b[0m\u001b[32m█\u001b[0m\u001b[32m█\u001b[0m\u001b[32m█\u001b[0m\u001b[32m█\u001b[0m\u001b[32m█\u001b[0m\u001b[32m█\u001b[0m\u001b[32m█\u001b[0m\u001b[32m█\u001b[0m\u001b[32m█\u001b[0m\u001b[32m█\u001b[0m\u001b[32m█\u001b[0m\u001b[32m█\u001b[0m\u001b[32m█\u001b[0m\u001b[32m█\u001b[0m\u001b[32m█\u001b[0m\u001b[32m█\u001b[0m\u001b[32m█\u001b[0m\u001b[32m█\u001b[0m\u001b[32m█\u001b[0m\u001b[32m█\u001b[0m\u001b[32m█\u001b[0m\u001b[33m█\u001b[0m\u001b[33m█\u001b[0m\u001b[33m█\u001b[0m\u001b[33m█\u001b[0m█\u001b[0m█\u001b[0m█\u001b[0m█\u001b[0m█\u001b[0m█\u001b[0m█\u001b[0m█\u001b[0m█\u001b[0m█\u001b[0m█\u001b[0m█\u001b[0m█\u001b[0m█\u001b[0m█\u001b[0m█\u001b[0m█\u001b[0m█\u001b[0m█\u001b[0m█\u001b[0m█\u001b[0m█\u001b[0m█\u001b[0m█\u001b[0m\n"
     ]
    },
    {
     "name": "stdout",
     "output_type": "stream",
     "text": [
      "█\u001b[0m█\u001b[0m█\u001b[0m█\u001b[0m█\u001b[0m█\u001b[0m█\u001b[0m█\u001b[0m█\u001b[0m█\u001b[0m█\u001b[0m█\u001b[0m█\u001b[0m█\u001b[0m█\u001b[0m█\u001b[0m█\u001b[0m█\u001b[0m█\u001b[0m█\u001b[0m\u001b[33m█\u001b[0m\u001b[33m█\u001b[0m\u001b[33m█\u001b[0m\u001b[33m█\u001b[0m\u001b[32m█\u001b[0m\u001b[32m█\u001b[0m\u001b[32m█\u001b[0m\u001b[32m█\u001b[0m\u001b[32m█\u001b[0m\u001b[32m█\u001b[0m\u001b[32m█\u001b[0m\u001b[32m█\u001b[0m\u001b[32m█\u001b[0m\u001b[32m█\u001b[0m\u001b[32m█\u001b[0m\u001b[32m█\u001b[0m\u001b[32m█\u001b[0m\u001b[32m█\u001b[0m\u001b[32m█\u001b[0m\u001b[32m█\u001b[0m\u001b[32m█\u001b[0m\u001b[32m█\u001b[0m\u001b[32m█\u001b[0m\u001b[32m█\u001b[0m\u001b[32m█\u001b[0m\u001b[32m█\u001b[0m\u001b[32m█\u001b[0m\u001b[32m█\u001b[0m\u001b[32m█\u001b[0m\u001b[32m█\u001b[0m\u001b[32m█\u001b[0m\u001b[32m█\u001b[0m\u001b[32m█\u001b[0m\u001b[32m█\u001b[0m\u001b[32m█\u001b[0m\u001b[32m█\u001b[0m\u001b[33m█\u001b[0m\u001b[33m█\u001b[0m\u001b[33m█\u001b[0m\u001b[33m█\u001b[0m█\u001b[0m█\u001b[0m█\u001b[0m█\u001b[0m█\u001b[0m█\u001b[0m█\u001b[0m█\u001b[0m█\u001b[0m█\u001b[0m█\u001b[0m█\u001b[0m█\u001b[0m█\u001b[0m█\u001b[0m█\u001b[0m█\u001b[0m█\u001b[0m█\u001b[0m█\u001b[0m\n",
      "█\u001b[0m█\u001b[0m█\u001b[0m█\u001b[0m█\u001b[0m█\u001b[0m█\u001b[0m█\u001b[0m█\u001b[0m█\u001b[0m█\u001b[0m█\u001b[0m█\u001b[0m█\u001b[0m█\u001b[0m█\u001b[0m\u001b[33m█\u001b[0m\u001b[33m█\u001b[0m\u001b[33m█\u001b[0m\u001b[33m█\u001b[0m\u001b[32m█\u001b[0m\u001b[32m█\u001b[0m\u001b[32m█\u001b[0m\u001b[32m█\u001b[0m\u001b[32m█\u001b[0m\u001b[32m█\u001b[0m\u001b[32m█\u001b[0m\u001b[32m█\u001b[0m\u001b[32m█\u001b[0m\u001b[32m█\u001b[0m\u001b[32m█\u001b[0m\u001b[32m█\u001b[0m\u001b[32m█\u001b[0m\u001b[32m█\u001b[0m\u001b[32m█\u001b[0m\u001b[32m█\u001b[0m\u001b[32m█\u001b[0m\u001b[32m█\u001b[0m\u001b[32m█\u001b[0m\u001b[32m█\u001b[0m\u001b[32m█\u001b[0m\u001b[32m█\u001b[0m\u001b[32m█\u001b[0m\u001b[32m█\u001b[0m\u001b[32m█\u001b[0m\u001b[32m█\u001b[0m\u001b[32m█\u001b[0m\u001b[32m█\u001b[0m\u001b[32m█\u001b[0m\u001b[32m█\u001b[0m\u001b[32m█\u001b[0m\u001b[32m█\u001b[0m\u001b[32m█\u001b[0m\u001b[32m█\u001b[0m\u001b[32m█\u001b[0m\u001b[32m█\u001b[0m\u001b[32m█\u001b[0m\u001b[32m█\u001b[0m\u001b[32m█\u001b[0m\u001b[32m█\u001b[0m\u001b[33m█\u001b[0m\u001b[33m█\u001b[0m\u001b[33m█\u001b[0m\u001b[33m█\u001b[0m█\u001b[0m█\u001b[0m█\u001b[0m█\u001b[0m█\u001b[0m█\u001b[0m█\u001b[0m█\u001b[0m█\u001b[0m█\u001b[0m█\u001b[0m█\u001b[0m█\u001b[0m█\u001b[0m█\u001b[0m█\u001b[0m\n",
      "█\u001b[0m█\u001b[0m█\u001b[0m█\u001b[0m█\u001b[0m█\u001b[0m█\u001b[0m█\u001b[0m█\u001b[0m█\u001b[0m█\u001b[0m█\u001b[0m\u001b[33m█\u001b[0m\u001b[33m█\u001b[0m\u001b[33m█\u001b[0m\u001b[33m█\u001b[0m\u001b[32m█\u001b[0m\u001b[32m█\u001b[0m\u001b[32m█\u001b[0m\u001b[32m█\u001b[0m\u001b[32m█\u001b[0m\u001b[32m█\u001b[0m\u001b[32m█\u001b[0m\u001b[32m█\u001b[0m\u001b[32m█\u001b[0m\u001b[32m█\u001b[0m\u001b[32m█\u001b[0m\u001b[32m█\u001b[0m\u001b[32m█\u001b[0m\u001b[32m█\u001b[0m\u001b[32m█\u001b[0m\u001b[32m█\u001b[0m\u001b[32m█\u001b[0m\u001b[32m█\u001b[0m\u001b[32m█\u001b[0m\u001b[32m█\u001b[0m\u001b[32m█\u001b[0m\u001b[32m█\u001b[0m\u001b[32m█\u001b[0m\u001b[32m█\u001b[0m\u001b[32m█\u001b[0m\u001b[32m█\u001b[0m\u001b[32m█\u001b[0m\u001b[32m█\u001b[0m\u001b[32m█\u001b[0m\u001b[32m█\u001b[0m\u001b[32m█\u001b[0m\u001b[32m█\u001b[0m\u001b[32m█\u001b[0m\u001b[32m█\u001b[0m\u001b[32m█\u001b[0m\u001b[32m█\u001b[0m\u001b[32m█\u001b[0m\u001b[32m█\u001b[0m\u001b[32m█\u001b[0m\u001b[32m█\u001b[0m\u001b[32m█\u001b[0m\u001b[32m█\u001b[0m\u001b[32m█\u001b[0m\u001b[32m█\u001b[0m\u001b[32m█\u001b[0m\u001b[32m█\u001b[0m\u001b[32m█\u001b[0m\u001b[32m█\u001b[0m\u001b[33m█\u001b[0m\u001b[33m█\u001b[0m\u001b[33m█\u001b[0m\u001b[33m█\u001b[0m█\u001b[0m█\u001b[0m█\u001b[0m█\u001b[0m█\u001b[0m█\u001b[0m█\u001b[0m█\u001b[0m█\u001b[0m█\u001b[0m█\u001b[0m█\u001b[0m\n",
      "█\u001b[0m█\u001b[0m█\u001b[0m█\u001b[0m█\u001b[0m█\u001b[0m█\u001b[0m█\u001b[0m\u001b[33m█\u001b[0m\u001b[33m█\u001b[0m\u001b[33m█\u001b[0m\u001b[33m█\u001b[0m\u001b[32m█\u001b[0m\u001b[32m█\u001b[0m\u001b[32m█\u001b[0m\u001b[32m█\u001b[0m\u001b[32m█\u001b[0m\u001b[32m█\u001b[0m\u001b[32m█\u001b[0m\u001b[32m█\u001b[0m\u001b[32m█\u001b[0m\u001b[32m█\u001b[0m\u001b[32m█\u001b[0m\u001b[32m█\u001b[0m\u001b[32m█\u001b[0m\u001b[32m█\u001b[0m\u001b[32m█\u001b[0m\u001b[32m█\u001b[0m\u001b[32m█\u001b[0m\u001b[32m█\u001b[0m\u001b[32m█\u001b[0m\u001b[32m█\u001b[0m\u001b[32m█\u001b[0m\u001b[32m█\u001b[0m\u001b[32m█\u001b[0m\u001b[32m█\u001b[0m\u001b[32m█\u001b[0m\u001b[32m█\u001b[0m\u001b[32m█\u001b[0m\u001b[32m█\u001b[0m\u001b[32m█\u001b[0m\u001b[32m█\u001b[0m\u001b[32m█\u001b[0m\u001b[32m█\u001b[0m\u001b[32m█\u001b[0m\u001b[32m█\u001b[0m\u001b[32m█\u001b[0m\u001b[32m█\u001b[0m\u001b[32m█\u001b[0m\u001b[32m█\u001b[0m\u001b[32m█\u001b[0m\u001b[32m█\u001b[0m\u001b[32m█\u001b[0m\u001b[32m█\u001b[0m\u001b[32m█\u001b[0m\u001b[32m█\u001b[0m\u001b[32m█\u001b[0m\u001b[32m█\u001b[0m\u001b[32m█\u001b[0m\u001b[32m█\u001b[0m\u001b[32m█\u001b[0m\u001b[32m█\u001b[0m\u001b[32m█\u001b[0m\u001b[32m█\u001b[0m\u001b[32m█\u001b[0m\u001b[32m█\u001b[0m\u001b[32m█\u001b[0m\u001b[32m█\u001b[0m\u001b[33m█\u001b[0m\u001b[33m█\u001b[0m\u001b[33m█\u001b[0m\u001b[33m█\u001b[0m█\u001b[0m█\u001b[0m█\u001b[0m█\u001b[0m█\u001b[0m█\u001b[0m█\u001b[0m█\u001b[0m\n",
      "█\u001b[0m█\u001b[0m█\u001b[0m█\u001b[0m\u001b[33m█\u001b[0m\u001b[33m█\u001b[0m\u001b[33m█\u001b[0m\u001b[33m█\u001b[0m\u001b[32m█\u001b[0m\u001b[32m█\u001b[0m\u001b[32m█\u001b[0m\u001b[32m█\u001b[0m\u001b[32m█\u001b[0m\u001b[32m█\u001b[0m\u001b[32m█\u001b[0m\u001b[32m█\u001b[0m\u001b[32m█\u001b[0m\u001b[32m█\u001b[0m\u001b[32m█\u001b[0m\u001b[32m█\u001b[0m\u001b[32m█\u001b[0m\u001b[32m█\u001b[0m\u001b[32m█\u001b[0m\u001b[32m█\u001b[0m\u001b[32m█\u001b[0m\u001b[32m█\u001b[0m\u001b[32m█\u001b[0m\u001b[32m█\u001b[0m\u001b[32m█\u001b[0m\u001b[32m█\u001b[0m\u001b[32m█\u001b[0m\u001b[32m█\u001b[0m\u001b[32m█\u001b[0m\u001b[32m█\u001b[0m\u001b[32m█\u001b[0m\u001b[32m█\u001b[0m\u001b[32m█\u001b[0m\u001b[32m█\u001b[0m\u001b[32m█\u001b[0m\u001b[32m█\u001b[0m\u001b[32m█\u001b[0m\u001b[32m█\u001b[0m\u001b[32m█\u001b[0m\u001b[32m█\u001b[0m\u001b[32m█\u001b[0m\u001b[32m█\u001b[0m\u001b[32m█\u001b[0m\u001b[32m█\u001b[0m\u001b[32m█\u001b[0m\u001b[32m█\u001b[0m\u001b[32m█\u001b[0m\u001b[32m█\u001b[0m\u001b[32m█\u001b[0m\u001b[32m█\u001b[0m\u001b[32m█\u001b[0m\u001b[32m█\u001b[0m\u001b[32m█\u001b[0m\u001b[32m█\u001b[0m\u001b[32m█\u001b[0m\u001b[32m█\u001b[0m\u001b[32m█\u001b[0m\u001b[32m█\u001b[0m\u001b[32m█\u001b[0m\u001b[32m█\u001b[0m\u001b[32m█\u001b[0m\u001b[32m█\u001b[0m\u001b[32m█\u001b[0m\u001b[32m█\u001b[0m\u001b[32m█\u001b[0m\u001b[32m█\u001b[0m\u001b[32m█\u001b[0m\u001b[32m█\u001b[0m\u001b[33m█\u001b[0m\u001b[33m█\u001b[0m\u001b[33m█\u001b[0m\u001b[33m█\u001b[0m█\u001b[0m█\u001b[0m█\u001b[0m█\u001b[0m\n",
      "\u001b[33m█\u001b[0m\u001b[33m█\u001b[0m\u001b[33m█\u001b[0m\u001b[33m█\u001b[0m\u001b[32m█\u001b[0m\u001b[32m█\u001b[0m\u001b[32m█\u001b[0m\u001b[32m█\u001b[0m\u001b[32m█\u001b[0m\u001b[32m█\u001b[0m\u001b[32m█\u001b[0m\u001b[32m█\u001b[0m\u001b[32m█\u001b[0m\u001b[32m█\u001b[0m\u001b[32m█\u001b[0m\u001b[32m█\u001b[0m\u001b[32m█\u001b[0m\u001b[32m█\u001b[0m\u001b[32m█\u001b[0m\u001b[32m█\u001b[0m\u001b[32m█\u001b[0m\u001b[32m█\u001b[0m\u001b[32m█\u001b[0m\u001b[32m█\u001b[0m\u001b[32m█\u001b[0m\u001b[32m█\u001b[0m\u001b[32m█\u001b[0m\u001b[32m█\u001b[0m\u001b[32m█\u001b[0m\u001b[32m█\u001b[0m\u001b[32m█\u001b[0m\u001b[32m█\u001b[0m\u001b[32m█\u001b[0m\u001b[32m█\u001b[0m\u001b[32m█\u001b[0m\u001b[32m█\u001b[0m\u001b[32m█\u001b[0m\u001b[32m█\u001b[0m\u001b[32m█\u001b[0m\u001b[32m█\u001b[0m\u001b[32m█\u001b[0m\u001b[32m█\u001b[0m\u001b[32m█\u001b[0m\u001b[32m█\u001b[0m\u001b[32m█\u001b[0m\u001b[32m█\u001b[0m\u001b[32m█\u001b[0m\u001b[32m█\u001b[0m\u001b[32m█\u001b[0m\u001b[32m█\u001b[0m\u001b[32m█\u001b[0m\u001b[32m█\u001b[0m\u001b[32m█\u001b[0m\u001b[32m█\u001b[0m\u001b[32m█\u001b[0m\u001b[32m█\u001b[0m\u001b[32m█\u001b[0m\u001b[32m█\u001b[0m\u001b[32m█\u001b[0m\u001b[32m█\u001b[0m\u001b[32m█\u001b[0m\u001b[32m█\u001b[0m\u001b[32m█\u001b[0m\u001b[32m█\u001b[0m\u001b[32m█\u001b[0m\u001b[32m█\u001b[0m\u001b[32m█\u001b[0m\u001b[32m█\u001b[0m\u001b[32m█\u001b[0m\u001b[32m█\u001b[0m\u001b[32m█\u001b[0m\u001b[32m█\u001b[0m\u001b[32m█\u001b[0m\u001b[32m█\u001b[0m\u001b[32m█\u001b[0m\u001b[32m█\u001b[0m\u001b[33m█\u001b[0m\u001b[33m█\u001b[0m\u001b[33m█\u001b[0m\u001b[33m█\u001b[0m\n"
     ]
    }
   ],
   "source": [
    "# What will be printed?  \n",
    "n = 79\n",
    "for i in range((n+1)//4):\n",
    "    line = \"\"\n",
    "    for j in range(n+1):\n",
    "        if (j<4*i and j< n-4*i) or (j>4*i and j> n-4*i): \n",
    "            color= None\n",
    "        else:\n",
    "            color = \"green\"\n",
    "        if (j//4 == i) or ((n-j)//4==i): color=\"yellow\"\n",
    "        line += colored(\"█\",color)\n",
    "    print(line)"
   ]
  },
  {
   "cell_type": "code",
   "execution_count": null,
   "metadata": {
    "slideshow": {
     "slide_type": "skip"
    }
   },
   "outputs": [],
   "source": [
    "line1 = \"\\j \"\n",
    "line2 = \"i\\ \"\n",
    "for j in range(80):\n",
    "    line2 += str(j % 10)\n",
    "    line1 += str(j//10) if j % 10 ==0 else \" \""
   ]
  },
  {
   "cell_type": "code",
   "execution_count": null,
   "metadata": {
    "slideshow": {
     "slide_type": "skip"
    }
   },
   "outputs": [],
   "source": [
    "print(line1) # skipped code makes this the string \"\\j 0         1         2...\"\n",
    "print(line2) # skipped code makes this the string \"i\\ 012345678901234567890...\"\n",
    "for i in range(20):\n",
    "    line = \"\"\n",
    "    for j in range(80):\n",
    "        if (j<4*i and j< 79-4*i) or (j>4*i and j> 79-4*i): \n",
    "            color= None\n",
    "        else:\n",
    "            color = \"green\"\n",
    "        if (j//4 == i) or ((79-j)//4==i): \n",
    "            color=\"yellow\"\n",
    "        line += colored(\"█\",color)\n",
    "    print(f\"{i:2}\",line)"
   ]
  },
  {
   "cell_type": "markdown",
   "metadata": {
    "slideshow": {
     "slide_type": "skip"
    }
   },
   "source": [
    "## Ignore this section"
   ]
  },
  {
   "cell_type": "code",
   "execution_count": null,
   "metadata": {
    "slideshow": {
     "slide_type": "skip"
    }
   },
   "outputs": [],
   "source": [
    "def md_table(array):\n",
    "    \"\"\" the same input as above \"\"\"\n",
    "\n",
    "    nl = \"\\n\"\n",
    "    t = 30\n",
    "\n",
    "    markdown = nl\n",
    "    markdown += f\"| {' | '.join([x.ljust(t-2) for x in array[0]])} |\"\n",
    "\n",
    "    markdown += nl\n",
    "    markdown += f\"| {' | '.join(['-'*(t-2)]*len(array[0]))} |\"\n",
    "\n",
    "    markdown += nl\n",
    "    for entry in array[1:]:\n",
    "        L = [entry[0].ljust(t-2)] + [ f'<font color=\"blue\"><b>{x}</b></font>'.ljust(t-2) for x in entry[1:]]\n",
    "        markdown += f\"| {' | '.join(L)} |{nl}\"\n",
    "\n",
    "    return markdown\n",
    "\n",
    "from IPython.display import Markdown, display\n",
    "from IPython.display import clear_output\n",
    "\n",
    "display(Markdown(md_table([[\"Name\",\"Age\"],[\"Boaz\",\"48\"]])))"
   ]
  },
  {
   "cell_type": "code",
   "execution_count": 39,
   "metadata": {
    "slideshow": {
     "slide_type": "skip"
    }
   },
   "outputs": [],
   "source": [
    "MARKDOWN = \"\"\n",
    "DEBUG = True\n",
    "def state(code,line,variables,depth):\n",
    "    if not DEBUG: return\n",
    "    lines = code.split('\\n')\n",
    "    lines[line] += \" #<-------\"     \n",
    "    code = \"\\n\".join(lines)\n",
    "    global MARKDOWN\n",
    "    global DEPTHS\n",
    "    md_lines = MARKDOWN.split(\"\\n\")\n",
    "    if depth>0:\n",
    "        found = [i for i,x in enumerate(md_lines) if x[:9]==\"```python\" ]\n",
    "        if len(found)>depth:\n",
    "            md_lines = md_lines[:found[depth]]\n",
    "        md = \"\\n\".join(md_lines)+\"\\n\"\n",
    "    else:\n",
    "        md = \"\"\n",
    "    md += rf\"\"\"```python\n",
    "    {code}```\n",
    "    \n",
    "    \"\"\"\n",
    "    table = [[\"Variable\", \"Value\"]] + [[k,v] for k,v in variables.items()]\n",
    "    md += md_table(table) +\"\\n\\n\\n\"\n",
    "    MARKDOWN = md\n",
    "    clear_output()\n",
    "    #if depth: print(found, len(md_lines))\n",
    "    display(Markdown(MARKDOWN))\n",
    "    if input(\"---\"*depth+\":\")==\"q\":\n",
    "        raise Exception()\n",
    "\n",
    "def lookinto(name):\n",
    "    global DEBUG\n",
    "    DEBUG=True\n",
    "    globals()[name] = globals()[name+\"_\"]\n",
    "    \n",
    "def normal():\n",
    "    global DEBUG\n",
    "    DEBUG = False"
   ]
  },
  {
   "cell_type": "code",
   "execution_count": null,
   "metadata": {
    "slideshow": {
     "slide_type": "skip"
    }
   },
   "outputs": [],
   "source": [
    "code_m =\"\"\"\n",
    "def multiply(a,b):\n",
    "    result = 0\n",
    "    for i in range(b):\n",
    "        result += a\n",
    "    return result\n",
    "\"\"\"\n",
    "\n",
    "import inspect\n",
    "\n",
    "def up_locals():\n",
    "    frame = inspect.currentframe()\n",
    "    return frame.f_back.f_back.f_locals\n",
    "\n",
    "def s_(i,ul,code,depth):\n",
    "    state(code,i+1,{k:v for k,v in ul.items() if k!=\"s\" and k!=\"depth\"},depth)\n",
    "        \n",
    "        \n",
    "def multiply_(a,b,depth=0):\n",
    "    def s(i): s_(i,up_locals(), code_m,depth)\n",
    "    result = 0 #1\n",
    "    s(1)\n",
    "    for i in range(b): #2\n",
    "        s(2)\n",
    "        result += a #3\n",
    "        s(3)\n",
    "    s(4)\n",
    "    return result #4\n"
   ]
  },
  {
   "cell_type": "code",
   "execution_count": null,
   "metadata": {
    "slideshow": {
     "slide_type": "skip"
    }
   },
   "outputs": [],
   "source": [
    "code_e = \"\"\"\n",
    "def exponent(x,y):\n",
    "    result = 1\n",
    "    for i in range(y):\n",
    "        result = multiply(result,x)\n",
    "    return result\n",
    "\"\"\"\n",
    "\n",
    "def exponent_(x,y,depth=0):\n",
    "    def s(i): s_(i,up_locals(),code_e,depth)\n",
    "    result = 1 #1\n",
    "    s(1)\n",
    "    for i in range(y): #2\n",
    "        s(2)\n",
    "        s(3)\n",
    "        result = multiply(result,x, depth=1) #3\n",
    "    s(4)\n",
    "    return result #4\n",
    "        "
   ]
  },
  {
   "cell_type": "markdown",
   "metadata": {
    "slideshow": {
     "slide_type": "slide"
    }
   },
   "source": [
    "## Calling functions example"
   ]
  },
  {
   "cell_type": "markdown",
   "metadata": {
    "slideshow": {
     "slide_type": "slide"
    }
   },
   "source": [
    "__Question:__ Write function `multiply` that takes inputs integers $a,b$ and returns $a\\times b$ without using `*`"
   ]
  },
  {
   "cell_type": "code",
   "execution_count": 59,
   "metadata": {
    "slideshow": {
     "slide_type": "fragment"
    }
   },
   "outputs": [],
   "source": [
    "def multiply(a,b):\n",
    "    result = 0\n",
    "    for i in range(b):\n",
    "        result += a\n",
    "    return result"
   ]
  },
  {
   "cell_type": "code",
   "execution_count": 60,
   "metadata": {},
   "outputs": [
    {
     "name": "stdout",
     "output_type": "stream",
     "text": [
      "answer= 8\n"
     ]
    }
   ],
   "source": [
    "answer = multiply(2,4)\n",
    "print(\"answer=\",answer)"
   ]
  },
  {
   "cell_type": "markdown",
   "metadata": {
    "slideshow": {
     "slide_type": "slide"
    }
   },
   "source": [
    "## Diving in "
   ]
  },
  {
   "cell_type": "code",
   "execution_count": 61,
   "metadata": {
    "slideshow": {
     "slide_type": "fragment"
    }
   },
   "outputs": [],
   "source": [
    "lookinto(\"multiply\")"
   ]
  },
  {
   "cell_type": "code",
   "execution_count": 63,
   "metadata": {
    "slideshow": {
     "slide_type": "slide"
    }
   },
   "outputs": [
    {
     "data": {
      "text/markdown": [
       "```python\n",
       "    \n",
       "def multiply(a,b):\n",
       "    result = 0\n",
       "    for i in range(b):\n",
       "        result += a\n",
       "    return result #<-------\n",
       "```\n",
       "    \n",
       "    \n",
       "| Variable                     | Value                        |\n",
       "| ---------------------------- | ---------------------------- |\n",
       "| a                            | <font color=\"blue\"><b>4</b></font> |\n",
       "| b                            | <font color=\"blue\"><b>5</b></font> |\n",
       "| result                       | <font color=\"blue\"><b>20</b></font> |\n",
       "| i                            | <font color=\"blue\"><b>4</b></font> |\n",
       "\n",
       "\n",
       "\n"
      ],
      "text/plain": [
       "<IPython.core.display.Markdown object>"
      ]
     },
     "metadata": {},
     "output_type": "display_data"
    },
    {
     "name": "stdout",
     "output_type": "stream",
     "text": [
      ":\n"
     ]
    },
    {
     "data": {
      "text/plain": [
       "20"
      ]
     },
     "execution_count": 63,
     "metadata": {},
     "output_type": "execute_result"
    }
   ],
   "source": [
    "multiply(4,5)"
   ]
  },
  {
   "cell_type": "code",
   "execution_count": null,
   "metadata": {
    "slideshow": {
     "slide_type": "fragment"
    }
   },
   "outputs": [],
   "source": [
    "normal()"
   ]
  },
  {
   "cell_type": "markdown",
   "metadata": {
    "slideshow": {
     "slide_type": "slide"
    }
   },
   "source": [
    "__Question:__ Write a function `exponent` that takes as input two integers $x,y$ and returns $x^y$ without using `*` or `**`. It can use `multiply`"
   ]
  },
  {
   "cell_type": "code",
   "execution_count": null,
   "metadata": {
    "slideshow": {
     "slide_type": "fragment"
    }
   },
   "outputs": [],
   "source": [
    "def exponent(x,y):\n",
    "    result = 1\n",
    "    for i in range(y):\n",
    "        result = multiply(result,x)\n",
    "    return result"
   ]
  },
  {
   "cell_type": "code",
   "execution_count": null,
   "metadata": {
    "slideshow": {
     "slide_type": "fragment"
    }
   },
   "outputs": [],
   "source": [
    "print(exponent(2,3))"
   ]
  },
  {
   "cell_type": "code",
   "execution_count": null,
   "metadata": {
    "slideshow": {
     "slide_type": "fragment"
    }
   },
   "outputs": [],
   "source": [
    "print(exponent(3,2))"
   ]
  },
  {
   "cell_type": "code",
   "execution_count": null,
   "metadata": {
    "slideshow": {
     "slide_type": "fragment"
    }
   },
   "outputs": [],
   "source": [
    "lookinto(\"exponent\")"
   ]
  },
  {
   "cell_type": "code",
   "execution_count": null,
   "metadata": {
    "slideshow": {
     "slide_type": "slide"
    }
   },
   "outputs": [],
   "source": [
    "exponent(2,3)"
   ]
  },
  {
   "cell_type": "code",
   "execution_count": null,
   "metadata": {
    "slideshow": {
     "slide_type": "fragment"
    }
   },
   "outputs": [],
   "source": [
    "normal()"
   ]
  },
  {
   "cell_type": "markdown",
   "metadata": {
    "id": "2pp3xxzWQDSg",
    "slideshow": {
     "slide_type": "slide"
    }
   },
   "source": [
    "## More function examples "
   ]
  },
  {
   "cell_type": "markdown",
   "metadata": {
    "slideshow": {
     "slide_type": "slide"
    }
   },
   "source": [
    "__Exercise:__ Write a function `passing_grade` that on input an integer `score` returns `True` if `score` is larger than 55 and returns `False` otherwise."
   ]
  },
  {
   "cell_type": "code",
   "execution_count": null,
   "metadata": {
    "slideshow": {
     "slide_type": "fragment"
    }
   },
   "outputs": [],
   "source": [
    "def passing_grade(score):\n",
    "    ..."
   ]
  },
  {
   "cell_type": "code",
   "execution_count": null,
   "metadata": {
    "colab": {
     "base_uri": "https://localhost:8080/",
     "height": 229
    },
    "executionInfo": {
     "elapsed": 311,
     "status": "error",
     "timestamp": 1656516506512,
     "user": {
      "displayName": "Boaz Barak",
      "userId": "16461156097343293408"
     },
     "user_tz": 240
    },
    "id": "aswRTd1O8shc",
    "outputId": "18e8c13b-aa78-4ec5-accf-602bdfe42bdd",
    "slideshow": {
     "slide_type": "skip"
    }
   },
   "outputs": [],
   "source": [
    "def passing_grade(score):\n",
    "    if score > 55:\n",
    "        return True\n",
    "    return False"
   ]
  },
  {
   "cell_type": "code",
   "execution_count": null,
   "metadata": {
    "slideshow": {
     "slide_type": "fragment"
    }
   },
   "outputs": [],
   "source": [
    "print(passing_grade(60))\n",
    "print(passing_grade(25))"
   ]
  },
  {
   "cell_type": "markdown",
   "metadata": {
    "slideshow": {
     "slide_type": "slide"
    }
   },
   "source": [
    "# Using a function"
   ]
  },
  {
   "cell_type": "markdown",
   "metadata": {
    "id": "0pMibVcMDkWH",
    "slideshow": {
     "slide_type": "fragment"
    }
   },
   "source": [
    "Suppose we have the `passing_grade` function above. Write a function `passed` that takes as input two lists `names` and `grades` of the same length, and prints the names of the students that passed."
   ]
  },
  {
   "cell_type": "code",
   "execution_count": null,
   "metadata": {
    "slideshow": {
     "slide_type": "fragment"
    }
   },
   "outputs": [],
   "source": [
    "def passed(names,grades):\n",
    "    ..."
   ]
  },
  {
   "cell_type": "code",
   "execution_count": null,
   "metadata": {
    "id": "bD88FtHbD2M6",
    "slideshow": {
     "slide_type": "skip"
    }
   },
   "outputs": [],
   "source": [
    "def passed(names,grades):\n",
    "    n = len(names)\n",
    "    for i in range(n):\n",
    "        if passing_grade(grades[i]):\n",
    "            print(names[i])"
   ]
  },
  {
   "cell_type": "code",
   "execution_count": null,
   "metadata": {
    "id": "292KpE54EAu_",
    "slideshow": {
     "slide_type": "slide"
    }
   },
   "outputs": [],
   "source": [
    "TAs = [ \"Micah\", \"Zaria\", \"Li\", \"Ian\", \"Emaan\", \"Jon\",\"Orr\", \"Jonathan\", \"Alok\", \"Pawat\", \"Kerene\" ]"
   ]
  },
  {
   "cell_type": "code",
   "execution_count": null,
   "metadata": {
    "colab": {
     "base_uri": "https://localhost:8080/"
    },
    "executionInfo": {
     "elapsed": 333,
     "status": "ok",
     "timestamp": 1656516489035,
     "user": {
      "displayName": "Boaz Barak",
      "userId": "16461156097343293408"
     },
     "user_tz": 240
    },
    "id": "ndrzSI-yEpL8",
    "outputId": "a969369f-5756-4a51-dfc3-2e9d32cc8d9e",
    "slideshow": {
     "slide_type": "fragment"
    }
   },
   "outputs": [],
   "source": [
    "# let's make grades random for fairness\n",
    "import random\n",
    "grades = []\n",
    "for name in TAs:\n",
    "    grades.append(random.randint(1,100))\n",
    "\n",
    "grades"
   ]
  },
  {
   "cell_type": "code",
   "execution_count": null,
   "metadata": {
    "colab": {
     "base_uri": "https://localhost:8080/"
    },
    "executionInfo": {
     "elapsed": 289,
     "status": "ok",
     "timestamp": 1656516509276,
     "user": {
      "displayName": "Boaz Barak",
      "userId": "16461156097343293408"
     },
     "user_tz": 240
    },
    "id": "lTwWEIxADhdE",
    "outputId": "3f92683e-6a7b-4263-cc59-39981b9f3b37",
    "slideshow": {
     "slide_type": "fragment"
    }
   },
   "outputs": [],
   "source": [
    "passed(TAs,grades)"
   ]
  },
  {
   "cell_type": "markdown",
   "metadata": {
    "id": "D9PYziQlbG_S",
    "slideshow": {
     "slide_type": "skip"
    }
   },
   "source": [
    "# Extra: Functions (variable scoping) - SKIP"
   ]
  },
  {
   "cell_type": "code",
   "execution_count": null,
   "metadata": {
    "id": "auujJ0zqbG_S",
    "slideshow": {
     "slide_type": "skip"
    }
   },
   "outputs": [],
   "source": [
    "# Variables inside a function have no relation to variables outside the function\n",
    "# See what happens when \"i\" is printed inside and outside the function\n",
    "\n",
    "i = 0\n",
    "def func(x):\n",
    "    i = 10\n",
    "    print(\"i=\",i, \"x=\",x)\n",
    "    \n",
    "func(5)\n",
    "print(\"i=\",i)"
   ]
  },
  {
   "cell_type": "code",
   "execution_count": null,
   "metadata": {
    "id": "4scKkoEjbG_S",
    "slideshow": {
     "slide_type": "skip"
    }
   },
   "outputs": [],
   "source": [
    "# Variables across functions have no relation to each other\n",
    "# A variable declared inside a function will have no relation to outside the function\n",
    "# Why is there an error?\n",
    "\n",
    "def func1(x):\n",
    "    j = 10\n",
    "    print(\"j=\",j, \"x=\",x)\n",
    "\n",
    "def func2(x):\n",
    "    j = 5\n",
    "    func1(x)\n",
    "    print(\"x=\",x)\n",
    "    \n",
    "func2(3)\n",
    "print(j)"
   ]
  },
  {
   "cell_type": "code",
   "execution_count": null,
   "metadata": {
    "id": "MuCue0jIbG_S",
    "slideshow": {
     "slide_type": "skip"
    }
   },
   "outputs": [],
   "source": [
    "# Why is this the output?\n",
    "\n",
    "k = 0\n",
    "for i in range(3):\n",
    "    print(k)"
   ]
  },
  {
   "cell_type": "code",
   "execution_count": null,
   "metadata": {
    "id": "WLpJp-M8bG_S",
    "slideshow": {
     "slide_type": "skip"
    }
   },
   "outputs": [],
   "source": [
    "# How about here?\n",
    "\n",
    "k = 0\n",
    "for i in range(3):\n",
    "    k = 6\n",
    "    print(k)"
   ]
  },
  {
   "cell_type": "markdown",
   "metadata": {
    "id": "iBQKe5SYbG_P",
    "slideshow": {
     "slide_type": "slide"
    }
   },
   "source": [
    "# Extra: While loops"
   ]
  },
  {
   "cell_type": "markdown",
   "metadata": {
    "id": "z5RXrRXLbG_P",
    "slideshow": {
     "slide_type": "slide"
    }
   },
   "source": [
    "A _while_ loop has the form:\n",
    "```python\n",
    "while CONDITION:\n",
    "    LOOP_BODY\n",
    "```"
   ]
  },
  {
   "cell_type": "code",
   "execution_count": null,
   "metadata": {
    "id": "N4dY0W0ObG_P",
    "slideshow": {
     "slide_type": "slide"
    }
   },
   "outputs": [],
   "source": [
    "i = 0\n",
    "while i < 10:\n",
    "    print(i)\n",
    "    i = i+1\n",
    "print('Loop completed!')"
   ]
  },
  {
   "cell_type": "code",
   "execution_count": null,
   "metadata": {
    "id": "OUtJANogbG_Q",
    "slideshow": {
     "slide_type": "slide"
    }
   },
   "outputs": [],
   "source": [
    "# If CONDITION is False at the start of the loop, the loop body will not execute!\n",
    "\n",
    "i = 0\n",
    "while i < 0:\n",
    "    print(i)\n",
    "    i += 1\n",
    "print('Loop completed!')"
   ]
  },
  {
   "cell_type": "code",
   "execution_count": null,
   "metadata": {
    "id": "jKgPkEQTbG_Q",
    "slideshow": {
     "slide_type": "slide"
    }
   },
   "outputs": [],
   "source": [
    "# WARNING!!!!\n",
    "# You can have loops that run forever.\n",
    "# These are really really bad.\n",
    "# Make sure the loop terminates.\n",
    "\n",
    "while True:\n",
    "    print('hi!')"
   ]
  },
  {
   "cell_type": "code",
   "execution_count": null,
   "metadata": {
    "id": "57-nvj_RbG_Q",
    "slideshow": {
     "slide_type": "slide"
    }
   },
   "outputs": [],
   "source": [
    "# WARNING!!!!!\n",
    "# Even if you don't mean to, the loop can run forever.\n",
    "# DO NOT do this.\n",
    "\n",
    "i = 0\n",
    "while i < 10:\n",
    "    print(i)\n",
    "print('Loop completed!') # This will never execute!"
   ]
  },
  {
   "cell_type": "code",
   "execution_count": null,
   "metadata": {
    "id": "XyVWkIL8bG_R",
    "slideshow": {
     "slide_type": "slide"
    }
   },
   "outputs": [],
   "source": [
    "# You can also use \"break\" in while loops\n",
    "# The syntax and usage is exactly the same as in for loops\n",
    "\n",
    "i = 0\n",
    "while True:\n",
    "    if i > 10:\n",
    "        break\n",
    "    print(i)\n",
    "    i += 1"
   ]
  }
 ],
 "metadata": {
  "celltoolbar": "Slideshow",
  "colab": {
   "name": "JamCoders_day3_lec1.ipynb",
   "provenance": []
  },
  "kernelspec": {
   "display_name": "tcs",
   "language": "python",
   "name": "tcs"
  },
  "language_info": {
   "codemirror_mode": {
    "name": "ipython",
    "version": 3
   },
   "file_extension": ".py",
   "mimetype": "text/x-python",
   "name": "python",
   "nbconvert_exporter": "python",
   "pygments_lexer": "ipython3",
   "version": "3.9.14"
  }
 },
 "nbformat": 4,
 "nbformat_minor": 4
}
