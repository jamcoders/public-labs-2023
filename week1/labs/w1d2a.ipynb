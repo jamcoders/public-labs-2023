{
 "cells": [
  {
   "attachments": {},
   "cell_type": "markdown",
   "metadata": {
    "id": "cBfRc7j-3Dun"
   },
   "source": [
    "# Week 1 Day 2A Exercises: Lists, Loops"
   ]
  },
  {
   "attachments": {},
   "cell_type": "markdown",
   "metadata": {},
   "source": [
    "![Reminder to Save](https://github.com/jamcoders/jamcoders-public-2023/blob/main/images/warning.png?raw=true)"
   ]
  },
  {
   "cell_type": "code",
   "execution_count": null,
   "metadata": {},
   "outputs": [],
   "source": [
    "# Always run this code.\n",
    "%config InteractiveShell.ast_node_interactivity=\"none\"\n",
    "import sys\n",
    "if 'google.colab' in sys.modules:\n",
    "    !pip install --force-reinstall git+https://github.com/jamcoders/jamcoders-public-2023.git --quiet \n",
    "from jamcoders.base_utils import *\n",
    "from jamcoders.week1.lab2a import *"
   ]
  },
  {
   "attachments": {},
   "cell_type": "markdown",
   "metadata": {
    "id": "MJZeaxbJUTJV"
   },
   "source": [
    "## Question 0: Review\n",
    "\n",
    "If you see the 🦘emoji, please ```\"SKIP THE QUESTION!\"```"
   ]
  },
  {
   "attachments": {},
   "cell_type": "markdown",
   "metadata": {
    "id": "75EgNbEdYwTE"
   },
   "source": [
    "**0.0**\n",
    "\n",
    "Whew! Yesterday we dived straight into `Python`! We hope you are really like `Python` so far.\n",
    "\n",
    "Remember, raise your hand if you have any questions. We are here to learn together with you!\n",
    "\n",
    "\n"
   ]
  },
  {
   "attachments": {},
   "cell_type": "markdown",
   "metadata": {
    "id": "XxyXvsRzUbXp"
   },
   "source": [
    "**0.1** \n",
    "\n",
    "Write, in words in a comment (don't forget the `#`):\n",
    "* Two uses of square brackets `[]`\n",
    "* Two uses of round brackets `()`"
   ]
  },
  {
   "cell_type": "code",
   "execution_count": null,
   "metadata": {
    "id": "QnyiJr58XZ1o"
   },
   "outputs": [],
   "source": [
    "# Two uses of square brackets here!\n",
    "\n",
    "# Two uses of round brackets here!\n"
   ]
  },
  {
   "attachments": {},
   "cell_type": "markdown",
   "metadata": {
    "id": "EzdVy90UVLTM"
   },
   "source": [
    "**0.2**\n",
    "\n",
    "`True` or `False`: Mark each statement as `True` or `False`\n",
    "\n",
    "1. You can make a *list* with round brackets `()`.\n",
    "2. The assignment `=` is the same as the comparison `==`.\n",
    "3. Both the assignment `a = b` and the assignment `b = a` results in `a` and `b` having the same value.\n",
    "4. For integers `a`,`b`: `a == b` is the same as `b == a`\n",
    "5. The result of `==`, `and`, `or`, `not` has type `boolean` (remember, `boolean` variables store `True` or `False`)\n",
    "6. The line `a = b` means we are changing the value stored inside `b`.\n",
    "7. The line `a = b` means we are changing the value stored inside `a`.\n",
    "8. Using `==` alone does not change the values stored inside the variables."
   ]
  },
  {
   "cell_type": "code",
   "execution_count": null,
   "metadata": {
    "id": "aJdrPAvLXExw"
   },
   "outputs": [],
   "source": [
    "# Write your answers here!\n",
    "# Replace the 'None' in answer_x = None, with your answer (True or False)\n",
    "# Don't change the check_answer code! Make sure you get everything correct :)\n",
    "\n",
    "# 1. \n",
    "answer_1 = None\n",
    "\n",
    "check_answer1(answer_1)\n",
    "\n",
    "# 2. \n",
    "answer_2 = None\n",
    "\n",
    "check_answer2(answer_2)\n",
    "\n",
    "# 3. \n",
    "answer_3 = None\n",
    "\n",
    "check_answer3(answer_3)\n",
    "\n",
    "# 4. \n",
    "answer_4 = None\n",
    "\n",
    "check_answer4(answer_4)\n",
    "\n",
    "# 5. \n",
    "answer_5 = None\n",
    "\n",
    "check_answer5(answer_5)\n",
    "\n",
    "# 6. \n",
    "answer_6 = None\n",
    "\n",
    "check_answer6(answer_6)\n",
    "\n",
    "# 7. \n",
    "answer_7 = None\n",
    "\n",
    "check_answer7(answer_7)\n",
    "\n",
    "# 8.\n",
    "answer_8 = None\n",
    "\n",
    "check_answer8(answer_8)\n",
    "\n",
    "# If you have any questions or are unsure, please raise your hand! We went over this pretty quickly yesterday, so we expect a lot of questions."
   ]
  },
  {
   "attachments": {},
   "cell_type": "markdown",
   "metadata": {
    "id": "KPM2evaq3Duo"
   },
   "source": [
    "## Question 1: Printing Things\n"
   ]
  },
  {
   "attachments": {},
   "cell_type": "markdown",
   "metadata": {
    "id": "jwOebVs73Dup"
   },
   "source": [
    "**1.1** \n",
    "\n",
    "Use function _print_ to print ```\"Boaz\"```. On a new line, print his occupation - ```\"Lecturer\"```. Finish by printing the `list` of other TAs you know."
   ]
  },
  {
   "cell_type": "code",
   "execution_count": null,
   "metadata": {
    "id": "4hPQYv0C3Duq"
   },
   "outputs": [],
   "source": [
    "# Your code here."
   ]
  },
  {
   "attachments": {},
   "cell_type": "markdown",
   "metadata": {
    "id": "F8U0tapU3Duw"
   },
   "source": [
    "**1.2** \n",
    "\n",
    "Given the code below, print ```x```, ```y```, and ```z``` on three different lines."
   ]
  },
  {
   "cell_type": "code",
   "execution_count": null,
   "metadata": {
    "id": "g7TxFr5X3Dux"
   },
   "outputs": [],
   "source": [
    "x = 17\n",
    "y = 19\n",
    "z = 42\n",
    "\n",
    "# Your code here."
   ]
  },
  {
   "attachments": {},
   "cell_type": "markdown",
   "metadata": {
    "id": "8dqsENZT3Du1"
   },
   "source": [
    "**1.3**\n",
    "\n",
    "Given the code below, print ```u```, ```v```, and ```w``` on the same line. There are many different ways to do this! \n",
    "\n",
    "*Challenge: Do this two ways if you remember how!*"
   ]
  },
  {
   "cell_type": "code",
   "execution_count": null,
   "metadata": {
    "id": "-DFnop2A3Du2"
   },
   "outputs": [],
   "source": [
    "u = [3, 5, 8]\n",
    "v = True\n",
    "w = 3.14\n",
    "\n",
    "# Your code here."
   ]
  },
  {
   "attachments": {},
   "cell_type": "markdown",
   "metadata": {
    "id": "721Z50Su3Du6"
   },
   "source": [
    "## Question 2: List Indexing\n"
   ]
  },
  {
   "attachments": {},
   "cell_type": "markdown",
   "metadata": {
    "id": "qZb3Q5eD3Du7"
   },
   "source": [
    "**2.1**\n",
    " \n",
    "Given the list ```list1```, print the first element. \n",
    "\n",
    "*Hint: what index is the first element?*"
   ]
  },
  {
   "cell_type": "code",
   "execution_count": null,
   "metadata": {
    "id": "Jq8s3yXj3Du8"
   },
   "outputs": [],
   "source": [
    "list1 = [\"coder\", 2022, \"jam\"]\n",
    "\n",
    "# Your code here."
   ]
  },
  {
   "attachments": {},
   "cell_type": "markdown",
   "metadata": {
    "id": "0s456woN3DvA"
   },
   "source": [
    "**2.2**\n",
    " \n",
    "Given the list ```list2```, print the last element.\n",
    "\n",
    "*Hint: what index is the last element?*"
   ]
  },
  {
   "cell_type": "code",
   "execution_count": null,
   "metadata": {
    "id": "wEyrspPz3DvB"
   },
   "outputs": [],
   "source": [
    "list2 = ['apple', 'orange', 'banana', 'pear',\n",
    "         'dragonfruit', 'lychee', 'starfruit']\n",
    "\n",
    "\n",
    "# Your code here."
   ]
  },
  {
   "attachments": {},
   "cell_type": "markdown",
   "metadata": {
    "id": "dYrJ4v4_3DvX"
   },
   "source": [
    "## Question 3: String Comparisons"
   ]
  },
  {
   "attachments": {},
   "cell_type": "markdown",
   "metadata": {
    "id": "xkreUcsv3DvX"
   },
   "source": [
    "**3.1**\n",
    " \n",
    "Try executing the code below. Can you change the output by changing only 1 character (there may be multiple solutions)?"
   ]
  },
  {
   "cell_type": "code",
   "execution_count": null,
   "metadata": {
    "id": "8PSbFJZa3DvY"
   },
   "outputs": [],
   "source": [
    "x = 42\n",
    "y = 111\n",
    "\n",
    "# Modify the output of this code by changing only 1 character:\n",
    "print(x < y)\n",
    "\n",
    "# Solutions"
   ]
  },
  {
   "attachments": {},
   "cell_type": "markdown",
   "metadata": {
    "id": "1QAcecKL3Dvc"
   },
   "source": [
    "**3.2**\n",
    "\n",
    "What is different in the case below? What will be printed?"
   ]
  },
  {
   "attachments": {},
   "cell_type": "markdown",
   "metadata": {
    "id": "wtgz1eHd3Dvd"
   },
   "source": [
    "```\n",
    "x = \"42\"\n",
    "y = \"111\"\n",
    "print(x < y)\n",
    "```"
   ]
  },
  {
   "cell_type": "code",
   "execution_count": null,
   "metadata": {
    "id": "UD4xnRXT3Dve"
   },
   "outputs": [],
   "source": [
    "# Your answer here"
   ]
  },
  {
   "attachments": {},
   "cell_type": "markdown",
   "metadata": {
    "id": "27T0ARvh3Dvf"
   },
   "source": [
    "**3.3**\n",
    " \n",
    "Construct an 4 digit number and a 5 digit number such that the 4 digit number is greater than the 5 digit number when they are of type string. "
   ]
  },
  {
   "cell_type": "code",
   "execution_count": null,
   "metadata": {
    "id": "BV9E0CLX3Dvg"
   },
   "outputs": [],
   "source": [
    "# Your code here.\n",
    "\n",
    "# Make sure to test your code here."
   ]
  },
  {
   "attachments": {},
   "cell_type": "markdown",
   "metadata": {
    "id": "amXndd0W3Dvl"
   },
   "source": [
    "**3.4**\n",
    " \n",
    "What would be the result of the following operations?\n",
    "\n",
    "\n",
    "```python\n",
    "'A' == 'a' \n",
    "'Brunch'< 'banana' \n",
    "'coffee' < 'Coffee' \n",
    "'Dog' > 'cat'\n",
    "'Bryan' != 'bryan'\n",
    "'nadia' > 'nadi'\n",
    "'CORINA VIRUS' < 'CORONA VIRUS'\n",
    "```"
   ]
  },
  {
   "cell_type": "code",
   "execution_count": null,
   "metadata": {},
   "outputs": [],
   "source": [
    "# Write your answers here!\n",
    "\n",
    "# 'A' == 'a' Answer: ?\n",
    "answer1 = None\n",
    "\n",
    "# 'Brunch'< 'banana' Answer: ?\n",
    "answer2 = None\n",
    "\n",
    "# 'coffee' < 'Coffee' Answer: ?\n",
    "answer3 = None\n",
    "\n",
    "# 'Dog' > 'cat' Answer: ?\n",
    "answer4 = None\n",
    "\n",
    "# 'Bryan' != 'bryan' Answer: ?\n",
    "answer5 = None\n",
    "\n",
    "# 'nadia' > 'nadi' Answer: ?\n",
    "answer6 = None\n",
    "\n",
    "# 'CORINA VIRUS' < 'CORONA VIRUS' Answer: ? \n",
    "answer7 = None\n",
    "\n",
    "\n",
    "check_answer_3_4([answer1,answer2,answer3,answer4,answer4,answer5,answer6,answer7])"
   ]
  },
  {
   "attachments": {},
   "cell_type": "markdown",
   "metadata": {
    "id": "SIYL0N813Dvs"
   },
   "source": [
    "**3.5**\n",
    " \n",
    "Check your answers in the box below. Can you figure out the rules for string comparisons?"
   ]
  },
  {
   "cell_type": "code",
   "execution_count": null,
   "metadata": {
    "id": "E-_d4bYV3Dvt"
   },
   "outputs": [],
   "source": [
    "# Explore here\n",
    "# print('A' == 'a')\n"
   ]
  },
  {
   "attachments": {},
   "cell_type": "markdown",
   "metadata": {},
   "source": [
    "## Question 4: Functions 🦘\n",
    "\n",
    "We will be using functions in this lab. You've seen them briefly in lecture, and will see them in more depth in this afternoon's lecture.\n",
    "\n",
    "Here is an example of a function (run it to see it working):"
   ]
  },
  {
   "cell_type": "code",
   "execution_count": null,
   "metadata": {},
   "outputs": [],
   "source": [
    "def multiply_by_five(x):\n",
    "    answer = 5*x\n",
    "    return answer \n",
    "\n",
    "print(multiply_by_five(3)) # should print 15"
   ]
  },
  {
   "attachments": {},
   "cell_type": "markdown",
   "metadata": {},
   "source": [
    "There are two important things to notice:\n",
    "- All code within the function must be *indented*.\n",
    "- The return statement gives the *output* of the function.\n",
    "\n",
    "Try running this code to see what happens when the code within the function is not indented:"
   ]
  },
  {
   "cell_type": "code",
   "execution_count": null,
   "metadata": {},
   "outputs": [],
   "source": [
    "def multiply_by_seven(x):\n",
    "answer = 7*x\n",
    "return answer\n",
    "\n",
    "print(multiply_by_seven(3))"
   ]
  },
  {
   "attachments": {},
   "cell_type": "markdown",
   "metadata": {},
   "source": [
    "Now try running this code to see what happens when nothing is returned:"
   ]
  },
  {
   "cell_type": "code",
   "execution_count": null,
   "metadata": {},
   "outputs": [],
   "source": [
    "def multiply_by_eleven(x):\n",
    "    answer = 11*x\n",
    "\n",
    "print(multiply_by_eleven(3))"
   ]
  },
  {
   "attachments": {},
   "cell_type": "markdown",
   "metadata": {},
   "source": [
    "Notice that it now prints `None`, because nothing is returned from the function.\n",
    "\n",
    "Finally, note that the function itself does not actually print anything. If we remove the print statement from below the function, nothing is printed (if something is printed when running the following cell, try running the first cell in this booklet and then re-running the following cell):"
   ]
  },
  {
   "cell_type": "code",
   "execution_count": null,
   "metadata": {},
   "outputs": [],
   "source": [
    "def multiply_by_thirteen(x):\n",
    "    answer = 13*x\n",
    "    return answer\n",
    "\n",
    "multiply_by_thirteen(3)"
   ]
  },
  {
   "attachments": {},
   "cell_type": "markdown",
   "metadata": {},
   "source": [
    "Now it's your turn. Write a function that takes in an input `x` and returns `x` without modifying it."
   ]
  },
  {
   "cell_type": "code",
   "execution_count": null,
   "metadata": {},
   "outputs": [],
   "source": [
    "def return_x(x):\n",
    "    # YOUR CODE HERE\n",
    "    \n",
    "\n",
    "assert_equal(return_x(5), 5)\n",
    "assert_equal(return_x(7), 7)"
   ]
  },
  {
   "attachments": {},
   "cell_type": "markdown",
   "metadata": {},
   "source": [
    "Now write a function that takes an input `x` and prints `x`, but returns nothing."
   ]
  },
  {
   "cell_type": "code",
   "execution_count": null,
   "metadata": {},
   "outputs": [],
   "source": [
    "def print_x(x):\n",
    "    # YOUR CODE HERE\n",
    "    \n",
    "\n",
    "print_x(5) # Should print 5\n",
    "print_x(7) # Should print 7"
   ]
  },
  {
   "attachments": {},
   "cell_type": "markdown",
   "metadata": {},
   "source": [
    "Great job! Just one more function is needed. Write a function that takes in a number `x` and returns three times `x` minus one."
   ]
  },
  {
   "cell_type": "code",
   "execution_count": null,
   "metadata": {},
   "outputs": [],
   "source": [
    "def times_three_minus_one(x):\n",
    "    # YOUR CODE HERE\n",
    "    \n",
    "\n",
    "assert_equal(times_three_minus_one(5), 14)\n",
    "assert_equal(times_three_minus_one(6), 17)"
   ]
  },
  {
   "attachments": {},
   "cell_type": "markdown",
   "metadata": {},
   "source": [
    "<a name=\"4\"></a>\n",
    "## Question 4: Print and Loops"
   ]
  },
  {
   "attachments": {},
   "cell_type": "markdown",
   "metadata": {},
   "source": [
    "### 4.1\n",
    "\n",
    "Print the integers from $0 - 10$ (inclusive) using a `for` loop"
   ]
  },
  {
   "cell_type": "code",
   "execution_count": null,
   "metadata": {},
   "outputs": [],
   "source": [
    "# Code here!"
   ]
  },
  {
   "attachments": {},
   "cell_type": "markdown",
   "metadata": {},
   "source": [
    "### 4.2 \n",
    "\n",
    "Print the integers from $0 - 10$ (inclusive) using a `while` loop"
   ]
  },
  {
   "cell_type": "code",
   "execution_count": null,
   "metadata": {},
   "outputs": [],
   "source": [
    "# Code here!"
   ]
  },
  {
   "attachments": {},
   "cell_type": "markdown",
   "metadata": {},
   "source": [
    "### 4.3 🦘\n",
    "\n",
    "Write a function called `print_x` that takes `x` as input and prints it\n",
    "\n",
    "\n",
    "*Expected output:*\n",
    "```py3\n",
    ">>> print_x(200)\n",
    "200\n",
    "```"
   ]
  },
  {
   "cell_type": "code",
   "execution_count": null,
   "metadata": {},
   "outputs": [],
   "source": [
    "def print_x(x):\n",
    "    # Code here!\n",
    "    \n",
    "\n",
    "print_x(200)"
   ]
  },
  {
   "attachments": {},
   "cell_type": "markdown",
   "metadata": {},
   "source": [
    "### 4.4 🦘\n",
    "\n",
    "Write a function that takes `x` and prints every number from $0$  to  `x - 1` (inclusive) using a `for` loop\n",
    "\n",
    "*Expected output:*\n",
    "```py3\n",
    ">>> print_values(5)\n",
    "0\n",
    "1\n",
    "2\n",
    "3\n",
    "4\n",
    "```"
   ]
  },
  {
   "cell_type": "code",
   "execution_count": null,
   "metadata": {},
   "outputs": [],
   "source": [
    "def print_values(x):\n",
    "    # Code here!\n",
    "    \n",
    "\n",
    "print_values(5)"
   ]
  },
  {
   "attachments": {},
   "cell_type": "markdown",
   "metadata": {},
   "source": [
    "### 4.5 🦘\n",
    "\n",
    "Write a function that takes `x` and prints every number from $0$  to  `x - 1` (inclusive) using a `while` loop.\n",
    "\n",
    "*Expected output:*\n",
    "```py3\n",
    ">>> print_values(5)\n",
    "0\n",
    "1\n",
    "2\n",
    "3\n",
    "4\n",
    "```"
   ]
  },
  {
   "cell_type": "code",
   "execution_count": null,
   "metadata": {},
   "outputs": [],
   "source": [
    "def print_values(x):\n",
    "    # Code here!\n",
    "    \n",
    "    \n",
    "print_values(5)"
   ]
  },
  {
   "attachments": {},
   "cell_type": "markdown",
   "metadata": {},
   "source": [
    "*Great job!* \n",
    "\n",
    "This is tricky material. Always feel free to ask a TA for help and discuss with other students."
   ]
  },
  {
   "attachments": {},
   "cell_type": "markdown",
   "metadata": {},
   "source": [
    "<a name=\"5\"></a>\n",
    "## Question 5: More Loops and Even Numbers"
   ]
  },
  {
   "attachments": {},
   "cell_type": "markdown",
   "metadata": {},
   "source": [
    "### 5.1 \n",
    "\n",
    "Use code to verify that the number 4 is even. *Hint: you could make use of math operators like `%`*."
   ]
  },
  {
   "cell_type": "code",
   "execution_count": null,
   "metadata": {},
   "outputs": [],
   "source": [
    "# Code here!"
   ]
  },
  {
   "attachments": {},
   "cell_type": "markdown",
   "metadata": {},
   "source": [
    "### 5.2 🦘\n",
    "\n",
    "Write a function that takes `x` and returns `True` if `x` is even "
   ]
  },
  {
   "cell_type": "code",
   "execution_count": null,
   "metadata": {},
   "outputs": [],
   "source": [
    "def is_even(x):\n",
    "    # Code here!\n",
    "    \n",
    "\n",
    "# Testing your code here! \n",
    "assert_equal(got=is_even(4), want=True)\n",
    "assert_equal(got=is_even(11), want=False)"
   ]
  },
  {
   "attachments": {},
   "cell_type": "markdown",
   "metadata": {},
   "source": [
    "### 5.3 🦘\n",
    "\n",
    "Write a function called `print_even_numbers` that takes `x` as an input and prints every EVEN number from $0$ to `x - 1` (inclusive) using a `for` loop\n",
    "\n",
    "*Expected Output:*\n",
    "```py\n",
    ">>> print_even_numbers(9)\n",
    "0\n",
    "2\n",
    "4\n",
    "6\n",
    "8\n",
    "```"
   ]
  },
  {
   "cell_type": "code",
   "execution_count": null,
   "metadata": {},
   "outputs": [],
   "source": [
    "def print_even_numbers(x):\n",
    "    # Code here!\n",
    "    \n",
    "    \n",
    "print_even_numbers(9)"
   ]
  },
  {
   "attachments": {},
   "cell_type": "markdown",
   "metadata": {},
   "source": [
    "### 5.4 🦘\n",
    "\n",
    "Write a function called `print_even_numbers` that takes `x` as an input and prints every EVEN number from $0$ to `x - 1` (inclusive) using a `while` loop"
   ]
  },
  {
   "cell_type": "code",
   "execution_count": null,
   "metadata": {},
   "outputs": [],
   "source": [
    "def print_even_numbers(x):\n",
    "    # Code here!\n",
    "    \n",
    "            \n",
    "print_even_numbers(9)"
   ]
  },
  {
   "attachments": {},
   "cell_type": "markdown",
   "metadata": {},
   "source": [
    "### 5.5 \n",
    "\n",
    "Using `while True:`, print the integers from $0 - 10$ (inclusive)"
   ]
  },
  {
   "cell_type": "code",
   "execution_count": null,
   "metadata": {},
   "outputs": [],
   "source": [
    "# Code here!\n"
   ]
  },
  {
   "attachments": {},
   "cell_type": "markdown",
   "metadata": {},
   "source": [
    "### 5.6 🦘\n",
    "\n",
    "Write a function called `print_even_numbers` that takes `x` and prints every EVEN number from $0$ to `x - 1` (inclusive) using `while True:`"
   ]
  },
  {
   "cell_type": "code",
   "execution_count": null,
   "metadata": {},
   "outputs": [],
   "source": [
    "\n",
    "def print_even_numbers(x):\n",
    "    # Code here!\n",
    "    \n",
    "        \n",
    "num = int(input('Enter a number: '))\n",
    "print_even_numbers(num)"
   ]
  },
  {
   "attachments": {},
   "cell_type": "markdown",
   "metadata": {},
   "source": [
    "### 5.7 🦘\n",
    "Write a function called `print_even_numbers` that takes `x` as an input and prints every EVEN number from $0$ to `x - 1` (inclusive) using a `for` loop, without **control flow** (i.e. no `if` statements).\n",
    "\n",
    "Hint: Remeber the different option to use of the ```range``` function from the lecture."
   ]
  },
  {
   "cell_type": "code",
   "execution_count": null,
   "metadata": {},
   "outputs": [],
   "source": [
    "def print_even_numbers(x):\n",
    "    # Code here!\n",
    "    \n",
    "        \n",
    "print_even_numbers(10)\n",
    "    "
   ]
  },
  {
   "attachments": {},
   "cell_type": "markdown",
   "metadata": {},
   "source": [
    "<a name=\"6\"></a>\n",
    "## Question 6: Lists"
   ]
  },
  {
   "attachments": {},
   "cell_type": "markdown",
   "metadata": {},
   "source": [
    "### 6.1 \n",
    "\n",
    "Create a list called `my_list` with any 3 integers"
   ]
  },
  {
   "cell_type": "code",
   "execution_count": null,
   "metadata": {},
   "outputs": [],
   "source": [
    "# Code here!\n"
   ]
  },
  {
   "attachments": {},
   "cell_type": "markdown",
   "metadata": {},
   "source": [
    "### 6.2 \n",
    "\n",
    "Print the first element in `my_list`\n"
   ]
  },
  {
   "cell_type": "code",
   "execution_count": null,
   "metadata": {},
   "outputs": [],
   "source": [
    "# Code here!\n"
   ]
  },
  {
   "attachments": {},
   "cell_type": "markdown",
   "metadata": {},
   "source": [
    "### 6.3 \n",
    "\n",
    "Print the length of `my_list`"
   ]
  },
  {
   "cell_type": "code",
   "execution_count": null,
   "metadata": {},
   "outputs": [],
   "source": [
    "# Code here!\n"
   ]
  },
  {
   "attachments": {},
   "cell_type": "markdown",
   "metadata": {},
   "source": [
    "### 6.4 \n",
    "\n",
    "Print every number in `my_list` using a `for` loop. "
   ]
  },
  {
   "cell_type": "code",
   "execution_count": null,
   "metadata": {},
   "outputs": [],
   "source": [
    "# Code here!\n"
   ]
  },
  {
   "attachments": {},
   "cell_type": "markdown",
   "metadata": {},
   "source": [
    "### 6.5 🦘\n",
    "\n",
    "Write a function that takes a list and prints all items in it using a `for` loop"
   ]
  },
  {
   "cell_type": "code",
   "execution_count": null,
   "metadata": {},
   "outputs": [],
   "source": [
    "def print_list_elem(L):\n",
    "    # Code here!\n",
    "    \n",
    "   \n",
    "        \n",
    "print_list_elem([2, 3, 'Key', 'one', 2.5])"
   ]
  },
  {
   "attachments": {},
   "cell_type": "markdown",
   "metadata": {},
   "source": [
    "### 6.6 \n",
    "\n",
    "Print the sum of all the elements in `my_list` using a `for x in y` loop"
   ]
  },
  {
   "cell_type": "code",
   "execution_count": null,
   "metadata": {},
   "outputs": [],
   "source": [
    "my_list = [2,4,7,8]\n",
    "# Code here!\n"
   ]
  },
  {
   "attachments": {},
   "cell_type": "markdown",
   "metadata": {},
   "source": [
    "### 6.7 \n",
    "\n",
    "Write a function that takes a list and prints the sum of all items in it using a `for x in y` loop"
   ]
  },
  {
   "cell_type": "code",
   "execution_count": null,
   "metadata": {},
   "outputs": [],
   "source": [
    "my_list = [2,4,7,8]\n",
    "\n",
    "def print_sum(L):\n",
    "    # Code here!\n",
    "    \n",
    "\n",
    "print_sum(my_list)\n",
    "    "
   ]
  },
  {
   "attachments": {},
   "cell_type": "markdown",
   "metadata": {},
   "source": [
    "### 6.8 🦘\n",
    "Write a function that takes a list and prints the sum of all items in it using a `while` loop"
   ]
  },
  {
   "cell_type": "code",
   "execution_count": null,
   "metadata": {},
   "outputs": [],
   "source": [
    "# Create my list\n",
    "my_list = [2,4,7,8]\n",
    "\n",
    "def print_sum(L):\n",
    "    # Code here!\n",
    "    \n",
    "    \n",
    "print_sum(my_list)\n",
    "    "
   ]
  },
  {
   "attachments": {},
   "cell_type": "markdown",
   "metadata": {},
   "source": [
    "### 6.9 🦘\n",
    "\n",
    "Write a function that takes a list and prints the sum of all items in it that uses a `for x in range()` loop."
   ]
  },
  {
   "cell_type": "code",
   "execution_count": null,
   "metadata": {},
   "outputs": [],
   "source": [
    "my_list = [2,4,7,8]\n",
    "\n",
    "def print_sum(L):\n",
    "    # Code here!\n",
    "   \n",
    "   \n",
    "print_sum(my_list)\n",
    "    \n",
    " "
   ]
  },
  {
   "attachments": {},
   "cell_type": "markdown",
   "metadata": {},
   "source": [
    "<a name=\"7\"></a>\n",
    "## Question 7: Strings"
   ]
  },
  {
   "attachments": {},
   "cell_type": "markdown",
   "metadata": {},
   "source": [
    "### 7.1 \n",
    "\n",
    "Create a string called `my_string` with the value `\"racecar\"`"
   ]
  },
  {
   "cell_type": "code",
   "execution_count": null,
   "metadata": {},
   "outputs": [],
   "source": [
    "# Code here!\n"
   ]
  },
  {
   "attachments": {},
   "cell_type": "markdown",
   "metadata": {},
   "source": [
    "### 7.2 \n",
    "\n",
    "Print the first character of `my_string`"
   ]
  },
  {
   "cell_type": "code",
   "execution_count": null,
   "metadata": {},
   "outputs": [],
   "source": [
    "# Code here!\n"
   ]
  },
  {
   "attachments": {},
   "cell_type": "markdown",
   "metadata": {},
   "source": [
    "### 7.3\n",
    "\n",
    "Print the last character of `my_string` by making use of the `len` function"
   ]
  },
  {
   "cell_type": "code",
   "execution_count": null,
   "metadata": {},
   "outputs": [],
   "source": [
    "# Code here!\n"
   ]
  },
  {
   "attachments": {},
   "cell_type": "markdown",
   "metadata": {},
   "source": [
    "### 7.4\n",
    "\n",
    "Print `True` if the first and last characters of `my_string` are the same "
   ]
  },
  {
   "cell_type": "code",
   "execution_count": null,
   "metadata": {},
   "outputs": [],
   "source": [
    "# Code here!\n"
   ]
  },
  {
   "attachments": {},
   "cell_type": "markdown",
   "metadata": {},
   "source": [
    "### 7.5 🦘\n",
    "\n",
    "Write a function that takes a string and returns `True` if the first and last characters of the string are the same and `False` otherwise"
   ]
  },
  {
   "cell_type": "code",
   "execution_count": null,
   "metadata": {},
   "outputs": [],
   "source": [
    "def check_char(str1):\n",
    "    # Code here!\n",
    "    \n",
    "\n",
    "assert_equal(got=check_char('rar'), want=True)\n",
    "assert_equal(got=check_char('abcd'), want=False)"
   ]
  },
  {
   "attachments": {},
   "cell_type": "markdown",
   "metadata": {},
   "source": [
    "### 7.6 🦘\n",
    "\n",
    "Write a function that takes a string and returns `True` if the second and second to last characters of the string are the same and `False` otherwise"
   ]
  },
  {
   "cell_type": "code",
   "execution_count": null,
   "metadata": {},
   "outputs": [],
   "source": [
    "def check_second(str1):\n",
    "    # Code here!\n",
    "    \n",
    "    \n",
    "assert_equal(got=check_second('rar'), want=True)\n",
    "assert_equal(got=check_second('racecar'), want=True)\n",
    "assert_equal(got=check_second('abcd'), want=False)"
   ]
  },
  {
   "attachments": {},
   "cell_type": "markdown",
   "metadata": {},
   "source": [
    "*Note:* A **palindrome** is a word that is spelt the same forward as it is backwards.\n",
    "- Palindromes:\n",
    "    - racecar\n",
    "    - madam\n",
    "    - 12321"
   ]
  },
  {
   "attachments": {},
   "cell_type": "markdown",
   "metadata": {},
   "source": [
    "### 7.7\n",
    "\n",
    "For each of the following strings, say whether they are palindromes (YES/NO):\n",
    "\n",
    "1. kayak\n",
    "2. 12323\n",
    "3. hello\n",
    "4. noon"
   ]
  },
  {
   "cell_type": "code",
   "execution_count": null,
   "metadata": {},
   "outputs": [],
   "source": [
    "# Write your answers here:\n",
    "# 1: \n",
    "# 2: \n",
    "# 3: \n",
    "# 4: "
   ]
  },
  {
   "attachments": {},
   "cell_type": "markdown",
   "metadata": {},
   "source": [
    "### 7.8\n",
    "Write a function that takes a string and returns `True` if the string is a palindrome and `False` otherwise"
   ]
  },
  {
   "cell_type": "code",
   "execution_count": null,
   "metadata": {},
   "outputs": [],
   "source": [
    "def is_palindrome(str1):\n",
    "    # Code here!\n",
    "    \n",
    "\n",
    "assert_equal(got=is_palindrome('dogeeseseegod'), want=True)\n",
    "assert_equal(got=is_palindrome('palindrome'), want=False)\n",
    "assert_equal(got=is_palindrome('abccba'), want=True)\n",
    "assert_equal(got=is_palindrome('abcabc'), want=False)"
   ]
  },
  {
   "attachments": {},
   "cell_type": "markdown",
   "metadata": {},
   "source": [
    "### 7.9 Come up with a different way to solve the above problem (7.8)\n",
    "\n",
    "(One way is to generate the reversed string, then check equality. Another way is to check index by index, without creating a copy of the string! There could be even more ways!)"
   ]
  },
  {
   "cell_type": "code",
   "execution_count": null,
   "metadata": {},
   "outputs": [],
   "source": [
    "def is_palindrome(string):\n",
    "    # Code here!\n",
    "    \n",
    "\n",
    "assert_equal(got=is_palindrome('dogeeseseegod'), want=True)\n",
    "assert_equal(got=is_palindrome('palindrome'), want=False)\n",
    "assert_equal(got=is_palindrome('abccba'), want=True)\n",
    "assert_equal(got=is_palindrome('abcabc'), want=False)"
   ]
  },
  {
   "attachments": {},
   "cell_type": "markdown",
   "metadata": {},
   "source": [
    "<a name=\"8\"></a>\n",
    "## Question 8: Breaking out of Loops"
   ]
  },
  {
   "attachments": {},
   "cell_type": "markdown",
   "metadata": {},
   "source": [
    "### 8.1\n",
    "\n",
    "Run the code below to print the numbers from $0 - 20$ (inclusive)"
   ]
  },
  {
   "cell_type": "code",
   "execution_count": null,
   "metadata": {},
   "outputs": [],
   "source": [
    "for i in range(21):\n",
    "    print(i)"
   ]
  },
  {
   "attachments": {},
   "cell_type": "markdown",
   "metadata": {},
   "source": [
    "### 8.2\n",
    "\n",
    "Add to the code in the block above (without deleting anything) to break out of the loop after printing the numbers $0 - 5$ (inclusive)"
   ]
  },
  {
   "cell_type": "code",
   "execution_count": null,
   "metadata": {},
   "outputs": [],
   "source": [
    "# Code here!\n"
   ]
  },
  {
   "attachments": {},
   "cell_type": "markdown",
   "metadata": {},
   "source": [
    "### 8.3\n",
    "\n",
    "Now, edit the code from $5.1$ to print all the numbers from $0 - 20$ (inclusive) that are not multiples of $3$."
   ]
  },
  {
   "cell_type": "code",
   "execution_count": null,
   "metadata": {},
   "outputs": [],
   "source": [
    "# Code here!\n"
   ]
  },
  {
   "attachments": {},
   "cell_type": "markdown",
   "metadata": {},
   "source": [
    "### 8.4\n",
    "\n",
    "Write code that will print all the numbers from $0 - 20$ (inclusive) that are not multiples of $3$ using `continue`"
   ]
  },
  {
   "cell_type": "code",
   "execution_count": null,
   "metadata": {},
   "outputs": [],
   "source": [
    "# Code here!\n"
   ]
  },
  {
   "attachments": {},
   "cell_type": "markdown",
   "metadata": {},
   "source": [
    "### 8.5\n",
    "\n",
    "Try running the code below and see what happens (hint: you might need to use the stop button)."
   ]
  },
  {
   "cell_type": "code",
   "execution_count": null,
   "metadata": {},
   "outputs": [],
   "source": [
    "i = 0\n",
    "while True:\n",
    "    i += 1\n",
    "    print(i)"
   ]
  },
  {
   "attachments": {},
   "cell_type": "markdown",
   "metadata": {},
   "source": [
    "### 8.6\n",
    "\n",
    "Now, add lines to the code above to only print the numbers from $1 - 20$ (inclusive)."
   ]
  },
  {
   "cell_type": "code",
   "execution_count": null,
   "metadata": {},
   "outputs": [],
   "source": [
    "# Code here!\n"
   ]
  },
  {
   "attachments": {},
   "cell_type": "markdown",
   "metadata": {},
   "source": [
    "### 8.7\n",
    "\n",
    "Now, using `continue`, modify the code from $5.6$ to print the numbers $1 - 20$ (inclusive) that are not multiples of $3$."
   ]
  },
  {
   "cell_type": "code",
   "execution_count": null,
   "metadata": {},
   "outputs": [],
   "source": [
    "# Code here!\n"
   ]
  },
  {
   "attachments": {},
   "cell_type": "markdown",
   "metadata": {
    "id": "2NcFKD4qbhRU"
   },
   "source": [
    "## Instructions for after you are done!\n",
    "\n",
    "* If you are finished, please **raise your hand** and let us know\n",
    "* If everything looks good, please move on to the extra questions in notebook **probs2c, and do not start probs2b**  "
   ]
  }
 ],
 "metadata": {
  "colab": {
   "collapsed_sections": [
    "MJZeaxbJUTJV",
    "KPM2evaq3Duo",
    "721Z50Su3Du6",
    "dYrJ4v4_3DvX",
    "VBX3T-643Dvv",
    "9MFG5nedAJqh",
    "7cRTSw2H3DwN",
    "a_bmDxIu3DwW",
    "5pI3DDzd3Dwl",
    "KsP7vDBz3Dwp",
    "_UhGlRUc3Dw0",
    "P1ekwsWW3Dw1",
    "MtgUiC6uygpe"
   ],
   "name": "jamcoders_probs2a.ipynb",
   "provenance": []
  },
  "kernelspec": {
   "display_name": "SageMath 9.4",
   "language": "sage",
   "name": "sagemath"
  },
  "language_info": {
   "codemirror_mode": {
    "name": "ipython",
    "version": 3
   },
   "file_extension": ".py",
   "mimetype": "text/x-python",
   "name": "python",
   "nbconvert_exporter": "python",
   "pygments_lexer": "ipython3",
   "version": "3.9.9"
  }
 },
 "nbformat": 4,
 "nbformat_minor": 4
}
