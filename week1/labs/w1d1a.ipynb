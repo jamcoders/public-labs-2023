{
 "cells": [
  {
   "attachments": {},
   "cell_type": "markdown",
   "metadata": {
    "id": "fh3TuPnozjDw"
   },
   "source": [
    "# Week 1 Day 1, Part A Exercises: Introduction to Python\n",
    "\n"
   ]
  },
  {
   "attachments": {},
   "cell_type": "markdown",
   "metadata": {},
   "source": [
    "![Reminder to Save](https://i.imgur.com/JFukxlL.png)"
   ]
  },
  {
   "cell_type": "code",
   "execution_count": null,
   "metadata": {},
   "outputs": [],
   "source": [
    "# Always run this code.\n",
    "%config InteractiveShell.ast_node_interactivity=\"none\""
   ]
  },
  {
   "attachments": {},
   "cell_type": "markdown",
   "metadata": {
    "id": "tezmYM2tD3ry"
   },
   "source": [
    "## Instructions\n",
    "\n",
    "Welcome to Jamcoders! This is a **Jupyter Notebook** with some exercises based on lecture. Jupyter Notebook allows you to write Python code in boxes called **cells** which you can **run** individually (by pressing `CTRL+ENTER` or `SHIFT+ENTER`).\n",
    "\n",
    "The goal of this notebook is to review the following topics:\n",
    "\n",
    "*   Comments\n",
    "*   Math in Python\n",
    "*   Printing\n",
    "*   Types\n",
    "*   Variables\n"
   ]
  },
  {
   "attachments": {},
   "cell_type": "markdown",
   "metadata": {},
   "source": [
    "# Table of Contents  \n",
    "\n",
    "**[Question 1: Comments, Math, Printing](#1)**\n",
    "\n",
    "**[Question 2: Integer and Float Types](#2)**\n",
    "\n",
    "**[Question 3: String Types](#3)**\n",
    "\n",
    "**[Question 4: Type Error](#4)**\n",
    "\n",
    "**[Question 5: Multiplication Operator](#5)**\n",
    "\n",
    "**[Question 6: Boolean Operators](#6)**\n",
    "\n",
    "**[Question 7: Variables](#7)**\n",
    "\n",
    "**[Question 8: Tricky Variable Names](#8)**\n",
    "\n",
    "**[Question 9: Math Magic Trick](#9)**\n",
    "\n",
    "**[Question 10: Putting It All Together](#10)**"
   ]
  },
  {
   "attachments": {},
   "cell_type": "markdown",
   "metadata": {
    "id": "jszSYNBwH_-z"
   },
   "source": [
    "<a name=\"1\"></a>\n",
    "## Question 1: Comments, Math, Printing\n",
    "\n",
    "_Use code to answer 1.1-1.5_"
   ]
  },
  {
   "attachments": {},
   "cell_type": "markdown",
   "metadata": {
    "id": "1lmpNcapMY1B"
   },
   "source": [
    "**1.0**\n",
    "\n",
    "You can print out any text using `print()`. For example:"
   ]
  },
  {
   "cell_type": "code",
   "execution_count": null,
   "metadata": {},
   "outputs": [],
   "source": [
    "print('hello world!')"
   ]
  },
  {
   "attachments": {},
   "cell_type": "markdown",
   "metadata": {},
   "source": [
    "What is your favourite colour? Write some code to print your answer below:"
   ]
  },
  {
   "cell_type": "code",
   "execution_count": null,
   "metadata": {
    "id": "_O9EYcnjM6JX"
   },
   "outputs": [],
   "source": []
  },
  {
   "attachments": {},
   "cell_type": "markdown",
   "metadata": {
    "id": "XDc5guKyIto2"
   },
   "source": [
    "**1.1**\n",
    "\n",
    "Comments do not change how code runs, but are important for explaining the code in words. \n",
    "\n",
    "Question: _\"Does the man make the suit or does the suit make the man?\"_\n",
    "\n",
    "Write any comment (starting with `#`) in the cell below for your answer to this question."
   ]
  },
  {
   "cell_type": "code",
   "execution_count": null,
   "metadata": {
    "id": "yQ9b8y0vIHOY"
   },
   "outputs": [],
   "source": []
  },
  {
   "attachments": {},
   "cell_type": "markdown",
   "metadata": {
    "id": "voHkxrI5JKxo"
   },
   "source": [
    "**1.2**\n",
    "\n",
    "You can do math using symbols like `+` (add), `-` (subtract), `*` (multiply), and `\\` (divide). \n",
    "\n",
    "Use print to show the answer to `2000 + 22` below:"
   ]
  },
  {
   "cell_type": "code",
   "execution_count": null,
   "metadata": {
    "id": "hm5Uozz6KaKn"
   },
   "outputs": [],
   "source": [
    "# YOUR CODE HERE"
   ]
  },
  {
   "attachments": {},
   "cell_type": "markdown",
   "metadata": {},
   "source": [
    "**1.2a**\n",
    "\n",
    "Keisha noticed cherries growing on a tree. She counted 365 green cherries, 65 red cherries and 45 yellow cherries. Print how many cherries she counted in total:\n",
    " "
   ]
  },
  {
   "cell_type": "code",
   "execution_count": null,
   "metadata": {},
   "outputs": [],
   "source": [
    "# YOUR CODE HERE"
   ]
  },
  {
   "attachments": {},
   "cell_type": "markdown",
   "metadata": {},
   "source": [
    "**1.2b**\n",
    "\n",
    "The next day Keisha noticed that 37 cherries had fallen from the tree. Print how many cherries are left on the tree:"
   ]
  },
  {
   "cell_type": "code",
   "execution_count": null,
   "metadata": {},
   "outputs": [],
   "source": [
    "# YOUR CODE HERE"
   ]
  },
  {
   "attachments": {},
   "cell_type": "markdown",
   "metadata": {},
   "source": [
    "**1.2c**\n",
    "\n",
    "Keisha found a millipede that has a total of 354 legs beside a rock. When she looked under the rock, she saw 45 more millipedes of the same species underneath. How many legs in total did Keisha see?"
   ]
  },
  {
   "cell_type": "code",
   "execution_count": null,
   "metadata": {},
   "outputs": [],
   "source": [
    "# YOUR CODE HERE"
   ]
  },
  {
   "attachments": {},
   "cell_type": "markdown",
   "metadata": {},
   "source": [
    "**1.2d**\n",
    "\n",
    "Andy bought 263 cases of beer to give to some clubs for their respective club parties and celebrations. He invited a total of 33 clubs to come and collect the cases of beer at his house. How many cases of beer would each club recieve?"
   ]
  },
  {
   "cell_type": "code",
   "execution_count": null,
   "metadata": {},
   "outputs": [],
   "source": [
    "# YOUR CODE HERE"
   ]
  },
  {
   "attachments": {},
   "cell_type": "markdown",
   "metadata": {},
   "source": [
    "For your previous answer, type the code that will only produce the whole number and not the decimal.\n",
    "\n",
    "_Hint: you would use the `//` operand_"
   ]
  },
  {
   "cell_type": "code",
   "execution_count": null,
   "metadata": {},
   "outputs": [],
   "source": [
    "# YOUR CODE HERE"
   ]
  },
  {
   "attachments": {},
   "cell_type": "markdown",
   "metadata": {
    "id": "2PXVss4xKsVW"
   },
   "source": [
    "**1.4**\n",
    "\n",
    "Keep in mind that Python does have an order of operations. \n",
    "\n",
    "Write *two* lines of code. \n",
    "1.   In the first, print `335 + 2 x 6`\n",
    "2.   In the second, print `(335 + 2) x 6`\n"
   ]
  },
  {
   "cell_type": "code",
   "execution_count": null,
   "metadata": {
    "id": "WiYKVs_3MJJv"
   },
   "outputs": [],
   "source": [
    "# YOUR CODE HERE"
   ]
  },
  {
   "attachments": {},
   "cell_type": "markdown",
   "metadata": {
    "id": "2ZEr74szOpRY"
   },
   "source": [
    "**1.5**\n",
    "\n",
    "Print any math expression of your choice, and add a comment explaining in words what your code is doing."
   ]
  },
  {
   "cell_type": "code",
   "execution_count": null,
   "metadata": {
    "id": "QnYp5PSHOypK"
   },
   "outputs": [],
   "source": [
    "# YOUR CODE HERE"
   ]
  },
  {
   "attachments": {},
   "cell_type": "markdown",
   "metadata": {
    "id": "ELiVccY1GWLF"
   },
   "source": [
    "<a name=\"2\"></a>\n",
    "## Question 2: Integer and Float Types\n",
    "\n",
    "So far, we have been doing math with `Integers`, but there are other types!\n",
    "\n",
    "\n",
    "_Use code to answer 2.1-2.4_"
   ]
  },
  {
   "attachments": {},
   "cell_type": "markdown",
   "metadata": {
    "id": "yoQwowxQzjEj"
   },
   "source": [
    "**2.1**\n",
    " \n",
    "Use the function ```type``` to determine the type of `1` and print it out."
   ]
  },
  {
   "cell_type": "code",
   "execution_count": null,
   "metadata": {
    "id": "LiOZYcDhzjEo"
   },
   "outputs": [],
   "source": [
    "# YOUR CODE HERE"
   ]
  },
  {
   "attachments": {},
   "cell_type": "markdown",
   "metadata": {
    "id": "vakteEunzjFA"
   },
   "source": [
    "**2.2** \n",
    "\n",
    "What about the type of `1.0`? "
   ]
  },
  {
   "cell_type": "code",
   "execution_count": null,
   "metadata": {
    "id": "vuDlygrUzjFE"
   },
   "outputs": [],
   "source": [
    "# YOUR CODE HERE"
   ]
  },
  {
   "attachments": {},
   "cell_type": "markdown",
   "metadata": {
    "id": "lyIE0CqIzjFj"
   },
   "source": [
    "**2.3** \n",
    "\n",
    "What is the resulting type of adding ```1``` with ```1```? "
   ]
  },
  {
   "cell_type": "code",
   "execution_count": null,
   "metadata": {
    "id": "HFeATOwszjFp"
   },
   "outputs": [],
   "source": [
    "# YOUR CODE HERE"
   ]
  },
  {
   "attachments": {},
   "cell_type": "markdown",
   "metadata": {
    "id": "WJZhT0MlzjF7"
   },
   "source": [
    "**2.4**\n",
    "\n",
    "What is the resulting type of adding ```1``` and ```1.0```? "
   ]
  },
  {
   "cell_type": "code",
   "execution_count": null,
   "metadata": {
    "id": "W-niaeRAzjF_"
   },
   "outputs": [],
   "source": [
    "# YOUR CODE HERE"
   ]
  },
  {
   "attachments": {},
   "cell_type": "markdown",
   "metadata": {
    "id": "IQnNwnLjzjGS"
   },
   "source": [
    "**2.5**\n",
    "\n",
    "So, what can you say about the resulting type of adding an ```int``` and a ```float```? \n",
    "\n",
    "*Write the answer in a comment below*"
   ]
  },
  {
   "cell_type": "code",
   "execution_count": null,
   "metadata": {
    "id": "cSawBtG4zjGX"
   },
   "outputs": [],
   "source": [
    "# YOUR ANSWER HERE"
   ]
  },
  {
   "attachments": {},
   "cell_type": "markdown",
   "metadata": {
    "id": "a9w_eu6_R5Jq"
   },
   "source": [
    "<a name=\"3\"></a>\n",
    "## Question 3: String Types\n",
    "\n",
    "_Use code to answer 3.1-3.4_"
   ]
  },
  {
   "attachments": {},
   "cell_type": "markdown",
   "metadata": {
    "id": "nlUsy1FBzjHC"
   },
   "source": [
    "**3.1**\n",
    "\n",
    "\n",
    "Print the type of `\"BoazBarak\"`."
   ]
  },
  {
   "cell_type": "code",
   "execution_count": null,
   "metadata": {
    "id": "TEErEdStzjHJ"
   },
   "outputs": [],
   "source": [
    "# YOUR CODE HERE"
   ]
  },
  {
   "attachments": {},
   "cell_type": "markdown",
   "metadata": {
    "id": "-ESGxIE3zjHX"
   },
   "source": [
    "**3.2**\n",
    "\n",
    "What is the type of ```'Obama'```?"
   ]
  },
  {
   "cell_type": "code",
   "execution_count": null,
   "metadata": {
    "id": "fYD4eYF-zjHb"
   },
   "outputs": [],
   "source": [
    "# YOUR CODE HERE"
   ]
  },
  {
   "attachments": {},
   "cell_type": "markdown",
   "metadata": {
    "id": "OS5JS87OzjHs"
   },
   "source": [
    "**3.3**\n",
    "\n",
    "\n",
    "Print the result of adding ```\"BoazBarak\"``` and ```'Obama'``` (with the `+` operator)."
   ]
  },
  {
   "cell_type": "code",
   "execution_count": null,
   "metadata": {
    "id": "mAAG2R0KzjHx"
   },
   "outputs": [],
   "source": [
    "# YOUR CODE HERE"
   ]
  },
  {
   "attachments": {},
   "cell_type": "markdown",
   "metadata": {
    "id": "gUL26CuVzjH9"
   },
   "source": [
    "**3.4**\n",
    "\n",
    "What is the resulting type of adding ```\"BoazBarak\"``` and ```'Obama'```?"
   ]
  },
  {
   "cell_type": "code",
   "execution_count": null,
   "metadata": {
    "id": "kcuj-u56zjH_"
   },
   "outputs": [],
   "source": [
    "# YOUR CODE HERE"
   ]
  },
  {
   "attachments": {},
   "cell_type": "markdown",
   "metadata": {
    "id": "JtYpK1tMzjIR"
   },
   "source": [
    "**3.5**\n",
    "\n",
    "Is there a difference between single quotes and double quotes?\n",
    "\n",
    "*Write the answer in a comment below*"
   ]
  },
  {
   "cell_type": "code",
   "execution_count": null,
   "metadata": {
    "id": "lRcOVAT4zjIV"
   },
   "outputs": [],
   "source": [
    "# YOUR ANSWER HERE"
   ]
  },
  {
   "attachments": {},
   "cell_type": "markdown",
   "metadata": {
    "id": "M6DCViJHzjIh"
   },
   "source": [
    "**3.6**\n",
    "\n",
    "What happens when you add two strings (with the `+` operator)?\n",
    "\n",
    "*Write the answer in a comment below*"
   ]
  },
  {
   "cell_type": "code",
   "execution_count": null,
   "metadata": {
    "id": "9LiLT2uYzjIq"
   },
   "outputs": [],
   "source": [
    "# YOUR ANSWER HERE"
   ]
  },
  {
   "attachments": {},
   "cell_type": "markdown",
   "metadata": {
    "id": "NRJxdBaeUbv5"
   },
   "source": [
    "<a name=\"4\"></a>\n",
    "## Question 4: Type Error"
   ]
  },
  {
   "attachments": {},
   "cell_type": "markdown",
   "metadata": {},
   "source": [
    "**4.1**\n",
    "\n",
    "What is the resulting type of adding ```3``` and ```'3'```? "
   ]
  },
  {
   "cell_type": "code",
   "execution_count": null,
   "metadata": {},
   "outputs": [],
   "source": [
    "# YOUR CODE HERE\n"
   ]
  },
  {
   "attachments": {},
   "cell_type": "markdown",
   "metadata": {},
   "source": [
    "**4.2**\n",
    "\n",
    "Can you explain why the error occured (in a comment)?"
   ]
  },
  {
   "cell_type": "code",
   "execution_count": null,
   "metadata": {},
   "outputs": [],
   "source": [
    "# YOUR ANSWER HERE"
   ]
  },
  {
   "attachments": {},
   "cell_type": "markdown",
   "metadata": {
    "id": "5sY-T1oNWpIK"
   },
   "source": [
    "<a name=\"6\"></a>\n",
    "## Question 5: Multiplication Operator"
   ]
  },
  {
   "attachments": {},
   "cell_type": "markdown",
   "metadata": {
    "id": "hfUep0U-zjME"
   },
   "source": [
    "**5.1**\n",
    "\n",
    "Multiply ```5``` and ```4```."
   ]
  },
  {
   "cell_type": "code",
   "execution_count": null,
   "metadata": {
    "id": "_JdfHcSqzjMH"
   },
   "outputs": [],
   "source": [
    "# YOUR CODE HERE"
   ]
  },
  {
   "attachments": {},
   "cell_type": "markdown",
   "metadata": {
    "id": "etox1HqXzjMX"
   },
   "source": [
    "**5.2**\n",
    "\n",
    "Multiply ```'Barak'``` by ```3```."
   ]
  },
  {
   "cell_type": "code",
   "execution_count": null,
   "metadata": {
    "id": "Z9dyob6dzjMa"
   },
   "outputs": [],
   "source": [
    "# YOUR CODE HERE"
   ]
  },
  {
   "attachments": {},
   "cell_type": "markdown",
   "metadata": {
    "id": "WnztKM1jzjMn"
   },
   "source": [
    "**5.3**\n",
    "\n",
    "Multiply ```5.0``` and ```4```."
   ]
  },
  {
   "cell_type": "code",
   "execution_count": null,
   "metadata": {
    "id": "x-JJ9HwozjMq"
   },
   "outputs": [],
   "source": [
    "# YOUR CODE HERE"
   ]
  },
  {
   "attachments": {},
   "cell_type": "markdown",
   "metadata": {
    "id": "U0Z_sTj6zjNP"
   },
   "source": [
    "**5.4**\n",
    "\n",
    "In a comment below, what patterns emerge when you multiply different types with an integer? "
   ]
  },
  {
   "cell_type": "code",
   "execution_count": null,
   "metadata": {
    "id": "adrBFAhjZZCW"
   },
   "outputs": [],
   "source": [
    "# YOUR ANSWER HERE"
   ]
  },
  {
   "attachments": {},
   "cell_type": "markdown",
   "metadata": {
    "id": "M1yAazzQZhFX"
   },
   "source": [
    "<a name=\"6\"></a>\n",
    "## Question 6: Boolean Operators\n",
    "\n",
    "\n"
   ]
  },
  {
   "attachments": {},
   "cell_type": "markdown",
   "metadata": {
    "id": "-wcpz-HLzjNh"
   },
   "source": [
    "**Figure 1**\n",
    "\n",
    "| AND      |  True | False |\n",
    "| -------- | ----- | ----- |\n",
    "| **True** |   A   |   B   |\n",
    "| **False**|   C   |   D   |\n"
   ]
  },
  {
   "attachments": {},
   "cell_type": "markdown",
   "metadata": {
    "id": "nOVKVSS7zjNj"
   },
   "source": [
    "**Figure 2**\n",
    " \n",
    "|  OR      |  True | False |\n",
    "| -------- | ----- | ----- |\n",
    "| **True** |   E   |   F   |\n",
    "| **False**|   G   |   H   |"
   ]
  },
  {
   "attachments": {},
   "cell_type": "markdown",
   "metadata": {
    "id": "gAcxDNNbzjNm"
   },
   "source": [
    "**6.1**\n",
    "\n",
    "What are the boolean values of A through H? Use your intuition to fill out the empty list in the text cell below"
   ]
  },
  {
   "attachments": {},
   "cell_type": "markdown",
   "metadata": {
    "id": "wEDzU7Or8-mA"
   },
   "source": [
    "*Fill out this list.*\n",
    "\n",
    "A. \n",
    "\n",
    "B. \n",
    "\n",
    "C. \n",
    "\n",
    "D.\n",
    "\n",
    "E. \n",
    "\n",
    "F. \n",
    "\n",
    "G. \n",
    "\n",
    "H."
   ]
  },
  {
   "attachments": {},
   "cell_type": "markdown",
   "metadata": {
    "id": "KAUnQTgbzjN_"
   },
   "source": [
    "**6.2**\n",
    "\n",
    "Use code to check your above answers. "
   ]
  },
  {
   "cell_type": "code",
   "execution_count": null,
   "metadata": {
    "id": "jmHWPxcgzjOB"
   },
   "outputs": [],
   "source": [
    "# Explore using keywords like: True, False, and, or. For example, try running \"print(True and False)\".\n",
    "# YOUR CODE HERE"
   ]
  },
  {
   "attachments": {},
   "cell_type": "markdown",
   "metadata": {
    "id": "mr_pak-dzjOL"
   },
   "source": [
    "**6.3**\n",
    "\n",
    "Are ```3``` and ```'3'``` equivalent? Use code to confirm (Hint: use `==` to check equivalence). "
   ]
  },
  {
   "cell_type": "code",
   "execution_count": null,
   "metadata": {
    "id": "QSa8QhZUzjON"
   },
   "outputs": [],
   "source": [
    "# YOUR CODE HERE"
   ]
  },
  {
   "attachments": {},
   "cell_type": "markdown",
   "metadata": {
    "id": "6ZUyfq03zjOV"
   },
   "source": [
    "**6.4**\n",
    "\n",
    "Are ```\"Boaz\"``` and ```\"Boaz\"``` equivalent? Use code to confirm. "
   ]
  },
  {
   "cell_type": "code",
   "execution_count": null,
   "metadata": {
    "id": "T6_jDq2EzjOW"
   },
   "outputs": [],
   "source": [
    "# YOUR CODE HERE"
   ]
  },
  {
   "attachments": {},
   "cell_type": "markdown",
   "metadata": {
    "id": "TFH4RN6YzjOc"
   },
   "source": [
    "**6.5**\n",
    "\n",
    "Is ```(not False)``` equivalent to ``` True```? "
   ]
  },
  {
   "cell_type": "code",
   "execution_count": null,
   "metadata": {
    "id": "rDRYODJZzjOd"
   },
   "outputs": [],
   "source": [
    "# YOUR CODE HERE"
   ]
  },
  {
   "attachments": {},
   "cell_type": "markdown",
   "metadata": {
    "id": "LkIPuvo_nVIu"
   },
   "source": [
    "<a name=\"7\"></a>\n",
    "## Question 7: Variables"
   ]
  },
  {
   "attachments": {},
   "cell_type": "markdown",
   "metadata": {
    "id": "L5UPycg-zjOt"
   },
   "source": [
    "**7.1**\n",
    "\n",
    "Define a variable ```x``` that has a value of ```5```. "
   ]
  },
  {
   "cell_type": "code",
   "execution_count": null,
   "metadata": {
    "id": "M-7O5a-JzjOv"
   },
   "outputs": [],
   "source": [
    "# YOUR CODE HERE"
   ]
  },
  {
   "attachments": {},
   "cell_type": "markdown",
   "metadata": {
    "id": "zBVhxkKMzjO2"
   },
   "source": [
    "**7.2**\n",
    "\n",
    "Define a variable ```y``` that has a value of ```x```. "
   ]
  },
  {
   "cell_type": "code",
   "execution_count": null,
   "metadata": {
    "id": "W5oQ3wyrzjO3"
   },
   "outputs": [],
   "source": [
    "# YOUR CODE HERE"
   ]
  },
  {
   "attachments": {},
   "cell_type": "markdown",
   "metadata": {
    "id": "iFMa1mHrzjO9"
   },
   "source": [
    "**7.3**\n",
    "\n",
    "Use `print` to check the value of ```y```."
   ]
  },
  {
   "cell_type": "code",
   "execution_count": null,
   "metadata": {
    "id": "LmNI_bIazjO-"
   },
   "outputs": [],
   "source": [
    "# YOUR CODE HERE"
   ]
  },
  {
   "attachments": {},
   "cell_type": "markdown",
   "metadata": {
    "id": "-1a_vMUnzjPD"
   },
   "source": [
    "**7.4**\n",
    "\n",
    "Change ```x``` to ```4```. What is the value of ```y``` now? "
   ]
  },
  {
   "cell_type": "code",
   "execution_count": null,
   "metadata": {
    "id": "zBDjO2KbzjPF"
   },
   "outputs": [],
   "source": [
    "# YOUR CODE HERE"
   ]
  },
  {
   "attachments": {},
   "cell_type": "markdown",
   "metadata": {
    "id": "_s3wCQgGzjPO"
   },
   "source": [
    "**7.5**\n",
    "\n",
    "Define a variable ```z```, that has a value of the sum of ```x``` and ```y```"
   ]
  },
  {
   "cell_type": "code",
   "execution_count": null,
   "metadata": {
    "id": "MHIt7cdWzjPQ"
   },
   "outputs": [],
   "source": [
    "# YOUR CODE HERE"
   ]
  },
  {
   "attachments": {},
   "cell_type": "markdown",
   "metadata": {
    "id": "pPUKjYEfzjPc"
   },
   "source": [
    "**7.6**\n",
    "\n",
    "Assign ```x``` another value, ```12```. What are the values of ```y``` and ```z```? "
   ]
  },
  {
   "cell_type": "code",
   "execution_count": null,
   "metadata": {
    "id": "uIJME8kazjPe"
   },
   "outputs": [],
   "source": [
    "# YOUR CODE HERE"
   ]
  },
  {
   "attachments": {},
   "cell_type": "markdown",
   "metadata": {
    "id": "3zdY03w0zjOj"
   },
   "source": [
    "**7.7**\n",
    "\n",
    "Define a variable ```x``` and assign it the value of ```False```,  **but without using the keyword `False`**. \n",
    "\n",
    "Hint: You can do it using one special operator. If you did it right, then `print(x)` should print out `False`."
   ]
  },
  {
   "cell_type": "code",
   "execution_count": null,
   "metadata": {
    "id": "L94xAZ9Z9aRY"
   },
   "outputs": [],
   "source": [
    "# YOUR CODE HERE"
   ]
  },
  {
   "attachments": {},
   "cell_type": "markdown",
   "metadata": {
    "id": "D97nhNalox2a"
   },
   "source": [
    "<a name=\"8\"></a>\n",
    "## Question 8: Tricky Variable Names"
   ]
  },
  {
   "attachments": {},
   "cell_type": "markdown",
   "metadata": {
    "id": "4vXg0hlQpiPV"
   },
   "source": [
    "So we have been writing code and getting the answers from the computer. Now, let's test to see if you can read a problem and determine the solution without checking with the computer. \n",
    "\n",
    "Suppose you are reading the following code:\n",
    "```python\n",
    "seven = 11\n",
    "boaz = 'C0der'\n",
    "Boaz = 'Jam'\n",
    "four = 4\n",
    "ten = 16\n",
    "```\n",
    "*Without running this code, answer the following in words in a comment*\n"
   ]
  },
  {
   "attachments": {},
   "cell_type": "markdown",
   "metadata": {
    "id": "JYQFw6qfzjPo"
   },
   "source": [
    "**8.1**\n",
    "\n",
    "What is the value of the variable ```seven```? "
   ]
  },
  {
   "cell_type": "code",
   "execution_count": null,
   "metadata": {
    "id": "HjJzjeAhrKmf"
   },
   "outputs": [],
   "source": [
    "# YOUR ANSWER HERE"
   ]
  },
  {
   "attachments": {},
   "cell_type": "markdown",
   "metadata": {
    "id": "8xPoCXr0qWuA"
   },
   "source": [
    "**8.2**\n",
    "\n",
    "What is the value of the variable `ten` minus the variable `four`?"
   ]
  },
  {
   "cell_type": "code",
   "execution_count": null,
   "metadata": {
    "id": "K2Q9tLlorLvh"
   },
   "outputs": [],
   "source": [
    "# YOUR ANSWER HERE"
   ]
  },
  {
   "attachments": {},
   "cell_type": "markdown",
   "metadata": {
    "id": "2wrLWnT0qm4h"
   },
   "source": [
    "**8.3**\n",
    "\n",
    "Is the type of the variable `boaz` the same as the type of the variable `Boaz`? "
   ]
  },
  {
   "cell_type": "code",
   "execution_count": null,
   "metadata": {
    "id": "84QhQntmrNfB"
   },
   "outputs": [],
   "source": [
    "# YOUR ANSWER HERE"
   ]
  },
  {
   "attachments": {},
   "cell_type": "markdown",
   "metadata": {
    "id": "3dj0ygP0q5Jl"
   },
   "source": [
    "**8.4**\n",
    "\n",
    "What would be the result of the string `'boaz'` subtracted from the value of the string `'Boaz'`?"
   ]
  },
  {
   "cell_type": "code",
   "execution_count": null,
   "metadata": {
    "id": "8aU5BtFlrOKh"
   },
   "outputs": [],
   "source": [
    "# YOUR ANSWER HERE"
   ]
  },
  {
   "attachments": {},
   "cell_type": "markdown",
   "metadata": {
    "id": "CMihB4RLrysj"
   },
   "source": [
    "<a name=\"9\"></a>\n",
    "## Question 9: Math Magic Trick"
   ]
  },
  {
   "attachments": {},
   "cell_type": "markdown",
   "metadata": {},
   "source": [
    "**9.1**\n",
    "\n",
    "I want to show you a little trick :) \n",
    "\n",
    "First, define a variable ```k``` to have the value of the any number from ```1 - 10```\n",
    "\n"
   ]
  },
  {
   "cell_type": "code",
   "execution_count": null,
   "metadata": {
    "id": "P9eu6VbqzjQQ"
   },
   "outputs": [],
   "source": [
    "# YOUR CODE HERE"
   ]
  },
  {
   "attachments": {},
   "cell_type": "markdown",
   "metadata": {
    "id": "b30Y0BwXvV3M"
   },
   "source": [
    "**9.2**\n",
    "\n",
    "Now multiply `k` by 2 using the `*=` operator"
   ]
  },
  {
   "cell_type": "code",
   "execution_count": null,
   "metadata": {
    "id": "ywHG40UQvNMy"
   },
   "outputs": [],
   "source": [
    "# YOUR CODE HERE"
   ]
  },
  {
   "attachments": {},
   "cell_type": "markdown",
   "metadata": {
    "id": "R_uf0e4SzjQi"
   },
   "source": [
    "**9.3**\n",
    "\n",
    "Now mulitply `k` by 5 "
   ]
  },
  {
   "cell_type": "code",
   "execution_count": null,
   "metadata": {
    "id": "lirsaov9zjQk"
   },
   "outputs": [],
   "source": [
    "# YOUR CODE HERE"
   ]
  },
  {
   "attachments": {},
   "cell_type": "markdown",
   "metadata": {
    "id": "vJsa2wTG58fF"
   },
   "source": [
    "**9.4**\n",
    "\n",
    "Now divide your current `k` by 1 using the `//=` operator"
   ]
  },
  {
   "cell_type": "code",
   "execution_count": null,
   "metadata": {
    "id": "q-bb4lFK6Cg9"
   },
   "outputs": [],
   "source": [
    "# YOUR CODE HERE"
   ]
  },
  {
   "attachments": {},
   "cell_type": "markdown",
   "metadata": {
    "id": "2Yd7z0Jftmfe"
   },
   "source": [
    "**9.5**\n",
    "\n",
    "Decrement `k` by using the `-=` operand by 7"
   ]
  },
  {
   "cell_type": "code",
   "execution_count": null,
   "metadata": {
    "id": "YT2QirZStk36"
   },
   "outputs": [],
   "source": [
    "# YOUR CODE HERE"
   ]
  },
  {
   "attachments": {},
   "cell_type": "markdown",
   "metadata": {
    "id": "2WmgyyhjwwWN"
   },
   "source": [
    "**9.6**\n",
    "\n",
    "Now let me guess..... does your answer end with 3? Print the value of `k`\n",
    "\n",
    "(*You may have to re-run run cells **9.1-9.5** each once for this to work*)"
   ]
  },
  {
   "cell_type": "code",
   "execution_count": null,
   "metadata": {
    "id": "fqpr7Rh3w5b-"
   },
   "outputs": [],
   "source": [
    "# YOUR CODE HERE"
   ]
  },
  {
   "attachments": {},
   "cell_type": "markdown",
   "metadata": {
    "id": "MaYucDnfzjRA"
   },
   "source": [
    "**9.7**\n",
    "\n",
    "Find the remainder of ```78``` divided by ```14``` using one operator from lecture. \n",
    "\n",
    "(For example, the remainder of `16` divided by `5` is `1`, because $16 = 5 * 3 + 1$)"
   ]
  },
  {
   "cell_type": "code",
   "execution_count": null,
   "metadata": {
    "id": "ASBdD-jYzjRK"
   },
   "outputs": [],
   "source": [
    "# YOUR CODE HERE"
   ]
  },
  {
   "attachments": {},
   "cell_type": "markdown",
   "metadata": {
    "id": "4qmkRp6PzjRS"
   },
   "source": [
    "**9.8**\n",
    "\n",
    "Given some value for ```y```, make ```y``` 10 times smaller (ignoring the remainder) using one operation. After you are done, `y` should have type ```int```. "
   ]
  },
  {
   "cell_type": "code",
   "execution_count": null,
   "metadata": {
    "id": "3LvyQaJxzjRT"
   },
   "outputs": [],
   "source": [
    "# YOUR CODE HERE"
   ]
  },
  {
   "attachments": {},
   "cell_type": "markdown",
   "metadata": {},
   "source": [
    "Hints for 9.7 and 9.8:\n",
    "\n",
    "9.7: Consider the `%` operator.\n",
    "\n",
    "9.8: Consider the `//` operator."
   ]
  },
  {
   "attachments": {},
   "cell_type": "markdown",
   "metadata": {
    "id": "mIa3RDvWyRCB"
   },
   "source": [
    "<a name=\"10\"></a>\n",
    "## Question 10: Putting It All Together"
   ]
  },
  {
   "attachments": {},
   "cell_type": "markdown",
   "metadata": {
    "id": "g1zA998VzjRz"
   },
   "source": [
    "**10.1**\n",
    "\n",
    "Write code to print\n",
    "\n",
    "a.  ``` 'BoazBoazBoaz' ```\n",
    "\n",
    "b. ```'Boaz3'```\n",
    "\n",
    "You should only type  ```'Boaz'``` once and ```3``` once for each case."
   ]
  },
  {
   "cell_type": "code",
   "execution_count": null,
   "metadata": {
    "id": "ByPI6HfMzjR0"
   },
   "outputs": [],
   "source": [
    "# YOUR CODE HERE"
   ]
  },
  {
   "attachments": {},
   "cell_type": "markdown",
   "metadata": {
    "id": "EM0WvnIjzjR9"
   },
   "source": [
    "**10.2**\n",
    "\n",
    "Look at the following code\n",
    "```python\n",
    "x = 99\n",
    "x /= 10\n",
    "x *= 50\n",
    "y = x\n",
    "y += 5\n",
    "x -= y\n",
    "y %= x\n",
    "\n",
    "```\n",
    "What is ```x``` and ```y```?  Try to do it in your head (or on paper) first before trying it with code."
   ]
  },
  {
   "cell_type": "code",
   "execution_count": null,
   "metadata": {
    "id": "SbDb49yRzjSC"
   },
   "outputs": [],
   "source": [
    "# YOUR CODE HERE"
   ]
  }
 ],
 "metadata": {
  "colab": {
   "collapsed_sections": [
    "jszSYNBwH_-z",
    "ELiVccY1GWLF",
    "a9w_eu6_R5Jq",
    "NRJxdBaeUbv5",
    "XQvXHNF5Vr3F",
    "5sY-T1oNWpIK",
    "M1yAazzQZhFX",
    "LkIPuvo_nVIu",
    "D97nhNalox2a",
    "CMihB4RLrysj",
    "mIa3RDvWyRCB"
   ],
   "name": "jamcoders_probs1a.ipynb",
   "provenance": []
  },
  "kernelspec": {
   "display_name": "Python 3 (ipykernel)",
   "language": "python",
   "name": "python3"
  },
  "language_info": {
   "codemirror_mode": {
    "name": "ipython",
    "version": 3
   },
   "file_extension": ".py",
   "mimetype": "text/x-python",
   "name": "python",
   "nbconvert_exporter": "python",
   "pygments_lexer": "ipython3",
   "version": "3.10.6"
  }
 },
 "nbformat": 4,
 "nbformat_minor": 4
}
