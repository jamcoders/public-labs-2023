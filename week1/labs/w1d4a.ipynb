{
 "cells": [
  {
   "cell_type": "markdown",
   "metadata": {
    "id": "UEQoHAeKBjsD"
   },
   "source": [
    "# Lecture 4, Part 1 Exercises\n"
   ]
  },
  {
   "cell_type": "markdown",
   "metadata": {},
   "source": [
    "![Reminder to Save](https://github.com/jamcoders/jamcoders-public-2023/blob/main/images/warning.png?raw=true)"
   ]
  },
  {
   "cell_type": "code",
   "execution_count": null,
   "metadata": {},
   "outputs": [],
   "source": [
    "# Always run this code.\n",
    "# %config InteractiveShell.ast_node_interactivity=\"none\"\n",
    "import sys\n",
    "if 'google.colab' in sys.modules:\n",
    "    !pip install --force-reinstall git+https://github.com/jamcoders/jamcoders-public-2023.git --quiet\n",
    "from jamcoders.base_utils import *"
   ]
  },
  {
   "cell_type": "markdown",
   "metadata": {
    "id": "BB9jFIDsBjsr"
   },
   "source": [
    "<br>\n",
    "<br>\n",
    "\n",
    "## 1. List Indexing\n",
    "**Lists** can be created like this:\n",
    "`list_name = [item1, item2, item3, item4]`\n",
    "\n",
    "### 1.1 \n",
    "Create a list called `multiples_of_five` that contains the integers 5, 10, 15, 20, and 25 in that order."
   ]
  },
  {
   "cell_type": "code",
   "execution_count": null,
   "metadata": {
    "id": "KE9Vg8eeBjsx"
   },
   "outputs": [],
   "source": [
    "# Your code here"
   ]
  },
  {
   "cell_type": "markdown",
   "metadata": {
    "id": "myN_pxfLBjs_"
   },
   "source": [
    "\n",
    "List elements can be accessed using *indices*. Each element of the list has a corresponding *index* that starts at 0 for the first element, 1 for the second element, etc.\n",
    "\n",
    "For example, in the list `fruits = ['mango', 'pineapple', 'orange', 'soursop']`, the indexes are as follows:\n",
    "\n",
    "|  **Index**  |  **0**  |    **1**    |   **2**  |   **3**   |\n",
    "|:-----------:|:-------:|:-----------:|:--------:|:---------:|\n",
    "| **Element** | 'mango' | 'pineapple' | 'orange' | 'soursop' |\n",
    "\n",
    "Each element can then be accessed like this: `list_name[item_index]`\n",
    "\n",
    "For example, to access the first element of `'fruits'` which is `'mango'`, you can use `fruits[0]` which returns `'mango'`. If you want to print `'mango'`, you can say `print(fruits[0])` which will print the result: `'mango'`.\n"
   ]
  },
  {
   "cell_type": "markdown",
   "metadata": {},
   "source": [
    "### 1.2 \n",
    "Print the first element in `multiples_of_five`."
   ]
  },
  {
   "cell_type": "code",
   "execution_count": null,
   "metadata": {
    "id": "tlqP6kkHBjtF"
   },
   "outputs": [],
   "source": [
    "# Your solution here"
   ]
  },
  {
   "cell_type": "markdown",
   "metadata": {
    "id": "qqR5pfvmBjtQ"
   },
   "source": [
    "### 1.3 \n",
    "Remember from previous labs that you can use negative indices for lists. Print the second to last element in `multiples_of_five` using negative indices."
   ]
  },
  {
   "cell_type": "code",
   "execution_count": null,
   "metadata": {
    "id": "VA6dbDRgBjtX"
   },
   "outputs": [],
   "source": [
    "# Your solution here"
   ]
  },
  {
   "cell_type": "markdown",
   "metadata": {},
   "source": [
    "<br>\n",
    "<br>\n",
    "\n",
    "## 2. List Slicing\n",
    "\n",
    "When accessing elements from a list using indexes, it is possible to produce a sub-list, containing elements from a specific range of indexes within the list. This is done using list **slicing**. \n",
    "\n",
    "It takes the form: `list_name[index_of_the_first_element_you_want:index_of_the_last_element_you_want_plus_one]`.\n",
    "\n",
    "**For example:**\n",
    "\n",
    "In the list `fruits = ['mango', 'pineapple', 'orange', 'soursop']`, if you want a sublist that contains _the second to third elements_ of the list, you could do this by accessing the relevant indices that follow the form above. Remember that the indices of the list are:\n",
    "\n",
    "|  **Index**  |  **0**  |    **1**    |   **2**  |   **3**   |\n",
    "|:-----------:|:-------:|:-----------:|:--------:|:---------:|\n",
    "| **Element** | 'mango' | 'pineapple' | 'orange' | 'soursop' |\n",
    "\n",
    "In order to access the desired sublist (_the second to third elements_), we can enter the relevant indices while considering the format given above. We can do this is as follows:\n",
    "\n",
    "`fruits[1:3] => ['pineapple', 'orange']`\n",
    "\n",
    "<br>\n",
    "\n",
    "**Note** that the indices on either side of the colon are optional. When one of these is absent, it means the sublist will start or end at the actual start or end of the main list. \n",
    "- In other words, if the left index is absent, the sublist will automatically start at index 0. \n",
    "\n",
    "    `fruits[:2] => ['mango', 'pineapple']`\n",
    "<br>\n",
    "    \n",
    "- If the right index is absent, the sublist will automatically end at the last index. \n",
    "\n",
    "    `fruits[1:] => ['pineapple', 'orange', 'soursop']`\n",
    "\n",
    "\n"
   ]
  },
  {
   "cell_type": "markdown",
   "metadata": {},
   "source": [
    "### 2.1\n",
    "Print a sliced list which includes the first three elements of `multiples_of_five` created in 1.1 above."
   ]
  },
  {
   "cell_type": "code",
   "execution_count": null,
   "metadata": {},
   "outputs": [],
   "source": [
    "# Your solution here\n",
    "\n",
    "# should print out [5,10,15]"
   ]
  },
  {
   "cell_type": "markdown",
   "metadata": {
    "id": "qqR5pfvmBjtQ"
   },
   "source": [
    "### 2.2\n",
    "Print a sliced list of `multiples_of_five` which includes its second, third, and fourth elements."
   ]
  },
  {
   "cell_type": "code",
   "execution_count": null,
   "metadata": {},
   "outputs": [],
   "source": [
    "# Your solution here\n",
    "\n",
    "# should print out [10, 15, 20]"
   ]
  },
  {
   "cell_type": "markdown",
   "metadata": {},
   "source": [
    "<br>\n",
    "<br>\n",
    "\n",
    "## 3. Appending to a List\n",
    "When you have a list, you can add an item to the end of the list using the `append()` method. It can be used like this:\n",
    "\n",
    "`list_name.append(item_to_be_added)`"
   ]
  },
  {
   "cell_type": "markdown",
   "metadata": {},
   "source": [
    "### 3.1\n",
    "Append the next multiple of 5 to the list `multiples_of_five`."
   ]
  },
  {
   "cell_type": "code",
   "execution_count": null,
   "metadata": {},
   "outputs": [],
   "source": [
    "# Your solution here\n",
    "\n",
    "# To test your solution we can print the list\n",
    "print(multiples_of_five)\n",
    "assert_equal(got=multiples_of_five, want=[5,10,15,20,25,30], )"
   ]
  },
  {
   "cell_type": "markdown",
   "metadata": {},
   "source": [
    "<br>\n",
    "<br>\n",
    "\n",
    "## 4. Reversing a List"
   ]
  },
  {
   "cell_type": "markdown",
   "metadata": {},
   "source": [
    "### 4.1\n",
    "Create an empty list (a list that contains no elements) called `descending_multiples`."
   ]
  },
  {
   "cell_type": "code",
   "execution_count": null,
   "metadata": {},
   "outputs": [],
   "source": [
    "# Your solution here"
   ]
  },
  {
   "cell_type": "markdown",
   "metadata": {},
   "source": [
    "### 4.2\n",
    "Append the value `30` to `descending_multiples`."
   ]
  },
  {
   "cell_type": "code",
   "execution_count": null,
   "metadata": {},
   "outputs": [],
   "source": [
    "# Your solution here"
   ]
  },
  {
   "cell_type": "markdown",
   "metadata": {},
   "source": [
    "### 4.3\n",
    "Using a for loop, append all the other elements of `multiples_of_five` to `descending_multiples`. Start toward the end of the `multiples_of_five` list and work your way backward so that `descending_multiples` contains the same elements but in reverse order. Make sure to write your code so that the value `30` does not appear twice, since you already appended it in 4.2. \n",
    "\n",
    "Hint: First create a variable called `length` that stores the length of `multiples_of_five`. Use this value within your for loop.\n",
    "\n",
    "Note: You may need to re-run 4.1 and 4.2 while testing your code."
   ]
  },
  {
   "cell_type": "code",
   "execution_count": null,
   "metadata": {},
   "outputs": [],
   "source": [
    "# Your solution here\n",
    "\n",
    "\n",
    "# Print the value of descending_multiples here\n",
    "\n",
    "assert_equal(got=descending_multiples, want=[30, 25, 20, 15, 10])\n"
   ]
  },
  {
   "cell_type": "markdown",
   "metadata": {
    "id": "lL85zXfYBjty"
   },
   "source": [
    "### 4.4\n",
    "Write a function called `reverse_list` that takes in a list `lst` and returns the reversed list.\n",
    "\n",
    "**Ex:** `reverse_list([1, 2, 3, 4]) => [4, 3, 2, 1]`\n",
    "\n",
    "You can do this using a combination of for loops and indexing."
   ]
  },
  {
   "cell_type": "code",
   "execution_count": null,
   "metadata": {
    "colab": {
     "base_uri": "https://localhost:8080/"
    },
    "executionInfo": {
     "elapsed": 2030,
     "status": "ok",
     "timestamp": 1562631721617,
     "user": {
      "displayName": "Stephen Koo",
      "photoUrl": "https://lh4.googleusercontent.com/-puW04LijCY0/AAAAAAAAAAI/AAAAAAABMD8/p1HymCYlPUI/s64/photo.jpg",
      "userId": "00528687567139275578"
     },
     "user_tz": 240
    },
    "id": "xhEHStYABjt6",
    "outputId": "08635691-a6b4-4382-ed07-b43578c1bd73"
   },
   "outputs": [],
   "source": [
    "def reverse_list(lst):\n",
    "    # Write your code here\n",
    "    \n",
    "\n",
    "# This tests your solution\n",
    "assert_equal(got=reverse_list(descending_multiples), want=[10, 15, 20, 25, 30])\n",
    "assert_equal(got=reverse_list([6]), want=[6])\n",
    "assert_equal(got=reverse_list([0,3,-9]), want=[-9,3,0])"
   ]
  },
  {
   "cell_type": "markdown",
   "metadata": {
    "id": "bYXz1rXtBjtj"
   },
   "source": [
    "### 4.5\n",
    "Write a function called `reverse_two` that returns a two element list containing the last two elements of `descending_multiples` in reverse order. \n",
    "\n",
    "**Ex:** `reverse_two([1, 2, 3, 4]) ==> [4, 3]`"
   ]
  },
  {
   "cell_type": "code",
   "execution_count": null,
   "metadata": {
    "id": "UjapwZF0Bjto"
   },
   "outputs": [],
   "source": [
    "def reverse_two(lst):\n",
    "    # Write your code here\n",
    "    \n",
    "\n",
    "# This tests your solution\n",
    "assert_equal(got=reverse_two(descending_multiples), want=[10, 15])"
   ]
  },
  {
   "cell_type": "markdown",
   "metadata": {
    "id": "2bEISxGiBjuH"
   },
   "source": [
    "## 5. DN that A!"
   ]
  },
  {
   "cell_type": "markdown",
   "metadata": {
    "id": "vT5ro7yBBjuN"
   },
   "source": [
    "### 5.1 \n",
    "DNA has 4 bases: Adenine (A), Thymine (T), Cytosine (C), and Guanine (G). Each base fits like a puzzle piece with one other base. Adenine pairs up with Thymine (AT base pairing) and Cytosine pairs up with Guanine (CG base pairing). This is important because DNA is double stranded. Each DNA strand is made up of multiple bases and fits with its other strand using the puzzle piece pairing rules. If we know the bases that make up one strand of DNA, we can figure out which bases make up the other strand by finding each base's complement (the other piece of the puzzle pair). For example:\n",
    "\n",
    "- `ATACGTACGATCA`  - This is the strand we know.\n",
    "- `TATGCATGCTAGT`  - This is the _complement strand_ that we can figure out.\n",
    "\n",
    "\n",
    "As a small exercise, try to figure out the complement strand to the below known strands manually (without code)."
   ]
  },
  {
   "cell_type": "markdown",
   "metadata": {},
   "source": [
    "### 5.1.1 ATCCGGGATCAA\n",
    "Store your answer as a string in a variable called `complement1`."
   ]
  },
  {
   "cell_type": "code",
   "execution_count": null,
   "metadata": {},
   "outputs": [],
   "source": [
    "# Your solution here"
   ]
  },
  {
   "cell_type": "markdown",
   "metadata": {},
   "source": [
    "### 5.1.2 GGCCCCATTTTC\n",
    "Store your answer as a string in a variable called `complement2`."
   ]
  },
  {
   "cell_type": "code",
   "execution_count": null,
   "metadata": {},
   "outputs": [],
   "source": [
    "# Your solution here"
   ]
  },
  {
   "cell_type": "markdown",
   "metadata": {},
   "source": [
    "### 5.2 \n",
    "Create a variable called `dna` containing the following strand of bases: `'ACTATGGCCGT'`."
   ]
  },
  {
   "cell_type": "code",
   "execution_count": null,
   "metadata": {},
   "outputs": [],
   "source": [
    "# Your solution here"
   ]
  },
  {
   "cell_type": "markdown",
   "metadata": {
    "id": "BugmqcanBjug"
   },
   "source": [
    "### 5.3\n",
    "Write a function called `contains_a(strand)` that returns `True` if `strand` contains an Adenine, expressed as an `'A'`. The function returns `False` otherwise."
   ]
  },
  {
   "cell_type": "code",
   "execution_count": null,
   "metadata": {
    "id": "7YM4SrAjBjuq"
   },
   "outputs": [],
   "source": [
    "def contains_a(strand):\n",
    "    # Write your code here\n",
    "    \n",
    "    \n",
    "# This tests your solution\n",
    "assert_equal(got=contains_a(dna), want=True)\n",
    "assert_equal(got=contains_a('TGGCT'), want=False)"
   ]
  },
  {
   "cell_type": "markdown",
   "metadata": {},
   "source": [
    "### 5.4\n",
    "Write a function called `complement_base` that takes a given base (i.e. A, C, T, or G) and returns its complement."
   ]
  },
  {
   "cell_type": "code",
   "execution_count": null,
   "metadata": {},
   "outputs": [],
   "source": [
    "def complement_base(base):\n",
    "    # Write your code here\n",
    "    \n",
    "    \n",
    "# This tests your solution\n",
    "assert_equal(got=complement_base('G'), want='C')\n",
    "assert_equal(got=complement_base('T'), want='A')\n",
    "assert_equal(got=complement_base('A'), want='T')\n",
    "assert_equal(got=complement_base('C'), want='G')"
   ]
  },
  {
   "cell_type": "markdown",
   "metadata": {
    "id": "bMjPvKB_Bju2"
   },
   "source": [
    "### 5.5\n",
    "Given a string `str` that contains only A, C, G, and T characters, write a function called `complement_strand` that will return the complement DNA strand explained in 5.1. "
   ]
  },
  {
   "cell_type": "code",
   "execution_count": null,
   "metadata": {
    "colab": {
     "base_uri": "https://localhost:8080/",
     "height": 34
    },
    "executionInfo": {
     "elapsed": 2040,
     "status": "ok",
     "timestamp": 1562631721638,
     "user": {
      "displayName": "Stephen Koo",
      "photoUrl": "https://lh4.googleusercontent.com/-puW04LijCY0/AAAAAAAAAAI/AAAAAAABMD8/p1HymCYlPUI/s64/photo.jpg",
      "userId": "00528687567139275578"
     },
     "user_tz": 240
    },
    "id": "2OLKTIr6BjvI",
    "outputId": "e0657145-a150-4239-e155-9f46117d2409"
   },
   "outputs": [],
   "source": [
    "def complement_strand(strand):\n",
    "    # Write your code here\n",
    "    \n",
    "\n",
    "# This tests your solution\n",
    "assert_equal(got=complement_strand('GATTACA'), want='CTAATGT')"
   ]
  },
  {
   "cell_type": "markdown",
   "metadata": {
    "id": "vHT4jMhFBjvU"
   },
   "source": [
    "## 6. My Alphabet\n",
    "_Run all the following cells in order._"
   ]
  },
  {
   "cell_type": "markdown",
   "metadata": {
    "id": "kO7pcsRvBjvf"
   },
   "source": [
    "### 6.1 \n",
    "Create a list called `vowels` that contains all the vowels from the English alphabet in lower case excluding `y`. "
   ]
  },
  {
   "cell_type": "code",
   "execution_count": null,
   "metadata": {
    "id": "LULFD0jtBjvi"
   },
   "outputs": [],
   "source": [
    "# Your code here"
   ]
  },
  {
   "cell_type": "markdown",
   "metadata": {
    "id": "bt6EeQ6CBjvt"
   },
   "source": [
    "### 6.2 \n",
    "Create a variable called `my_letter` that has the value `\"a\"`."
   ]
  },
  {
   "cell_type": "code",
   "execution_count": null,
   "metadata": {
    "id": "qg8vg3q8Bjvv"
   },
   "outputs": [],
   "source": [
    "# Your code here"
   ]
  },
  {
   "cell_type": "markdown",
   "metadata": {
    "id": "jy2e2o_UBjv_"
   },
   "source": [
    "### 6.3 \n",
    "Now, write a conditional statement that prints `'True'` when `my_letter` is equal to `\"a\"`."
   ]
  },
  {
   "cell_type": "code",
   "execution_count": null,
   "metadata": {
    "colab": {
     "base_uri": "https://localhost:8080/",
     "height": 34
    },
    "executionInfo": {
     "elapsed": 2060,
     "status": "ok",
     "timestamp": 1562631721675,
     "user": {
      "displayName": "Stephen Koo",
      "photoUrl": "https://lh4.googleusercontent.com/-puW04LijCY0/AAAAAAAAAAI/AAAAAAABMD8/p1HymCYlPUI/s64/photo.jpg",
      "userId": "00528687567139275578"
     },
     "user_tz": 240
    },
    "id": "oYKfEl7_BjwA",
    "outputId": "ffd2acd7-7317-4ecc-b7a7-89557f08a681"
   },
   "outputs": [],
   "source": [
    "# Your code here"
   ]
  },
  {
   "cell_type": "markdown",
   "metadata": {
    "id": "uysGN0QhBjwG"
   },
   "source": [
    "### 6.4 \n",
    "Write a function called `get_vowels` that iterates through `vowels` and prints each element."
   ]
  },
  {
   "cell_type": "code",
   "execution_count": null,
   "metadata": {
    "id": "bIs1opb3BjwR"
   },
   "outputs": [],
   "source": [
    "def get_vowels(lst):\n",
    "    # Your code here\n",
    "\n",
    "\n",
    "# Here is a test case to check if your code works correctly\n",
    "get_vowels(vowels)"
   ]
  },
  {
   "cell_type": "markdown",
   "metadata": {
    "id": "R-VPfg6uBjwf"
   },
   "source": [
    "### 6.5 \n",
    "Write a function called `is_vowel` that takes in a string called `letter` and returns `True` if `letter` is a vowel and `False` otherwise. **Do this by looping through `vowels` with a `for` loop.**"
   ]
  },
  {
   "cell_type": "code",
   "execution_count": null,
   "metadata": {
    "id": "pzjkqsy5Bjwi"
   },
   "outputs": [],
   "source": [
    "def is_vowel(letter):\n",
    "    # Write your code here\n",
    "    \n",
    "\n",
    "# This tests your solution\n",
    "assert_equal(got=is_vowel('a'), want=True)\n",
    "assert_equal(got=is_vowel('b'), want=False)"
   ]
  },
  {
   "cell_type": "markdown",
   "metadata": {
    "id": "lIFFJEl_Bjwy"
   },
   "source": [
    "### 6.6 \n",
    "Write a function `is_vowel2` that does the same thing as 3.5, but **using only conditional statements or boolean expressions**."
   ]
  },
  {
   "cell_type": "code",
   "execution_count": null,
   "metadata": {
    "id": "5aadHoyXBjw1"
   },
   "outputs": [],
   "source": [
    "def is_vowel2(letter):\n",
    "    # Write your code here\n",
    "    \n",
    "\n",
    "# This tests your solution\n",
    "assert_equal(got=is_vowel2('a'), want=True)\n",
    "assert_equal(got=is_vowel2('b'), want=False)"
   ]
  },
  {
   "cell_type": "markdown",
   "metadata": {
    "id": "eIDh6sMBBjxD"
   },
   "source": [
    "### 6.7 \n",
    "Create a function called `is_consonant`, that returns `True` if the input is **not** a vowel, and `False` otherwise. \n"
   ]
  },
  {
   "cell_type": "code",
   "execution_count": null,
   "metadata": {
    "id": "_B__mSChBjxF"
   },
   "outputs": [],
   "source": [
    "def is_consonant(letter):\n",
    "    # Write your code here\n",
    "\n",
    "# This tests your solution\n",
    "assert_equal(got=is_consonant('a'), want=False)\n",
    "assert_equal(got=is_consonant('l'), want=True)\n",
    "assert_equal(got=is_consonant('o'), want=False)\n",
    "assert_equal(got=is_consonant('k'), want=True)"
   ]
  },
  {
   "cell_type": "markdown",
   "metadata": {
    "id": "e9RIu5URBjxm"
   },
   "source": [
    "### 6.8 \n",
    "Try running the code below. Does it do what you expect?"
   ]
  },
  {
   "cell_type": "code",
   "execution_count": null,
   "metadata": {
    "id": "8XRvBNvyBjxs"
   },
   "outputs": [],
   "source": [
    "print(is_consonant(\"a\"))\n",
    "print(is_consonant(\"b\"))\n",
    "print(is_consonant(\"1\"))\n",
    "print(is_consonant(\".\"))"
   ]
  },
  {
   "cell_type": "markdown",
   "metadata": {
    "id": "RlmpMoS5Bjx5"
   },
   "source": [
    "### 6.9 \n",
    "Rewrite `is_consonant` so that it also returns `False` when it is not part of the alphabet. "
   ]
  },
  {
   "cell_type": "code",
   "execution_count": null,
   "metadata": {
    "id": "EZ-whg4BBjx9"
   },
   "outputs": [],
   "source": [
    "# Useful functions and variables for you to use:\n",
    "alphabet = \"abcdefghijklmnopqrstuvwxyz\"\n",
    "\n",
    "def is_consonant(letter):\n",
    "    # Write your code here\n",
    "\n",
    "\n",
    "# Test your code here\n",
    "assert_equal(got=is_consonant('a'), want=False)\n",
    "assert_equal(got=is_consonant('b'), want=True)\n",
    "assert_equal(got=is_consonant('1'), want=False)\n",
    "assert_equal(got=is_consonant('.'), want=False)\n",
    "\n",
    "# Extra challenge: can you edit your code so it works on upper and lower case text?\n"
   ]
  },
  {
   "cell_type": "markdown",
   "metadata": {},
   "source": [
    "# You're doing awesome! :)"
   ]
  }
 ],
 "metadata": {
  "colab": {
   "collapsed_sections": [],
   "name": "probs4a.ipynb",
   "provenance": []
  },
  "kernelspec": {
   "display_name": "Python 3 (ipykernel)",
   "language": "python",
   "name": "python3"
  },
  "language_info": {
   "codemirror_mode": {
    "name": "ipython",
    "version": 3
   },
   "file_extension": ".py",
   "mimetype": "text/x-python",
   "name": "python",
   "nbconvert_exporter": "python",
   "pygments_lexer": "ipython3",
   "version": "3.10.11"
  }
 },
 "nbformat": 4,
 "nbformat_minor": 4
}
