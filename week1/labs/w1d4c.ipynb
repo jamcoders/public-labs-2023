{
  "cells": [
    {
      "attachments": {},
      "cell_type": "markdown",
      "metadata": {
        "id": "4O2smJEQY_cK"
      },
      "source": [
        "![Reminder to Save](https://github.com/jamcoders/jamcoders-public-2023/blob/main/images/warning.png?raw=true)\n"
      ]
    },
    {
      "attachments": {},
      "cell_type": "markdown",
      "metadata": {
        "id": "gQVcTiChFEon"
      },
      "source": [
        "# Week 1 Day 4C: Functions, User Input"
      ]
    },
    {
      "cell_type": "code",
      "execution_count": 1,
      "metadata": {
        "id": "LGRa4N6ZGpdB"
      },
      "outputs": [],
      "source": [
        "# Run this code cell first!\n",
        "%config InteractiveShell.ast_node_interactivity=\"none\"\n",
        "import sys\n",
        "if 'google.colab' in sys.modules:\n",
        "    !pip install --force-reinstall git+https://github.com/jamcoders/jamcoders-public-2023.git --quiet\n",
        "from jamcoders.base_utils import *\n",
        "from jamcoders.week1.lab4c import *"
      ]
    },
    {
      "attachments": {},
      "cell_type": "markdown",
      "metadata": {
        "id": "W7oxmua0Y_cM"
      },
      "source": [
        "### Question 1: Accepting Input\n",
        "\n",
        "In Python, the `input` function reads from the user (not necessarily the programmer) and returns the inputs as string values. Can you spot the error in the following cell without running it?"
      ]
    },
    {
      "cell_type": "code",
      "execution_count": null,
      "metadata": {
        "id": "7d6StXZWGpdH"
      },
      "outputs": [],
      "source": [
        "age = input(\"How old are you? \")\n",
        "print(\"Your current age is \" + age)\n",
        "\n",
        "ageNextYear = age + 1\n",
        "print(\"Next year, your age will be \" + ageNextYear)"
      ]
    },
    {
      "cell_type": "code",
      "execution_count": null,
      "metadata": {
        "id": "uKseyfcVGpdH"
      },
      "outputs": [],
      "source": [
        "# How can you fix the above problem? Edit the code below.\n",
        "age = input(\"How old are you? \")\n",
        "print(\"Your current age is \" + age)\n",
        "\n",
        "ageNextYear = age + 1\n",
        "print(\"Next year, your age will be \" + ageNextYear)"
      ]
    },
    {
      "attachments": {},
      "cell_type": "markdown",
      "metadata": {
        "id": "-RS5Ik96FEpQ"
      },
      "source": [
        "\n",
        "\n",
        "### Question 2: Make an ATM\n",
        "\n",
        "For code where you have to take in user input, you might have to ensure that users type valid inputs. Imagine what would happen if you could withdraw a negative amount of money at a bank!\n",
        "\n",
        "Implement the functions `deposit()` and `withdrawal()`, so that the program below works like an ATM.\n",
        "\n",
        "The `deposit(amount, balance)` function should add the `amount` to `balance` and return the final `balance`. Make sure that you only accept **positive integers** as input (no strings, booleans etc.)!\n",
        "\n",
        "The `withdraw(amount, balance)` function should deduct `amount` from `balance` and return the final `balance`. Make sure that you only allow users to accept **positive integers** that are at most the current balance.\n",
        "\n",
        "\n",
        "**Important: If the user keys in invalid inputs for both functions, return the original `balance` and print a message saying `Error: Invalid Input!`**\n",
        "\n",
        "\n",
        "Hint: An `input` is always a string, you have to convert it to an number first. However in order to convert it to an integer, you need to know if it *can* be converted to an integer. For example, \"abc\" cannot be converted to an integer, to check if a string can be converted to an integer, you can use the function `isdigit()`. Also note that `isdigit()` will return `False` for negative integers.\n",
        "\n",
        "```python\n",
        "amount = \"abc\"\n",
        "print(amount.isdigit())\n",
        ">>> False\n",
        "\n",
        "amount = \"123\"\n",
        "print(amount.isdigit())\n",
        ">>> True\n",
        "\n",
        "amount = \"-3\"\n",
        "print(amount.isdigit())\n",
        ">>> False\n",
        "```"
      ]
    },
    {
      "cell_type": "code",
      "execution_count": null,
      "metadata": {
        "id": "7RvnN4T8FEpR"
      },
      "outputs": [],
      "source": [
        "def deposit(amount, balance):\n",
        "    \"\"\"\n",
        "    Add money to the bank account balance.\n",
        "\n",
        "    Args:\n",
        "      amount (int):\n",
        "        Number of JMD to add to the balance. This is a non-negative\n",
        "        integer.\n",
        "      balance (int):\n",
        "        The balance in the account before the deposit, in JMD. This is a\n",
        "        non-negative integer.\n",
        "\n",
        "    Returns (int):\n",
        "        Number of JMD in the account before the deposit. This is a non-negative\n",
        "        integer. If the input was invalid, no deposit is performed, and the\n",
        "        retun value equals the input balance.\n",
        "    \"\"\"\n",
        "    error_message = \"Error: Invalid Input!\"\n",
        "\n",
        "    # check if amount is a positive integer\n",
        "    if amount.isdigit() == False:\n",
        "        print(error_message)\n",
        "        return balance\n",
        "\n",
        "    # YOUR CODE STARTS HERE\n",
        "\n",
        "    # YOUR CODE ENDS HERE\n",
        "\n",
        "    print(\"You have deposited \" + str(amount) + \"JMD\")\n",
        "    print(\"Your total balance is \" + str(balance) + \"JMD\")\n",
        "\n",
        "    return balance\n",
        "\n",
        "\n",
        "def withdraw(amount, balance):\n",
        "    \"\"\"\n",
        "    Remove money from the bank account balance.\n",
        "\n",
        "    If the input was invalid, prints \"Error: Invalid Input!\".\n",
        "\n",
        "    Args:\n",
        "      amount (int):\n",
        "        Number of JMD to take out of the account. This is a non-negative\n",
        "        integer.\n",
        "      balance (int):\n",
        "        Number of JMD in the account before the withdrawal. This is a\n",
        "        non-negative integer.\n",
        "\n",
        "    Returns (int):\n",
        "        Number of JMD in the account after poerforming the deposit. This is a\n",
        "        non-negative integer. If the input was invalid, no withdrawal is\n",
        "        performed, and the retun value equals the input balance.\n",
        "    \"\"\"\n",
        "    error_message = \"Error: Invalid Input!\"\n",
        "\n",
        "    # YOUR CODE STARTS HERE\n",
        "\n",
        "    # Ensure that `amount` is a valid input and deduct the amount\n",
        "\n",
        "\n",
        "    # YOUR CODE ENDS HERE\n",
        "\n",
        "    print(\"You have withdrawn \" + str(amount) + \"JMD\")\n",
        "    print(\"Your remaining balance is \" + str(balance) + \"JMD\")\n",
        "\n",
        "    return balance\n",
        "\n",
        "\n",
        "def bank():\n",
        "    balance = 0\n",
        "    while True:\n",
        "        process = input(\n",
        "            \"\"\"\n",
        "            What would you like to do? (Type in a,b,c or d)\n",
        "\n",
        "            (a) Deposit Money\n",
        "            (b) Withdraw Money\n",
        "            (c) Check balance\n",
        "            (d) Exit\n",
        "\n",
        "            \"\"\")\n",
        "        if process == \"a\":\n",
        "            amount = input(\"How much do you want to deposit? \")\n",
        "            balance = deposit(amount, balance)\n",
        "        elif process == \"b\":\n",
        "            amount = input(\"How much do you want to withdraw? \")\n",
        "            balance = withdraw(amount, balance)\n",
        "        elif process == \"c\":\n",
        "            print('your current balance is ' + str(balance) + 'JMD')\n",
        "        elif process == \"d\":\n",
        "            break\n",
        "        else:\n",
        "            print(\"Please type a, b, c, or d, then press enter. \\n\")\n",
        "\n",
        "bank()"
      ]
    },
    {
      "attachments": {},
      "cell_type": "markdown",
      "metadata": {
        "id": "hLp713KDY_cN"
      },
      "source": [
        "An important part of coding is testing to make sure that your code is free of bugs, especially when accepting user input. Try to test every possible kind of input for your above function to make sure that it works fully!"
      ]
    },
    {
      "attachments": {},
      "cell_type": "markdown",
      "metadata": {
        "id": "ohJaFN12-oDA"
      },
      "source": [
        "### Question 3"
      ]
    },
    {
      "attachments": {},
      "cell_type": "markdown",
      "metadata": {
        "id": "95O5P10x-oDB"
      },
      "source": [
        "Write a Python function that takes a list and returns a new list with unique elements of the first list.\n",
        "\n",
        "Sample List : `[1, 2 ,3, 3, 3, 3, 4, 5]`\n",
        "\n",
        "Unique List : `[1, 2, 3, 4, 5]`\n",
        "\n",
        "*Hint* How do you check if an element is in a list already? Use Google!"
      ]
    },
    {
      "cell_type": "code",
      "execution_count": null,
      "metadata": {
        "id": "S-thv04I-oDC"
      },
      "outputs": [],
      "source": [
        "\n",
        "def unique_lst(old_list):\n",
        "    # YOUR CODE HERE\n",
        "    pass\n",
        "\n",
        "\n",
        "assert_equal(got=unique_lst([1, 2, 3, 3, 3, 3, 4, 5]), want=[1,2,3,4,5])\n",
        "assert_equal(got=unique_lst([1,2,3,1,2,3]), want=[1,2,3])\n",
        "assert_equal(got=unique_lst([1,1,1,1,1]), want=[1])\n",
        "assert_equal(got=unique_lst([1,2]), want=[1,2])\n"
      ]
    },
    {
      "attachments": {},
      "cell_type": "markdown",
      "metadata": {
        "id": "5GDL3ctC-oDO"
      },
      "source": [
        "### Question 4\n",
        "Write a Python function to check whether a string is a pangram or not.\n",
        "\n",
        "Note : Pangrams are words or sentences containing every letter of the alphabet at least once.\n",
        "For example : \"The quick brown fox jumps over the lazy dog\"\n",
        "\n",
        "* *Hint 1:* Use your function `unique_lst` that you have above!\n",
        "* *Hint 2:* Convert all the characters to lowercase using the `.lower()` function!"
      ]
    },
    {
      "cell_type": "code",
      "execution_count": null,
      "metadata": {
        "id": "QszScp92-oDQ"
      },
      "outputs": [],
      "source": [
        "def is_pangram(s):\n",
        "    # YOUR CODE HERE\n",
        "    pass\n",
        "\n",
        "assert_equal(got=is_pangram('The quick brown fox jumps over the lazy dog'), want=True)\n",
        "assert_equal(got=is_pangram('The quick brown fox jumps over the lazy dogggg'), want=True)\n",
        "assert_equal(is_pangram('The quick brown fox jumps over the lazy do'), want=False)\n",
        "\n",
        "assert_equal(got=is_pangram(\"Jackdaws love my big sphinx of quartz.\"), want=True)\n",
        "assert_equal(got=is_pangram(\"Jackdaws love my big HEART of quartz.\"), want=False)\n",
        "assert_equal(got=is_pangram(\"Pack my box with five dozen liquor jugs.\"), want=True)\n",
        "assert_equal(got=is_pangram(\"Pack my box with five dozen (5 x 12 = 110) liquor jugs.\"), want=True)\n",
        "assert_equal(got=is_pangram(\"Pack my box with (5 x 12 = 110) liquor jugs.\"), want=False)\n",
        "assert_equal(got=is_pangram(\"Waltz, bad nymph, for quick jigs vex.\"), want=True)\n",
        "assert_equal(got=is_pangram(\"Waltz, bad nymph, for jigs vex.\"), want=False)\n",
        "assert_equal(got=is_pangram(\"Glib jocks quiz nymph to vex dwarf.\"), want=True)\n",
        "assert_equal(got=is_pangram(\"Sphinx of black quartz, judge to vow.\"), want=False)\n",
        "assert_equal(got=is_pangram(\"How quickly daft jumping zebras vex!\"), want=True)\n",
        "assert_equal(got=is_pangram(\"The five boxing wizards jump quickly.\"), want=True)"
      ]
    }
  ],
  "metadata": {
    "colab": {
      "provenance": []
    },
    "kernelspec": {
      "display_name": "Python 3",
      "language": "python",
      "name": "python3"
    },
    "language_info": {
      "codemirror_mode": {
        "name": "ipython",
        "version": 3
      },
      "file_extension": ".py",
      "mimetype": "text/x-python",
      "name": "python",
      "nbconvert_exporter": "python",
      "pygments_lexer": "ipython3",
      "version": "3.10.11"
    }
  },
  "nbformat": 4,
  "nbformat_minor": 0
}
