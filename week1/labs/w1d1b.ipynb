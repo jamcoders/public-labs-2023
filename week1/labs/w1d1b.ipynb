{
 "cells": [
  {
   "attachments": {},
   "cell_type": "markdown",
   "metadata": {},
   "source": [
    "# Week 1 Day 1, Part B Exercises: Variables, Types, Errors"
   ]
  },
  {
   "attachments": {},
   "cell_type": "markdown",
   "metadata": {},
   "source": [
    "![Reminder to Save](https://i.imgur.com/JFukxlL.png)"
   ]
  },
  {
   "cell_type": "code",
   "execution_count": null,
   "metadata": {},
   "outputs": [],
   "source": [
    "# Always run this code.\n",
    "%config InteractiveShell.ast_node_interactivity=\"none\""
   ]
  },
  {
   "attachments": {},
   "cell_type": "markdown",
   "metadata": {},
   "source": [
    "# Table of Contents  \n",
    "\n",
    "**[Question 1: Conceptual Recap from Part 1](#1)**\n",
    "\n",
    "**[Question 2: len()](#2)**\n",
    "\n",
    "**[Question 3: Errors](#3)**\n",
    "\n",
    "**[Question 4: Matching a Truth Table](#4)**\n",
    "\n",
    "**[Question 5: What time is it?](#5)**\n",
    "\n",
    "**[Question 6: Obstacle Course](#6)**\n",
    "\n",
    "**[Question 7: Create Your Own Obstacle Course](#7)**\n",
    "\n",
    "**[Question 8: Open Ended](#8)**"
   ]
  },
  {
   "attachments": {},
   "cell_type": "markdown",
   "metadata": {
    "id": "e5EtF5qpEoWH"
   },
   "source": [
    "<a name=\"1\"></a>\n",
    "## Question 1: Conceptual Recap from Part 1"
   ]
  },
  {
   "attachments": {},
   "cell_type": "markdown",
   "metadata": {
    "id": "ab4moOGdFNyq"
   },
   "source": [
    "**1.1**\n",
    "\n",
    "Loosely define the following terms:\n",
    "*   Code\n",
    "*   Python\n",
    "*   Programming Language\n",
    "*   Jupyter Notebook\n",
    "*   Algorithm"
   ]
  },
  {
   "cell_type": "code",
   "execution_count": null,
   "metadata": {
    "id": "XaxM9-43EYOD"
   },
   "outputs": [],
   "source": [
    "# Anything reasonable works"
   ]
  },
  {
   "attachments": {},
   "cell_type": "markdown",
   "metadata": {
    "id": "_zhrtgwlGTUN"
   },
   "source": [
    "**1.2**\n",
    "\n",
    "In lecture, we saw that most algorithms have: \n",
    "*   **variables**\n",
    "*   **operations** (ex. `+`, `%`, `*`)\n",
    "*   **control** (ex. loops, if statements). \n",
    "\n",
    "What is the purpose of each of these things? What do they do?"
   ]
  },
  {
   "cell_type": "code",
   "execution_count": null,
   "metadata": {
    "id": "3csD6ZKQI_QQ"
   },
   "outputs": [],
   "source": []
  },
  {
   "attachments": {},
   "cell_type": "markdown",
   "metadata": {
    "id": "QGqkjXtfJL-f"
   },
   "source": [
    "<a name=\"2\"></a>\n",
    "## Question 2: len()"
   ]
  },
  {
   "attachments": {},
   "cell_type": "markdown",
   "metadata": {
    "id": "Za0vVfE-JZfw"
   },
   "source": [
    "**2.1**\n",
    "\n",
    "Have you ever wondered how many letters that make up one of the longest words in the English dictionary is? \n",
    "\n",
    "Well, write the code to find the length of the word `\"Supercalifragilisticexpialidocious\"`"
   ]
  },
  {
   "cell_type": "code",
   "execution_count": null,
   "metadata": {
    "id": "4VStz_f8JZyR"
   },
   "outputs": [],
   "source": []
  },
  {
   "attachments": {},
   "cell_type": "markdown",
   "metadata": {
    "id": "8Mkw48xFMIPY"
   },
   "source": [
    "**2.2**\n",
    "\n",
    "If we were to break this long word into smaller, more simpler parts, this would be `\"super cali fragil is tic ex pi ali do cious \"`\n",
    "\n",
    "Now, what would the length of this string would be? (Let's see if there is a difference now that we have spaces in between and at the end)"
   ]
  },
  {
   "cell_type": "code",
   "execution_count": null,
   "metadata": {
    "id": "2lTyIRJnyoNo"
   },
   "outputs": [],
   "source": []
  },
  {
   "attachments": {},
   "cell_type": "markdown",
   "metadata": {
    "id": "fg3rUvnXMfNs"
   },
   "source": [
    "**2.3**\n",
    "\n",
    "What is the length of `\"I am twenty nine letters long\"`?"
   ]
  },
  {
   "cell_type": "code",
   "execution_count": null,
   "metadata": {
    "id": "rAJCof0_Mr7g"
   },
   "outputs": [],
   "source": []
  },
  {
   "attachments": {},
   "cell_type": "markdown",
   "metadata": {
    "id": "eXCcja4NNeL2"
   },
   "source": [
    "**2.4**\n",
    "\n",
    "Does `None` have a length?"
   ]
  },
  {
   "cell_type": "code",
   "execution_count": null,
   "metadata": {
    "id": "ofbg3XMANkpB"
   },
   "outputs": [],
   "source": []
  },
  {
   "attachments": {},
   "cell_type": "markdown",
   "metadata": {
    "id": "IMFITI9KOVhR"
   },
   "source": [
    "**2.5**\n",
    "\n",
    "Can we use `len` to get the length of a number? Try for `15`:"
   ]
  },
  {
   "cell_type": "code",
   "execution_count": null,
   "metadata": {
    "id": "LeAPMwInNxHE"
   },
   "outputs": [],
   "source": []
  },
  {
   "attachments": {},
   "cell_type": "markdown",
   "metadata": {
    "id": "LotkQm_6Ov3-"
   },
   "source": [
    "**2.6** \n",
    "\n",
    "Why might you think the above (in **2.6**) does not work?"
   ]
  },
  {
   "cell_type": "code",
   "execution_count": null,
   "metadata": {
    "id": "NPAyqa9rOwK3"
   },
   "outputs": [],
   "source": [
    "# Answer in a comment here!"
   ]
  },
  {
   "attachments": {},
   "cell_type": "markdown",
   "metadata": {
    "id": "iiN2sjdAJv_v"
   },
   "source": [
    "<a name=\"3\"></a>\n",
    "## Question 3: Errors"
   ]
  },
  {
   "attachments": {},
   "cell_type": "markdown",
   "metadata": {
    "id": "AeGOMF4vJ0I_"
   },
   "source": [
    "**3.1**\n",
    "\n",
    "Generate a TypeError below\n",
    "\n",
    "Hint: Review 4.1 from Week 1, Day 1A."
   ]
  },
  {
   "cell_type": "code",
   "execution_count": null,
   "metadata": {
    "id": "dHtfjJ0tJzxj"
   },
   "outputs": [],
   "source": [
    "# YOUR CODE HERE"
   ]
  },
  {
   "attachments": {},
   "cell_type": "markdown",
   "metadata": {
    "id": "h8SXhaDUS8gU"
   },
   "source": [
    "**3.2**\n",
    "\n",
    "Generate a NameError below \n",
    "\n",
    "(for example if you make a typo when writing your variable name)"
   ]
  },
  {
   "cell_type": "code",
   "execution_count": null,
   "metadata": {
    "id": "O5eki1DIS8uJ"
   },
   "outputs": [],
   "source": [
    "# YOUR CODE HERE"
   ]
  },
  {
   "attachments": {},
   "cell_type": "markdown",
   "metadata": {
    "id": "AXsqdEYUZ1YR"
   },
   "source": [
    "**3.3**\n",
    "\n",
    "Generate a ZeroDivisionError below"
   ]
  },
  {
   "cell_type": "code",
   "execution_count": null,
   "metadata": {
    "id": "ARJNQACTZ1qE"
   },
   "outputs": [],
   "source": [
    "# YOUR CODE HERE"
   ]
  },
  {
   "attachments": {},
   "cell_type": "markdown",
   "metadata": {
    "id": "shGWdTWJJ2wq"
   },
   "source": [
    "<a name=\"4\"></a>\n",
    "## Question 4: Matching a Truth Table"
   ]
  },
  {
   "attachments": {},
   "cell_type": "markdown",
   "metadata": {
    "id": "KNvDgw_vdgNK"
   },
   "source": [
    "For this question, generate the boolean expression of the letter variables `A`, `B` etc that produces the outputs specified in the given truth table.\n",
    "\n",
    "\n",
    "For example if you are given this table:\n",
    "\n",
    "A     |  Output\n",
    "------|---------\n",
    "True  | False\n",
    "False | True\n",
    "\n",
    "One solution could be `not A`. We can check this with the code below:"
   ]
  },
  {
   "cell_type": "code",
   "execution_count": null,
   "metadata": {
    "id": "CzIb4uk1fibl"
   },
   "outputs": [],
   "source": [
    "# Example:\n",
    "\n",
    "# If A is True then the Output of \"not A\" is False\n",
    "A = True\n",
    "print(not A)\n",
    "\n",
    "# If A is False, then the Output of \"not A\" is True\n",
    "A = False\n",
    "print(not A)\n",
    "\n",
    "# So, \"not A\" is a valid solution!"
   ]
  },
  {
   "attachments": {},
   "cell_type": "markdown",
   "metadata": {
    "id": "yNh3qy2SeKrJ"
   },
   "source": [
    "**4.1** \n",
    "\n",
    "A     |  Output\n",
    "------|---------\n",
    "True  | True\n",
    "False | True\n",
    "\n",
    "Generate an expression for the table above.\n"
   ]
  },
  {
   "cell_type": "code",
   "execution_count": null,
   "metadata": {
    "id": "d1w0X2G_KjA0"
   },
   "outputs": [],
   "source": []
  },
  {
   "attachments": {},
   "cell_type": "markdown",
   "metadata": {
    "id": "VgCECEy5hBq4"
   },
   "source": [
    "**4.2**\n",
    "\n",
    "A     | B       | Output\n",
    "------|---------|-------\n",
    "True  | True    | True\n",
    "True  | False   | False\n",
    "False | True    | False\n",
    "False | False   | False\n",
    "\n",
    "Using the `\"and\"` operand, write the code to generate the output for this table. \n"
   ]
  },
  {
   "cell_type": "code",
   "execution_count": null,
   "metadata": {
    "id": "461si_gLhBhQ"
   },
   "outputs": [],
   "source": []
  },
  {
   "attachments": {},
   "cell_type": "markdown",
   "metadata": {},
   "source": [
    "**4.3**\n",
    "\n",
    "A     | B       | Output\n",
    "------|---------|-------\n",
    "True  | True    | True\n",
    "True  | False   | True\n",
    "False | True    | True\n",
    "False | False   | False\n",
    "\n",
    "Using the `\"or\"` operand, write the code to generate the output for this table. "
   ]
  },
  {
   "cell_type": "code",
   "execution_count": null,
   "metadata": {},
   "outputs": [],
   "source": []
  },
  {
   "attachments": {},
   "cell_type": "markdown",
   "metadata": {},
   "source": [
    "### Challenge Time!!"
   ]
  },
  {
   "attachments": {},
   "cell_type": "markdown",
   "metadata": {
    "id": "Y9pGlYNWhhUI"
   },
   "source": [
    "**4.4**\n",
    "\n",
    "A     | B       | Output\n",
    "------|---------|-------\n",
    "True  | True    | False\n",
    "True  | False   | False\n",
    "False | True    | False\n",
    "False | False   | True\n",
    "\n",
    "For this table, write the code to generate the output. (Hint: It's a combination of two operations!)\n",
    "\n",
    "_(Extra Hint: Remember to be careful with your use of brackets `\"()\"`)_"
   ]
  },
  {
   "cell_type": "code",
   "execution_count": null,
   "metadata": {
    "id": "q-02WQhahhHE"
   },
   "outputs": [],
   "source": []
  },
  {
   "attachments": {},
   "cell_type": "markdown",
   "metadata": {
    "id": "T-3XC4VdhrG9"
   },
   "source": [
    "**4.5**\n",
    "\n",
    "A     | B       | Output\n",
    "------|---------|-------\n",
    "True  | True    | True\n",
    "True  | False   | False\n",
    "False | True    | True\n",
    "False | False   | True\n",
    "\n",
    "For this table, write the code to generate the output. (Hint: it's a combination of two operations again!)\n",
    "\n",
    "_(Extra Hint: Remember to be careful with your use of brackets `\"()\"`)_"
   ]
  },
  {
   "cell_type": "code",
   "execution_count": null,
   "metadata": {
    "id": "b3VGQYzDhqXn"
   },
   "outputs": [],
   "source": []
  },
  {
   "attachments": {},
   "cell_type": "markdown",
   "metadata": {
    "id": "kOwr4vUliYJi"
   },
   "source": [
    "**4.6**\n",
    "\n",
    "A     | B       | Output\n",
    "------|---------|-------\n",
    "True  | True    | False\n",
    "True  | False   | True\n",
    "False | True    | True\n",
    "False | False   | False\n",
    "\n",
    "For a challenge, try to make your expressions as short as possible for this `\"XOR\" Gate`!\n",
    "\n",
    "**Note: `\"XOR Gate\"` means \"exclusive or\": so for the output to be true, one of the variables A,B must be true but not both of them!**"
   ]
  },
  {
   "cell_type": "code",
   "execution_count": null,
   "metadata": {
    "id": "SfLUysGAvx7x"
   },
   "outputs": [],
   "source": [
    "\n"
   ]
  },
  {
   "attachments": {},
   "cell_type": "markdown",
   "metadata": {
    "id": "CoBBdF-pjaJW"
   },
   "source": [
    "**4.7 - optional**\n",
    "\n",
    "*This question is completely optional! Finish the other questions first, then come back to try it if you have extra time.*\n",
    "\n",
    "Can you make the truth table for `or` using only the `and` and `not` operators?\n",
    "\n",
    "This is the truth table for `or`:\n",
    "\n",
    "A     | B       | Output\n",
    "------|---------|-------\n",
    "True  | True    | True\n",
    "True  | False   | True\n",
    "False | True    | True\n",
    "False | False   | False\n",
    "\n"
   ]
  },
  {
   "cell_type": "code",
   "execution_count": null,
   "metadata": {
    "id": "U2LYTI9jjZ1x"
   },
   "outputs": [],
   "source": []
  },
  {
   "attachments": {},
   "cell_type": "markdown",
   "metadata": {
    "id": "UZWN8bkxv0F0"
   },
   "source": [
    "**4.8 - optional**\n",
    "\n",
    "*This question is completely optional! Finish the other questions first, then come back to try it if you have extra time.*\n",
    "\n",
    "Based on **4.7**, suppose you have a truth table that you have represented using `and`/`or`/`not`. Can you also represent this truth table only using `and`/`not` without using `or`?\n",
    "\n",
    "Why or why not?"
   ]
  },
  {
   "cell_type": "code",
   "execution_count": null,
   "metadata": {
    "id": "24tEu8K6vzy9"
   },
   "outputs": [],
   "source": [
    "# write your answer as a comment here if you want to try this problem!\n",
    "     "
   ]
  },
  {
   "attachments": {},
   "cell_type": "markdown",
   "metadata": {},
   "source": [
    "**4.9 - optional**\n",
    "\n",
    "*This question is completely optional! Finish the other questions first, then come back to try it if you have extra time.*\n",
    "\n",
    "Case study\n",
    "School children are rewarded for healthy eating in the school canteen. If they buy a combination of a healthy starter, main and dessert, they receive bonus points on their loyalty card.\n",
    "\n",
    "The school canteen will always offer one healthy starter, a choice of two healthy mains and one healthy dessert option.\n",
    "\n",
    "A sample menu is shown below:\n",
    "\n",
    "_**Starters**_\n",
    "\n",
    ">Vegetable soup (healthy option)\n",
    "\n",
    ">Chicken wings\n",
    "\n",
    ">Garlic mushrooms\n",
    "\n",
    "_**Mains**_\n",
    "\n",
    ">Vegetable lasagne (healthy option)\n",
    "\n",
    ">Fish cakes (healthy option)\n",
    "\n",
    ">Hamburger\n",
    "\n",
    ">Lasagne\n",
    "\n",
    "_**Dessert**_\n",
    "\n",
    ">Fruit salad (healthy option)\n",
    "\n",
    ">Ice cream\n",
    "\n",
    "From the case study, what is the Boolean expression that will generate the outputs that will qualify the student to receive bonus points on their loyalty card.\n",
    "\n",
    "_Try working this out on paper before you attempt to code it_\n"
   ]
  },
  {
   "cell_type": "code",
   "execution_count": null,
   "metadata": {},
   "outputs": [],
   "source": [
    "# healthy choice:\n",
    "veg_soup = True\n",
    "chicken_wings = False\n",
    "garlic_mushrooms = False\n",
    "veg_lasagna = True\n",
    "fish_cakes = False\n",
    "hamburger = False\n",
    "fruit_salad = True\n",
    "ice_cream = False\n",
    "\n",
    "# YOUR CODE HERE- should print True\n",
    "\n",
    "# unhealthy choice:\n",
    "veg_soup = False\n",
    "chicken_wings = True\n",
    "garlic_mushrooms = False\n",
    "veg_lasagna = False\n",
    "fish_cakes = False\n",
    "hamburger = True\n",
    "fruit_salad = False\n",
    "ice_cream = True\n",
    "\n",
    "# the same code here- but this time it should print False\n"
   ]
  },
  {
   "attachments": {},
   "cell_type": "markdown",
   "metadata": {
    "id": "82akokxa60KZ"
   },
   "source": [
    "<a name=\"5\"></a>\n",
    "## Question 5: What time is it?\n"
   ]
  },
  {
   "attachments": {},
   "cell_type": "markdown",
   "metadata": {
    "id": "YKBoh81S7gld"
   },
   "source": [
    "**5.1**\n",
    "\n",
    "Suppose `time` is a variable that is given and stores some number of seconds. How many `days`, `hours`, `minutes`, and `seconds` is this? Create these four variables with the appropriate values. \n",
    "\n",
    "For example, `65` seconds should mean `days == 0`, `hours == 0`, `minutes == 1`, `seconds == 5`.\n",
    "\n",
    "```"
   ]
  },
  {
   "cell_type": "code",
   "execution_count": null,
   "metadata": {
    "id": "dH2L7MdJ7neK"
   },
   "outputs": [],
   "source": [
    "time = 1000000\n",
    "\n",
    "# YOUR CODE HERE\n",
    "days = ...\n",
    "hours = ...\n",
    "minutes = ...\n",
    "seconds = ...\n",
    "\n",
    "\n",
    "# The following line should print out something like: 11 days 13 hours 46 minutes 40 seconds"
   ]
  },
  {
   "attachments": {},
   "cell_type": "markdown",
   "metadata": {
    "id": "5g7T8qoj6wO8"
   },
   "source": [
    "<a name=\"6\"></a>\n",
    "## Question 6: Obstacle Course"
   ]
  },
  {
   "attachments": {},
   "cell_type": "markdown",
   "metadata": {
    "id": "7efz_gcM7tl8"
   },
   "source": [
    "In this question, you control a variable called `player`. **Your goal is to never print out `False`, and never run into an `Error`.** However, there are some lines that you are not allowed to edit.\n",
    "\n",
    "In other words, the rules to the game are:\n",
    "*   Do not alter any `print` statement\n",
    "*   Otherwise, add any code you want, anywhere\n",
    "*   Make the code Error free\n",
    "*   Pass all levels!\n"
   ]
  },
  {
   "cell_type": "code",
   "execution_count": null,
   "metadata": {
    "id": "_79k4caF7vaD"
   },
   "outputs": [],
   "source": [
    "# Set player to any value you would like!\n",
    "player = None\n",
    "\n",
    "print('Level 1 passed?', \n",
    "      type(player) == str) # Do not edit this print statement!\n",
    "\n",
    "# Set player to any value you would like!\n",
    "player = None\n",
    "\n",
    "print('Level 2 passed?', \n",
    "      type(player) == int and player % 2 == 1) # Do not edit this print statement!\n",
    "\n",
    "# Set player to any value you would like!\n",
    "player = None\n",
    "\n",
    "print('Level 3 passed?', \n",
    "      len(player) == 3) # Do not edit this print statement!\n",
    "\n",
    "# Set player to any value you would like!\n",
    "player = None\n",
    "\n",
    "print('Level 4 passed?', \n",
    "      player == 'secret passcode') # Do not edit this print statement!\n",
    "\n",
    "# Set player to any value you would like!\n",
    "player = None\n",
    "\n",
    "print('Level 5 passed?', \n",
    "      player % 3 == player % 5 == player % 7 and (player > 8)) # Do not edit this print statement!\n",
    "\n",
    "# Set player to any value you would like!\n",
    "player = None\n",
    "\n",
    "print('Level 6 passed?', \n",
    "      player[3] == 'Boaz' and player[0] == player[1]) # Do not edit this print statement!\n",
    "\n",
    "# Set player to any value you would like!\n",
    "player = None\n",
    "\n",
    "print('Level 7 passed?', \n",
    "      type(player) == str and len(player) == 5) # Do not edit this print statement!\n",
    "\n",
    "# Set player to any value you would like!\n",
    "player = None\n",
    "\n",
    "print('Level 8 passed?', \n",
    "      type(player[0]) == list and player[0] + player[1] == player[2] and len(player[2]) > 0) # Do not edit this print statement!\n",
    "\n",
    "# Set player to any value you would like!\n",
    "player = None\n",
    "\n",
    "print('Level 9 passed?', len(player) == 2022 and type(player) == str) # Do not edit this print statement!\n",
    "\n",
    "# Set player to any value you would like!\n",
    "player = None\n",
    "\n",
    "print('Level 10 passed?', player[2021] == 'jamcoders') # Do not edit this print statement!\n",
    "\n",
    "# Set player to any value you would like!\n",
    "player = None\n",
    "\n",
    "print('Bonus level passed?', type(player) == list and len(player) == 2022 and len(player[0]) == 2022) # Do not edit this print statement!\n"
   ]
  },
  {
   "attachments": {},
   "cell_type": "markdown",
   "metadata": {
    "id": "Sc3zz0vJ7Dns"
   },
   "source": [
    "<a name=\"7\"></a>\n",
    "## Question 7: Create Your Own Obstacle Course **-optional**"
   ]
  },
  {
   "attachments": {},
   "cell_type": "markdown",
   "metadata": {
    "id": "w8uRW1Ub77SX"
   },
   "source": [
    "*this question is completely optional! Finish the other questions first, then come back to try it if you have extra time*\n",
    "\n",
    "Write your own obstacle course, just like we did in question 7! Then, get a friend who has also finished the other exercises, or a TA, to play your obstacle course!\n",
    "\n",
    "**Please make sure the obstacle course is possible to complete :)**"
   ]
  },
  {
   "cell_type": "code",
   "execution_count": null,
   "metadata": {
    "id": "w2mdy2gC7_kE"
   },
   "outputs": [],
   "source": [
    "# Write your obstacle course here!\n",
    "\n",
    "# Let the player set the values of the player\n",
    "player = None\n",
    "\n",
    "print(True) # Write your obstacles here! The player cannot edit these lines!"
   ]
  },
  {
   "attachments": {},
   "cell_type": "markdown",
   "metadata": {
    "id": "1vRWCHqouUsk"
   },
   "source": [
    "<a name=\"8\"></a>\n",
    "## Question 8: Open Ended **-optional**"
   ]
  },
  {
   "attachments": {},
   "cell_type": "markdown",
   "metadata": {
    "id": "Go8LcgimuSCp"
   },
   "source": [
    "This is a **completely optional**, open ended question that you can fill out if you'd like to!\n",
    "\n",
    "Feel free to:\n",
    "\n",
    "*   comment about today's lecture\n",
    "*   ask any questions about what we've talked about\n",
    "*   ...or ask anything about computer science and algorithms in general\n",
    "*   ... write a reflection, or anything else!\n",
    "\n",
    "and/or you can explore more about Python:\n",
    "\n",
    "*   What if you try using different types in boolean operations. For example, is a number `True`? Is `0` `True`? Is a string `True`? How about a float? What happens when you try to use boolean operations like `and`/`or` on these types?\n",
    "*   How is the equal sign (`=`) in Python the same or different from the equal sign (`=`) you might see in a math class? Another thing you could explore is the similarities and differences between `is` and `==`?\n",
    "*   For many math operations, the order does not matter. (For example, `a + b` = `b + a`). What are some operations where order does matter? Does order matter in all cases?\n",
    "*   ...Or anything that you might be curious about! Have fun :)"
   ]
  },
  {
   "cell_type": "code",
   "execution_count": null,
   "metadata": {
    "id": "xbe9IvRCudWI"
   },
   "outputs": [],
   "source": [
    "# Optionally explore here!\n",
    "\n",
    "# What if you try using different types in boolean operations. \n",
    "# For example, is a number True? \n",
    "# Is 0 True? \n",
    "# Is a string True? \n",
    "# How about a float? \n",
    "# What happens when you try to use boolean operations like and/or on these types?"
   ]
  },
  {
   "cell_type": "code",
   "execution_count": null,
   "metadata": {
    "id": "PKjajp994gKv"
   },
   "outputs": [],
   "source": [
    "# Optionally explore here!\n",
    "\n",
    "# How is the equal sign (=) in Python the same or different from \n",
    "# the equal sign (=) you might see in a math class? \n",
    "# Another thing you could explore is the similarities and differences between is and ==?"
   ]
  },
  {
   "cell_type": "code",
   "execution_count": null,
   "metadata": {
    "id": "-NMN21D34ggz"
   },
   "outputs": [],
   "source": [
    "# Optionally explore here!\n",
    "\n",
    "# For many math operations, the order does not matter. \n",
    "# (For example, a + b = b + a). \n",
    "# What are some operations where order does matter? \n",
    "# Does order matter in all cases?"
   ]
  }
 ],
 "metadata": {
  "colab": {
   "collapsed_sections": [
    "e5EtF5qpEoWH",
    "QGqkjXtfJL-f",
    "iiN2sjdAJv_v",
    "QtCuLmzEKLvd",
    "shGWdTWJJ2wq",
    "Y0ShrROyKkNQ",
    "82akokxa60KZ",
    "5g7T8qoj6wO8",
    "Sc3zz0vJ7Dns",
    "1vRWCHqouUsk"
   ],
   "name": "jamcoders_probs1b.ipynb",
   "provenance": []
  },
  "kernelspec": {
   "display_name": "Python 3 (ipykernel)",
   "language": "python",
   "name": "python3"
  },
  "language_info": {
   "codemirror_mode": {
    "name": "ipython",
    "version": 3
   },
   "file_extension": ".py",
   "mimetype": "text/x-python",
   "name": "python",
   "nbconvert_exporter": "python",
   "pygments_lexer": "ipython3",
   "version": "3.8.2"
  }
 },
 "nbformat": 4,
 "nbformat_minor": 4
}
