{
 "cells": [
  {
   "cell_type": "code",
   "execution_count": 15,
   "id": "a958745e",
   "metadata": {},
   "outputs": [
    {
     "name": "stdout",
     "output_type": "stream",
     "text": [
      "1\n"
     ]
    }
   ],
   "source": [
    "def print_smallest_number(input_list):\n",
    "    minimum_element=input_list[0]\n",
    "    i=0\n",
    "    while True:\n",
    "        if i>=len(input_list):\n",
    "            break\n",
    "        if input_list[i]<minimum_element:\n",
    "            minimum_element=input_list[i]\n",
    "        i +=1\n",
    "    return minimum_element\n",
    "x=print_smallest_number([5,7,6,9,10,1])\n",
    "print(x)  "
   ]
  },
  {
   "cell_type": "markdown",
   "id": "d94c5082",
   "metadata": {},
   "source": [
    "## Your Turn \n",
    "\n",
    "## How to trace through your code\n",
    "\n",
    "## How to execute code line by line"
   ]
  },
  {
   "cell_type": "code",
   "execution_count": 19,
   "id": "f4597f4b",
   "metadata": {},
   "outputs": [
    {
     "name": "stdout",
     "output_type": "stream",
     "text": [
      "1\n"
     ]
    }
   ],
   "source": [
    "def print_smallest_number(input_list):\n",
    "    minimum_element=input_list[0]\n",
    "    counter=0\n",
    "    while counter<len(input_list):\n",
    "        if input_list[counter]<minimum_element:\n",
    "            minimum_element=input_list[counter]\n",
    "        counter +=1\n",
    "    return minimum_element\n",
    "x=print_smallest_number([5,7,6,9,1,2,35])\n",
    "print(x)   \n",
    "\n",
    "#Time Step 1\n",
    "#x\n",
    "#input_list\n",
    "#minimum_element\n",
    "#counter\n",
    "#len(input_list)\n",
    "#counter<len(input_list)\n",
    "#input_list[counter]\n",
    "#minimum_element\n",
    "#minimum_element\n",
    "\n",
    "#Time Step 2\n",
    "#x\n",
    "#input_list\n",
    "#minimum_element\n",
    "#counter\n",
    "#len(input_list)\n",
    "#counter<len(input_list)\n",
    "#input_list[counter]\n",
    "#minimum_element\n",
    "#minimum_element\n",
    "\n",
    "#.........."
   ]
  },
  {
   "cell_type": "code",
   "execution_count": null,
   "id": "b8ff6862",
   "metadata": {},
   "outputs": [],
   "source": [
    "def print_up_to_number(number):\n",
    "    for i in range(number):\n",
    "        print(i)\n",
    "    return number\n",
    "        \n",
    "x=print_print_up_to_number(5)\n",
    "print(x)  "
   ]
  },
  {
   "cell_type": "markdown",
   "id": "6769f2d9",
   "metadata": {},
   "source": [
    "## Your Turn\n",
    "\n",
    "## Trace through your code\n",
    "\n",
    "## Execute code line by line"
   ]
  },
  {
   "cell_type": "code",
   "execution_count": null,
   "id": "c9ba4d2b",
   "metadata": {},
   "outputs": [],
   "source": [
    "def print_up_to_number(number):\n",
    "    i=0\n",
    "    \n",
    "    while True:\n",
    "        if i<number:\n",
    "            i+=1\n",
    "        if i>number:\n",
    "            break\n",
    "    return number\n",
    "        \n",
    "x=print_up_to_number(5)\n",
    "print(x)   \n",
    "\n",
    "#Time Step 1\n",
    "#x\n",
    "#number\n",
    "#i\n",
    "#condition\n",
    "#i<number\n",
    "#i>number\n",
    "\n",
    "#Time Step 2\n",
    "#x\n",
    "#number\n",
    "#i\n",
    "#condition\n",
    "#i<number\n",
    "#i>number\n",
    "\n",
    "#.........."
   ]
  },
  {
   "cell_type": "code",
   "execution_count": 20,
   "id": "ceda8f5e",
   "metadata": {},
   "outputs": [
    {
     "name": "stdout",
     "output_type": "stream",
     "text": [
      "4\n",
      "3\n",
      "2\n",
      "1\n",
      "0\n"
     ]
    },
    {
     "data": {
      "text/plain": [
       "10"
      ]
     },
     "execution_count": 20,
     "metadata": {},
     "output_type": "execute_result"
    }
   ],
   "source": [
    "def mystery(a):\n",
    "    if a == 0:\n",
    "        return 0\n",
    "    else:\n",
    "        return a + (mystery(a-1)) #4+mystery(3), 3+mystery(2)+2+mystery(1),1+mystery(0)\n",
    "print(mystery(4))"
   ]
  },
  {
   "cell_type": "code",
   "execution_count": null,
   "id": "1e97954b",
   "metadata": {},
   "outputs": [],
   "source": [
    "#we can print a to see how many times\n",
    "#mystery is called and what the input(a)\n",
    "#is each time it is called. \n",
    "#Remember printing something\n",
    "#is different from returning something. We are \n",
    "#printing all of these values to\n",
    "#figure out what the function is doing. \n",
    "#This does not change what the \n",
    "#function is returning. "
   ]
  },
  {
   "cell_type": "code",
   "execution_count": null,
   "id": "aec6976f",
   "metadata": {},
   "outputs": [],
   "source": [
    "#lets print a to see what is going on in this function\n",
    "def mystery(a):\n",
    "    print a\n",
    "    if a == 0:\n",
    "        return 0\n",
    "    else:\n",
    "        \n",
    "        return a + (mystery(a-1))\n",
    "mystery(4)\n",
    "#can you guess what this function is doing?"
   ]
  },
  {
   "cell_type": "markdown",
   "id": "d5ffa668",
   "metadata": {},
   "source": [
    "# Backup"
   ]
  },
  {
   "cell_type": "code",
   "execution_count": null,
   "id": "d5848376",
   "metadata": {},
   "outputs": [],
   "source": [
    "def print_up_to_number(number):\n",
    "    i=0\n",
    "    while True:\n",
    "        if i<number:\n",
    "            i+=1\n",
    "        if i>=number:\n",
    "            break\n",
    "    return i\n",
    "        \n",
    "x=print_up_to_number(5)\n",
    "print(x) "
   ]
  },
  {
   "cell_type": "markdown",
   "id": "6db2089b",
   "metadata": {},
   "source": [
    "## Your Turn\n",
    "\n",
    "## Trace through your code\n",
    "\n",
    "## Execute code line by line"
   ]
  },
  {
   "cell_type": "code",
   "execution_count": null,
   "id": "a93587f3",
   "metadata": {},
   "outputs": [],
   "source": [
    "#Time Step 1\n",
    "#x\n",
    "#number\n",
    "#i\n",
    "#l\n",
    "#During for loop\n",
    "    #i\n",
    "    #range(number)\n",
    "    #l\n",
    "#condition\n",
    "#i<number\n",
    "#i>number\n",
    "\n",
    "#Time Step 2\n",
    "#x\n",
    "#number\n",
    "#i\n",
    "#l\n",
    "#During for loop\n",
    "    #i\n",
    "    #range(number)\n",
    "    #l\n",
    "#condition\n",
    "#i<number\n",
    "#i>number\n",
    "\n",
    "#..........."
   ]
  }
 ],
 "metadata": {
  "kernelspec": {
   "display_name": "Python 3 (ipykernel)",
   "language": "python",
   "name": "python3"
  },
  "language_info": {
   "codemirror_mode": {
    "name": "ipython",
    "version": 3
   },
   "file_extension": ".py",
   "mimetype": "text/x-python",
   "name": "python",
   "nbconvert_exporter": "python",
   "pygments_lexer": "ipython3",
   "version": "3.11.0"
  }
 },
 "nbformat": 4,
 "nbformat_minor": 5
}
