{
 "cells": [
  {
   "cell_type": "markdown",
   "id": "49e45d32",
   "metadata": {},
   "source": [
    "## 4 steps\n",
    "\n",
    "## Step 1, read the question\n",
    "\n",
    "## Step 2, run a small example\n",
    "\n",
    "## Step 3, write pseudo code\n",
    "\n",
    "## Step 4, translate code into python\n",
    "\n"
   ]
  },
  {
   "cell_type": "markdown",
   "id": "5fee4297",
   "metadata": {},
   "source": [
    "## Question 2: Grading\n",
    "Dr. Mansingh is assigning grades to her students. Help her write a grading function that takes a student's score (out of 20) as input and returns a letter grade. The cutoffs for grades are included below.<br>\n",
    "\n",
    "Range | Grade\n",
    "----------|----------\n",
    "[18-20] | A+\n",
    "[14-17] | A\n",
    "[10-13] | B\n",
    "[7-9] | C\n",
    "[4-6] | D\n",
    "[0-3] | F"
   ]
  },
  {
   "cell_type": "markdown",
   "id": "d0fdb23f",
   "metadata": {},
   "source": [
    "### 2.1\n",
    "Define a helper function named `is_valid_score` that takes in a score as input and returns a boolean. If the score that is passed into this function is between `0` and `20` (both inclusive) return True otherwise return False."
   ]
  },
  {
   "cell_type": "code",
   "execution_count": 64,
   "id": "47acfb98",
   "metadata": {},
   "outputs": [
    {
     "name": "stdout",
     "output_type": "stream",
     "text": [
      "False\n"
     ]
    }
   ],
   "source": [
    "def is_valid_score(score):\n",
    "    \"\"\"Returns True if score is valid, False otherwise.\n",
    "    Input: score (int).\n",
    "    Output: (Boolean)\n",
    "    \"\"\"\n",
    "    # Put your code below this comment\n",
    "    return (score>=0 and score<=20)\n",
    "   \n",
    "input_score=-1\n",
    "y=is_valid_score(input_score)\n",
    "print(y)"
   ]
  },
  {
   "cell_type": "markdown",
   "id": "5d4ed3bd",
   "metadata": {},
   "source": [
    "## Step 1: Read the question"
   ]
  },
  {
   "cell_type": "markdown",
   "id": "22f13433",
   "metadata": {},
   "source": [
    "## Step 2: run a small example"
   ]
  },
  {
   "cell_type": "markdown",
   "id": "c11afb01",
   "metadata": {},
   "source": [
    "## Step 3: write pseudo code"
   ]
  },
  {
   "cell_type": "markdown",
   "id": "6e6468f4",
   "metadata": {},
   "source": [
    "## Step 4: translate code to python"
   ]
  },
  {
   "cell_type": "markdown",
   "id": "e562806c",
   "metadata": {},
   "source": [
    "### 2.2\n",
    "Define a function named `grader` that has one argument, `score`. Within the function you should call the `is_valid_score` function you defined in **2.1** by passing in the score. If the call to `is_valid_score` returns True your function must return the string `Valid Score`. Otherwise it should return the string `Invalid Score`."
   ]
  },
  {
   "cell_type": "markdown",
   "id": "b2c8b831",
   "metadata": {},
   "source": [
    "## Your turn to go through steps 1-4"
   ]
  },
  {
   "cell_type": "markdown",
   "id": "463a5de1",
   "metadata": {},
   "source": [
    "### 2.3\n",
    "Modify the `grader` function you defined in **2.2** so that it returns the letter grade for the score. Use the grade cutoffs written above. If the score is greater than or equal to 18 your function should return an A+, if the score is greater than or equal to 17 your function should return an A, and so on. You should still use the `is_valid_score` function to check for invalid input and it must return the string `Invalid Score` for any invalid scores."
   ]
  },
  {
   "cell_type": "code",
   "execution_count": 25,
   "id": "ae9954c9",
   "metadata": {},
   "outputs": [],
   "source": [
    "def grader(score):\n",
    "    \"\"\"Returns the letter grade corresponding if score is valid, else \"Invalid Score\".\n",
    "    Input: score (int).\n",
    "    Output: (str)\n",
    "    \"\"\""
   ]
  },
  {
   "cell_type": "markdown",
   "id": "79ca12d1",
   "metadata": {},
   "source": [
    "Write a function called `is_vowel` that takes in a string called `letter` and returns `True` if `letter` is a vowel and `False` otherwise. **Do this by looping through `vowels` with a `for` loop.**"
   ]
  },
  {
   "cell_type": "markdown",
   "id": "f7261bc2",
   "metadata": {},
   "source": [
    "## Your turn to go through steps 1-4"
   ]
  },
  {
   "cell_type": "markdown",
   "id": "ed3f8def",
   "metadata": {},
   "source": [
    "Now write a function called `is_consonant` that takes in a string called `letter` and returns `True` if `letter` is a consonant and `False` otherwise. **Do this by looping through `vowels` with a `for` loop.**"
   ]
  },
  {
   "cell_type": "markdown",
   "id": "680b387a",
   "metadata": {},
   "source": [
    "\n",
    "## How to trace through your code\n",
    "\n",
    "## How to execute code line by line\n",
    "\n",
    "## How to figure out a question your stuck on \n",
    "\n"
   ]
  },
  {
   "cell_type": "code",
   "execution_count": 70,
   "id": "0de1765c",
   "metadata": {},
   "outputs": [
    {
     "name": "stdout",
     "output_type": "stream",
     "text": [
      "a\n",
      "e\n",
      "i\n",
      "o\n",
      "u\n"
     ]
    }
   ],
   "source": [
    "#Print all the vowels\n",
    "vowels=['a','e','i','o','u']\n",
    "i=0\n",
    "while i<len(vowels):\n",
    "    print(vowels[i])\n",
    "    i+=1"
   ]
  },
  {
   "cell_type": "code",
   "execution_count": 83,
   "id": "faf690bb",
   "metadata": {},
   "outputs": [
    {
     "name": "stdout",
     "output_type": "stream",
     "text": [
      "False\n"
     ]
    }
   ],
   "source": [
    "vowel=['a','e','i','o','u']\n",
    "def is_consonant (letter):\n",
    "    for i in range(len(vowel)):\n",
    "        if vowel[i]==letter:\n",
    "            return False\n",
    "        else:\n",
    "            return True\n",
    "        \n",
    "print(is_consonant('a'))"
   ]
  }
 ],
 "metadata": {
  "kernelspec": {
   "display_name": "Python 3 (ipykernel)",
   "language": "python",
   "name": "python3"
  },
  "language_info": {
   "codemirror_mode": {
    "name": "ipython",
    "version": 3
   },
   "file_extension": ".py",
   "mimetype": "text/x-python",
   "name": "python",
   "nbconvert_exporter": "python",
   "pygments_lexer": "ipython3",
   "version": "3.11.0"
  }
 },
 "nbformat": 4,
 "nbformat_minor": 5
}
