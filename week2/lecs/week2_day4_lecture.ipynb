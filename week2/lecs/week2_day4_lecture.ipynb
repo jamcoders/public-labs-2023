{
 "cells": [
  {
   "cell_type": "code",
   "execution_count": 5,
   "id": "36e0c0a8",
   "metadata": {},
   "outputs": [
    {
     "name": "stdout",
     "output_type": "stream",
     "text": [
      "True\n"
     ]
    }
   ],
   "source": [
    "#Write a function that returns True if a string is a \n",
    "#palindrome and False otherwise\n",
    "#e.g. is_palindrome('abccba') returns True\n",
    "#is_palindrome('apple') returns False\n",
    "\n",
    "#Hint to check if a string is a palindrome, we can first check if \n",
    "#the first and last element of the string are the same. \n",
    "#If they are, then we check if the string in the middle is a palindrome.\n",
    "#if not, then the string is not a palindrome\n",
    "def is_palindrome(s):\n",
    "    if len(s)<=1:\n",
    "        return True\n",
    "    if s[0]==s[-1]:\n",
    "        return is_palindrome(s[1:-1])\n",
    "    return False\n",
    "\n",
    "s1='abcde'\n",
    "s2='apple'\n",
    "s3='abcb'\n",
    "s4='racecar'\n",
    "s5='abccba'\n",
    "print(is_palindrome(s5))"
   ]
  },
  {
   "cell_type": "code",
   "execution_count": 81,
   "id": "eba2789a",
   "metadata": {},
   "outputs": [
    {
     "name": "stdout",
     "output_type": "stream",
     "text": [
      "8\n",
      "6\n",
      "4\n",
      "2\n",
      "0\n"
     ]
    }
   ],
   "source": [
    "def skip_print(i):\n",
    "    if i<=1:\n",
    "        print(i)\n",
    "    else:\n",
    "        print(i)\n",
    "        return(skip_print(i-2))\n",
    "\n",
    "skip_print(8)"
   ]
  },
  {
   "cell_type": "code",
   "execution_count": null,
   "id": "ecd38fdb",
   "metadata": {},
   "outputs": [],
   "source": [
    "#write a function called skip_print that \n",
    "#prints every other number starting from the number\n",
    "#and going to zero\n",
    "\n",
    "#e.g. skip_print(5) prints 5,3,1\n",
    "#skip_print(6) prints 6,4,2,0\n",
    "#skip_print(0) prints 0"
   ]
  },
  {
   "cell_type": "code",
   "execution_count": 41,
   "id": "708811c6",
   "metadata": {},
   "outputs": [
    {
     "name": "stdout",
     "output_type": "stream",
     "text": [
      "5\n",
      "3\n",
      "1\n"
     ]
    }
   ],
   "source": [
    "def skip_print(num):\n",
    "    if num==0 or num==1:\n",
    "        print(num)\n",
    "    else:\n",
    "        print(num)\n",
    "        skip_print(num-2)\n",
    "skip_print(5)"
   ]
  },
  {
   "cell_type": "code",
   "execution_count": null,
   "id": "ae9e1585",
   "metadata": {},
   "outputs": [],
   "source": [
    "#write a function called skip_print_forward that \n",
    "#prints every other number starting from \n",
    "#0 or 1 and then going to the number\n",
    "\n",
    "#e.g. skip_print(5) prints 1,3,5\n",
    "#skip_print(6) prints 0,2,4,6\n",
    "#skip_print(0) prints 0"
   ]
  },
  {
   "cell_type": "code",
   "execution_count": 76,
   "id": "2d0c10a7",
   "metadata": {},
   "outputs": [
    {
     "name": "stdout",
     "output_type": "stream",
     "text": [
      "1\n",
      "3\n",
      "5\n"
     ]
    }
   ],
   "source": [
    "def skip_print_forward(num):\n",
    "    if num==0 or num==1:\n",
    "        print(num)\n",
    "    else:\n",
    "        skip_print_forward(num-2)\n",
    "        print(num)\n",
    "skip_print_forward(5)"
   ]
  },
  {
   "cell_type": "code",
   "execution_count": null,
   "id": "fc97d77c",
   "metadata": {},
   "outputs": [],
   "source": [
    "#Reverse a string\n",
    "\n",
    "#How do you reverse a string?\n",
    "\n",
    "#Hint: reverse of \"abc\" is \"cba\"= \"c\" + (\"ba\")\n",
    "\n",
    "#reverse of \"abc\" is also \"cba\" = (\"cb\") + a"
   ]
  },
  {
   "cell_type": "code",
   "execution_count": 16,
   "id": "24e313de",
   "metadata": {},
   "outputs": [
    {
     "data": {
      "text/plain": [
       "'ijhgfecba'"
      ]
     },
     "execution_count": 16,
     "metadata": {},
     "output_type": "execute_result"
    }
   ],
   "source": [
    "#how did we get this?\n",
    "#what is the reverse of \"abc\"? = c + reverse of('bc')\n",
    "#what is reverse of \"ab\"? =reverse(s[1:])+s[0]\n",
    "#what is reverse of \"a\"? a=''+a=reverse(s[1:])+s[0]\n",
    "#what is reverse of \"\"? ''\n",
    "\n",
    "def reverse(s):\n",
    "    if s == '':\n",
    "        return ''\n",
    "    return reverse(s[1:]) + s[0]    \n",
    "reverse(\"abc\")\n",
    "\n",
    "#reverse(bc) + a\n",
    "#or c+ reverse(ab)"
   ]
  },
  {
   "cell_type": "code",
   "execution_count": null,
   "id": "dea4d803",
   "metadata": {},
   "outputs": [],
   "source": [
    "def reverse(s):\n",
    "    if s == '':\n",
    "        return ''\n",
    "    return reverse(s[1:]) + s[0]    \n",
    "reverse(\"abc\")\n",
    "\n",
    "#reverse(bc) + a\n",
    "#or c+ reverse(ab)"
   ]
  },
  {
   "cell_type": "code",
   "execution_count": 17,
   "id": "050c8093",
   "metadata": {},
   "outputs": [
    {
     "data": {
      "text/plain": [
       "'hgfedcba'"
      ]
     },
     "execution_count": 17,
     "metadata": {},
     "output_type": "execute_result"
    }
   ],
   "source": [
    "def reverse(s):\n",
    "    \"\"\"\n",
    "    Args:\n",
    "        s (str): A string to be reversed.\n",
    "\n",
    "    Returns (str):\n",
    "        A string that has the characters of s in reversed order.\n",
    "    \"\"\"\n",
    "    # YOUR CODE HERE\n",
    "    if s == '':\n",
    "        return ''\n",
    "    return s[-1]+reverse(s[0:-1])\n",
    "reverse(\"abcdefgh\")"
   ]
  },
  {
   "cell_type": "code",
   "execution_count": 19,
   "id": "18d76bf1",
   "metadata": {},
   "outputs": [],
   "source": [
    "def num_times(s, letter):\n",
    "    \"\"\"\n",
    "    Returns the number of times a letter appears in a string.\n",
    "\n",
    "    Args:\n",
    "        s (str): A string\n",
    "        letter (str): A letter to be counted\n",
    "\n",
    "    Returns (int):\n",
    "        The number of times letter appears in s.\n"
   ]
  },
  {
   "cell_type": "code",
   "execution_count": null,
   "id": "27267b89",
   "metadata": {},
   "outputs": [],
   "source": [
    "# YOUR CODE HERE\n",
    "if len(s) == 0:\n",
    "    return 0\n",
    "if s[0] == letter:\n",
    "    return 1 + num_times(s[1:], letter)\n",
    "return num_times(s[1:], letter)"
   ]
  },
  {
   "cell_type": "code",
   "execution_count": null,
   "id": "434bdf60",
   "metadata": {},
   "outputs": [],
   "source": [
    "#Lets see another an example.\n",
    "#consider the Fibonacci sequence \n",
    "#1, 1, 2, 3, 5, 8, 13, . . .. \n",
    "#This sequence is defined by the 0th and 1st \n",
    "#Fibonacci numbers both being 1, \n",
    "#and subsequent Fibonacci numbers being \n",
    "#the sum of the previous two.\n",
    "\n",
    "#The Fibonacci sequence is very well known in \n",
    "#Math and\n",
    "#appears frequently in nature. \n",
    "#It also has applications\n",
    "#in various computer science algorithms. \n",
    "\n",
    "#We will not discuss the Fibonacci sequence \n",
    "#in detail\n",
    "#in this class but if you are interested in \n",
    "#learning\n",
    "#more you can read the Wikipedia page here:\n",
    "#https://en.wikipedia.org/wiki/Fibonacci_number"
   ]
  },
  {
   "cell_type": "markdown",
   "id": "52b38834",
   "metadata": {},
   "source": [
    "#Lets watch a short video about the Fibonacci sequence\n",
    "https://www.youtube.com/watch?v=2tv6Ej6JVho"
   ]
  },
  {
   "cell_type": "code",
   "execution_count": null,
   "id": "2b832537",
   "metadata": {},
   "outputs": [],
   "source": [
    "#The Fibonacci sequence is defined by the 0th \n",
    "#and 1st \n",
    "#Fibonacci numbers both being 1, \n",
    "#and subsequent Fibonacci numbers being \n",
    "#the sum of the previous two\n",
    "#F(i) is 1 if i=0 or i=1\n",
    "#   \n",
    "#F(i) is F(i−1) + F(i−2) otherwise \n",
    "#So what is F(0)? \n",
    "#    1 because i is 0\n",
    "#What is F(1)?\n",
    "#   1 because i is 1\n",
    "#What is F(2)\n",
    "#   It is F(i-1) + F(i-2) #F(1)+F(0) \n",
    "#   which is 1+1=2\n",
    "#F(3) is F(i-1)+F(i-2)=F(3-1)+F(3-2)\n",
    "#   which is F(2)+F(1)=2+1=3\n",
    "#F(4) is F(4-1)+F(4-2)=F(3)+F(2)=3+2=5\n",
    "# ....And it continues this way"
   ]
  },
  {
   "cell_type": "code",
   "execution_count": null,
   "id": "48399483",
   "metadata": {},
   "outputs": [],
   "source": [
    "##Now let us make a function that takes i and \n",
    "#returns the ith Fibonacci number. \n",
    "#We can do it the way we have learned how to.\n",
    "#First we write in English how we want to create \n",
    "#the function."
   ]
  },
  {
   "cell_type": "code",
   "execution_count": null,
   "id": "17a11391",
   "metadata": {},
   "outputs": [],
   "source": [
    "#Now let us make a function that takes i and \n",
    "#returns the ith Fibonacci number. \n",
    "#We can do it the way we have learned how to.\n",
    "#lets call the function fibonacci\n",
    "def fibonacci(i):\n",
    "    fib_i=1 #it is called initialization.\n",
    "    fib_i_prev=1\n",
    "    fib_i_prev_prev=1\n",
    "    \n",
    "    if i==0 or i==1:\n",
    "        return fib_i\n",
    "    for x in range(2,i+1): #[2,3,4....i]\n",
    "        fib_i = fib_i_prev + fib_i_prev_prev\n",
    "        fib_i_prev_prev=fib_i_prev\n",
    "        fib_i_prev=fib_i\n",
    "    return fib_i\n",
    "fibonacci(5)"
   ]
  },
  {
   "cell_type": "code",
   "execution_count": null,
   "id": "aceffe25",
   "metadata": {},
   "outputs": [],
   "source": [
    "#give me a function fibonacci. It takes an input i, \n",
    "#and returns the ith fibonacci number. \n",
    "#Remember the formula. \n",
    "#if i=0, or i=1, what is the fibonacci number? 1. \n",
    "#ohterwise what is it fibonacci(i)=fibonacci(i-1)+\n",
    "#fibonacci(i-2)\n",
    "#fibonacci(0) #1\n",
    "#fibonacci(1) #1\n",
    "#fibonacci(2) #2 fibonacci(1)+fibonacci(0)\n",
    "def fibonacci(i): \n",
    "    if i==0 or i==1:\n",
    "        return 1\n",
    "    else:\n",
    "        return fibonacci(i-1)+fibonacci(i-2)  \n",
    "fibonacci(5)\n",
    "#fibonacci(5)=fibonacci(4)+fibonacci(3) #8\n",
    "#fibonacci(4)=fibonacci(3)+fibonacci(2) #5\n",
    "#fibonacci(3)=fibonacci(2)+fibonacci(1) #3\n",
    "#fibonacci(2)=fibonacci(1)+fibonacci(0) #2\n",
    "#fibonacci(1)=1"
   ]
  },
  {
   "cell_type": "code",
   "execution_count": 3,
   "id": "d883b935",
   "metadata": {},
   "outputs": [
    {
     "data": {
      "text/plain": [
       "8"
      ]
     },
     "execution_count": 3,
     "metadata": {},
     "output_type": "execute_result"
    }
   ],
   "source": [
    "#Although we could implement the Fibonacci sequence\n",
    "#in a very complicated way without using recursion,\n",
    "#the following function using recursion \n",
    "#is very simple and easier to understand\n",
    "def fibonacci(i):\n",
    "    if i<2:\n",
    "        return 1\n",
    "    return fibonacci(i-1) + fibonacci(i-2)\n",
    "fibonacci(5)\n",
    "\n",
    "#compare this function to the function we \n",
    "#wrote above\n",
    "#which is more complicated and hard to understand"
   ]
  }
 ],
 "metadata": {
  "kernelspec": {
   "display_name": "Python 3 (ipykernel)",
   "language": "python",
   "name": "python3"
  },
  "language_info": {
   "codemirror_mode": {
    "name": "ipython",
    "version": 3
   },
   "file_extension": ".py",
   "mimetype": "text/x-python",
   "name": "python",
   "nbconvert_exporter": "python",
   "pygments_lexer": "ipython3",
   "version": "3.11.0"
  }
 },
 "nbformat": 4,
 "nbformat_minor": 5
}
