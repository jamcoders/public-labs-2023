{
 "cells": [
  {
   "cell_type": "code",
   "execution_count": null,
   "id": "ac230d82",
   "metadata": {},
   "outputs": [],
   "source": [
    "#1) check if letter is equal to first element of string\n",
    "#2) if yes, \n",
    "#      double_letter(s)=s[0]+n_times*letter+double_letter(s[1:])\n",
    "#   if no,\n",
    "#      double_letter(s)=s[0]+double_letter(s[1:])\n",
    "#   if string is empty, \n",
    "#       return empty string\n",
    "    \n",
    "def double_letter(s, l):\n",
    "    if s=='':\n",
    "        return ''\n",
    "    if s[0]==l:\n",
    "        return s[0]*2+double_letter(s[1:],l)\n",
    "    return s[0]+double_letter(s[1:],l)\n",
    "print(double_letter('','d'))\n",
    "\n",
    "double_letter('abcdecc','f')\n",
    "double_letter('abcdecc','a')"
   ]
  },
  {
   "cell_type": "code",
   "execution_count": null,
   "id": "605b085c",
   "metadata": {},
   "outputs": [],
   "source": [
    "#1) check if letter is equal to first element of string\n",
    "#2) if yes, \n",
    "#      add_letter_to_string(s)=s[0]+n_times*letter+add_letter_to_string(s[1:])\n",
    "#   if no,\n",
    "#      add_letter_to_string(s)=s[0]+add_letter_to_string(s[1:])\n",
    "#   if string is empty, \n",
    "#       return empty string"
   ]
  },
  {
   "cell_type": "code",
   "execution_count": null,
   "id": "5ad4c6b9",
   "metadata": {},
   "outputs": [],
   "source": [
    "#Add letter to a string n times, each time the letter occurs.\n",
    "def add_letter_to_string(input_string, letter, n_times):\n",
    "    \n",
    "#examples\n",
    "add_letter_to_string('abcde', 'c',3)==>'abccccde'\n",
    "add_letter_to_string('abcdecc', 'c',3)==>'abccccdecccccccc'\n",
    "add_letter_to_string('abcdecc','f',3)====>'abcdecc'\n",
    "add_letter_to_string('','d',3)===>''"
   ]
  },
  {
   "cell_type": "code",
   "execution_count": null,
   "id": "186021c0",
   "metadata": {},
   "outputs": [],
   "source": [
    "#1) check if letter is equal to first element of string\n",
    "#2) if yes, \n",
    "#      add_letter_to_string(s)=s[0]+n_times*letter+add_letter_to_string(s[1:])\n",
    "#   if no,\n",
    "#      add_letter_to_string(s)=s[0]+add_letter_to_string(s[1:])\n",
    "#   if string is empty, \n",
    "#       return empty string\n",
    "\n",
    "def add_letter_to_string(s, l, n):\n",
    "    if s=='':\n",
    "        return ''\n",
    "    if s[0]==l:\n",
    "        return s[0]*n+add_letter_to_string(s[1:],l,n)\n",
    "    return s[0]+add_letter_to_string(s[1:],l,n)\n",
    "print(add_letter_to_string('','d',3))\n",
    "\n",
    "add_letter_to_string('abcdecc','f',3)\n",
    "add_letter_to_string('abcdecc','a',5)"
   ]
  },
  {
   "cell_type": "code",
   "execution_count": 2,
   "id": "0c5b3ea8",
   "metadata": {},
   "outputs": [
    {
     "name": "stdout",
     "output_type": "stream",
     "text": [
      "\n"
     ]
    },
    {
     "data": {
      "text/plain": [
       "'bcdecc'"
      ]
     },
     "execution_count": 2,
     "metadata": {},
     "output_type": "execute_result"
    }
   ],
   "source": [
    "#1) check if letter is equal to first element of string\n",
    "#2) if yes, \n",
    "#      add_letter_to_string(s)=s[0]+n_times*letter+add_letter_to_string(s[1:])\n",
    "#   if no,\n",
    "#      add_letter_to_string(s)=s[0]+add_letter_to_string(s[1:])\n",
    "#   if string is empty, \n",
    "#       return empty string\n",
    "\n",
    "def add_letter_to_string(s, l, n):\n",
    "    if s=='':\n",
    "        return ''\n",
    "    if s[0]==l:\n",
    "        return s[0]*n+add_letter_to_string(s[1:],l,n)\n",
    "    return s[0]+add_letter_to_string(s[1:],l,n)\n",
    "print(add_letter_to_string('','d',3))\n",
    "\n",
    "add_letter_to_string('abcdecc','f',0)\n",
    "add_letter_to_string('abcdeccaaa','a',0)"
   ]
  }
 ],
 "metadata": {
  "kernelspec": {
   "display_name": "Python 3 (ipykernel)",
   "language": "python",
   "name": "python3"
  },
  "language_info": {
   "codemirror_mode": {
    "name": "ipython",
    "version": 3
   },
   "file_extension": ".py",
   "mimetype": "text/x-python",
   "name": "python",
   "nbconvert_exporter": "python",
   "pygments_lexer": "ipython3",
   "version": "3.11.0"
  }
 },
 "nbformat": 4,
 "nbformat_minor": 5
}
