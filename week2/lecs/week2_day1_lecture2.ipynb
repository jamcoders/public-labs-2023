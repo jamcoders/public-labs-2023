{
 "cells": [
  {
   "cell_type": "markdown",
   "id": "2f98b4b5",
   "metadata": {},
   "source": [
    "You have already learned many of the components that you need to design systems that are helpful to people. \n",
    "\n",
    "E.g. take a look at this video. What are they doing? How would you implement this using functions, loops and if/else statements?\n",
    "https://www.reddit.com/r/Damnthatsinteresting/comments/9elhs0/this_machine_gets_rid_of_the_green_tomatoes_by/"
   ]
  },
  {
   "cell_type": "markdown",
   "id": "84e12464",
   "metadata": {},
   "source": [
    "Lets watch this video together. What does it do?\n",
    "\n",
    "https://www.youtube.com/watch?v=XH-EFtTa6IU&embeds_referring_euri=https%3A%2F%2Fsiliconangle.com%2F&source_ve_path=OTY3MTQ&feature=emb_imp_woyt\n",
    "\n",
    "What is good about it?\n",
    "What is not the best?\n",
    "Is it always good to automate jobs?"
   ]
  },
  {
   "cell_type": "markdown",
   "id": "77f80656",
   "metadata": {},
   "source": [
    "This is a paper that looked at all the books digitized by google and analyzes the occurence of words over time. \n",
    "\n",
    "https://www.ncbi.nlm.nih.gov/pmc/articles/PMC3279742/"
   ]
  },
  {
   "cell_type": "code",
   "execution_count": 2,
   "id": "bc06d5de",
   "metadata": {},
   "outputs": [
    {
     "name": "stdout",
     "output_type": "stream",
     "text": [
      "2\n"
     ]
    }
   ],
   "source": [
    "#You can use lists and for loops to do this type of analysis. \n",
    "#It takes a lot of time. \n",
    "\n",
    "book1=[\"Emminence\",\"of\",\"the\",\"shadow\"]\n",
    "book2=[\"I\",\"said\",\"the\", \"again\"]\n",
    "book3=[\"I\",\"am\",\"tired\"]\n",
    "books_1981=[book1,book2]\n",
    "books_1982=[book3]\n",
    "\n",
    "\n",
    "all_books=[1981,1982]\n",
    "\n",
    "def find_num_words(word,year):\n",
    "    #How many times does \"I\" appear in 1981, or 1982, or 1983?\n",
    "    num_word_1981=0\n",
    "    for book in year:\n",
    "        for w in book:\n",
    "            if w.lower()==word.lower():\n",
    "                num_word_1981+=1\n",
    "\n",
    "    return num_word_1981\n",
    "    \n",
    "print(find_num_words(\"the\",books_1981))\n"
   ]
  },
  {
   "cell_type": "markdown",
   "id": "2fec96fd",
   "metadata": {},
   "source": [
    "Lets discuss some aspects of this work. \n",
    "\n",
    "What point of view would Jamaica be discussed from?"
   ]
  }
 ],
 "metadata": {
  "kernelspec": {
   "display_name": "Python 3 (ipykernel)",
   "language": "python",
   "name": "python3"
  },
  "language_info": {
   "codemirror_mode": {
    "name": "ipython",
    "version": 3
   },
   "file_extension": ".py",
   "mimetype": "text/x-python",
   "name": "python",
   "nbconvert_exporter": "python",
   "pygments_lexer": "ipython3",
   "version": "3.11.0"
  }
 },
 "nbformat": 4,
 "nbformat_minor": 5
}
