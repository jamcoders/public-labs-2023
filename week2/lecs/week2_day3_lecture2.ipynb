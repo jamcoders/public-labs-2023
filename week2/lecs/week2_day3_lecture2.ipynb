{
 "cells": [
  {
   "cell_type": "markdown",
   "id": "a0f6f5c4",
   "metadata": {
    "id": "a0f6f5c4"
   },
   "source": [
    "# JamCoders Day 3 Lecture 2\n",
    "\n",
    "More on calling functions, lists\n",
    "\n",
    "**1:45pm**"
   ]
  },
  {
   "cell_type": "markdown",
   "id": "c35aa253-ba04-43c8-921c-caaf0bb01241",
   "metadata": {
    "id": "c35aa253-ba04-43c8-921c-caaf0bb01241"
   },
   "source": [
    "# More function examples"
   ]
  },
  {
   "cell_type": "markdown",
   "id": "47a23256-0a71-4454-81ec-f65933e258e6",
   "metadata": {
    "id": "47a23256-0a71-4454-81ec-f65933e258e6"
   },
   "source": [
    "__Exercise:__ Write a function `passing_grade` that on input an integer `score` returns `True` if `score` is larger than 59 and returns `False` otherwise."
   ]
  },
  {
   "cell_type": "code",
   "execution_count": null,
   "id": "3d019af5-27df-496c-8249-d54e935afb3f",
   "metadata": {
    "id": "3d019af5-27df-496c-8249-d54e935afb3f"
   },
   "outputs": [],
   "source": [
    "def passing_grade(score):\n",
    "    if score > 59:\n",
    "        return True\n",
    "    else:\n",
    "        return False"
   ]
  },
  {
   "cell_type": "code",
   "execution_count": null,
   "id": "834bad04-17df-4191-8ae9-10af1900f185",
   "metadata": {
    "id": "834bad04-17df-4191-8ae9-10af1900f185"
   },
   "outputs": [],
   "source": [
    "def passing_grade(score):\n",
    "    if score > 55:\n",
    "        return True\n",
    "    return False"
   ]
  },
  {
   "cell_type": "code",
   "execution_count": null,
   "id": "56402a1c-7efc-4cbf-9fbf-d442480748ab",
   "metadata": {
    "id": "56402a1c-7efc-4cbf-9fbf-d442480748ab",
    "outputId": "c7e67333-41cd-4752-abca-9f51e35bb188"
   },
   "outputs": [
    {
     "name": "stdout",
     "output_type": "stream",
     "text": [
      "False\n"
     ]
    }
   ],
   "source": [
    "print(passing_grade(39))\n",
    "#print(passing_grade(25))"
   ]
  },
  {
   "cell_type": "markdown",
   "id": "2b76112f-47c3-4858-958c-8e670898b26b",
   "metadata": {
    "id": "2b76112f-47c3-4858-958c-8e670898b26b"
   },
   "source": [
    "## Using a function"
   ]
  },
  {
   "cell_type": "markdown",
   "id": "460cbabb-857c-4a9e-9e4b-d46c9639b970",
   "metadata": {
    "id": "460cbabb-857c-4a9e-9e4b-d46c9639b970"
   },
   "source": [
    "Suppose we have the `passing_grade` function above. Write a function `passed` that takes as input two lists `names` and `grades` of the same length, and prints the names of the students that passed."
   ]
  },
  {
   "cell_type": "code",
   "execution_count": null,
   "id": "24f99968-6a78-4efd-a168-20ff19a70c98",
   "metadata": {
    "id": "24f99968-6a78-4efd-a168-20ff19a70c98",
    "outputId": "252492bd-898e-46b8-c95b-51c399e109a5"
   },
   "outputs": [
    {
     "name": "stdout",
     "output_type": "stream",
     "text": [
      "Zaria\n",
      "Chelsea\n"
     ]
    }
   ],
   "source": [
    "def passed(names,grades):\n",
    "    n = len(names)\n",
    "    for i in range(n):\n",
    "        if passing_grade(grades[i]): #also == True\n",
    "            print( names[i] )\n",
    "passed([\"Boaz\",\"Zaria\",\"Chelsea\"], [0,100,110])"
   ]
  },
  {
   "cell_type": "code",
   "execution_count": null,
   "id": "b9008159-842c-4e75-a256-c07ea26c6473",
   "metadata": {
    "id": "b9008159-842c-4e75-a256-c07ea26c6473"
   },
   "outputs": [],
   "source": [
    "def passed(names,grades):\n",
    "    n = len(names)\n",
    "    for i in range(n):\n",
    "        if passing_grade(grades[i]):\n",
    "            print(names[i])"
   ]
  },
  {
   "cell_type": "code",
   "execution_count": null,
   "id": "eb85dfb5-76d8-4943-a71e-030f21f14989",
   "metadata": {
    "id": "eb85dfb5-76d8-4943-a71e-030f21f14989"
   },
   "outputs": [],
   "source": [
    "TAs = [ \"Micah\", \"Zaria\", \"Li\", \"Ian\", \"Emaan\",\n",
    "       \"Jon\",\"Orr\", \"Jonathan\", \"Alok\", \"Pawat\", \"Kerene\" ]"
   ]
  },
  {
   "cell_type": "code",
   "execution_count": null,
   "id": "2c7f2968-e455-47c1-9527-360b1f24d8d0",
   "metadata": {
    "colab": {
     "base_uri": "https://localhost:8080/"
    },
    "id": "2c7f2968-e455-47c1-9527-360b1f24d8d0",
    "outputId": "a969369f-5756-4a51-dfc3-2e9d32cc8d9e"
   },
   "outputs": [
    {
     "data": {
      "text/plain": [
       "[20, 88, 10, 36, 83, 78, 84, 10, 24, 32, 78]"
      ]
     },
     "execution_count": 37,
     "metadata": {},
     "output_type": "execute_result"
    }
   ],
   "source": [
    "# let's make grades random for fairness\n",
    "import random\n",
    "grades = []\n",
    "for name in TAs:\n",
    "    grades.append(random.randint(1,100))\n",
    "\n",
    "grades"
   ]
  },
  {
   "cell_type": "code",
   "execution_count": null,
   "id": "b49fa3c8-30a1-4feb-b5ea-b44b850f5f42",
   "metadata": {
    "colab": {
     "base_uri": "https://localhost:8080/"
    },
    "id": "b49fa3c8-30a1-4feb-b5ea-b44b850f5f42",
    "outputId": "3f92683e-6a7b-4263-cc59-39981b9f3b37"
   },
   "outputs": [
    {
     "name": "stdout",
     "output_type": "stream",
     "text": [
      "Zaria\n",
      "Emaan\n",
      "Jon\n",
      "Orr\n",
      "Kerene\n"
     ]
    }
   ],
   "source": [
    "passed(TAs,grades)"
   ]
  },
  {
   "cell_type": "markdown",
   "id": "a6c7633c-e7ce-420f-82ba-da489fa59750",
   "metadata": {
    "id": "a6c7633c-e7ce-420f-82ba-da489fa59750"
   },
   "source": [
    "__Reminders:__\n",
    "\n",
    "* If `x` is a variable then `str(x)` transforms `x` into a string\n",
    "* If `x` and `y` are strings then `x + y` is the _concatenation_ of `x` and `y`"
   ]
  },
  {
   "cell_type": "code",
   "execution_count": null,
   "id": "d6ee2c17-a9f8-4b4d-ab9d-06d3e032fa7d",
   "metadata": {
    "id": "d6ee2c17-a9f8-4b4d-ab9d-06d3e032fa7d",
    "outputId": "2bf62cc0-028c-4e0e-e491-b8120dc63e3c"
   },
   "outputs": [
    {
     "name": "stdout",
     "output_type": "stream",
     "text": [
      "35\n"
     ]
    }
   ],
   "source": [
    "# What will be printed?\n",
    "\n",
    "print(str(3)+str(5))"
   ]
  },
  {
   "cell_type": "code",
   "execution_count": null,
   "id": "03c608d6-63b6-45d6-a912-84274950df5e",
   "metadata": {
    "id": "03c608d6-63b6-45d6-a912-84274950df5e",
    "outputId": "dee36173-5cfb-477e-8605-a27667107c42"
   },
   "outputs": [
    {
     "name": "stdout",
     "output_type": "stream",
     "text": [
      "3 5\n"
     ]
    }
   ],
   "source": [
    "# What will be printed?\n",
    "print(str(3) + \" \" + str(5))"
   ]
  },
  {
   "cell_type": "markdown",
   "id": "f3e52622-97a7-4c8a-9954-49144b93a3f7",
   "metadata": {
    "id": "f3e52622-97a7-4c8a-9954-49144b93a3f7"
   },
   "source": [
    "__Exercise:__ Write a function `list_to_str(L)` that takes as input a list `L` and returns a string that is the concatenation of all elements of `L`, each one followed by a space.\n",
    "\n",
    "For example:\n",
    "```python\n",
    "my_list = [2,5,6]\n",
    "print(list_to_str(my_list))\n",
    "```\n",
    "will print `2 5 6`"
   ]
  },
  {
   "cell_type": "code",
   "execution_count": null,
   "id": "b815c620-8ad1-41ed-9e58-02b036f0aff9",
   "metadata": {
    "id": "b815c620-8ad1-41ed-9e58-02b036f0aff9",
    "outputId": "bf732e00-6b93-4298-bcef-b91a55352ad5"
   },
   "outputs": [
    {
     "name": "stdout",
     "output_type": "stream",
     "text": [
      "Loop at i=0, answer=''\n",
      "Concatenated '2 ' to answer and now it is '2 '\n",
      "Loop at i=1, answer='2 '\n",
      "Concatenated '5 ' to answer and now it is '2 5 '\n",
      "Loop at i=2, answer='2 5 '\n",
      "Concatenated '6 ' to answer and now it is '2 5 6 '\n",
      "2 5 6 \n"
     ]
    }
   ],
   "source": [
    "def list_to_str(L):\n",
    "    answer = \"\"\n",
    "    for i in range(len(L)):\n",
    "        print(f\"Loop at i={i}, answer='{answer}'\")\n",
    "        answer = answer + str(L[i]) + \" \"\n",
    "        print(f\"Concatenated '{L[i]} ' to answer and now it is '{answer}'\")\n",
    "    return answer\n",
    "print(list_to_str([2,5,6]))"
   ]
  },
  {
   "cell_type": "code",
   "execution_count": null,
   "id": "19d7c1a6-6882-43a9-a24e-cf004baac2b4",
   "metadata": {
    "id": "19d7c1a6-6882-43a9-a24e-cf004baac2b4"
   },
   "outputs": [],
   "source": [
    "def list_to_str(L):\n",
    "    result = \"\"\n",
    "    for x in L:\n",
    "        result = result + str(x) + \" \"\n",
    "    return result"
   ]
  },
  {
   "cell_type": "code",
   "execution_count": null,
   "id": "d58e3a54-3246-42c1-9a72-d78f67a92702",
   "metadata": {
    "id": "d58e3a54-3246-42c1-9a72-d78f67a92702",
    "outputId": "ea8670fc-f039-4bcc-d3d8-c3053ae01408"
   },
   "outputs": [
    {
     "name": "stdout",
     "output_type": "stream",
     "text": [
      "Boaz Emaan Zaria \n"
     ]
    }
   ],
   "source": [
    "def list_to_str(L):\n",
    "    answer = \"\"\n",
    "    for x in L:\n",
    "        #print(f\"Looping with x={x}\")\n",
    "        answer = answer + str(x) + \" \"\n",
    "        #print(f\"Answer is '{answer}'\")\n",
    "    return answer\n",
    "print(list_to_str([\"Boaz\",\"Emaan\",\"Zaria\"]))"
   ]
  },
  {
   "cell_type": "markdown",
   "id": "bcd346b3",
   "metadata": {
    "id": "bcd346b3"
   },
   "source": [
    "A list can contain elements of different types, `int` , `float` , `str` and more, _including other lists!_"
   ]
  },
  {
   "cell_type": "code",
   "execution_count": null,
   "id": "3b4d71ee",
   "metadata": {
    "id": "3b4d71ee"
   },
   "outputs": [],
   "source": [
    "list1 = [1,2,3]\n",
    "list2 = [4,5,6]\n",
    "list3 = [7,8,9]\n",
    "my_list = [list1,list2,list3]"
   ]
  },
  {
   "cell_type": "code",
   "execution_count": null,
   "id": "43e4f3f0",
   "metadata": {
    "id": "43e4f3f0",
    "outputId": "561feb96-d1c5-4b01-97f6-c1862ad43c6a"
   },
   "outputs": [
    {
     "name": "stdout",
     "output_type": "stream",
     "text": [
      "[4, 5, 6]\n"
     ]
    }
   ],
   "source": [
    "# What will be printed?\n",
    "x = my_list[1]\n",
    "print(x)"
   ]
  },
  {
   "cell_type": "code",
   "execution_count": null,
   "id": "a4c60199",
   "metadata": {
    "id": "a4c60199",
    "outputId": "8c2c2084-6e24-4a0f-e798-f69e95351b2d"
   },
   "outputs": [
    {
     "name": "stdout",
     "output_type": "stream",
     "text": [
      "6\n"
     ]
    }
   ],
   "source": [
    "# what will be printed?\n",
    "print(x[2])"
   ]
  },
  {
   "cell_type": "code",
   "execution_count": null,
   "id": "4dc2627e",
   "metadata": {
    "id": "4dc2627e",
    "outputId": "7fe4cd56-2b75-4d18-9b5f-0f33a3f3c9af"
   },
   "outputs": [
    {
     "name": "stdout",
     "output_type": "stream",
     "text": [
      "8\n"
     ]
    }
   ],
   "source": [
    "#what will be printed?\n",
    "print(my_list[2][1])"
   ]
  },
  {
   "cell_type": "code",
   "execution_count": null,
   "id": "db8351b4",
   "metadata": {
    "id": "db8351b4"
   },
   "outputs": [],
   "source": [
    "list1 = [1,2,3]\n",
    "list2 = [4,5,6]\n",
    "list3 = [7,8,9]\n",
    "my_list = [list1,list2,list3]"
   ]
  },
  {
   "cell_type": "code",
   "execution_count": null,
   "id": "8478829d",
   "metadata": {
    "id": "8478829d",
    "outputId": "03ebe1ea-78c5-4710-8a88-a6ffb2415dae"
   },
   "outputs": [
    {
     "name": "stdout",
     "output_type": "stream",
     "text": [
      "True\n"
     ]
    }
   ],
   "source": [
    "# another way to write it\n",
    "my_list2 = [ [1,2,3], [4,5,6], [7,8,9]]\n",
    "print(my_list2 == my_list)"
   ]
  },
  {
   "cell_type": "code",
   "execution_count": null,
   "id": "f385b269",
   "metadata": {
    "id": "f385b269"
   },
   "outputs": [],
   "source": [
    "# and another\n",
    "my_list3 = [ [1,2,3],\n",
    "             [4,5,6],\n",
    "             [7,8,9]]\n",
    "\n",
    "print(my_list3== my_list)"
   ]
  },
  {
   "cell_type": "markdown",
   "id": "120a5c6b",
   "metadata": {
    "id": "120a5c6b"
   },
   "source": [
    "# print list of lists"
   ]
  },
  {
   "cell_type": "markdown",
   "id": "866bd347-9edd-4c49-944c-7eee2c9d930c",
   "metadata": {
    "id": "866bd347-9edd-4c49-944c-7eee2c9d930c"
   },
   "source": [
    "__Exercise:__ Write a `print_nice` function that will take a `list_of_lists` parameter and print each of the lists in it in a separate line.  For example\n",
    "\n",
    "```Python\n",
    "print_nice(my_list)\n",
    "```\n",
    "\n",
    "will result in\n",
    "\n",
    "```\n",
    "[1, 2, 3]\n",
    "[4, 5, 6]\n",
    "[7, 8, 9]\n",
    "```"
   ]
  },
  {
   "cell_type": "code",
   "execution_count": null,
   "id": "22c3a139-bf21-43ca-9f8b-469b7e84be09",
   "metadata": {
    "id": "22c3a139-bf21-43ca-9f8b-469b7e84be09"
   },
   "outputs": [],
   "source": [
    "def print_nice(list_of_lists):\n",
    "    ..."
   ]
  },
  {
   "cell_type": "code",
   "execution_count": null,
   "id": "722c8624",
   "metadata": {
    "id": "722c8624"
   },
   "outputs": [],
   "source": [
    "def print_nice(list_of_lists):\n",
    "    for L in list_of_lists:\n",
    "        print(L)"
   ]
  },
  {
   "cell_type": "code",
   "execution_count": null,
   "id": "d6232259-9922-43d8-988e-f49d47a86496",
   "metadata": {
    "id": "d6232259-9922-43d8-988e-f49d47a86496"
   },
   "outputs": [],
   "source": [
    "print_nice(my_list)"
   ]
  },
  {
   "cell_type": "code",
   "execution_count": null,
   "id": "8c96f66e-5347-4cdf-b172-6ce46440891a",
   "metadata": {
    "id": "8c96f66e-5347-4cdf-b172-6ce46440891a"
   },
   "outputs": [],
   "source": [
    "other_list = [[\"a\",\"b\",\"c\",\"d\"],\n",
    "              [\"e\",\"f\",\"g\",\"h\"]]\n",
    "print_nice(other_list)"
   ]
  },
  {
   "cell_type": "markdown",
   "id": "d8868b8e-d154-4526-a6c0-fd602aa13165",
   "metadata": {
    "id": "d8868b8e-d154-4526-a6c0-fd602aa13165"
   },
   "source": [
    "__Exercise:__ Write a `print_nicer` function that will take a `list_of_lists` parameter and print in each line the elements of a list without brackets or commas:\n",
    "\n",
    "```Python\n",
    "print(my_list)\n",
    "```\n",
    "\n",
    "will result in\n",
    "\n",
    "```\n",
    "1 2 3\n",
    "4 5 6\n",
    "7 8 9\n",
    "```\n",
    "_hint:_ Use `list_to_str()`"
   ]
  },
  {
   "cell_type": "code",
   "execution_count": null,
   "id": "d6276d12",
   "metadata": {
    "id": "d6276d12"
   },
   "outputs": [],
   "source": [
    "def print_nicer(list_of_lists):\n",
    "    for L in list_of_lists:\n",
    "        print(list_to_str(L))"
   ]
  },
  {
   "cell_type": "code",
   "execution_count": null,
   "id": "a26427a5-f861-48da-92ba-8ff73403414b",
   "metadata": {
    "id": "a26427a5-f861-48da-92ba-8ff73403414b"
   },
   "outputs": [],
   "source": [
    "def print_nicer(list_of_lists):\n",
    "    for L in list_of_lists:\n",
    "        print(list_to_str(L))\n",
    "print_nicer(my_list)\n"
   ]
  },
  {
   "cell_type": "code",
   "execution_count": null,
   "id": "b12eae5c",
   "metadata": {
    "id": "b12eae5c",
    "outputId": "57b77a86-8e4d-4fff-a5d8-0095504cfd86"
   },
   "outputs": [
    {
     "name": "stdout",
     "output_type": "stream",
     "text": [
      "1 2 3 \n",
      "4 5 6 \n",
      "7 8 9 \n"
     ]
    }
   ],
   "source": [
    "print_nicer(my_list)"
   ]
  },
  {
   "cell_type": "markdown",
   "id": "91dd7dd8-bf7d-4517-8c50-a9f57a4bf108",
   "metadata": {
    "id": "91dd7dd8-bf7d-4517-8c50-a9f57a4bf108"
   },
   "source": [
    "## Question?\n",
    "\n",
    "What will be printed?"
   ]
  },
  {
   "cell_type": "code",
   "execution_count": null,
   "id": "f855825c-c6f0-4dbc-a2c9-dcaa108146d1",
   "metadata": {
    "id": "f855825c-c6f0-4dbc-a2c9-dcaa108146d1"
   },
   "outputs": [],
   "source": [
    "mystery = [\n",
    "    ['     _ ', '    | |', ' _  | |', '| |_| |', ' \\\\___/ ', '       ', '       '],\n",
    "    ['  ____ ', ' /  _ \\\\', ' | / \\\\|', ' | |-||', ' \\\\_/ \\\\|', '       ', '       '],\n",
    "    [' _     ', '/ \\\\__/|', '| |\\\\/||', '| |  ||', '\\\\_/  \\\\|', '       ', '       '],\n",
    "    ['  ____ ', ' /   _\\\\', ' |  /  ', ' |  \\\\_ ', ' \\\\____/', '       ', '       '],\n",
    "    ['  ____ ', ' /  _ \\\\', ' | / \\\\|', ' | \\\\_/|', ' \\\\____/', '       ', '       '],\n",
    "    ['  ____ ', ' /  _ \\\\', ' | | \\\\|', ' | |_/|', ' \\\\____/', '       ', '       '],\n",
    "    ['  _____', ' /  __/', ' |  \\\\  ', ' |  /_ ', ' \\\\____\\\\', '       ', '       '],\n",
    "    ['  ____ ', ' /  __\\\\', ' |  \\\\/|', ' |    /', ' \\\\_/\\\\_\\\\', '       ', '       '],\n",
    "    ['  ____ ', ' / ___\\\\', ' |    \\\\', ' \\\\___ |', ' \\\\____/', '       ', '       '] ]"
   ]
  },
  {
   "cell_type": "code",
   "execution_count": null,
   "id": "7b6064f1-7ee1-453f-9c07-47d6c17edec3",
   "metadata": {
    "id": "7b6064f1-7ee1-453f-9c07-47d6c17edec3",
    "outputId": "a542e234-03df-4de8-f401-73f1592af0cf"
   },
   "outputs": [
    {
     "name": "stdout",
     "output_type": "stream",
     "text": [
      "     _      ____     _          ____      ____      ____      _____     ____      ____    \n",
      "    | |    /  _ \\   / \\__/|    /   _\\    /  _ \\    /  _ \\    /  __/    /  __\\    / ___\\   \n",
      " _  | |    | / \\|   | |\\/||    |  /      | / \\|    | | \\|    |  \\      |  \\/|    |    \\   \n",
      "| |_| |    | |-||   | |  ||    |  \\_     | \\_/|    | |_/|    |  /_     |    /    \\___ |   \n",
      " \\___/     \\_/ \\|   \\_/  \\|    \\____/    \\____/    \\____/    \\____\\    \\_/\\_\\    \\____/   \n",
      "                                                                                          \n",
      "                                                                                          \n"
     ]
    }
   ],
   "source": [
    "for i in range(7):\n",
    "    line = \"\"\n",
    "    for L in mystery:\n",
    "        line += L[i] + \"   \"\n",
    "    print(line)"
   ]
  },
  {
   "cell_type": "code",
   "execution_count": null,
   "id": "3d3ad6ba-4cab-4a2e-9eab-e9e1bc69391f",
   "metadata": {
    "id": "3d3ad6ba-4cab-4a2e-9eab-e9e1bc69391f"
   },
   "outputs": [],
   "source": [
    "from IPython.display import clear_output\n",
    "import functools\n",
    "print = functools.partial(print, flush=True)\n",
    "from time import sleep"
   ]
  },
  {
   "cell_type": "code",
   "execution_count": null,
   "id": "318d52d5-9220-48f5-96ea-fa77d537dafc",
   "metadata": {
    "id": "318d52d5-9220-48f5-96ea-fa77d537dafc"
   },
   "outputs": [],
   "source": [
    "for L in mystery:\n",
    "    for i in range(7):\n",
    "        print(L[i])\n",
    "    sleep(1) # you can ask TAs how to use (\"import\") sleep and clear_output\n",
    "    clear_output()"
   ]
  },
  {
   "cell_type": "markdown",
   "id": "ce7f651a-d0bb-4525-a3bd-130234a7f87a",
   "metadata": {
    "id": "ce7f651a-d0bb-4525-a3bd-130234a7f87a"
   },
   "source": [
    "# Extra: ChatGPT"
   ]
  },
  {
   "cell_type": "code",
   "execution_count": null,
   "id": "4c99b012-c6a7-4fca-839b-5df97383adab",
   "metadata": {
    "id": "4c99b012-c6a7-4fca-839b-5df97383adab"
   },
   "outputs": [],
   "source": [
    "import openai\n",
    "import os\n",
    "from IPython.display import clear_output\n",
    "openai.api_key = os.getenv(\"OPENAI_API_KEY\")\n",
    "if not openai.api_key:\n",
    "    print(\"WARNING: no api key set\")\n",
    "    key = input(\"Input API KEY:\")\n",
    "    os.environ[\"OPENAI_API_KEY\"] = key\n",
    "    clear_output()"
   ]
  },
  {
   "cell_type": "code",
   "execution_count": null,
   "id": "e4f5c2a1-592c-4248-8e08-7b0155276a7e",
   "metadata": {
    "id": "e4f5c2a1-592c-4248-8e08-7b0155276a7e"
   },
   "outputs": [],
   "source": [
    "MODEL, MAX_TOKENS = \"gpt-4\", 8192\n",
    "#MODEL, MAX_TOKENS = \"gpt-3.5-turbo\", 4096\n",
    "SYSTEM_PROMPT = \"You are a research assistant.\""
   ]
  },
  {
   "cell_type": "code",
   "execution_count": null,
   "id": "55c58745-1521-47dd-817c-4bc76d36271a",
   "metadata": {
    "id": "55c58745-1521-47dd-817c-4bc76d36271a"
   },
   "outputs": [],
   "source": [
    "def chat(message):\n",
    "    try:\n",
    "        history = [{\"role\": \"system\", \"content\": SYSTEM_PROMPT}, {\"role\": \"user\", \"content\": message}]\n",
    "        params = dict(\n",
    "          model = MODEL,\n",
    "          messages= history,\n",
    "          n=1,\n",
    "          temperature=0,\n",
    "          top_p=1,\n",
    "          frequency_penalty=0,\n",
    "          presence_penalty=0,\n",
    "          )\n",
    "        response = openai.ChatCompletion.create(**params)\n",
    "    except Exception as e:\n",
    "        print(f\"Error {e}\")\n",
    "        print(\"Messsage:\\n\",message)\n",
    "        raise e\n",
    "\n",
    "    return  response.choices[0]['message']['content']"
   ]
  },
  {
   "cell_type": "code",
   "execution_count": null,
   "id": "c65815c0",
   "metadata": {
    "id": "c65815c0"
   },
   "outputs": [],
   "source": [
    "response = chat(\"What are some famous high schools in Jamaica?\")\n",
    "print(response)"
   ]
  },
  {
   "cell_type": "code",
   "execution_count": null,
   "id": "59cc0113-7af3-48a3-90cc-e6c7f54760ff",
   "metadata": {
    "id": "59cc0113-7af3-48a3-90cc-e6c7f54760ff"
   },
   "outputs": [],
   "source": [
    "response = chat(\"What are some famous high schools in Jamaica? Write the names of the schools only separated by commas\")\n",
    "print(response)"
   ]
  },
  {
   "cell_type": "code",
   "execution_count": null,
   "id": "c24692a2-54ac-48b0-8a03-b79ab432d63d",
   "metadata": {
    "id": "c24692a2-54ac-48b0-8a03-b79ab432d63d"
   },
   "outputs": [],
   "source": [
    "schools = response.split(\",\")\n",
    "print(schools)"
   ]
  },
  {
   "cell_type": "code",
   "execution_count": null,
   "id": "bb063334-bb78-44a2-9c77-7952b691cbce",
   "metadata": {
    "id": "bb063334-bb78-44a2-9c77-7952b691cbce"
   },
   "outputs": [],
   "source": [
    "def twenty_questions():\n",
    "    prompt = '''We are playing 20 questions.\n",
    "I am thinking of something or someone related to Jamaica and you are guessing.\n",
    "You can ask me a yes or no question or make a guess.\n",
    "If some questions and answers are written below then you can use them.\n",
    "'''\n",
    "    for i in range(20):\n",
    "        question = chat(prompt)\n",
    "        print(question)\n",
    "        response = input(\"Your response (yes/no/quit):\")\n",
    "        if response==\"quit\":\n",
    "            break\n",
    "        prompt += f\"\\nQuestion {i+1}: {question}\\nAnswer {i+1}: {response}\"\n"
   ]
  },
  {
   "cell_type": "code",
   "execution_count": null,
   "id": "e44ade9d-6e0e-4974-aa27-b2d4eda0439f",
   "metadata": {
    "id": "e44ade9d-6e0e-4974-aa27-b2d4eda0439f",
    "tags": []
   },
   "outputs": [],
   "source": [
    "twenty_questions()"
   ]
  },
  {
   "cell_type": "markdown",
   "id": "72f7dcfa-01e5-4b03-b89a-5ceb7272d81d",
   "metadata": {
    "id": "72f7dcfa-01e5-4b03-b89a-5ceb7272d81d"
   },
   "source": [
    "## Extra: More advanced exercise"
   ]
  },
  {
   "cell_type": "markdown",
   "id": "355797af-03b5-47d3-a98c-a35d8e200b7e",
   "metadata": {
    "id": "355797af-03b5-47d3-a98c-a35d8e200b7e"
   },
   "source": [
    "Write a function `reverse(s)` that takes a string `s` and returns its reverse.\n",
    "\n",
    "`reverse(\"boaz\")` will be `\"zaob\"`\n",
    "\n",
    "Hint: if `x` is a string and `a` is a letter then `x = x+ a` changes `x` so that now `a` is added to end of the string `x` and `x = a + x` changes `x` to the string where `a` is added to the beginning the previous `x`."
   ]
  },
  {
   "cell_type": "code",
   "execution_count": null,
   "id": "14891399",
   "metadata": {
    "id": "14891399"
   },
   "outputs": [],
   "source": [
    "def reverse(s):\n",
    "    ..."
   ]
  },
  {
   "cell_type": "code",
   "execution_count": null,
   "id": "9cfd30f1",
   "metadata": {
    "id": "9cfd30f1"
   },
   "outputs": [],
   "source": [
    "def reverse(s):\n",
    "    res = \"\"\n",
    "    for a in s:\n",
    "        res = a + res\n",
    "    return res"
   ]
  },
  {
   "cell_type": "code",
   "execution_count": null,
   "id": "9fbd5657",
   "metadata": {
    "id": "9fbd5657"
   },
   "outputs": [],
   "source": [
    "reverse(\"JamCoders\")"
   ]
  }
 ],
 "metadata": {
  "celltoolbar": "Slideshow",
  "colab": {
   "provenance": []
  },
  "kernelspec": {
   "display_name": "Python 3 (ipykernel)",
   "language": "python",
   "name": "python3"
  },
  "language_info": {
   "codemirror_mode": {
    "name": "ipython",
    "version": 3
   },
   "file_extension": ".py",
   "mimetype": "text/x-python",
   "name": "python",
   "nbconvert_exporter": "python",
   "pygments_lexer": "ipython3",
   "version": "3.11.0"
  }
 },
 "nbformat": 4,
 "nbformat_minor": 5
}
