{
 "cells": [
  {
   "cell_type": "code",
   "execution_count": null,
   "metadata": {},
   "outputs": [],
   "source": [
    "%config InteractiveShell.ast_node_interactivity=\"none\"\n",
    "import sys\n",
    "if 'google.colab' in sys.modules:\n",
    "  !pip install --force-reinstall git+https://github.com/jamcoders/jamcoders-public-2023.git --quiet \n",
    "from jamcoders.base_utils import *\n",
    "from jamcoders.week2.labw2d4a import *\n",
    "\n",
    "orr_counter = 0"
   ]
  },
  {
   "cell_type": "markdown",
   "metadata": {},
   "source": [
    "# Week 2 Day 4, Lab A, More Recursion \n"
   ]
  },
  {
   "cell_type": "markdown",
   "metadata": {},
   "source": [
    "# Table of Contents  \n",
    "\n",
    "**[Question 1: Skip Print](#1)**\n",
    "\n",
    "**[Question 2: What Would Python Do](#2)**\n",
    "\n",
    "**[Question 3: Now We're Even](#3)**"
   ]
  },
  {
   "cell_type": "markdown",
   "metadata": {},
   "source": [
    "<a name=\"1\"></a>\n",
    "## Q1: Skip Print\n",
    "\n",
    "Write a function `skipping_print` which takes `n` as an argument and prints every other number from $n$ down to $0$ in decrements of 2.\n",
    "\n",
    "For example, `skipping_print(5)` should print `5, 3, 1` and `skipping_print(8)` should print `8, 6, 4, 2, 0`"
   ]
  },
  {
   "cell_type": "code",
   "execution_count": null,
   "metadata": {},
   "outputs": [],
   "source": [
    "def skipping_print(n):\n",
    "    # Base case(s)\n",
    "\n",
    "\n",
    "    # Recursive case(s)\n",
    "\n"
   ]
  },
  {
   "cell_type": "code",
   "execution_count": null,
   "metadata": {},
   "outputs": [
    {
     "name": "stdout",
     "output_type": "stream",
     "text": [
      "5\n",
      "3\n",
      "1\n"
     ]
    }
   ],
   "source": [
    "# Run this code block. Make sure it prints \n",
    "# >>> 5\n",
    "# >>> 3\n",
    "# >>> 1\n",
    "skipping_print(5)"
   ]
  },
  {
   "cell_type": "code",
   "execution_count": null,
   "metadata": {},
   "outputs": [
    {
     "name": "stdout",
     "output_type": "stream",
     "text": [
      "8\n",
      "6\n",
      "4\n",
      "2\n",
      "0\n"
     ]
    }
   ],
   "source": [
    "# Run this code block. Make sure it prints \n",
    "# >>> 8\n",
    "# >>> 6\n",
    "# >>> 4\n",
    "# >>> 2\n",
    "# >>> 0\n",
    "skipping_print(8)"
   ]
  },
  {
   "cell_type": "markdown",
   "metadata": {},
   "source": [
    "<a name=\"2\"></a>\n",
    "## Q2: What Would Python Do? 🐍\n",
    "\n",
    "**WWPD #1**: After running the following lines of code, what would be printed?\n",
    "\n",
    "```python\n",
    "def jam(coders):\n",
    "    if coders <= 0:\n",
    "        return 0\n",
    "    return coders + jam(coders - 1) + jam(coders - 2)\n",
    "print(jam(4))\n",
    "\n",
    "```"
   ]
  },
  {
   "cell_type": "code",
   "execution_count": null,
   "metadata": {},
   "outputs": [],
   "source": [
    "# Enter your answer here\n",
    "# Provide your answer as an integer.\n",
    "answer = \n",
    "# This code checks for correctness. Do not modify it.\n",
    "warmup_check1(answer, orr_counter)\n",
    "orr_counter += 1"
   ]
  },
  {
   "cell_type": "markdown",
   "metadata": {},
   "source": [
    "**WWPD #2**: After running the following lines of code, what would be printed?\n",
    "\n",
    "```python\n",
    "def baygon(roach):\n",
    "    if roach <= 0:\n",
    "        return 0\n",
    "    return baygon(roach - 1) + baygon(roach - 2)\n",
    "print(baygon(4))\n",
    "\n",
    "```"
   ]
  },
  {
   "cell_type": "code",
   "execution_count": null,
   "metadata": {},
   "outputs": [],
   "source": [
    "# Enter your answer here\n",
    "# Provide your answer as an integer.\n",
    "answer = \n",
    "# This code checks for correctness. Do not modify it.\n",
    "warmup_check2(answer)"
   ]
  },
  {
   "cell_type": "markdown",
   "metadata": {},
   "source": [
    "**WWPD #3**: After running the following lines of code, what would be printed?\n",
    "\n",
    "*Hint: `L += [element]` adds `element` to the end of `L`---just like `L.append(element)`*.\n",
    "\n",
    "\n",
    "```python\n",
    "def mystery(num):\n",
    "    if num == 0:\n",
    "        return [0]\n",
    "    result = []\n",
    "    result += [num]\n",
    "    result += mystery(num - 1)\n",
    "    result += [num]\n",
    "    return result\n",
    "\n",
    "print(mystery(3))\n",
    "```"
   ]
  },
  {
   "cell_type": "code",
   "execution_count": null,
   "metadata": {},
   "outputs": [],
   "source": [
    "# Enter your answer here\n",
    "# Provide your answer as a list.\n",
    "answer = \n",
    "# This code checks for correctness. Do not modify it.\n",
    "warmup_check3(answer)"
   ]
  },
  {
   "cell_type": "markdown",
   "metadata": {},
   "source": [
    "<a name=\"3\"></a>\n",
    "## Question 3: Now We're Even\n",
    "\n",
    "**3.1** Write a recursive function `count_even` which returns the number of even numbers in a list of integers."
   ]
  },
  {
   "cell_type": "code",
   "execution_count": null,
   "metadata": {},
   "outputs": [],
   "source": [
    "def count_even(lst):\n",
    "    \"\"\"\n",
    "    Args \n",
    "        lst (list(int)): A list of integers\n",
    "    \n",
    "    Returns (int):\n",
    "        Number of even numbers in the list\n",
    "    \"\"\"\n",
    "    # Base case\n",
    "\n",
    "\n",
    "    # Recursive case\n",
    "\n",
    "\n",
    "\n",
    "\n",
    "\n",
    "\n",
    "#Test cases\n",
    "\n",
    "assert_equal(got=count_even([0,4,6,8,1,4,5,5]), want=5)\n",
    "assert_equal(got=count_even([]), want=0)\n",
    "assert_equal(got=count_even([1,3,5,7,7,9,1515]), want=0)\n",
    "assert_equal(got=count_even([0,0,0,0,0,0,2]), want=7)\n"
   ]
  },
  {
   "cell_type": "markdown",
   "metadata": {},
   "source": [
    "**3.2** Write a recursive function `sum_even` which returns the sum of even numbers in a list of integers."
   ]
  },
  {
   "cell_type": "code",
   "execution_count": null,
   "metadata": {},
   "outputs": [],
   "source": [
    "def sum_even(lst):\n",
    "    \"\"\"\n",
    "    Args \n",
    "        lst (list(int)): A list of integers\n",
    "    \n",
    "    Returns (int):\n",
    "        Sum of even numbers in the list\n",
    "    \"\"\"\n",
    "    # Base case\n",
    "\n",
    "\n",
    "    # Recursive case\n",
    "\n",
    "\n",
    "\n",
    "\n",
    "\n",
    "#Test cases\n",
    "\n",
    "assert_equal(got=sum_even([0,4,6,8,1,4,5,5]), want=22)\n",
    "assert_equal(got=sum_even([]), want=0)\n",
    "assert_equal(got=sum_even([1,3,5,7,7,9,1515]), want=0)\n",
    "assert_equal(got=sum_even([0,0,0,0,0,0,2]), want=2)"
   ]
  },
  {
   "cell_type": "code",
   "execution_count": null,
   "metadata": {},
   "outputs": [],
   "source": []
  }
 ],
 "metadata": {
  "language_info": {
   "name": "python"
  },
  "orig_nbformat": 4
 },
 "nbformat": 4,
 "nbformat_minor": 2
}
