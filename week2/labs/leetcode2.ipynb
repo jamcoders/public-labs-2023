{
  "cells": [
    {
      "cell_type": "code",
      "execution_count": null,
      "metadata": {
        "colab": {
          "base_uri": "https://localhost:8080/"
        },
        "id": "SEsbnliix3Fx",
        "outputId": "58dd7d50-4900-4205-e538-5d2182ed7253"
      },
      "outputs": [],
      "source": [
        "%config InteractiveShell.ast_node_interactivity=\"none\"\n",
        "import sys\n",
        "if 'google.colab' in sys.modules:\n",
        "    !pip install --force-reinstall git+https://github.com/jamcoders/jamcoders-public-2023.git --quiet\n",
        "\n",
        "from jamcoders.leetcode.leetcode1 import *"
      ]
    },
    {
      "attachments": {},
      "cell_type": "markdown",
      "metadata": {
        "id": "tbEYcjjlt3nf"
      },
      "source": [
        "# JamCoders Leetcode Questions 2\n",
        "\n",
        "#### All these questions are meant to be more challenging than the regular lab questions. Try at your own risk"
      ]
    },
    {
      "attachments": {},
      "cell_type": "markdown",
      "metadata": {
        "id": "gHnv_trVuB73"
      },
      "source": [
        "## Question 1: Print Words Vertically\n",
        "\n",
        "Given a string s. Return all the words vertically in the same order in which they appear in s.\n",
        "Words are returned as a list of strings, complete with spaces when is necessary. (Trailing spaces are not allowed).\n",
        "Each word would be put on only one column and that in one column there will be only one word.\n",
        "\n",
        "**Example 1:**\n",
        "\n",
        "```\n",
        "Input: s = \"HOW ARE YOU\"\n",
        "Output: [\"HAY\",\"ORO\",\"WEU\"]\n",
        "Explanation: Each word is printed vertically. \n",
        " \"HAY\"\n",
        " \"ORO\"\n",
        " \"WEU\"\n",
        "```\n",
        "\n",
        "**Example 2:**\n",
        "\n",
        "```\n",
        "Input: s = \"TO BE OR NOT TO BE\"\n",
        "Output: [\"TBONTB\",\"OEROOE\",\"   T\"]\n",
        "Explanation: Trailing spaces is not allowed. \n",
        "\"TBONTB\"\n",
        "\"OEROOE\"\n",
        "\"   T\"\n",
        "```\n",
        "\n",
        "**Example 3**\n",
        "\n",
        "```\n",
        "Input: s = \"CONTEST IS COMING\"\n",
        "Output: [\"CIC\",\"OSO\",\"N M\",\"T I\",\"E N\",\"S G\",\"T\"]\n",
        "```"
      ]
    },
    {
      "cell_type": "code",
      "execution_count": null,
      "metadata": {
        "colab": {
          "base_uri": "https://localhost:8080/"
        },
        "id": "V2rwI3fts3YX",
        "outputId": "2c89f438-e24d-4373-b035-b77e3c2243e8"
      },
      "outputs": [],
      "source": [
        "# Write your code here -> it will take in a list of strings\n",
        "def print_vertical_words(strings_list):\n",
        "  pass\n",
        "\n",
        "# Check your answer -> Don't remove this line\n",
        "check_print_vertical(print_vertical_words)"
      ]
    },
    {
      "attachments": {},
      "cell_type": "markdown",
      "metadata": {
        "id": "bDZw841B1aMJ"
      },
      "source": [
        "## Question 2: Integer to English Words\n",
        "\n",
        "Convert a non-negative integer `num` to its English words representation.\n",
        "\n",
        "**Example 1**\n",
        "\n",
        "```\n",
        "Input: num = 123\n",
        "Output: \"One Hundred Twenty Three\"\n",
        "```\n",
        "\n",
        "**Example 2:**\n",
        "```\n",
        "Input: num = 12345\n",
        "Output: \"Twelve Thousand Three Hundred Forty Five\"\n",
        "```\n",
        "\n",
        "**Example 3**\n",
        "```\n",
        "Input: num = 1234567\n",
        "Output: \"One Million Two Hundred Thirty Four Thousand Five Hundred Sixty Seven\"\n",
        "```\n",
        "\n",
        "The input number will not exceed $9,999,999$"
      ]
    },
    {
      "cell_type": "code",
      "execution_count": null,
      "metadata": {
        "colab": {
          "base_uri": "https://localhost:8080/"
        },
        "id": "zFt0gU6N2Eqz",
        "outputId": "c5bcf47b-36c5-4f09-b4cb-40fbb06835c0"
      },
      "outputs": [],
      "source": [
        "# Write your code here\n",
        "# given a list of strings, return the number of unique morse code representations\n",
        "def integer_to_english(num):\n",
        "  pass\n",
        "\n",
        "# Check your answer -> Don't remove this line\n",
        "check_integer_to_words(integer_to_english)"
      ]
    },
    {
      "attachments": {},
      "cell_type": "markdown",
      "metadata": {},
      "source": [
        "## Congratulations! Find a TA to look through your answers and give you the next task :)"
      ]
    },
    {
      "attachments": {},
      "cell_type": "markdown",
      "metadata": {},
      "source": []
    }
  ],
  "metadata": {
    "colab": {
      "provenance": []
    },
    "kernelspec": {
      "display_name": "Python 3",
      "name": "python3"
    },
    "language_info": {
      "name": "python"
    }
  },
  "nbformat": 4,
  "nbformat_minor": 0
}
