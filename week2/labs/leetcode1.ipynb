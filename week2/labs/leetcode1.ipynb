{
  "cells": [
    {
      "cell_type": "code",
      "execution_count": null,
      "metadata": {
        "colab": {
          "base_uri": "https://localhost:8080/"
        },
        "id": "SEsbnliix3Fx",
        "outputId": "58dd7d50-4900-4205-e538-5d2182ed7253"
      },
      "outputs": [],
      "source": [
        "%config InteractiveShell.ast_node_interactivity=\"none\"\n",
        "import sys\n",
        "if 'google.colab' in sys.modules:\n",
        "    !pip install --force-reinstall git+https://github.com/jamcoders/jamcoders-public-2023.git --quiet\n",
        "\n",
        "from jamcoders.leetcode.leetcode1 import *"
      ]
    },
    {
      "attachments": {},
      "cell_type": "markdown",
      "metadata": {
        "id": "tbEYcjjlt3nf"
      },
      "source": [
        "# JamCoders Leetcode Questions\n",
        "\n",
        "#### All these questions are meant to be more challenging than the regular lab questions. Try at your own risk"
      ]
    },
    {
      "attachments": {},
      "cell_type": "markdown",
      "metadata": {
        "id": "gHnv_trVuB73"
      },
      "source": [
        "## Question 1: Keyboard Row\n",
        "\n",
        "Write a function called `keyboard_row` that takes in an array of strings (words), and returns the words that can be typed using letters of the alphabet on only one row of the keyboard like the image below.\n",
        "\n",
        "In the keyboard:\n",
        "\n",
        "* the first row consists of the characters \"qwertyuiop\",\n",
        "* the second row consists of the characters \"asdfghjkl\", and\n",
        "* the third row consists of the characters \"zxcvbnm\".\n",
        "\n",
        "![row](https://assets.leetcode.com/uploads/2018/10/12/keyboard.png)\n",
        "\n",
        "**Example 1:**\n",
        "\n",
        "```\n",
        "Input: words = [\"Hello\",\"Alaska\",\"Dad\",\"Peace\"]\n",
        "Output: [\"Alaska\",\"Dad\"]\n",
        "```\n",
        "\n",
        "**Example 2:**\n",
        "\n",
        "```\n",
        "Input: words = [\"omk\"]\n",
        "Output: []\n",
        "```\n",
        "\n",
        "**Example 3**\n",
        "\n",
        "```\n",
        "Input: words = [\"adsdf\",\"sfd\"]\n",
        "Output: [\"adsdf\",\"sfd\"]\n",
        "```"
      ]
    },
    {
      "cell_type": "code",
      "execution_count": null,
      "metadata": {
        "colab": {
          "base_uri": "https://localhost:8080/"
        },
        "id": "V2rwI3fts3YX",
        "outputId": "2c89f438-e24d-4373-b035-b77e3c2243e8"
      },
      "outputs": [],
      "source": [
        "# Write your code here ->\n",
        "# return the list of possible strings in their original order\n",
        "# so if the list is [a,b,c,d] and [a,c] are the possible strings\n",
        "# you should return [a,c] instead of [c,a]\n",
        "def keyboard_row(strings_list):\n",
        "  pass\n",
        "\n",
        "# Check your answer -> Don't remove this line\n",
        "check_keyboard(keyboard_row)"
      ]
    },
    {
      "attachments": {},
      "cell_type": "markdown",
      "metadata": {
        "id": "bDZw841B1aMJ"
      },
      "source": [
        "## Question 2: Unique Morse Code Words\n",
        "\n",
        "International Morse Code defines a standard encoding where each letter is mapped to a series of dots and dashes, as follows:\n",
        "\n",
        "* `'a'` maps to `\".-\"`,\n",
        "* `'b'` maps to `\"-...\"`,\n",
        "* `'c'` maps to `\"-.-.\"`, and so on.\n",
        "For convenience, the full table for the 26 letters of the English alphabet is given below:\n",
        "\n",
        "```\n",
        "[\".-\",\"-...\",\"-.-.\",\"-..\",\".\",\"..-.\",\"--.\",\"....\",\"..\",\".---\",\"-.-\",\".-..\",\"--\",\"-.\",\"---\",\".--.\",\"--.-\",\".-.\",\"...\",\"-\",\"..-\",\"...-\",\".--\",\"-..-\",\"-.--\",\"--..\"]\n",
        "```\n",
        "\n",
        "Given an array of strings words where each word can be written as a concatenation of the Morse code of each letter.\n",
        "\n",
        "For example, `\"cab\"` can be written as `\"-.-..--...\"`, which is the concatenation of `\"-.-.\"`, `\".-\"`, and `\"-...\"`. We will call such a concatenation the transformation of a word.\n",
        "Return the number of different transformations among all words we have.\n",
        "\n",
        "**Example 1**\n",
        "\n",
        "```\n",
        "Input: words = [\"gin\",\"zen\",\"gig\",\"msg\"]\n",
        "Output: 2\n",
        "Explanation: The transformation of each word is:\n",
        "\"gin\" -> \"--...-.\"\n",
        "\"zen\" -> \"--...-.\"\n",
        "\"gig\" -> \"--...--.\"\n",
        "\"msg\" -> \"--...--.\"\n",
        "There are 2 different transformations: \"--...-.\" and \"--...--.\".\n",
        "```\n",
        "\n",
        "**Example 2:**\n",
        "```\n",
        "Input: words = [\"gin\",\"zen\",\"gig\",\"msg\"]\n",
        "Output: 2\n",
        "Explanation: The transformation of each word is:\n",
        "\"gin\" -> \"--...-.\"\n",
        "\"zen\" -> \"--...-.\"\n",
        "\"gig\" -> \"--...--.\"\n",
        "\"msg\" -> \"--...--.\"\n",
        "There are 2 different transformations: \"--...-.\" and \"--...--.\".\n",
        "```"
      ]
    },
    {
      "cell_type": "code",
      "execution_count": null,
      "metadata": {
        "colab": {
          "base_uri": "https://localhost:8080/"
        },
        "id": "zFt0gU6N2Eqz",
        "outputId": "c5bcf47b-36c5-4f09-b4cb-40fbb06835c0"
      },
      "outputs": [],
      "source": [
        "# Write your code here\n",
        "# given a list of strings, return the number of unique morse code representations\n",
        "def unique_morse_code(strings_list):\n",
        "  pass\n",
        "\n",
        "# Check your answer -> Don't remove this line\n",
        "check_morse_code(unique_morse_code)"
      ]
    },
    {
      "attachments": {},
      "cell_type": "markdown",
      "metadata": {},
      "source": [
        "## Congratulations! Find a TA to look through your answers and give you the next task :)"
      ]
    },
    {
      "attachments": {},
      "cell_type": "markdown",
      "metadata": {},
      "source": []
    }
  ],
  "metadata": {
    "colab": {
      "provenance": []
    },
    "kernelspec": {
      "display_name": "Python 3",
      "name": "python3"
    },
    "language_info": {
      "name": "python"
    }
  },
  "nbformat": 4,
  "nbformat_minor": 0
}
