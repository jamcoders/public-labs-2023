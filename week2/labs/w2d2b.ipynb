{
 "cells": [
  {
   "attachments": {},
   "cell_type": "markdown",
   "metadata": {},
   "source": [
    "![Reminder to Save](https://github.com/jamcoders/jamcoders-public-2023/blob/main/images/warning.png?raw=true)"
   ]
  },
  {
   "cell_type": "code",
   "execution_count": 1,
   "metadata": {
    "id": "KmzQquM-a3Y-"
   },
   "outputs": [],
   "source": [
    "%config InteractiveShell.ast_node_interactivity=\"none\"\n",
    "import sys\n",
    "if 'google.colab' in sys.modules:\n",
    "  !pip install --force-reinstall git+https://github.com/jamcoders/jamcoders-public-2023.git --quiet \n",
    "from jamcoders.base_utils import *"
   ]
  },
  {
   "attachments": {},
   "cell_type": "markdown",
   "metadata": {
    "id": "FV6sAgwDNO8m"
   },
   "source": [
    "# Week 2 day 2, Part 2: More Recursion\n"
   ]
  },
  {
   "cell_type": "markdown",
   "metadata": {
    "id": "QkxVOkCDx-SP"
   },
   "source": [
    "## Question 0: Definitions and Examples\n",
    "\n",
    "Starting from the basics:"
   ]
  },
  {
   "cell_type": "markdown",
   "metadata": {
    "id": "o-66ieYuyCit"
   },
   "source": [
    "What is recursion? Answer in words, and give an example (either in words or in code)"
   ]
  },
  {
   "cell_type": "code",
   "execution_count": null,
   "metadata": {
    "id": "QzgfwtMjyGMV"
   },
   "outputs": [],
   "source": [
    "# Answer here!"
   ]
  },
  {
   "cell_type": "markdown",
   "metadata": {
    "id": "NLtMc52DyIGV"
   },
   "source": [
    "What is a base case? If unsure, refer to question 0.5 in the previous lab."
   ]
  },
  {
   "cell_type": "code",
   "execution_count": null,
   "metadata": {
    "id": "JSRHEE6UyQJu"
   },
   "outputs": [],
   "source": [
    "# Answer here!"
   ]
  },
  {
   "cell_type": "markdown",
   "metadata": {
    "id": "63Imt7IfyRsK"
   },
   "source": [
    "What is a recursive case?"
   ]
  },
  {
   "cell_type": "code",
   "execution_count": null,
   "metadata": {
    "id": "BDLjuBkNyP7Q"
   },
   "outputs": [],
   "source": [
    "# Answer here!"
   ]
  },
  {
   "cell_type": "markdown",
   "metadata": {
    "id": "0UcL6tU6xocE"
   },
   "source": [
    "## Question 1: List slicing and warm up\n",
    "\n",
    "Some warm up, since the AC is so cold!"
   ]
  },
  {
   "cell_type": "markdown",
   "metadata": {
    "id": "9wPu5MaRxwTA"
   },
   "source": [
    "In recursion, we often have to split the inputs into different parts.\n",
    "\n",
    "For example, sometimes we might break the input in half and call the function on both halves. Sometimes we might break the input to handle the first thing, and then recursively call the function on the rest of the input. \n",
    "\n",
    "So, we will practice slicing.\n",
    "\n",
    "*Note: `pass` does not do anything. Delete it when you add your code.*"
   ]
  },
  {
   "cell_type": "markdown",
   "metadata": {
    "id": "WcFnkBsFrdCy"
   },
   "source": [
    "Write a function to return the first element of a list"
   ]
  },
  {
   "cell_type": "code",
   "execution_count": null,
   "metadata": {
    "id": "wnDXwc7orLfz"
   },
   "outputs": [],
   "source": [
    "def first_element(lst):\n",
    "    \"\"\"\n",
    "    Args: \n",
    "        lst (list(object)):\n",
    "            A list of objects.\n",
    "    \n",
    "    Returns (object): \n",
    "        The first element of lst. If the list is empty, return the empty list.\n",
    "    \"\"\"\n",
    "    # Your code here!\n",
    "    pass\n",
    "\n",
    "# Use your function here to test that it returns the first element of the list."
   ]
  },
  {
   "cell_type": "markdown",
   "metadata": {
    "id": "3pKF5ZBRrs0H"
   },
   "source": [
    "Write a function to return everything except the first element of a list"
   ]
  },
  {
   "cell_type": "code",
   "execution_count": null,
   "metadata": {
    "id": "feOIdBpPrz9Z"
   },
   "outputs": [],
   "source": [
    "def except_first(lst):\n",
    "    \"\"\"\n",
    "    Args: \n",
    "        lst (list(object)): \n",
    "            A list of objects.\n",
    "\n",
    "    Returns (list(object)): \n",
    "       A copy of lst with the first element removed. If the list has length < 2, return the empty list.\n",
    "    \"\"\"\n",
    "    # Your code here!\n",
    "    pass\n",
    "\n",
    "# Use your function here to test that it returns everything except the first element of the list."
   ]
  },
  {
   "cell_type": "markdown",
   "metadata": {
    "id": "kLRHqMYVI_Ai"
   },
   "source": [
    "Write a function to return everything in the first half of the list. If there is an odd number of items in the list, make the first half one less than the second half.\n",
    "\n",
    "For example, for the list `[1, 2, 3, 4, 5, 6, 7]`, the first half should return `[1, 2, 3]`"
   ]
  },
  {
   "cell_type": "code",
   "execution_count": null,
   "metadata": {
    "id": "_qLQsKNeJVKR"
   },
   "outputs": [],
   "source": [
    "def first_half(lst):\n",
    "    \"\"\"\n",
    "    Args: \n",
    "        lst (list(object)): \n",
    "            A list of objects.\n",
    "\n",
    "    Returns (list(object)): \n",
    "       A list containing the first half of lst. If the length of lst is an odd number (2k+1), \n",
    "       the output will contain the first k items in lst.\n",
    "    \"\"\"\n",
    "    # Your code here!\n",
    "    pass\n",
    "\n",
    "# Use your function here to test that the function returns everything except the first element of the list"
   ]
  },
  {
   "cell_type": "markdown",
   "metadata": {
    "id": "1Ka_0U3eJlpP"
   },
   "source": [
    "Write a function to return everything in the second half of the list. If there is an odd number, make the second half that you return have one more element than the first half.\n",
    "\n",
    "For example, for the list `[1, 2, 3, 4, 5, 6, 7]`, the second half should return `[4, 5, 6, 7]`"
   ]
  },
  {
   "cell_type": "code",
   "execution_count": null,
   "metadata": {
    "id": "AYj5FqmUJ945"
   },
   "outputs": [],
   "source": [
    "def second_half(lst):\n",
    "    \"\"\"\n",
    "    Args: \n",
    "        lst (list(object)): \n",
    "            A list of objects.\n",
    "\n",
    "    Returns (list(object)): \n",
    "       A list containing the second half of lst. If the length of lst is an odd number (2k+1), \n",
    "       the output will contain the last k+1 items in lst.\n",
    "    \"\"\"\n",
    "    #Your code here!\n",
    "    pass\n",
    "\n",
    "# Use your function here to test that the function returns everything except the first element of the list"
   ]
  },
  {
   "cell_type": "markdown",
   "metadata": {
    "id": "6KkDCgdbKF0i"
   },
   "source": [
    "Modify your code if needed, or verify that your code for `first_element()`, `except_first()`, `first_half()`, `second_half()` also work for strings! "
   ]
  },
  {
   "cell_type": "code",
   "execution_count": null,
   "metadata": {
    "colab": {
     "base_uri": "https://localhost:8080/"
    },
    "executionInfo": {
     "elapsed": 42,
     "status": "ok",
     "timestamp": 1657605586936,
     "user": {
      "displayName": "Elijah Tai",
      "userId": "10481460939973943391"
     },
     "user_tz": 240
    },
    "id": "QV2uyCL0Kcyq",
    "outputId": "a56dfd7a-865e-4b52-e04c-33522fdd0078"
   },
   "outputs": [],
   "source": [
    "test_list = [1,2,3,4,5]\n",
    "assert_equal([1], first_element(test_list))\n",
    "assert_equal([2,3,4,5], except_first(test_list))\n",
    "assert_equal([1,2], first_half(test_list))\n",
    "assert_equal([3,4,5], second_half(test_list))\n",
    "\n",
    "test_string = \"jam_coders\"\n",
    "assert_equal(\"j\", first_element(test_string))\n",
    "assert_equal(\"am_coders\", except_first(test_string))\n",
    "assert_equal(\"jam_c\", first_half(test_string))\n",
    "assert_equal(\"oders\", second_half(test_string))"
   ]
  },
  {
   "cell_type": "markdown",
   "metadata": {
    "id": "xQtkDtgJkdEw"
   },
   "source": [
    "## Question 2: Boolean Recursion\n",
    "\n",
    "Often, we see recursive functions that return `list`s or `int`s or `float`s or `string`s. However, sometimes we see recursions that return `boolean` values! "
   ]
  },
  {
   "cell_type": "markdown",
   "metadata": {
    "id": "FX5pyraCu4FX"
   },
   "source": [
    "In this question, we will **use recursion** to write a function called `is_in(lst, item)` that takes in a list called `lst` and returns `True` if the `item` is in the `lst`, and `False` otherwise\n",
    "\n",
    "> Side note: You may think that most of the examples you have seen of recursion can be easily replaced with different code. For example, here, without recursion we can simply say:\n",
    "> ```python \n",
    "> def is_in(lst, item):\n",
    ">   return (item in lst)\n",
    "> ```\n",
    "> However, many times recursion is more natural. We are doing this example in preparation for other lectures and exercises to come!"
   ]
  },
  {
   "cell_type": "markdown",
   "metadata": {
    "id": "uWiiwVpskwFa"
   },
   "source": [
    "There are many ways to write this function, but let's do it recursively. For the first base case, what should we return (`True` or `False`) if `lst` is empty?\n",
    "\n"
   ]
  },
  {
   "cell_type": "code",
   "execution_count": null,
   "metadata": {
    "id": "HBaUdLjRoqd8"
   },
   "outputs": [],
   "source": [
    "# Answer in words, and write the if statement in code"
   ]
  },
  {
   "cell_type": "markdown",
   "metadata": {
    "id": "1Hf86kjJoq_f"
   },
   "source": [
    "For the second base case, should we return `True` or `False` if the first element `lst[0] == item`?"
   ]
  },
  {
   "cell_type": "code",
   "execution_count": null,
   "metadata": {
    "id": "y1huI3fxpCzN"
   },
   "outputs": [],
   "source": [
    "# Answer in words, and write the if statement in code"
   ]
  },
  {
   "cell_type": "markdown",
   "metadata": {
    "id": "u5w2ibPfo5lZ"
   },
   "source": [
    "For the recursive case, suppose that we know that the first element is not the item. How can we call `is_in(lst, item)` to check the remainder of the list, excluding the first element that we already know is not the item?\n",
    "\n",
    "In other words, we already know the first element is not the item, or else we would have triggered the second base case. So, we can call `is_in()` using the `lst` without the first element, searching for the same item as before."
   ]
  },
  {
   "cell_type": "code",
   "execution_count": null,
   "metadata": {
    "id": "DFeCbtcEpGNi"
   },
   "outputs": [],
   "source": [
    "# Answer in words, and write the recursive call is_in() in code"
   ]
  },
  {
   "cell_type": "markdown",
   "metadata": {
    "id": "uwLLQvy4qlSa"
   },
   "source": [
    "Now we are ready to write the function!\n",
    "\n",
    "> Note: This question heavily relies on the list slicing from question 1, and you may use your previous functions if you'd like. These functions include: `first_element()`, `except_first()`, `first_half()`, `second_half()`."
   ]
  },
  {
   "cell_type": "code",
   "execution_count": null,
   "metadata": {
    "colab": {
     "base_uri": "https://localhost:8080/",
     "height": 131
    },
    "executionInfo": {
     "elapsed": 26,
     "status": "error",
     "timestamp": 1657601221113,
     "user": {
      "displayName": "Elijah Tai",
      "userId": "10481460939973943391"
     },
     "user_tz": 240
    },
    "id": "AErL_fMwmMUp",
    "outputId": "89dd60df-bf00-4c76-d727-ad009b862acf"
   },
   "outputs": [],
   "source": [
    "def is_in(lst, item):\n",
    "    \"\"\"\n",
    "    Args: \n",
    "        lst (list(object)): A list of objects to seach in.\n",
    "        item (object): An item to search for.\n",
    "    \n",
    "    Returns (bool):\n",
    "        Whether item is in lst.\n",
    "    \"\"\"\n",
    "\n",
    "    # ===First base case===: the list has length zero so we return False.\n",
    "    if #FILL ME IN: \n",
    "        return False\n",
    "\n",
    "    first_item = # Get the first item\n",
    "\n",
    "    # ===Second base case===: the first thing in the list is the item we are searching for. \n",
    "    if #FILL ME IN:\n",
    "        return True\n",
    "\n",
    "    rest_of_list = # Get the rest of the list\n",
    "\n",
    "    # ===Recursive case===: we search for the item in the rest of the list\n",
    "    return #is_in(FILL ME IN)\n",
    "\n",
    "assert_equal(True, is_in([1, 2, 3], 3))\n",
    "assert_equal(True, is_in(['j', 'c', 22], 'c'))\n",
    "assert_equal(False, is_in(['r', 2, 'hello'], 'bye'))"
   ]
  },
  {
   "cell_type": "markdown",
   "metadata": {
    "id": "WjJ_qasOnrFy"
   },
   "source": [
    "**Challenge $-$ Optional**\n",
    "\n",
    "The rest of the question is a challenge problem. For the next part of the question, Elijah wants to write `is_in2(lst, item)` that does the same thing as `is_in(lst, item)`, except it follows a different logic:\n",
    "  * if the length of the `lst` is `0`, return `False` because `item` is not in an empty list.\n",
    "  * if the length of the `lst` is `1` and the element is `item` (In otherwords, `lst[0] == item`), then we have found the element and `return True`.\n",
    "  * call `is_in2()` on the first half of `lst`, keep track of the `return` boolean value.\n",
    "  * call `is_in2()` on the second half of `lst`, keep track of the `return` boolean value.\n",
    "  * return `True` if the value is either in the first half of `lst` or the second half of `lst`, and `False` otherwise."
   ]
  },
  {
   "cell_type": "markdown",
   "metadata": {
    "id": "BWX96fChr-Ub"
   },
   "source": [
    "Explain in words why the logic above makes sense. This is the most important part of the question, so please ask us to explain this recursion to you before you move on if you are not sure!"
   ]
  },
  {
   "cell_type": "code",
   "execution_count": null,
   "metadata": {
    "id": "_7Yg-CpSsJu6"
   },
   "outputs": [],
   "source": [
    "# Write your answer in words here!"
   ]
  },
  {
   "cell_type": "markdown",
   "metadata": {
    "id": "AMZ9mcKKrKJ4"
   },
   "source": [
    "In words, what are the base cases and recursive case?"
   ]
  },
  {
   "cell_type": "code",
   "execution_count": null,
   "metadata": {
    "id": "VeyGiQg2rS78"
   },
   "outputs": [],
   "source": [
    "# Write your answer in words here!"
   ]
  },
  {
   "cell_type": "markdown",
   "metadata": {
    "id": "cm17eW2JrXDy"
   },
   "source": [
    "Now code `is_in2(lst, item)`"
   ]
  },
  {
   "cell_type": "code",
   "execution_count": null,
   "metadata": {
    "id": "177CzFSvrVTI"
   },
   "outputs": [],
   "source": [
    "def is_in2(lst, item):\n",
    "    \"\"\"\n",
    "    Args: \n",
    "        lst (list(object)): A list of objects to seach in.\n",
    "        item (object): An item to search for.\n",
    "    \n",
    "    Returns (bool):\n",
    "        Whether item is in lst.\n",
    "    \"\"\"\n",
    "    # Your code here!\n",
    "\n",
    "    # A summary of the key steps:\n",
    "    # 1. handle the empty list\n",
    "    # 2. handle the list with a single element\n",
    "    # 3. split the list into two halves (we have already handled the case of an empty list)\n",
    "    # 4. return True if the item is either in the left, OR in the right!\n",
    "\n",
    "    pass\n",
    "\n",
    "# Test your code here!\n",
    "assert_equal(True, is_in2([1, 2, 3], 3))    \n",
    "assert_equal(True, is_in2(['j', 'c', 22], 'c'))\n",
    "assert_equal(False, is_in2(['r', 2, 'hello'], 'bye'))"
   ]
  },
  {
   "cell_type": "markdown",
   "metadata": {
    "id": "dypp0gHKK984"
   },
   "source": [
    "## Question 3: Ping Pong\n",
    "\n",
    "Anakai and Michael like playing ping pong together (this may or may not be true). Let's write functions to play ping pong!\n",
    "\n"
   ]
  },
  {
   "cell_type": "markdown",
   "metadata": {
    "id": "9mT78Bz-UlTE"
   },
   "source": [
    "Help Anakai write a function called `ping(n)`:\n",
    "  * if `n == 0`, then `return`.\n",
    "  * If `n > 0`: `ping(n)` should `print('ping')` then call `pong(n - 1)`.\n",
    "  * you haven't written `pong()` yet, but we will write that next!"
   ]
  },
  {
   "cell_type": "code",
   "execution_count": null,
   "metadata": {
    "id": "X4ERTMB4RPBb"
   },
   "outputs": [],
   "source": [
    "def ping(n):\n",
    "    \"\"\"\n",
    "    Args: \n",
    "        n (int): Number of ping-pong steps to make.\n",
    "\n",
    "    Returns:\n",
    "        None\n",
    "    \"\"\"\n",
    "    # If n == 0, return\n",
    "    # Otherwise: \n",
    "    #   print 'ping'\n",
    "    #   call pong(n - 1)\n",
    "    pass"
   ]
  },
  {
   "cell_type": "markdown",
   "metadata": {
    "id": "Em0Xn3NLRv5F"
   },
   "source": [
    "Help Michael write a function called `pong(n)`:\n",
    "* if `n == 0`, then `return`.\n",
    "* `pong(n)` should `print('pong')` then call `ping(n - 1)`.\n",
    "* you have already written `ping()`!\n",
    "\n",
    "**If you call both `ping(n)` and `pong(n)`, you will go into an infinite loop. Make sure you are calling `ping(n - 1)` and `pong(n - 1)`. You will also go into an infinite loop if you forget the base case**\n",
    "\n"
   ]
  },
  {
   "cell_type": "code",
   "execution_count": null,
   "metadata": {
    "id": "uj40lngLTBvy"
   },
   "outputs": [],
   "source": [
    "def pong(n):\n",
    "    \"\"\"\n",
    "    Args: \n",
    "        n (int): Number of ping-pong steps to make.\n",
    "\n",
    "    Returns:\n",
    "        None\n",
    "    \"\"\"\n",
    "    # If n == 0, return\n",
    "    # Otherwise: \n",
    "    #   print 'pong'\n",
    "    #   call ping(n - 1)\n",
    "    pass"
   ]
  },
  {
   "cell_type": "markdown",
   "metadata": {
    "id": "mzzk0PyDTLzp"
   },
   "source": [
    "Try running `ping(5)`. Can you explain what happens and why?"
   ]
  },
  {
   "cell_type": "code",
   "execution_count": null,
   "metadata": {
    "id": "tx6dhO6BTUml"
   },
   "outputs": [],
   "source": [
    "# run ping(5). What happens, and why?"
   ]
  },
  {
   "cell_type": "markdown",
   "metadata": {
    "id": "1TIjgLy5UaEY"
   },
   "source": [
    "What are the base and recursive cases?"
   ]
  },
  {
   "cell_type": "code",
   "execution_count": null,
   "metadata": {
    "id": "KwCZ774wUeIX"
   },
   "outputs": [],
   "source": [
    "# explain the base and recursive cases in words"
   ]
  },
  {
   "cell_type": "markdown",
   "metadata": {
    "id": "lGwuBJPdU0x2"
   },
   "source": [
    "**This may be confusing, so the rest of this problem is optional**\n",
    "\n",
    "Natnael watches them play, and notices that he knows how long the game will last just by looking at `n`. He thinks this is bad because there is no skill involved. So, he writes a function called `is_success(n)` that will return `True` with `n` percent chance. \n",
    "\n",
    "Run his code a few times to understand how `is_success(n)` works. Notice that you will get different results every time you run it.  "
   ]
  },
  {
   "cell_type": "code",
   "execution_count": null,
   "metadata": {
    "id": "bP52g--1agPe"
   },
   "outputs": [],
   "source": [
    "# Run this a few times to understand how is_success(n) works\n",
    "from random import randrange\n",
    "\n",
    "# Here is Natnael's code\n",
    "def is_success(n):\n",
    "    \"\"\"\n",
    "    Args: \n",
    "        n (int): An integer between 0 and 100.\n",
    "\n",
    "    Returns (bool):\n",
    "        With probability n/100, returns True. Otherwise, returns False.\n",
    "    \"\"\"\n",
    "    return randrange(100) < n\n",
    "\n",
    "# Here is how you could use it. \n",
    "print(is_success(0))\n",
    "print(is_success(30))\n",
    "print(is_success(40))\n",
    "print(is_success(50))\n",
    "print(is_success(60))\n",
    "print(is_success(70))\n",
    "print(is_success(100))"
   ]
  },
  {
   "cell_type": "markdown",
   "metadata": {
    "id": "GiS_4jl7cChj"
   },
   "source": [
    "Create `ping_skillz(p, q)` and `pong_skillz(p, q)`. Use `is_success` so that with `n` percent chance, they call the other function.\n",
    "\n",
    "For `ping_skillz(p, q)`:\n",
    "  * with `p` percent chance: print `'ping!'` and call `pong(p, q)`\n",
    "  * with `100 - p` percent chance: print `'ping failed'` and `return`\n",
    "\n",
    "For `pong_skillz(p, q)`:\n",
    "  * with `q` percent chance: print `'pong!'` and call `ping(p, q)`\n",
    "  * with `100 - q` percent chance: print `'pong failed'` and `return` "
   ]
  },
  {
   "cell_type": "code",
   "execution_count": null,
   "metadata": {
    "id": "mUhDRz1zb2wH"
   },
   "outputs": [],
   "source": [
    "def ping_skillz(p, q):\n",
    "    \"\"\"\n",
    "    Args: \n",
    "        p (int): The probability of success of ping_skillz. This is an integer between 0 and 100. \n",
    "        q (int): The probability of success of pong_skillz. This is an integer between 0 and 100.\n",
    "\n",
    "    Returns:\n",
    "        None.\n",
    "    \"\"\"\n",
    "    # Code here! Remember to use is_success to check if we successfully went to pong() or not!\n",
    "    pass\n",
    "\n",
    "def pong_skillz(p, q):\n",
    "    \"\"\"\n",
    "    Args: \n",
    "        p (int): The probability of success of ping_skillz. This is an integer between 0 and 100. \n",
    "        q (int): The probability of success of pong_skillz. This is an integer between 0 and 100.\n",
    "\n",
    "    Returns:\n",
    "        None.\n",
    "    \"\"\"\n",
    "    # Code here! Remember to use is_success to check if we sucessfully went to ping() or not!\n",
    "    pass\n",
    "\n",
    "# Test your code here!"
   ]
  },
  {
   "cell_type": "markdown",
   "metadata": {
    "id": "k1pU3PX1ec9y"
   },
   "source": [
    "**Very, very optional**\n",
    "\n",
    "Run `ping_skillz(50, 50)` ten times, recording the average number of combined `ping!`s and `pong!`s. On average, how many combined `ping!`s and `pong!`s are printed out? \n",
    "\n",
    "*You can manually run it 10 times and calculate the sum (which we recommend), or you can write a function to help if you have extra time.* \n",
    "\n",
    "\n",
    "\n",
    "\n",
    "\n"
   ]
  },
  {
   "cell_type": "code",
   "execution_count": null,
   "metadata": {
    "id": "hxYWD7K_eyRr"
   },
   "outputs": [],
   "source": [
    "# Your answer for the average number. Feel free to show your calculation eg:\n",
    "# print( (1 + 0 + 2 + 0 ... ) / 10 )"
   ]
  },
  {
   "cell_type": "markdown",
   "metadata": {
    "id": "4dcPMFfiicFV"
   },
   "source": [
    "**Very, very, very optional**\n",
    "\n",
    "The following is extremely challenging brain teaser that you should save for the end of the lab and attempt only if you have time. \n",
    "\n",
    "Can you use math to reason about why you got the answer above? That is, if `p == q == 0.5`, how many combined `ping!`s and `pong!`s would you expect to see printed on average?"
   ]
  },
  {
   "cell_type": "code",
   "execution_count": null,
   "metadata": {
    "id": "Dy37O7pKAgEC"
   },
   "outputs": [],
   "source": [
    "# Explain your reasoning and any math you used"
   ]
  },
  {
   "cell_type": "markdown",
   "metadata": {
    "id": "YnTOsgKJkKol"
   },
   "source": [
    "## Question 4: Repetition\n",
    "\n",
    "More exercises!"
   ]
  },
  {
   "cell_type": "markdown",
   "metadata": {
    "id": "YgVmtFmxwyNy"
   },
   "source": [
    "Write a recursive function `print_natural(n)` to print out the first `n` natural numbers in descending order. The logic is:\n",
    "* If `n <= 0` then we're done. `return`.\n",
    "* Otherwise, `print(n)`, and recursively call `print_natural()`.\n",
    "\n",
    "*Hint: what should be the argument in the recursive call to print_natural()?*"
   ]
  },
  {
   "cell_type": "markdown",
   "metadata": {
    "id": "bMHLNmcIyJ5T"
   },
   "source": [
    "What is the base case? What is the recursive case?"
   ]
  },
  {
   "cell_type": "code",
   "execution_count": null,
   "metadata": {
    "id": "oow8i6rpyhhe"
   },
   "outputs": [],
   "source": [
    "# A few words here, be short."
   ]
  },
  {
   "cell_type": "markdown",
   "metadata": {
    "id": "4-REawcDyjve"
   },
   "source": [
    "Write the function below"
   ]
  },
  {
   "cell_type": "code",
   "execution_count": null,
   "metadata": {
    "id": "Z790G2oNlhXL"
   },
   "outputs": [],
   "source": [
    "def print_natural(n):\n",
    "    \"\"\"\n",
    "    Args\n",
    "      n (int): The largest natural number to print.\n",
    "\n",
    "    Returns: \n",
    "      None\n",
    "    \"\"\"\n",
    "    # Your code here\n",
    "    pass\n",
    "\n",
    "# Test here"
   ]
  },
  {
   "cell_type": "markdown",
   "metadata": {
    "id": "_kziKyEHxd1T"
   },
   "source": [
    "Write a recursive function `sum_natural(n)` to `return` the sum of the first `n` natural numbers. You may have seen this iteratively before in a previous lab, so this is a different way to do this with recursion! Identify the base case and recursive case. "
   ]
  },
  {
   "cell_type": "code",
   "execution_count": null,
   "metadata": {
    "id": "nDvOtueaysIb"
   },
   "outputs": [],
   "source": [
    "# A few words here about the base case and the recursive case."
   ]
  },
  {
   "cell_type": "markdown",
   "metadata": {
    "id": "IultgDpxyt6J"
   },
   "source": [
    "Write the function:"
   ]
  },
  {
   "cell_type": "code",
   "execution_count": null,
   "metadata": {
    "id": "PjLNJP5mx-Ji"
   },
   "outputs": [],
   "source": [
    "def sum_natural(n):\n",
    "    \"\"\"\n",
    "    Args\n",
    "      n (int): A natural number.\n",
    "\n",
    "    Returns (int): \n",
    "      The sum 1 + 2 + 3 + ... + n.\n",
    "    \"\"\"\n",
    "    # Your code here\n",
    "\n",
    "    # Make sure you have a logical base case so that you don't have an infinite loop!\n",
    "    pass\n",
    "\n",
    "# Test here"
   ]
  },
  {
   "cell_type": "markdown",
   "metadata": {
    "id": "hxWnHiiVzPz_"
   },
   "source": [
    "## Question 5: Palindrome Revisited\n"
   ]
  },
  {
   "cell_type": "markdown",
   "metadata": {
    "id": "6xmLP90pzaPK"
   },
   "source": [
    "Recall we had an entire lecture on palindromes. You may have noticed that a palindrome is like an onion. You may think that is because they both stink. But there is yet another similarity: you can peel the palindrome layer by layer.\n",
    "\n",
    "For example: Suppose you wanted to check if `'racecar'` is a palindrome. You could look at the first and last letter, and if they are the same, recursively check the rest of the string to see if `'aceca'` is a palindrome.  You could keep on peeling away the first and last letters layer by layer until you have a single letter `e`, which is a palindrome.\n",
    "\n",
    "Just as we have done before, brainstorm the logic of the function below"
   ]
  },
  {
   "cell_type": "code",
   "execution_count": null,
   "metadata": {
    "id": "qCcv5zDB0xZt"
   },
   "outputs": [],
   "source": [
    "# What are the base cases?\n",
    "\n",
    "# What are the recursive cases?\n",
    "\n",
    "# Write some tentative logic for how the code will work in words"
   ]
  },
  {
   "cell_type": "markdown",
   "metadata": {
    "id": "MC1QKdwO05kj"
   },
   "source": [
    "Try to code the recursive function `is_palindrome(string)` that returns `True` if `string` is a palindrome, and `False` otherwise. Make sure it works for both even and odd length `string`s."
   ]
  },
  {
   "cell_type": "code",
   "execution_count": null,
   "metadata": {
    "id": "GwLc1Ywn04-5"
   },
   "outputs": [],
   "source": [
    "def is_palindrome(string):\n",
    "    \"\"\"\n",
    "    Args\n",
    "      string (str): A string.\n",
    "\n",
    "    Returns (bool): \n",
    "      Whether string is a palindrome.\n",
    "    \"\"\"\n",
    "    # Your code here\n",
    "\n",
    "    # What is the base case?\n",
    "\n",
    "    # What is the recursive case?\n",
    "    pass\n",
    "\n",
    "print(is_palindrome(\"\") == True)\n",
    "print(is_palindrome(\"racecar\") == True)\n",
    "print(is_palindrome(\"raccar\") == True)\n",
    "print(is_palindrome(\n",
    "    \"Madam Im Adam\".lower().replace(\" \", \"\")\n",
    ") == True)\n",
    "print(is_palindrome(\"Eve\".lower()) == True)\n",
    "print(is_palindrome(\"racYXYXcar\") == False)\n",
    "print(is_palindrome(\"racXYXYXXzYXYXczar\") == False)"
   ]
  },
  {
   "cell_type": "markdown",
   "metadata": {
    "id": "bqM4l-w72p3A"
   },
   "source": [
    "## Question 6: Challenge!"
   ]
  },
  {
   "cell_type": "markdown",
   "metadata": {
    "id": "p6BLjYi72web"
   },
   "source": [
    "**This is a very challenging problem. We recommend finishing Notebook A before trying this question**\n",
    "\n",
    "Given a positive integer `n`, find all combinations of numbers between `1` and `n` that sum up to `n`.\n",
    "\n",
    "For example `combinations(5)` should return the following list:\n",
    "```python\n",
    "[\n",
    "    [5],\n",
    "    [4, 1],\n",
    "    [3, 2],\n",
    "    [3, 1, 1],\n",
    "    [2, 2, 1],\n",
    "    [2, 1, 1, 1],\n",
    "    [1, 1, 1, 1, 1]\n",
    "]\n",
    "```\n",
    "\n",
    "**Remark:** Some additional possible combinations include `[1,2,1,1]`, `[1,1,2,1]` and `[1,1,1,2]` which are all equal to the combination `[2,1,1,1]` that appeared above, up to the order of the elements. We want `combinations` to return only a single ordering of each possible combination, as shown above $-$ the ordering in which the items are in descending order.\n",
    "\n",
    "**Hints**\n",
    " 1. This is a question where recursion may be more natural than other methods.\n",
    " 2. Consider coding an additional helper function: `combinations_helper(n, max_allowed)` that returns a list of combinations of numbers between 1 and `max_allowed` that sum up to `n`."
   ]
  },
  {
   "cell_type": "code",
   "execution_count": null,
   "metadata": {
    "id": "LC36bB5B4U_b"
   },
   "outputs": [],
   "source": [
    "# Required\n",
    "def combinations(n):\n",
    "    \"\"\"\n",
    "    Args: \n",
    "        n (int): A natural number.\n",
    "    \n",
    "    Returns (list(list(int))):\n",
    "        The list of all lists of natural numbers that sum up to n.\n",
    "    \"\"\"\n",
    "    pass\n",
    "\n",
    "# Recommended, delete if you don't use\n",
    "def combinations_helper(n, max_allowed):\n",
    "    \"\"\"\n",
    "    Args: \n",
    "        n (int): \n",
    "            A natural number.\n",
    "        max_allowed (int):\n",
    "            A natural number.\n",
    "    \n",
    "    Returns (list(list(int))):\n",
    "        The list of all lists of natural numbers between 1 and max_allowed that sum up to n.\n",
    "    \"\"\"\n",
    "    pass\n",
    "\n",
    "\n",
    "print(combinations(5) == [\n",
    "    [5],\n",
    "    [4, 1],\n",
    "    [3, 2],\n",
    "    [3, 1, 1],\n",
    "    [2, 2, 1],\n",
    "    [2, 1, 1, 1],\n",
    "    [1, 1, 1, 1, 1]\n",
    "])"
   ]
  },
  {
   "cell_type": "markdown",
   "metadata": {
    "id": "TrFkNIqJGhoh"
   },
   "source": [
    "**Extra challenge:**\n",
    "\n",
    "Can you return the results in a list of lists?"
   ]
  },
  {
   "cell_type": "code",
   "execution_count": null,
   "metadata": {
    "id": "LkMZ9CpjGqNX"
   },
   "outputs": [],
   "source": []
  }
 ],
 "metadata": {
  "colab": {
   "collapsed_sections": [],
   "name": "probs7b.ipynb",
   "provenance": [
    {
     "file_id": "1nLBIG-knysbb-HhECKuIM3W_0Iccscyf",
     "timestamp": 1657497775484
    }
   ]
  },
  "kernelspec": {
   "display_name": "Python 3 (ipykernel)",
   "language": "python",
   "name": "python3"
  },
  "language_info": {
   "codemirror_mode": {
    "name": "ipython",
    "version": 3
   },
   "file_extension": ".py",
   "mimetype": "text/x-python",
   "name": "python",
   "nbconvert_exporter": "python",
   "pygments_lexer": "ipython3",
   "version": "3.10.11"
  }
 },
 "nbformat": 4,
 "nbformat_minor": 4
}
