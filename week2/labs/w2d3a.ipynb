{
 "cells": [
  {
   "cell_type": "markdown",
   "metadata": {},
   "source": [
    "![Reminder to Save](https://github.com/jamcoders/jamcoders-public-2023/blob/main/images/warning.png?raw=true)"
   ]
  },
  {
   "cell_type": "code",
   "execution_count": null,
   "metadata": {},
   "outputs": [],
   "source": [
    "%config InteractiveShell.ast_node_interactivity=\"none\"\n",
    "import sys\n",
    "if 'google.colab' in sys.modules:\n",
    "    !pip install --force-reinstall git+https://github.com/jamcoders/jamcoders-public-2023.git --quiet\n",
    "from jamcoders.base_utils import *\n",
    "from jamcoders.week2.lab8a import *"
   ]
  },
  {
   "cell_type": "markdown",
   "metadata": {},
   "source": [
    "# Week 2, Day 3, Lab A: Tracing Code"
   ]
  },
  {
   "cell_type": "markdown",
   "metadata": {},
   "source": [
    "## Question 1: Predicting Python\n",
    "\n",
    "We can always run Python code to see what it does, but it's often very helpful to know what it will do just by reading it. \n",
    "\n",
    "For the following questions, you should read the Python code and determine what will happen *without running the code*."
   ]
  },
  {
   "cell_type": "markdown",
   "metadata": {},
   "source": [
    "### 1.1: Arithmetic"
   ]
  },
  {
   "cell_type": "markdown",
   "metadata": {},
   "source": [
    "What will `x` be equal to after this code is finished running?\n",
    "\n",
    "Hint: You should write down your intermediate steps on paper.\n",
    "```python\n",
    "x = 7\n",
    "y = 3\n",
    "z = 10\n",
    "y = z + x - y\n",
    "z *= 5\n",
    "z %= y\n",
    "x -= 3\n",
    "x = (z - x) * (y - 7)\n",
    "x = 1 - x\n",
    "```"
   ]
  },
  {
   "cell_type": "code",
   "execution_count": null,
   "metadata": {},
   "outputs": [],
   "source": [
    "# Enter your answer here\n",
    "# Give your answer as an integer\n",
    "answer1a = \n",
    "\n",
    "# This code checks for correctness. Do not modify it.\n",
    "check_answer1(answer1a)"
   ]
  },
  {
   "cell_type": "markdown",
   "metadata": {},
   "source": [
    "### 1.2: Conditionals\n",
    "\n",
    "There is one code box at the bottom of 1.2 to enter all your answers for this section in."
   ]
  },
  {
   "cell_type": "markdown",
   "metadata": {},
   "source": [
    "(a) What will the following code print when `a = 1` and `b = 2`?\n",
    "```python\n",
    "if a < b:\n",
    "    print(\"a\")\n",
    "else:\n",
    "    print(\"b\")\n",
    "```"
   ]
  },
  {
   "cell_type": "markdown",
   "metadata": {},
   "source": [
    "(b) What about this code? Again with `a = 1` and `b = 2`.\n",
    "```python\n",
    "if a < b:\n",
    "    print(a)\n",
    "else:\n",
    "    print(b)\n",
    "```"
   ]
  },
  {
   "cell_type": "markdown",
   "metadata": {},
   "source": [
    "(c) What will this code print when `L = [1, 3, 5, 7]` and `x = 5`?\n",
    "```python\n",
    "if L[1] == x:\n",
    "    print(\"x is in L\")\n",
    "else:\n",
    "    print(\"x is not in L\")\n",
    "```"
   ]
  },
  {
   "cell_type": "code",
   "execution_count": null,
   "metadata": {},
   "outputs": [],
   "source": [
    "# Enter your answers here\n",
    "# Give all answers for 1.2 as strings. \n",
    "# IMPORTANT: If a number is printed, put it in a string, e.g., \"3\"\n",
    "answer2a = \n",
    "answer2b = \n",
    "answer2c = \n",
    "\n",
    "# This code checks for correctness. Do not modify it.\n",
    "check_answer2(answer2a, answer2b, answer2c)"
   ]
  },
  {
   "cell_type": "markdown",
   "metadata": {},
   "source": [
    "### 1.3: Loops"
   ]
  },
  {
   "cell_type": "markdown",
   "metadata": {},
   "source": [
    "(a) What will the following code print when `L = [1, 3, 5, 7]` and `x = 5`?\n",
    "```python\n",
    "for item in L:\n",
    "    if x == item:\n",
    "        print(\"x is in L\")\n",
    "    else:\n",
    "        print(\"x is not in L\")\n",
    "    break\n",
    "```"
   ]
  },
  {
   "cell_type": "markdown",
   "metadata": {},
   "source": [
    "(b) What will the following code print when `L = [1, 3, 5, 7]` and `x = 5`?\n",
    "```python\n",
    "found = False\n",
    "for item in L:\n",
    "    if x == item:\n",
    "        print(\"x is in L\")\n",
    "        found = True\n",
    "        break\n",
    "if not found:\n",
    "    print(\"x is not in L\")\n",
    "```"
   ]
  },
  {
   "cell_type": "markdown",
   "metadata": {},
   "source": [
    "(c) What will the value of `orr` be after this code finishes running?\n",
    "```python\n",
    "orr = 0\n",
    "while True:\n",
    "    if orr - 9000 > 0:\n",
    "        break\n",
    "    orr += 2\n",
    "```\n",
    "\n",
    "(d) How many times will `*` be printed by this code?\n",
    "```python\n",
    "for i in range(10):\n",
    "    for j in range(10):\n",
    "        for k in range(20):\n",
    "            print('*')\n",
    "```"
   ]
  },
  {
   "cell_type": "code",
   "execution_count": null,
   "metadata": {},
   "outputs": [],
   "source": [
    "# Enter your answers here\n",
    "# Give answers for (a) and (b) as strings:\n",
    "answer3a = \n",
    "answer3b = \n",
    "\n",
    "# Give answers for (c) and (d) as integers:\n",
    "answer3c = \n",
    "answer3d = \n",
    "\n",
    "# This code checks for correctness. Do not modify it.\n",
    "check_answer3(answer3a, answer3b, answer3c, answer3d)"
   ]
  },
  {
   "cell_type": "markdown",
   "metadata": {},
   "source": [
    "### 1.4: Functions"
   ]
  },
  {
   "cell_type": "markdown",
   "metadata": {},
   "source": [
    "(a) What will the following code print?\n",
    "```python\n",
    "def f1(x):\n",
    "    return 5\n",
    "\n",
    "print(f1(100))\n",
    "```\n",
    "\n",
    "(b) What about this code?\n",
    "```python\n",
    "def f2(x, y, z):\n",
    "    return x + y + z\n",
    "\n",
    "print(f2(1, 6, 10))\n",
    "```\n",
    "\n",
    "(c) What will this print?\n",
    "```python\n",
    "def f3(x, y, z):\n",
    "    return x * y + z\n",
    "\n",
    "def f4(x):\n",
    "    return f3(x, 2*x, 3*x)\n",
    "\n",
    "print(f4(2))\n",
    "```\n",
    "\n",
    "(d) What will this code print?\n",
    "```python\n",
    "def sum_first_evens(x):\n",
    "    out = 0\n",
    "    i = 1\n",
    "    while i < x:\n",
    "        out += i\n",
    "        i += 2\n",
    "    return out\n",
    "\n",
    "print(sum_first_evens(7))\n",
    "```\n",
    "\n",
    "(e) Lastly, what does this code print?\n",
    "```python\n",
    "def f5(x):\n",
    "    if x <= 0:\n",
    "        return 1\n",
    "    else:\n",
    "        return x * f5(x - 1)\n",
    "\n",
    "print(f5(5))\n",
    "```"
   ]
  },
  {
   "cell_type": "code",
   "execution_count": null,
   "metadata": {},
   "outputs": [],
   "source": [
    "# Enter your answers here\n",
    "# Give all answers for 1.4 as integers. \n",
    "answer4a = \n",
    "answer4b = \n",
    "answer4c = \n",
    "answer4d = \n",
    "answer4e = \n",
    "\n",
    "# This code checks for correctness. Do not modify it.\n",
    "check_answer4(answer4a, answer4b, answer4c, answer4d, answer4e)"
   ]
  },
  {
   "cell_type": "markdown",
   "metadata": {},
   "source": [
    "## Question 2: Some Review Questions"
   ]
  },
  {
   "cell_type": "markdown",
   "metadata": {},
   "source": [
    "### 2.1: Data Recovery\n",
    "\n",
    "Emaan has two favorite numbers - he calls them `a` and `b`. Yesterday, he calculated their average as `c = (a + b) / 2`. But now disaster has struck! Emaan forgot what `b` is. Thankfully, he still remembers the values of `a` and `c`.\n",
    "\n",
    "Write a function `data_recovery(a, c)` that take in `a` and `c`, and return the missing number `b`. i.e., `data_recovery(a, c)` should return a number `b` such that `c = (a + b) / 2`."
   ]
  },
  {
   "cell_type": "code",
   "execution_count": null,
   "metadata": {},
   "outputs": [],
   "source": [
    "def data_recovery(a, c):\n",
    "    # YOUR CODE HERE\n",
    "    \n",
    "\n",
    "assert_equal(got=data_recovery(11, 15), want=19)\n",
    "assert_equal(got=data_recovery(4, 3), want=2)"
   ]
  },
  {
   "cell_type": "markdown",
   "metadata": {},
   "source": [
    "### 2.2: Quadrant Selection\n",
    "\n",
    "Given two non-zero numbers `x` and `y`, we can plot them on a plane:\n",
    "\n",
    "![](https://open.kattis.com/problems/quadrant/file/statement/en/img-0001.png)\n",
    "\n",
    "As in the picture, any such point is either in quadrant 1, 2, 3, or 4.\n",
    "\n",
    "Write a function `quadrant(x, y)` that returns the number of the quadrant that the point `(x, y)` is in.\n",
    "\n",
    "Note: `(x, y)` is guaranteed to lie strictly in exactly one quadrant because `x` and `y` are non-zero."
   ]
  },
  {
   "cell_type": "code",
   "execution_count": null,
   "metadata": {},
   "outputs": [],
   "source": [
    "def quadrant(x, y):\n",
    "    # YOUR CODE HERE\n",
    "    \n",
    "\n",
    "assert_equal(got=quadrant(10, 6), want=1)\n",
    "assert_equal(got=quadrant(-12, 5), want=2)\n",
    "assert_equal(got=quadrant(-1, -30), want=3)\n",
    "assert_equal(got=quadrant(9, -13), want=4)"
   ]
  },
  {
   "cell_type": "markdown",
   "metadata": {},
   "source": [
    "### 2.3 Freezing Days\n",
    "\n",
    "In Jamaica, the temperature is never freezing (less than or equal to 0 degrees). But it's much colder in Canada: almost every day in the winter is freezing. \n",
    "\n",
    "Ian has a list of temperatures he recorded over the last few days and wants to know how many days from this list were freezing. Can you help him?\n",
    "\n",
    "Write a function `num_freezing_days(L)` that takes a list `L` containing integers and returns how many are freezing (less than or equal to zero)."
   ]
  },
  {
   "cell_type": "code",
   "execution_count": null,
   "metadata": {},
   "outputs": [],
   "source": [
    "def num_freezing_days(L):\n",
    "    # YOUR CODE HERE\n",
    "\n",
    "\n",
    "assert_equal(got=num_freezing_days([5, -10, 15]), want=1)\n",
    "assert_equal(got=num_freezing_days([-14, -5, -39, -5, -7]), want=5)"
   ]
  },
  {
   "cell_type": "markdown",
   "metadata": {},
   "source": [
    "### 2.4 Data Plans\n",
    "\n",
    "Micah has an excellent data plan that gives him `x` megabytes per month. Each megabyte that he doesn’t use in that month gets transferred to the next month and can still be used. Micah has kept track of how many megabytes he's used in each month since he started the plan. Now he is wondering how many megabytes he has left for next month.\n",
    "\n",
    "For example, suppose Micah gets 10 megabytes per month, started the plan 2 months ago, and used 4 megabytes last month and 5 megabytes the previous month. Then he has 6 megabytes left over from last month and 5 from the previous month. Adding these to the 10 he gets for next month, he has 21 megabytes left to use next month.\n",
    "\n",
    "Write a function `data_left(x, L)` that takes in the monthly usage capacity `x` and a list of integers `L` that indicate how much he has used in each of the months since beginning the plan. This function should return how many megabytes he has left to use next month."
   ]
  },
  {
   "cell_type": "code",
   "execution_count": null,
   "metadata": {},
   "outputs": [],
   "source": [
    "def data_left(x, L):\n",
    "    # YOUR CODE HERE\n",
    "\n",
    "\n",
    "assert_equal(got=data_left(10, [5, 4]), want=21)\n",
    "assert_equal(got=data_left(10, [4, 6, 2]), want=28)\n",
    "assert_equal(got=data_left(10, [10, 2, 12]), want=16)\n",
    "assert_equal(got=data_left(15, [15, 10, 20]), want=15)"
   ]
  }
 ],
 "metadata": {
  "kernelspec": {
   "display_name": "Python 3",
   "language": "python",
   "name": "python3"
  },
  "language_info": {
   "codemirror_mode": {
    "name": "ipython",
    "version": 3
   },
   "file_extension": ".py",
   "mimetype": "text/x-python",
   "name": "python",
   "nbconvert_exporter": "python",
   "pygments_lexer": "ipython3",
   "version": "3.10.6"
  },
  "orig_nbformat": 4
 },
 "nbformat": 4,
 "nbformat_minor": 2
}
