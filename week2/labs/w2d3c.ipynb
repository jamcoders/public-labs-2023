{
 "cells": [
  {
   "cell_type": "markdown",
   "metadata": {},
   "source": [
    "![Reminder to Save](https://github.com/jamcoders/jamcoders-public-2023/blob/main/images/warning.png?raw=true)"
   ]
  },
  {
   "cell_type": "code",
   "execution_count": null,
   "metadata": {
    "id": "jKjXEVh2qXQl"
   },
   "outputs": [],
   "source": [
    "%config InteractiveShell.ast_node_interactivity=\"none\"\n",
    "import sys\n",
    "if 'google.colab' in sys.modules:\n",
    "    !pip install --force-reinstall git+https://github.com/jamcoders/jamcoders-public-2023.git --quiet\n",
    "from jamcoders.base_utils import *"
   ]
  },
  {
   "attachments": {},
   "cell_type": "markdown",
   "metadata": {
    "id": "FuEbFFcECFJl"
   },
   "source": [
    "# Week 2 , Day 3: Challenge Problems\n"
   ]
  },
  {
   "cell_type": "markdown",
   "metadata": {
    "id": "zHMj8NIXgzOc"
   },
   "source": [
    "# ⚠️ **DO NOT USE FOR LOOPS OR WHILE LOOPS**"
   ]
  },
  {
   "cell_type": "markdown",
   "metadata": {
    "id": "svXlnHl4CFKG"
   },
   "source": [
    "## Question 1\n",
    "\n",
    "The greatest common divisor (GCD) of two numbers $a$ and $b$, is the integer $g$ such that:\n",
    "  1. $g$ divides $a$ and $b$; and\n",
    "  2. There does not exist any larger integer that divides $a$ and $b$.\n",
    "\n",
    "More formally,\n",
    "\n",
    "> **Definition.** For two positive integers $a$ and $b$, a $\\underline{\\textit{common divisor}}$ of $a$ and $b$ is an integer $c$ such that $c$ divides $a$ and $c$ divides $b$. The $\\underline{\\textit{greatest common divisor}}$ (GCD) of $a$ and $b$ is the largest integer $g$ such that $g$ is a common divisor of $a$ and $b$.\n",
    "\n",
    "\n",
    "For example:\n",
    "```\n",
    "gcd(15, 10)   == 5  # nothing bigger than 5 divides 15 and 10.\n",
    "gcd(24, 36)   == 12\n",
    "gcd(72, 180)  == 36\n",
    "gcd(101, 197) == 1  # 101 and 197 do not share any common factors greater than 1.\n",
    "gcd(39793, 1) == 1  # gcd(a, 1) == 1 for all positive a.\n",
    "gcd(22, 0)    == 22 # gcd(a, 0) == a for all positive a.\n",
    "```"
   ]
  },
  {
   "cell_type": "markdown",
   "metadata": {
    "id": "2w0Alj0xCFKG"
   },
   "source": [
    "To implement `gcd(a,b)`, we will use a recursive algorithm that Euclid discovered in Alexandria, Egypt, circa 300BC. Here it is:\n",
    "\n",
    "> **Recursive case $-$ if $b > 0$:**\n",
    ">\n",
    ">     return gcd(b, a % b)\n",
    ">\n",
    "> **Base case $-$ if $b = 0$:**\n",
    ">\n",
    ">     return a\n",
    "\n",
    "\n"
   ]
  },
  {
   "cell_type": "markdown",
   "metadata": {},
   "source": [
    "Let's see some example executions of the GCD algorithm.\n",
    "\n",
    "**Example 1.** \n",
    " * To compute the GCD of the numbers 2 and 1, we execute `gcd(2,1)`. \n",
    " * Here, `a=2` and `b=1`. Because `b>0`, we are in the recursive case. \n",
    " * Because `a % b = 2 % 1 = 0`, we make a recursive call `gcd(1, 0)`.\n",
    " * Now `a=1` and `b=0`. Because `b=0`, we are in the base case, so we return the value of `a`, which is 1.\n",
    " * Hence, `gcd(2,1)=1`.\n",
    " \n",
    " We can express the same information about the execution trace of `gcd(2,1)=1` more compactly in a table, as following:\n",
    " \n",
    "| Value of `a` | Value of `b` | Case | Value of `a % b` |\n",
    "| :- | :- | :- | :- |\n",
    "| 2 | 1 | Recursive | 0 |\n",
    "| 1 | 0 | Base | |\n",
    "\n",
    "Read the table carefully and make sure you understand how it shows that `gcd(2,1)=1`. "
   ]
  },
  {
   "cell_type": "markdown",
   "metadata": {},
   "source": [
    "**Example 2.** The following table shows an execution of `gcd(57, 33) = 3`:\n",
    "\n",
    "| Value of `a` | Value of `b` | Case | Value of `a % b` |\n",
    "| :- | :- | :- | :- |\n",
    "| 57 | 33 | Recursive | 24 |\n",
    "| 33 | 24 | Recursive | 9 |\n",
    "| 24 | 9 | Recursive | 6 |\n",
    "| 9 | 6 | Recursive | 3 |\n",
    "| 6 | 3 | Recursive | 0 |\n",
    "| 3 | 0 | Base |  |\n",
    "\n",
    "\n",
    "**Observation:** for GCD, the final answer is always the number in the leftmost cell on the last row."
   ]
  },
  {
   "cell_type": "markdown",
   "metadata": {},
   "source": [
    "**Example 2.** The following table shows an execution of `gcd(72, 180) = 36`. Notice that the same algorithm still works even though this time, the initial values have `a < b`. \n",
    "\n",
    "| Value of `a` | Value of `b` | Case | Value of `a % b` |\n",
    "| :- | :- | :- | :- |\n",
    "| 72 | 180 | Recursive | 72 |\n",
    "| 180 | 72 | Recursive | 36 |\n",
    "| 72 | 36 | Recursive | 0 |\n",
    "| 36 | 0 | Base | |"
   ]
  },
  {
   "cell_type": "markdown",
   "metadata": {
    "id": "cFO55OwLCFKH"
   },
   "source": [
    "### 1.1\n",
    "Using Euclid's algorithm, write code for `gcd(a, b)`."
   ]
  },
  {
   "cell_type": "code",
   "execution_count": null,
   "metadata": {
    "id": "16DHAP2-CFKH"
   },
   "outputs": [],
   "source": [
    "def gcd(a, b):\n",
    "    \"\"\"\n",
    "    Returns the greatest common divisor of two integers\n",
    "\n",
    "    Args:\n",
    "      a (int): A non-negative integer\n",
    "      b (int): Another non-negative integer\n",
    "\n",
    "    Returns (int):\n",
    "      The greatest common divisor of a and b\n",
    "    \"\"\"\n",
    "    # YOUR CODE HERE\n",
    "\n",
    "\n",
    "\n",
    "# After you finish, these should all pass\n",
    "assert_equal(want=5, got=gcd(15, 10))\n",
    "assert_equal(want=12, got=gcd(24, 36))\n",
    "assert_equal(want=36, got=gcd(72, 180))\n",
    "assert_equal(want=1, got=gcd(101, 197))\n",
    "assert_equal(want=1, got=gcd(39793, 1))\n",
    "assert_equal(want=22, got=gcd(22, 0))"
   ]
  },
  {
   "cell_type": "markdown",
   "metadata": {},
   "source": [
    "### 1.2\n",
    "\n",
    "Fill out the table below, to compute `gcd(924, 952)=28`:\n",
    "\n",
    "| Value of `a` | Value of `b` | Case | Value of `a % b` |\n",
    "| :- | :- | :- | :- |\n",
    "| 924 | 952 | Recursive | 924 |\n",
    "| fill this out... | | |\n",
    "| fill this out... | | |\n",
    "| fill this out... | | |\n",
    "| fill this out... | | |\n",
    "| fill this out... | | |\n",
    "| fill this out... | | |\n",
    "| fill this out... | | |\n",
    "| fill this out... | | |\n",
    "| fill this out... | | |\n",
    "| fill this out... | | |\n"
   ]
  },
  {
   "cell_type": "markdown",
   "metadata": {
    "id": "9q7cEY-ACFKH"
   },
   "source": [
    "## Question 2\n",
    "**Fibonacci numbers** have many applications in nature and math. Here are the first 10 Fibonacci numbers:\n",
    "\n",
    "```\n",
    "fib(0) == 0\n",
    "fib(1) == 1\n",
    "fib(2) == 1\n",
    "fib(3) == 2\n",
    "fib(4) == 3\n",
    "fib(5) == 5\n",
    "fib(6) == 8\n",
    "fib(7) == 13\n",
    "fib(8) == 21\n",
    "fib(9) == 34\n",
    "...\n",
    "```\n",
    "\n",
    "Can you see a pattern? Using math, we can define the $n^{th}$ Fibonacci  number, $\\operatorname{fib}(n)$ as follows:\n",
    "\n",
    "**Base case $-$ if $n \\leq 1$:**\n",
    "\n",
    "> $\\operatorname{fib}(0) = 0$\n",
    ">\n",
    "> $\\operatorname{fib}(1) = 1$\n",
    "\n",
    "**Recursive case $-$ if $n > 1$:**\n",
    "\n",
    "> $\\operatorname{fib}(n) = \\operatorname{fib}(n - 1) + \\operatorname{fib}(n - 2)$\n",
    "\n",
    "### 2.1\n",
    "Write code to find the $n^{th}$ Fibonacci number."
   ]
  },
  {
   "cell_type": "code",
   "execution_count": null,
   "metadata": {
    "id": "Ar9sasllCFKI"
   },
   "outputs": [],
   "source": [
    "def fib(n):\n",
    "    \"\"\"\n",
    "    Args:\n",
    "      n (int): A non-negative number\n",
    "\n",
    "    Returns (int):\n",
    "      The n-th Fibonacci number, Fib(n)\n",
    "    \"\"\"\n",
    "    # YOUR CODE HERE\n",
    "\n",
    "\n",
    "\n",
    "# When you finish, these should all pass\n",
    "assert_equal(want=0, got=fib(0))\n",
    "assert_equal(want=1, got=fib(1))\n",
    "assert_equal(want=1, got=fib(2))\n",
    "assert_equal(want=2, got=fib(3))\n",
    "assert_equal(want=8, got=fib(6))\n",
    "assert_equal(want=34, got=fib(9))\n",
    "assert_equal(want=6765, got=fib(20))"
   ]
  },
  {
   "cell_type": "markdown",
   "metadata": {
    "id": "0wDVHLEqCFKI"
   },
   "source": [
    "## Question 3\n",
    "The decimal number system (base 10) is a common way to write numbers. Here we will explore the **binary number system** (base 2) which has many applications in computing.\n",
    "\n",
    "To give an example, 128 in decimal is written as 10000000 in binary. Here is why:\n",
    "\n",
    "In decimal (base 10),\n",
    "\n",
    "$128 = 1 \\cdot 10^2 + 2 \\cdot 10^1 + 8 \\cdot 10^0$\n",
    "\n",
    "and in binary (base 2),\n",
    "\n",
    "$128 = 1 \\cdot 2^6 + 0 \\cdot 2^5 + \\dots + 0 \\cdot 2^0$\n",
    "\n",
    "Here is another example. 39 is 100111 in binary. Here is why:\n",
    "\n",
    "In decimal,\n",
    "\n",
    "$39 = 3 \\cdot 10^1 + 9 \\cdot 10^0$\n",
    "\n",
    "and in binary,\n",
    "\n",
    "$39 = 1 \\cdot 2^5 + 0 \\cdot 2^4 + 0 \\cdot 2^3 + 1 \\cdot 2^2 + 1 \\cdot 2^1 + 1 \\cdot 2^0$"
   ]
  },
  {
   "cell_type": "markdown",
   "metadata": {
    "id": "aipJWI1bCFKJ"
   },
   "source": [
    "### 3.1\n",
    "Write a recursive function, `binary_string(n)`, that:\n",
    "* Takes an integer, `n`, as input.\n",
    "* Returns a string of 1s and 0s representing n in binary.\n",
    "\n",
    "Hints: \n",
    "* Use the `%` and `//` operators.\n",
    "* In python, `str(n)` converts a number to a string, e.g.:\n",
    "    * `str(1) == '1'`\n",
    "    * `str(55) == '55'`"
   ]
  },
  {
   "cell_type": "code",
   "execution_count": null,
   "metadata": {
    "id": "QlP_5ctfCFKK"
   },
   "outputs": [],
   "source": [
    "def binary_string(n):\n",
    "    \"\"\"\n",
    "    Takes an integer n and returns its binary representation.\n",
    "\n",
    "    Args:\n",
    "      n (int): an integer\n",
    "\n",
    "    Returns (str):\n",
    "      A string of '0'-s and '1'-s constituting the binary representation of n\n",
    "    \"\"\"\n",
    "    # YOUR CODE HERE\n",
    "\n",
    "\n",
    "\n",
    "# After you finish, these should all pass\n",
    "test_cases = [\n",
    "    [0, '0'],\n",
    "    [1, '1'],\n",
    "    [2, '10'],\n",
    "    [1, '1'],\n",
    "    [2, '10'],\n",
    "    [3, '11'],\n",
    "    [4, '100'],\n",
    "    [5, '101'],\n",
    "    [6, '110'],\n",
    "    [7, '111'],\n",
    "    [8, '1000'],\n",
    "    [39, '100111'],\n",
    "    [128, '10000000'],\n",
    "    [297371, '1001000100110011011'],\n",
    "]\n",
    "for arg, result in test_cases:\n",
    "    assert_equal(result, binary_string(arg))"
   ]
  },
  {
   "cell_type": "markdown",
   "metadata": {
    "id": "jFv_wkh0CFKK"
   },
   "source": [
    "### 3.2\n",
    "Write a recursive function `bin_string_to_int(bin_string)` that converts a binary string `bin_string` into an int.\n",
    "\n",
    "Hint: In Python, `int(decimal_string)` converts a string in decimal representation into an int:\n",
    "* `int('0') == 0`\n",
    "* `int('44') == 44`"
   ]
  },
  {
   "cell_type": "code",
   "execution_count": null,
   "metadata": {
    "id": "q7OutlXTCFKK"
   },
   "outputs": [],
   "source": [
    "def bin_string_to_int(bin_string):\n",
    "    \"\"\"\n",
    "    Takes a binary string representation of a number and returns that number as\n",
    "    an int.\n",
    "\n",
    "    Args:\n",
    "      bin_string (str): A string of '0'-s and '1'-s constituting the binary\n",
    "        representation of some number n\n",
    "\n",
    "    Returns (int):\n",
    "      The number n\n",
    "    \"\"\"\n",
    "    # YOUR CODE HERE\n",
    "    \n",
    "    \n",
    "\n",
    "test_cases = [\n",
    "    ['0', 0],\n",
    "    ['1', 1],\n",
    "    ['10', 2],\n",
    "    ['1', 1],\n",
    "    ['10', 2],\n",
    "    ['11', 3],\n",
    "    ['100', 4],\n",
    "    ['101', 5],\n",
    "    ['110', 6],\n",
    "    ['111', 7],\n",
    "    ['1000', 8],\n",
    "    ['100111', 39],\n",
    "    ['10000000', 128],\n",
    "    ['1001000100110011011', 297371],\n",
    "]\n",
    "for arg, result in test_cases:\n",
    "    assert_equal(result, bin_string_to_int(arg))\n",
    "\n",
    "assert_equal(want=12278, got=bin_string_to_int(binary_string(12278)))\n",
    "assert_equal(want='100111', got=binary_string(bin_string_to_int('100111')))"
   ]
  },
  {
   "cell_type": "markdown",
   "metadata": {
    "id": "KJ5W2uBhCFKL"
   },
   "source": [
    "## Question 4\n",
    "In mathematics, a **permutation** of a list is the same list, but in a different order.\n",
    "\n",
    "For example, `[0, 2, 1]` and `[2, 0, 1]` are both permutations of `[0, 1, 2]`.\n",
    "\n",
    "Write a recursive function `permutations(lst)` that takes a list of numbers `lst` as input, and returns a **sorted** list of all permutations of `lst`. Assume that no number appears in `lst` more than once. Examples:\n",
    "\n",
    "```\n",
    "permutations([0]) == [[0]]\n",
    "\n",
    "permutations([1,0]) == [[0, 1], [1, 0]]\n",
    "\n",
    "permutations([0,2,1]) == [[0, 1, 2], [0, 2, 1],\n",
    "                          [1, 0, 2], [1, 2, 0],\n",
    "                          [2, 0, 1], [2, 1, 0]]\n",
    "\n",
    "```\n",
    "**In problem 4, it is OK to use loops.**\n",
    "\n",
    "**Hint:** Use `sorted(my_list)` to get a sorted version of `my_list`."
   ]
  },
  {
   "cell_type": "markdown",
   "metadata": {
    "id": "JLOj4g7qCFKN"
   },
   "source": [
    "### 4.1\n",
    "Write a recursive `permutations(lst)` function. **Remember: it is OK to use loops in Question 4!**\n"
   ]
  },
  {
   "cell_type": "code",
   "execution_count": null,
   "metadata": {
    "id": "RVOEBOwcCFKO"
   },
   "outputs": [],
   "source": [
    "def permutations(lst):\n",
    "    \"\"\"\n",
    "    Returns a sorted list of all permutations of lst.\n",
    "\n",
    "    Args:\n",
    "      lst (list(int)): A list of numbers. Assume that numbers in lst are unique\n",
    "        (no two numbers are the same).\n",
    "\n",
    "    Returns (list(list(int))):\n",
    "      All permutations of lst, in the order returned by the function sorted.\n",
    "    \"\"\"\n",
    "    # YOUR CODE HERE\n",
    "    \n",
    "    \n",
    "\n",
    "# If your code is correct, these should all print True\n",
    "assert_equal(want=[[0]], got=permutations([0]))\n",
    "assert_equal(want=[[0, 1], [1, 0]], got=permutations([1,0]))\n",
    "\n",
    "assert_equal( \n",
    "    [[0, 1, 2], [0, 2, 1],\n",
    "     [1, 0, 2], [1, 2, 0],\n",
    "     [2, 0, 1], [2, 1, 0]], \n",
    "    permutations([1,2,0])\n",
    ")\n",
    "\n",
    "if permutations([0]) != None:\n",
    "    permutations_six = permutations(list(range(7)))\n",
    "    assert_equal(want=5040, got=len(permutations_six))\n",
    "    assert_equal(want=[5, 1, 3, 6, 4, 2, 0], got=permutations_six[3791])\n",
    "else:\n",
    "    print(\"permutations([0]) returns None: test case failed\")"
   ]
  }
 ],
 "metadata": {
  "colab": {
   "provenance": []
  },
  "kernelspec": {
   "display_name": "Python 3 (ipykernel)",
   "language": "python",
   "name": "python3"
  },
  "language_info": {
   "codemirror_mode": {
    "name": "ipython",
    "version": 3
   },
   "file_extension": ".py",
   "mimetype": "text/x-python",
   "name": "python",
   "nbconvert_exporter": "python",
   "pygments_lexer": "ipython3",
   "version": "3.10.11"
  }
 },
 "nbformat": 4,
 "nbformat_minor": 1
}
